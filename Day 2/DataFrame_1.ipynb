{
 "cells": [
  {
   "cell_type": "code",
   "execution_count": 1,
   "id": "350cf63d",
   "metadata": {},
   "outputs": [],
   "source": [
    "import pandas as pd\n",
    "import numpy as np"
   ]
  },
  {
   "cell_type": "code",
   "execution_count": 2,
   "id": "07867d7f",
   "metadata": {},
   "outputs": [
    {
     "name": "stdout",
     "output_type": "stream",
     "text": [
      "     total_bill   tip  gender smoker   day    time  size  price_per_person  \\\n",
      "0         16.99  1.01  Female     No   Sun  Dinner     2              8.49   \n",
      "1         10.34  1.66    Male     No   Sun  Dinner     3              3.45   \n",
      "2         21.01  3.50    Male     No   Sun  Dinner     3              7.00   \n",
      "3         23.68  3.31    Male     No   Sun  Dinner     2             11.84   \n",
      "4         24.59  3.61  Female     No   Sun  Dinner     4              6.15   \n",
      "..          ...   ...     ...    ...   ...     ...   ...               ...   \n",
      "239       29.03  5.92    Male     No   Sat  Dinner     3              9.68   \n",
      "240       27.18  2.00  Female    Yes   Sat  Dinner     2             13.59   \n",
      "241       22.67  2.00    Male    Yes   Sat  Dinner     2             11.34   \n",
      "242       17.82  1.75    Male     No   Sat  Dinner     2              8.91   \n",
      "243       18.78  3.00  Female     No  Thur  Dinner     2              9.39   \n",
      "\n",
      "             Payer Name     CC Number Payment ID  \n",
      "0    Christy Cunningham  3.560330e+15    Sun2959  \n",
      "1        Douglas Tucker  4.478070e+15    Sun4608  \n",
      "2        Travis Walters  6.011810e+15    Sun4458  \n",
      "3      Nathaniel Harris  4.676140e+15    Sun5260  \n",
      "4          Tonya Carter  4.832730e+15    Sun2251  \n",
      "..                  ...           ...        ...  \n",
      "239       Michael Avila  5.296070e+15    Sat2657  \n",
      "240      Monica Sanders  3.506810e+15    Sat1766  \n",
      "241          Keith Wong  6.011890e+15    Sat3880  \n",
      "242        Dennis Dixon  4.375220e+12      Sat17  \n",
      "243     Michelle Hardin  3.511450e+15    Thur672  \n",
      "\n",
      "[244 rows x 11 columns]\n"
     ]
    }
   ],
   "source": [
    "# Create a dataframe from a CSV file\n",
    "df = pd.read_csv('tips.csv')\n",
    "print(df)"
   ]
  },
  {
   "cell_type": "code",
   "execution_count": 3,
   "id": "29f5963b",
   "metadata": {},
   "outputs": [
    {
     "name": "stdout",
     "output_type": "stream",
     "text": [
      "Index(['total_bill', 'tip', 'gender', 'smoker', 'day', 'time', 'size',\n",
      "       'price_per_person', 'Payer Name', 'CC Number', 'Payment ID'],\n",
      "      dtype='object')\n"
     ]
    }
   ],
   "source": [
    "print(df.columns)  # Column names"
   ]
  },
  {
   "cell_type": "code",
   "execution_count": 4,
   "id": "a91fee6f",
   "metadata": {},
   "outputs": [
    {
     "name": "stdout",
     "output_type": "stream",
     "text": [
      "RangeIndex(start=0, stop=244, step=1)\n"
     ]
    }
   ],
   "source": [
    "print(df.index)     # Index"
   ]
  },
  {
   "cell_type": "code",
   "execution_count": 5,
   "id": "030c617c",
   "metadata": {},
   "outputs": [
    {
     "name": "stdout",
     "output_type": "stream",
     "text": [
      "   total_bill   tip  gender smoker  day    time  size  price_per_person  \\\n",
      "0       16.99  1.01  Female     No  Sun  Dinner     2              8.49   \n",
      "1       10.34  1.66    Male     No  Sun  Dinner     3              3.45   \n",
      "2       21.01  3.50    Male     No  Sun  Dinner     3              7.00   \n",
      "\n",
      "           Payer Name     CC Number Payment ID  \n",
      "0  Christy Cunningham  3.560330e+15    Sun2959  \n",
      "1      Douglas Tucker  4.478070e+15    Sun4608  \n",
      "2      Travis Walters  6.011810e+15    Sun4458  \n"
     ]
    }
   ],
   "source": [
    "print(df.head(3))    # First 3 rows"
   ]
  },
  {
   "cell_type": "code",
   "execution_count": 6,
   "id": "3da5cef2",
   "metadata": {},
   "outputs": [
    {
     "name": "stdout",
     "output_type": "stream",
     "text": [
      "     total_bill   tip  gender smoker   day    time  size  price_per_person  \\\n",
      "241       22.67  2.00    Male    Yes   Sat  Dinner     2             11.34   \n",
      "242       17.82  1.75    Male     No   Sat  Dinner     2              8.91   \n",
      "243       18.78  3.00  Female     No  Thur  Dinner     2              9.39   \n",
      "\n",
      "          Payer Name     CC Number Payment ID  \n",
      "241       Keith Wong  6.011890e+15    Sat3880  \n",
      "242     Dennis Dixon  4.375220e+12      Sat17  \n",
      "243  Michelle Hardin  3.511450e+15    Thur672  \n"
     ]
    }
   ],
   "source": [
    "print(df.tail(3))    # Last 3 rows"
   ]
  },
  {
   "cell_type": "code",
   "execution_count": 7,
   "id": "a890bd5b",
   "metadata": {},
   "outputs": [
    {
     "name": "stdout",
     "output_type": "stream",
     "text": [
      "<class 'pandas.core.frame.DataFrame'>\n",
      "RangeIndex: 244 entries, 0 to 243\n",
      "Data columns (total 11 columns):\n",
      " #   Column            Non-Null Count  Dtype  \n",
      "---  ------            --------------  -----  \n",
      " 0   total_bill        244 non-null    float64\n",
      " 1   tip               244 non-null    float64\n",
      " 2   gender            244 non-null    object \n",
      " 3   smoker            244 non-null    object \n",
      " 4   day               244 non-null    object \n",
      " 5   time              244 non-null    object \n",
      " 6   size              244 non-null    int64  \n",
      " 7   price_per_person  244 non-null    float64\n",
      " 8   Payer Name        244 non-null    object \n",
      " 9   CC Number         244 non-null    float64\n",
      " 10  Payment ID        244 non-null    object \n",
      "dtypes: float64(4), int64(1), object(6)\n",
      "memory usage: 21.1+ KB\n",
      "None\n"
     ]
    }
   ],
   "source": [
    "print(df.info())    # Info about df"
   ]
  },
  {
   "cell_type": "code",
   "execution_count": 8,
   "id": "e4ac4051",
   "metadata": {},
   "outputs": [
    {
     "name": "stdout",
     "output_type": "stream",
     "text": [
      "244\n"
     ]
    }
   ],
   "source": [
    "print(len(df))     # Number of rows"
   ]
  },
  {
   "cell_type": "code",
   "execution_count": 9,
   "id": "eca3fca4",
   "metadata": {},
   "outputs": [
    {
     "name": "stdout",
     "output_type": "stream",
     "text": [
      "       total_bill         tip        size  price_per_person     CC Number\n",
      "count  244.000000  244.000000  244.000000        244.000000  2.440000e+02\n",
      "mean    19.785943    2.998279    2.569672          7.888197  2.563495e+15\n",
      "std      8.902412    1.383638    0.951100          2.914234  2.369340e+15\n",
      "min      3.070000    1.000000    1.000000          2.880000  6.040679e+10\n",
      "25%     13.347500    2.000000    2.000000          5.800000  3.040732e+13\n",
      "50%     17.795000    2.900000    2.000000          7.255000  3.525320e+15\n",
      "75%     24.127500    3.562500    3.000000          9.390000  4.553675e+15\n",
      "max     50.810000   10.000000    6.000000         20.270000  6.596450e+15\n"
     ]
    }
   ],
   "source": [
    "print(df.describe())   # Statistical Summary"
   ]
  },
  {
   "cell_type": "code",
   "execution_count": 10,
   "id": "afd38449",
   "metadata": {},
   "outputs": [
    {
     "name": "stdout",
     "output_type": "stream",
     "text": [
      "                  count          mean           std           min  \\\n",
      "total_bill        244.0  1.978594e+01  8.902412e+00  3.070000e+00   \n",
      "tip               244.0  2.998279e+00  1.383638e+00  1.000000e+00   \n",
      "size              244.0  2.569672e+00  9.510998e-01  1.000000e+00   \n",
      "price_per_person  244.0  7.888197e+00  2.914234e+00  2.880000e+00   \n",
      "CC Number         244.0  2.563495e+15  2.369340e+15  6.040679e+10   \n",
      "\n",
      "                           25%           50%           75%           max  \n",
      "total_bill        1.334750e+01  1.779500e+01  2.412750e+01  5.081000e+01  \n",
      "tip               2.000000e+00  2.900000e+00  3.562500e+00  1.000000e+01  \n",
      "size              2.000000e+00  2.000000e+00  3.000000e+00  6.000000e+00  \n",
      "price_per_person  5.800000e+00  7.255000e+00  9.390000e+00  2.027000e+01  \n",
      "CC Number         3.040732e+13  3.525320e+15  4.553675e+15  6.596450e+15  \n"
     ]
    }
   ],
   "source": [
    "print(df.describe().transpose())    # Organized Statistical Summary"
   ]
  },
  {
   "cell_type": "code",
   "execution_count": 11,
   "id": "f06fcdfd",
   "metadata": {},
   "outputs": [
    {
     "name": "stdout",
     "output_type": "stream",
     "text": [
      "0      16.99\n",
      "1      10.34\n",
      "2      21.01\n",
      "3      23.68\n",
      "4      24.59\n",
      "       ...  \n",
      "239    29.03\n",
      "240    27.18\n",
      "241    22.67\n",
      "242    17.82\n",
      "243    18.78\n",
      "Name: total_bill, Length: 244, dtype: float64\n"
     ]
    }
   ],
   "source": [
    "print(df['total_bill'])"
   ]
  },
  {
   "cell_type": "code",
   "execution_count": 12,
   "id": "e17ed467",
   "metadata": {},
   "outputs": [
    {
     "name": "stdout",
     "output_type": "stream",
     "text": [
      "     total_bill   tip\n",
      "0         16.99  1.01\n",
      "1         10.34  1.66\n",
      "2         21.01  3.50\n",
      "3         23.68  3.31\n",
      "4         24.59  3.61\n",
      "..          ...   ...\n",
      "239       29.03  5.92\n",
      "240       27.18  2.00\n",
      "241       22.67  2.00\n",
      "242       17.82  1.75\n",
      "243       18.78  3.00\n",
      "\n",
      "[244 rows x 2 columns]\n"
     ]
    }
   ],
   "source": [
    "print(df[['total_bill','tip']])"
   ]
  },
  {
   "cell_type": "code",
   "execution_count": 13,
   "id": "61eacbc5",
   "metadata": {},
   "outputs": [
    {
     "name": "stdout",
     "output_type": "stream",
     "text": [
      "   total_bill   tip  gender smoker  day    time  size  price_per_person  \\\n",
      "0       16.99  1.01  Female     No  Sun  Dinner     2              8.49   \n",
      "1       10.34  1.66    Male     No  Sun  Dinner     3              3.45   \n",
      "2       21.01  3.50    Male     No  Sun  Dinner     3              7.00   \n",
      "3       23.68  3.31    Male     No  Sun  Dinner     2             11.84   \n",
      "4       24.59  3.61  Female     No  Sun  Dinner     4              6.15   \n",
      "\n",
      "           Payer Name     CC Number Payment ID  tip_percentage  \n",
      "0  Christy Cunningham  3.560330e+15    Sun2959        5.944673  \n",
      "1      Douglas Tucker  4.478070e+15    Sun4608       16.054159  \n",
      "2      Travis Walters  6.011810e+15    Sun4458       16.658734  \n",
      "3    Nathaniel Harris  4.676140e+15    Sun5260       13.978041  \n",
      "4        Tonya Carter  4.832730e+15    Sun2251       14.680765  \n"
     ]
    }
   ],
   "source": [
    "# Select Multiple Columns\n",
    "# Note how it's a python list of column names! Thus the double brackets\n",
    "df['tip_percentage'] = 100 * df['tip'] / df['total_bill']\n",
    "print(df.head())"
   ]
  },
  {
   "cell_type": "code",
   "execution_count": 14,
   "id": "ce9bace4",
   "metadata": {},
   "outputs": [
    {
     "name": "stdout",
     "output_type": "stream",
     "text": [
      "   total_bill   tip  gender smoker  day    time  size  price_per_person  \\\n",
      "0       16.99  1.01  Female     No  Sun  Dinner     2              8.49   \n",
      "1       10.34  1.66    Male     No  Sun  Dinner     3              3.45   \n",
      "2       21.01  3.50    Male     No  Sun  Dinner     3              7.00   \n",
      "3       23.68  3.31    Male     No  Sun  Dinner     2             11.84   \n",
      "4       24.59  3.61  Female     No  Sun  Dinner     4              6.15   \n",
      "\n",
      "           Payer Name     CC Number Payment ID  tip_percentage  \\\n",
      "0  Christy Cunningham  3.560330e+15    Sun2959        5.944673   \n",
      "1      Douglas Tucker  4.478070e+15    Sun4608       16.054159   \n",
      "2      Travis Walters  6.011810e+15    Sun4458       16.658734   \n",
      "3    Nathaniel Harris  4.676140e+15    Sun5260       13.978041   \n",
      "4        Tonya Carter  4.832730e+15    Sun2251       14.680765   \n",
      "\n",
      "   prce_per_person  \n",
      "0         8.495000  \n",
      "1         3.446667  \n",
      "2         7.003333  \n",
      "3        11.840000  \n",
      "4         6.147500  \n"
     ]
    }
   ],
   "source": [
    "df['prce_per_person'] = df['total_bill'] / df['size']\n",
    "print(df.head())"
   ]
  },
  {
   "cell_type": "code",
   "execution_count": 15,
   "id": "75954401",
   "metadata": {},
   "outputs": [
    {
     "name": "stdout",
     "output_type": "stream",
     "text": [
      "   total_bill   tip  gender smoker  day    time  size  price_per_person  \\\n",
      "0       16.99  1.01  Female     No  Sun  Dinner     2              8.49   \n",
      "1       10.34  1.66    Male     No  Sun  Dinner     3              3.45   \n",
      "2       21.01  3.50    Male     No  Sun  Dinner     3              7.00   \n",
      "3       23.68  3.31    Male     No  Sun  Dinner     2             11.84   \n",
      "4       24.59  3.61  Female     No  Sun  Dinner     4              6.15   \n",
      "\n",
      "           Payer Name     CC Number Payment ID  tip_percentage  \\\n",
      "0  Christy Cunningham  3.560330e+15    Sun2959        5.944673   \n",
      "1      Douglas Tucker  4.478070e+15    Sun4608       16.054159   \n",
      "2      Travis Walters  6.011810e+15    Sun4458       16.658734   \n",
      "3    Nathaniel Harris  4.676140e+15    Sun5260       13.978041   \n",
      "4        Tonya Carter  4.832730e+15    Sun2251       14.680765   \n",
      "\n",
      "   prce_per_person  \n",
      "0         8.495000  \n",
      "1         3.446667  \n",
      "2         7.003333  \n",
      "3        11.840000  \n",
      "4         6.147500  \n"
     ]
    }
   ],
   "source": [
    "# Adjusting Existing Columns\n",
    "df['price_per_person'] = np.round(df['price_per_person'],2)\n",
    "print(df.head())"
   ]
  },
  {
   "cell_type": "code",
   "execution_count": 16,
   "id": "8e5d7e02",
   "metadata": {},
   "outputs": [
    {
     "name": "stdout",
     "output_type": "stream",
     "text": [
      "   total_bill   tip  gender smoker  day    time  size  price_per_person  \\\n",
      "0       16.99  1.01  Female     No  Sun  Dinner     2              8.49   \n",
      "1       10.34  1.66    Male     No  Sun  Dinner     3              3.45   \n",
      "2       21.01  3.50    Male     No  Sun  Dinner     3              7.00   \n",
      "3       23.68  3.31    Male     No  Sun  Dinner     2             11.84   \n",
      "4       24.59  3.61  Female     No  Sun  Dinner     4              6.15   \n",
      "\n",
      "           Payer Name     CC Number Payment ID  prce_per_person  \n",
      "0  Christy Cunningham  3.560330e+15    Sun2959         8.495000  \n",
      "1      Douglas Tucker  4.478070e+15    Sun4608         3.446667  \n",
      "2      Travis Walters  6.011810e+15    Sun4458         7.003333  \n",
      "3    Nathaniel Harris  4.676140e+15    Sun5260        11.840000  \n",
      "4        Tonya Carter  4.832730e+15    Sun2251         6.147500  \n"
     ]
    }
   ],
   "source": [
    "# Remove Columns\n",
    "df = df.drop('tip_percentage',axis=1)\n",
    "print(df.head())"
   ]
  },
  {
   "cell_type": "code",
   "execution_count": 17,
   "id": "5b45f6ee",
   "metadata": {},
   "outputs": [
    {
     "name": "stdout",
     "output_type": "stream",
     "text": [
      "   total_bill   tip  gender smoker  day    time  size  price_per_person  \\\n",
      "0       16.99  1.01  Female     No  Sun  Dinner     2              8.49   \n",
      "1       10.34  1.66    Male     No  Sun  Dinner     3              3.45   \n",
      "2       21.01  3.50    Male     No  Sun  Dinner     3              7.00   \n",
      "3       23.68  3.31    Male     No  Sun  Dinner     2             11.84   \n",
      "4       24.59  3.61  Female     No  Sun  Dinner     4              6.15   \n",
      "\n",
      "           Payer Name     CC Number Payment ID  prce_per_person  \n",
      "0  Christy Cunningham  3.560330e+15    Sun2959         8.495000  \n",
      "1      Douglas Tucker  4.478070e+15    Sun4608         3.446667  \n",
      "2      Travis Walters  6.011810e+15    Sun4458         7.003333  \n",
      "3    Nathaniel Harris  4.676140e+15    Sun5260        11.840000  \n",
      "4        Tonya Carter  4.832730e+15    Sun2251         6.147500  \n",
      "RangeIndex(start=0, stop=244, step=1)\n"
     ]
    }
   ],
   "source": [
    "# Index\n",
    "print(df.head())\n",
    "print(df.index)"
   ]
  },
  {
   "cell_type": "code",
   "execution_count": 18,
   "id": "c460dfd3",
   "metadata": {},
   "outputs": [
    {
     "name": "stdout",
     "output_type": "stream",
     "text": [
      "            total_bill   tip  gender smoker  day    time  size  \\\n",
      "Payment ID                                                       \n",
      "Sun2959          16.99  1.01  Female     No  Sun  Dinner     2   \n",
      "Sun4608          10.34  1.66    Male     No  Sun  Dinner     3   \n",
      "Sun4458          21.01  3.50    Male     No  Sun  Dinner     3   \n",
      "Sun5260          23.68  3.31    Male     No  Sun  Dinner     2   \n",
      "Sun2251          24.59  3.61  Female     No  Sun  Dinner     4   \n",
      "\n",
      "            price_per_person          Payer Name     CC Number  \\\n",
      "Payment ID                                                       \n",
      "Sun2959                 8.49  Christy Cunningham  3.560330e+15   \n",
      "Sun4608                 3.45      Douglas Tucker  4.478070e+15   \n",
      "Sun4458                 7.00      Travis Walters  6.011810e+15   \n",
      "Sun5260                11.84    Nathaniel Harris  4.676140e+15   \n",
      "Sun2251                 6.15        Tonya Carter  4.832730e+15   \n",
      "\n",
      "            prce_per_person  \n",
      "Payment ID                   \n",
      "Sun2959            8.495000  \n",
      "Sun4608            3.446667  \n",
      "Sun4458            7.003333  \n",
      "Sun5260           11.840000  \n",
      "Sun2251            6.147500  \n"
     ]
    }
   ],
   "source": [
    "df = df.set_index('Payment ID')\n",
    "print(df.head())"
   ]
  },
  {
   "cell_type": "code",
   "execution_count": 19,
   "id": "6d1fd419",
   "metadata": {},
   "outputs": [
    {
     "name": "stdout",
     "output_type": "stream",
     "text": [
      "  Payment ID  total_bill   tip  gender smoker  day    time  size  \\\n",
      "0    Sun2959       16.99  1.01  Female     No  Sun  Dinner     2   \n",
      "1    Sun4608       10.34  1.66    Male     No  Sun  Dinner     3   \n",
      "2    Sun4458       21.01  3.50    Male     No  Sun  Dinner     3   \n",
      "3    Sun5260       23.68  3.31    Male     No  Sun  Dinner     2   \n",
      "4    Sun2251       24.59  3.61  Female     No  Sun  Dinner     4   \n",
      "\n",
      "   price_per_person          Payer Name     CC Number  prce_per_person  \n",
      "0              8.49  Christy Cunningham  3.560330e+15         8.495000  \n",
      "1              3.45      Douglas Tucker  4.478070e+15         3.446667  \n",
      "2              7.00      Travis Walters  6.011810e+15         7.003333  \n",
      "3             11.84    Nathaniel Harris  4.676140e+15        11.840000  \n",
      "4              6.15        Tonya Carter  4.832730e+15         6.147500  \n"
     ]
    }
   ],
   "source": [
    "# Set it to the default integer values\n",
    "df = df.reset_index('Payment ID')\n",
    "print(df.head())"
   ]
  },
  {
   "cell_type": "code",
   "execution_count": 20,
   "id": "f9e233ff",
   "metadata": {},
   "outputs": [
    {
     "name": "stdout",
     "output_type": "stream",
     "text": [
      "Payment ID                     Sun2959\n",
      "total_bill                       16.99\n",
      "tip                               1.01\n",
      "gender                          Female\n",
      "smoker                              No\n",
      "day                                Sun\n",
      "time                            Dinner\n",
      "size                                 2\n",
      "price_per_person                  8.49\n",
      "Payer Name          Christy Cunningham\n",
      "CC Number           3560330000000000.0\n",
      "prce_per_person                  8.495\n",
      "Name: 0, dtype: object\n"
     ]
    }
   ],
   "source": [
    "# Rows\n",
    "# Get a single row\n",
    "# Integer Based\n",
    "print(df.iloc[0])"
   ]
  },
  {
   "cell_type": "code",
   "execution_count": 21,
   "id": "035bb700",
   "metadata": {},
   "outputs": [
    {
     "name": "stdout",
     "output_type": "stream",
     "text": [
      "            total_bill   tip  gender smoker  day    time  size  \\\n",
      "Payment ID                                                       \n",
      "Sun2959          16.99  1.01  Female     No  Sun  Dinner     2   \n",
      "Sun4608          10.34  1.66    Male     No  Sun  Dinner     3   \n",
      "Sun4458          21.01  3.50    Male     No  Sun  Dinner     3   \n",
      "Sun5260          23.68  3.31    Male     No  Sun  Dinner     2   \n",
      "Sun2251          24.59  3.61  Female     No  Sun  Dinner     4   \n",
      "\n",
      "            price_per_person          Payer Name     CC Number  \\\n",
      "Payment ID                                                       \n",
      "Sun2959                 8.49  Christy Cunningham  3.560330e+15   \n",
      "Sun4608                 3.45      Douglas Tucker  4.478070e+15   \n",
      "Sun4458                 7.00      Travis Walters  6.011810e+15   \n",
      "Sun5260                11.84    Nathaniel Harris  4.676140e+15   \n",
      "Sun2251                 6.15        Tonya Carter  4.832730e+15   \n",
      "\n",
      "            prce_per_person  \n",
      "Payment ID                   \n",
      "Sun2959            8.495000  \n",
      "Sun4608            3.446667  \n",
      "Sun4458            7.003333  \n",
      "Sun5260           11.840000  \n",
      "Sun2251            6.147500  \n"
     ]
    }
   ],
   "source": [
    "# Name Based\n",
    "# First set the index to the column which will be used in locating the row\n",
    "df = df.set_index('Payment ID')\n",
    "print(df.head())"
   ]
  },
  {
   "cell_type": "code",
   "execution_count": 23,
   "id": "344e8afc",
   "metadata": {},
   "outputs": [],
   "source": [
    "# print(df.iloc['Sun2959']) doesn't work"
   ]
  },
  {
   "cell_type": "code",
   "execution_count": null,
   "id": "5f1ec5d9",
   "metadata": {},
   "outputs": [],
   "source": [
    "# Conditions\n",
    "print(df['total_bill'] > 30)  #True/False"
   ]
  },
  {
   "cell_type": "code",
   "execution_count": null,
   "id": "1fb230bf",
   "metadata": {},
   "outputs": [],
   "source": [
    "bool_series = df['total_bill'] > 30    # Save in a variable\n",
    "print(bool_series)\n",
    "print(bool_series.head(25))"
   ]
  },
  {
   "cell_type": "code",
   "execution_count": null,
   "id": "928b3a4e",
   "metadata": {},
   "outputs": [],
   "source": [
    "print(df[bool_series])\n",
    "# Actual Result, applying the true/false conditions\n",
    "# The above statement means apply the true/false result to each row\n",
    "# Extract only rows where it is true, so the false ones will not appear in the output."
   ]
  },
  {
   "cell_type": "code",
   "execution_count": null,
   "id": "9e0f9bc2",
   "metadata": {},
   "outputs": [],
   "source": [
    "print(df[df['total_bill'] > 30])  # Same as above"
   ]
  },
  {
   "cell_type": "code",
   "execution_count": null,
   "id": "0492667b",
   "metadata": {},
   "outputs": [],
   "source": [
    "print(df['total_bill'] > 30)   # Boolean Result\n",
    "print(df[df['total_bill'] > 30])  # Actual Filtered result"
   ]
  },
  {
   "cell_type": "code",
   "execution_count": null,
   "id": "b55f0128",
   "metadata": {},
   "outputs": [],
   "source": [
    "print(df[df['gender'] == 'Male'])"
   ]
  },
  {
   "cell_type": "code",
   "execution_count": null,
   "id": "8367c38c",
   "metadata": {},
   "outputs": [],
   "source": [
    "# Multiple Conditions\n",
    "df_new = df[(df['total_bill'] > 30) & (df['gender'] == 'Male')]  # Both True\n",
    "print(df_new)"
   ]
  },
  {
   "cell_type": "code",
   "execution_count": 24,
   "id": "c048889d",
   "metadata": {},
   "outputs": [
    {
     "name": "stdout",
     "output_type": "stream",
     "text": [
      "            total_bill   tip  gender smoker   day    time  size  \\\n",
      "Payment ID                                                        \n",
      "Sun6686          35.26  5.00  Female     No   Sun  Dinner     4   \n",
      "Sun6165          34.81  5.20  Female     No   Sun  Dinner     4   \n",
      "Thur7972         34.83  5.17  Female     No  Thur   Lunch     4   \n",
      "Sat6240          44.30  2.50  Female    Yes   Sat  Dinner     3   \n",
      "Thur9313         43.11  5.00  Female    Yes  Thur   Lunch     4   \n",
      "Sat8863          30.14  3.09  Female    Yes   Sat  Dinner     4   \n",
      "Sat9777          35.83  4.67  Female     No   Sat  Dinner     3   \n",
      "\n",
      "            price_per_person      Payer Name     CC Number  prce_per_person  \n",
      "Payment ID                                                                   \n",
      "Sun6686                 8.82    Diane Macias  4.577820e+15         8.815000  \n",
      "Sun6165                 8.70    Emily Daniel  4.291280e+15         8.702500  \n",
      "Thur7972                8.71     Shawna Cook  6.011790e+15         8.707500  \n",
      "Sat6240                14.77   Heather Cohen  3.797710e+14        14.766667  \n",
      "Thur9313               10.78     Brooke Soto  5.544900e+15        10.777500  \n",
      "Sat8863                 7.54    Shelby House  5.020970e+11         7.535000  \n",
      "Sat9777                11.94  Kimberly Crane  6.761840e+11        11.943333  \n"
     ]
    }
   ],
   "source": [
    "# Multiple Conditions\n",
    "df_new = df[(df['total_bill'] > 30) & ~(df['gender'] == 'Male')]    #Not outside the condition \n",
    "print(df_new)"
   ]
  },
  {
   "cell_type": "code",
   "execution_count": 25,
   "id": "374b1ea5",
   "metadata": {},
   "outputs": [
    {
     "name": "stdout",
     "output_type": "stream",
     "text": [
      "            total_bill   tip  gender smoker   day    time  size  \\\n",
      "Payment ID                                                        \n",
      "Sun6686          35.26  5.00  Female     No   Sun  Dinner     4   \n",
      "Sun6165          34.81  5.20  Female     No   Sun  Dinner     4   \n",
      "Thur7972         34.83  5.17  Female     No  Thur   Lunch     4   \n",
      "Sat6240          44.30  2.50  Female    Yes   Sat  Dinner     3   \n",
      "Thur9313         43.11  5.00  Female    Yes  Thur   Lunch     4   \n",
      "Sat8863          30.14  3.09  Female    Yes   Sat  Dinner     4   \n",
      "Sat9777          35.83  4.67  Female     No   Sat  Dinner     3   \n",
      "\n",
      "            price_per_person      Payer Name     CC Number  prce_per_person  \n",
      "Payment ID                                                                   \n",
      "Sun6686                 8.82    Diane Macias  4.577820e+15         8.815000  \n",
      "Sun6165                 8.70    Emily Daniel  4.291280e+15         8.702500  \n",
      "Thur7972                8.71     Shawna Cook  6.011790e+15         8.707500  \n",
      "Sat6240                14.77   Heather Cohen  3.797710e+14        14.766667  \n",
      "Thur9313               10.78     Brooke Soto  5.544900e+15        10.777500  \n",
      "Sat8863                 7.54    Shelby House  5.020970e+11         7.535000  \n",
      "Sat9777                11.94  Kimberly Crane  6.761840e+11        11.943333  \n"
     ]
    }
   ],
   "source": [
    "# Multiple Conditions\n",
    "df_new = df[(df['total_bill'] > 30) & (df['gender'] != 'Male')]    #Not while comparing\n",
    "print(df_new)"
   ]
  },
  {
   "cell_type": "code",
   "execution_count": null,
   "id": "fb2cd6fd",
   "metadata": {},
   "outputs": [],
   "source": [
    "# Conditional is in operator\n",
    "options = ['Sat','Sun']\n",
    "print(df['day'].isin(options))\n",
    "# We use this method to avoid complex conditions in one statement"
   ]
  },
  {
   "cell_type": "code",
   "execution_count": null,
   "id": "6150a381",
   "metadata": {},
   "outputs": [],
   "source": [
    "df1 = (df['day'].isin(options))\n",
    "print(df[df1])"
   ]
  },
  {
   "cell_type": "code",
   "execution_count": null,
   "id": "72ddef16",
   "metadata": {},
   "outputs": [],
   "source": [
    "print(df[df['day'].isin(['Sat','Sun'])])   # Other way"
   ]
  },
  {
   "cell_type": "code",
   "execution_count": null,
   "id": "6d934a18",
   "metadata": {},
   "outputs": [],
   "source": [
    "# Sorting\n",
    "print(df.sort_values('tip'))"
   ]
  },
  {
   "cell_type": "code",
   "execution_count": null,
   "id": "69411dd8",
   "metadata": {},
   "outputs": [],
   "source": [
    "# Correlaton\n",
    "print(df[['total_bill','tip']].corr())"
   ]
  },
  {
   "cell_type": "code",
   "execution_count": 26,
   "id": "9b75b83a",
   "metadata": {},
   "outputs": [
    {
     "name": "stdout",
     "output_type": "stream",
     "text": [
      "No     151\n",
      "Yes     93\n",
      "Name: smoker, dtype: int64\n",
      "Male      157\n",
      "Female     87\n",
      "Name: gender, dtype: int64\n"
     ]
    }
   ],
   "source": [
    "# Value count\n",
    "print(df['smoker'].value_counts())   # Smokers and non-smokers\n",
    "print(df['gender'].value_counts())   # Males and Females"
   ]
  },
  {
   "cell_type": "code",
   "execution_count": 27,
   "id": "4cc21ceb",
   "metadata": {
    "scrolled": true
   },
   "outputs": [
    {
     "name": "stdout",
     "output_type": "stream",
     "text": [
      "[2 3 4 1 6 5]\n",
      "6\n",
      "['Dinner' 'Lunch']\n"
     ]
    }
   ],
   "source": [
    "# Unique\n",
    "print(df['size'].unique())  # All the unique values as an array\n",
    "print(df['size'].nunique())  # Number of unique values\n",
    "print(df['time'].unique())  # For char column"
   ]
  },
  {
   "cell_type": "code",
   "execution_count": 28,
   "id": "77c4c596",
   "metadata": {},
   "outputs": [
    {
     "name": "stdout",
     "output_type": "stream",
     "text": [
      "Payment ID\n",
      "Sun2959     True\n",
      "Sun4608     True\n",
      "Sun4458    False\n",
      "Sun5260    False\n",
      "Sun2251    False\n",
      "           ...  \n",
      "Sat2657    False\n",
      "Sat1766    False\n",
      "Sat3880    False\n",
      "Sat17       True\n",
      "Thur672     True\n",
      "Name: total_bill, Length: 244, dtype: bool\n",
      "            total_bill   tip  gender smoker   day    time  size  \\\n",
      "Payment ID                                                        \n",
      "Sun2959          16.99  1.01  Female     No   Sun  Dinner     2   \n",
      "Sun4608          10.34  1.66    Male     No   Sun  Dinner     3   \n",
      "Sun6820          15.04  1.96    Male     No   Sun  Dinner     2   \n",
      "Sun3775          14.78  3.23    Male     No   Sun  Dinner     2   \n",
      "Sun2546          10.27  1.71    Male     No   Sun  Dinner     2   \n",
      "...                ...   ...     ...    ...   ...     ...   ...   \n",
      "Sat7220          15.53  3.00    Male    Yes   Sat  Dinner     2   \n",
      "Sat4615          10.07  1.25    Male     No   Sat  Dinner     2   \n",
      "Sat5032          12.60  1.00    Male    Yes   Sat  Dinner     2   \n",
      "Sat17            17.82  1.75    Male     No   Sat  Dinner     2   \n",
      "Thur672          18.78  3.00  Female     No  Thur  Dinner     2   \n",
      "\n",
      "            price_per_person          Payer Name     CC Number  \\\n",
      "Payment ID                                                       \n",
      "Sun2959                 8.49  Christy Cunningham  3.560330e+15   \n",
      "Sun4608                 3.45      Douglas Tucker  4.478070e+15   \n",
      "Sun6820                 7.52     Joseph Mcdonald  3.522870e+15   \n",
      "Sun3775                 7.39       Jerome Abbott  3.532120e+15   \n",
      "Sun2546                 5.14       William Riley  5.662880e+11   \n",
      "...                      ...                 ...           ...   \n",
      "Sat7220                 7.76       Tracy Douglas  4.097940e+15   \n",
      "Sat4615                 5.04       Sean Gonzalez  3.534020e+15   \n",
      "Sat5032                 6.30       Matthew Myers  3.543680e+15   \n",
      "Sat17                   8.91        Dennis Dixon  4.375220e+12   \n",
      "Thur672                 9.39     Michelle Hardin  3.511450e+15   \n",
      "\n",
      "            prce_per_person  \n",
      "Payment ID                   \n",
      "Sun2959            8.495000  \n",
      "Sun4608            3.446667  \n",
      "Sun6820            7.520000  \n",
      "Sun3775            7.390000  \n",
      "Sun2546            5.135000  \n",
      "...                     ...  \n",
      "Sat7220            7.765000  \n",
      "Sat4615            5.035000  \n",
      "Sat5032            6.300000  \n",
      "Sat17              8.910000  \n",
      "Thur672            9.390000  \n",
      "\n",
      "[130 rows x 11 columns]\n"
     ]
    }
   ],
   "source": [
    "# Between: options for inclusive are both, left, right, neither\n",
    "print(df['total_bill'].between(10,20,inclusive='both'))   # True/False\n",
    "print(df[df['total_bill'].between(10,20,inclusive='both')])   # Actual Data"
   ]
  },
  {
   "cell_type": "code",
   "execution_count": null,
   "id": "3737ee2e",
   "metadata": {},
   "outputs": [],
   "source": []
  }
 ],
 "metadata": {
  "kernelspec": {
   "display_name": "Python 3 (ipykernel)",
   "language": "python",
   "name": "python3"
  },
  "language_info": {
   "codemirror_mode": {
    "name": "ipython",
    "version": 3
   },
   "file_extension": ".py",
   "mimetype": "text/x-python",
   "name": "python",
   "nbconvert_exporter": "python",
   "pygments_lexer": "ipython3",
   "version": "3.10.13"
  }
 },
 "nbformat": 4,
 "nbformat_minor": 5
}
