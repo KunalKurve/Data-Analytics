{
 "cells": [
  {
   "cell_type": "code",
   "execution_count": 1,
   "id": "a2ff5e1b-aa9c-48f8-bd04-6ba208e16ebc",
   "metadata": {},
   "outputs": [],
   "source": [
    "import numpy as np"
   ]
  },
  {
   "cell_type": "code",
   "execution_count": 2,
   "id": "cee20377-fa94-43fb-9c0d-1f1aa4cc2937",
   "metadata": {},
   "outputs": [
    {
     "name": "stdout",
     "output_type": "stream",
     "text": [
      "[0 1 2 3 4 5 6 7 8 9]\n"
     ]
    }
   ],
   "source": [
    "arr = np.arange(0,10)\n",
    "print(arr)"
   ]
  },
  {
   "cell_type": "code",
   "execution_count": 3,
   "id": "4bbcd6c1-97c2-455a-940f-c0689bd1ea54",
   "metadata": {},
   "outputs": [
    {
     "name": "stdout",
     "output_type": "stream",
     "text": [
      "[ 0  2  4  6  8 10 12 14 16 18]\n",
      "[0 0 0 0 0 0 0 0 0 0]\n",
      "[ 0  1  4  9 16 25 36 49 64 81]\n"
     ]
    }
   ],
   "source": [
    "# Basic Arithematic\n",
    "print(arr + arr)\n",
    "print(arr - arr)\n",
    "print(arr * arr)"
   ]
  },
  {
   "cell_type": "code",
   "execution_count": 4,
   "id": "21120078-453d-49ad-95bd-9d403cd10820",
   "metadata": {},
   "outputs": [
    {
     "name": "stdout",
     "output_type": "stream",
     "text": [
      "[nan  1.  1.  1.  1.  1.  1.  1.  1.  1.]\n"
     ]
    },
    {
     "name": "stderr",
     "output_type": "stream",
     "text": [
      "C:\\Users\\Administrator.DAI-PC2\\AppData\\Local\\Temp\\ipykernel_19792\\4078221113.py:3: RuntimeWarning: invalid value encountered in divide\n",
      "  print(arr / arr)\n"
     ]
    }
   ],
   "source": [
    "# This will raise a waring on division with 0 but not an error. It just fills the spot with nan\n",
    "\n",
    "print(arr / arr)"
   ]
  },
  {
   "cell_type": "code",
   "execution_count": 5,
   "id": "441440b1-efbd-449b-916e-38ba222321a1",
   "metadata": {},
   "outputs": [
    {
     "name": "stdout",
     "output_type": "stream",
     "text": [
      "[       inf 1.         0.5        0.33333333 0.25       0.2\n",
      " 0.16666667 0.14285714 0.125      0.11111111]\n"
     ]
    },
    {
     "name": "stderr",
     "output_type": "stream",
     "text": [
      "C:\\Users\\Administrator.DAI-PC2\\AppData\\Local\\Temp\\ipykernel_19792\\1196103188.py:3: RuntimeWarning: divide by zero encountered in divide\n",
      "  print(1 / arr)\n"
     ]
    }
   ],
   "source": [
    "# A warning but not an error related to infinity\n",
    "\n",
    "print(1 / arr)"
   ]
  },
  {
   "cell_type": "code",
   "execution_count": 6,
   "id": "fc0957b1-3ffd-43d6-bab7-44054925ebe1",
   "metadata": {},
   "outputs": [
    {
     "name": "stdout",
     "output_type": "stream",
     "text": [
      "[  0   1   8  27  64 125 216 343 512 729]\n"
     ]
    }
   ],
   "source": [
    "print(arr**3)"
   ]
  },
  {
   "cell_type": "code",
   "execution_count": 8,
   "id": "32589626-0992-4be6-8993-d35c8037cbac",
   "metadata": {},
   "outputs": [
    {
     "name": "stdout",
     "output_type": "stream",
     "text": [
      "[0.         1.         1.41421356 1.73205081 2.         2.23606798\n",
      " 2.44948974 2.64575131 2.82842712 3.        ]\n",
      "[1.00000000e+00 2.71828183e+00 7.38905610e+00 2.00855369e+01\n",
      " 5.45981500e+01 1.48413159e+02 4.03428793e+02 1.09663316e+03\n",
      " 2.98095799e+03 8.10308393e+03]\n",
      "[ 0.          0.84147098  0.90929743  0.14112001 -0.7568025  -0.95892427\n",
      " -0.2794155   0.6569866   0.98935825  0.41211849]\n",
      "[      -inf 0.         0.69314718 1.09861229 1.38629436 1.60943791\n",
      " 1.79175947 1.94591015 2.07944154 2.19722458]\n"
     ]
    },
    {
     "name": "stderr",
     "output_type": "stream",
     "text": [
      "C:\\Users\\Administrator.DAI-PC2\\AppData\\Local\\Temp\\ipykernel_19792\\3685697315.py:13: RuntimeWarning: divide by zero encountered in log\n",
      "  print(np.log(arr))\n"
     ]
    }
   ],
   "source": [
    "# Universal Functions\n",
    "\n",
    "# Taking Square Roots\n",
    "print(np.sqrt(arr))\n",
    "\n",
    "# Exponential (e^)\n",
    "print(np.exp(arr))\n",
    "\n",
    "# Sine\n",
    "print(np.sin(arr))\n",
    "\n",
    "# Taking SNatural Log\n",
    "print(np.log(arr))"
   ]
  },
  {
   "cell_type": "code",
   "execution_count": 10,
   "id": "56aab02c-ed3b-482a-b2ac-32b467a6dc28",
   "metadata": {},
   "outputs": [
    {
     "name": "stdout",
     "output_type": "stream",
     "text": [
      "45\n",
      "4.5\n",
      "9\n",
      "0\n",
      "8.25\n",
      "2.8722813232690143\n"
     ]
    }
   ],
   "source": [
    "# Summary Statistics\n",
    "print(arr.sum())\n",
    "print(arr.mean())\n",
    "print(arr.max())\n",
    "print(arr.min())\n",
    "print(arr.var())\n",
    "print(arr.std())"
   ]
  },
  {
   "cell_type": "code",
   "execution_count": 13,
   "id": "915dd4df-3bfb-49f5-a9ba-00060e400ede",
   "metadata": {},
   "outputs": [
    {
     "name": "stdout",
     "output_type": "stream",
     "text": [
      "[[ 1  2  3  4]\n",
      " [ 5  6  7  8]\n",
      " [ 9 10 11 12]]\n"
     ]
    }
   ],
   "source": [
    "# 2D Arrays\n",
    "\n",
    "# This is a 2D array with 3 rows and 4 columns\n",
    "arr_2d = np.array([[1,2,3,4],[5,6,7,8],[9,10,11,12]])\n",
    "print(arr_2d)"
   ]
  },
  {
   "cell_type": "code",
   "execution_count": 18,
   "id": "df1ce637-2e1b-4185-bece-7510ed1f87d9",
   "metadata": {},
   "outputs": [
    {
     "name": "stdout",
     "output_type": "stream",
     "text": [
      "[15 18 21 24]\n",
      "[10 26 42]\n"
     ]
    }
   ],
   "source": [
    "# Sum all the columns for each row\n",
    "print(arr_2d.sum(axis = 0))\n",
    "\n",
    "# Sum all the rows for each column\n",
    "print(arr_2d.sum(axis = 1))"
   ]
  },
  {
   "cell_type": "code",
   "execution_count": 17,
   "id": "9a553dbf-0ac5-49d0-b1ff-463d26891428",
   "metadata": {},
   "outputs": [
    {
     "name": "stdout",
     "output_type": "stream",
     "text": [
      "(3, 4)\n"
     ]
    }
   ],
   "source": [
    "# Row and column count\n",
    "\n",
    "print(arr_2d.shape)"
   ]
  }
 ],
 "metadata": {
  "kernelspec": {
   "display_name": "Python 3 (ipykernel)",
   "language": "python",
   "name": "python3"
  },
  "language_info": {
   "codemirror_mode": {
    "name": "ipython",
    "version": 3
   },
   "file_extension": ".py",
   "mimetype": "text/x-python",
   "name": "python",
   "nbconvert_exporter": "python",
   "pygments_lexer": "ipython3",
   "version": "3.10.13"
  }
 },
 "nbformat": 4,
 "nbformat_minor": 5
}
