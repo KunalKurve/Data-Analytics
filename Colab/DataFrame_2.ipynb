{
 "cells": [
  {
   "cell_type": "code",
   "execution_count": 1,
   "id": "0502da5a",
   "metadata": {},
   "outputs": [],
   "source": [
    "import pandas as pd\n",
    "import numpy as np"
   ]
  },
  {
   "cell_type": "code",
   "execution_count": 2,
   "id": "a8ed4690",
   "metadata": {},
   "outputs": [
    {
     "name": "stdout",
     "output_type": "stream",
     "text": [
      "  first_name last_name   age gender  pre_movie_score  post_movie_score\n",
      "0        Tom     Hanks  63.0      m              8.0              10.0\n",
      "1        NaN       NaN   NaN    NaN              NaN               NaN\n",
      "2       Hugh   Jackman  51.0      m              NaN               NaN\n",
      "3      Oprah   Winfrey  66.0      f              6.0               8.0\n",
      "4       Emma     Stone  31.0      f              7.0               9.0\n"
     ]
    }
   ],
   "source": [
    "df = pd.read_csv('movie_scores.csv')\n",
    "print(df)"
   ]
  },
  {
   "cell_type": "code",
   "execution_count": 4,
   "id": "b48fb79a",
   "metadata": {},
   "outputs": [
    {
     "name": "stdout",
     "output_type": "stream",
     "text": [
      "   first_name  last_name    age  gender  pre_movie_score  post_movie_score\n",
      "0       False      False  False   False            False             False\n",
      "1        True       True   True    True             True              True\n",
      "2       False      False  False   False             True              True\n",
      "3       False      False  False   False            False             False\n",
      "4       False      False  False   False            False             False\n",
      "   first_name  last_name    age  gender  pre_movie_score  post_movie_score\n",
      "0        True       True   True    True             True              True\n",
      "1       False      False  False   False            False             False\n",
      "2        True       True   True    True            False             False\n",
      "3        True       True   True    True             True              True\n",
      "4        True       True   True    True             True              True\n"
     ]
    }
   ],
   "source": [
    "# Checking and selecting for null values\n",
    "\n",
    "print(df.isnull())  # True if column is null, else false\n",
    "print(df.notnull())  # True if column is not null, else false"
   ]
  },
  {
   "cell_type": "code",
   "execution_count": 5,
   "id": "3daa3efd",
   "metadata": {},
   "outputs": [
    {
     "name": "stdout",
     "output_type": "stream",
     "text": [
      "0      Tom\n",
      "1      NaN\n",
      "2     Hugh\n",
      "3    Oprah\n",
      "4     Emma\n",
      "Name: first_name, dtype: object\n"
     ]
    }
   ],
   "source": [
    "print(df['first_name'])"
   ]
  },
  {
   "cell_type": "code",
   "execution_count": 6,
   "id": "6f2d42b0",
   "metadata": {},
   "outputs": [
    {
     "name": "stdout",
     "output_type": "stream",
     "text": [
      "  first_name last_name   age gender  pre_movie_score  post_movie_score\n",
      "0        Tom     Hanks  63.0      m              8.0              10.0\n",
      "2       Hugh   Jackman  51.0      m              NaN               NaN\n",
      "3      Oprah   Winfrey  66.0      f              6.0               8.0\n",
      "4       Emma     Stone  31.0      f              7.0               9.0\n"
     ]
    }
   ],
   "source": [
    "print(df[df['first_name'].notnull()])"
   ]
  },
  {
   "cell_type": "code",
   "execution_count": 8,
   "id": "fa6387be",
   "metadata": {},
   "outputs": [
    {
     "name": "stdout",
     "output_type": "stream",
     "text": [
      "  first_name last_name   age gender  pre_movie_score  post_movie_score\n",
      "2       Hugh   Jackman  51.0      m              NaN               NaN\n"
     ]
    }
   ],
   "source": [
    "print(df[(df['pre_movie_score'].isnull()) & df['gender'].notnull()])"
   ]
  },
  {
   "cell_type": "code",
   "execution_count": 12,
   "id": "2b8cbe8c",
   "metadata": {},
   "outputs": [
    {
     "name": "stdout",
     "output_type": "stream",
     "text": [
      "  first_name last_name   age gender  pre_movie_score  post_movie_score\n",
      "0        Tom     Hanks  63.0      m              8.0              10.0\n",
      "3      Oprah   Winfrey  66.0      f              6.0               8.0\n",
      "4       Emma     Stone  31.0      f              7.0               9.0\n"
     ]
    }
   ],
   "source": [
    "# Dropna\n",
    "# Drop if any column contains a null\n",
    "print(df.dropna())"
   ]
  },
  {
   "cell_type": "code",
   "execution_count": 13,
   "id": "8ef067c9",
   "metadata": {},
   "outputs": [
    {
     "name": "stdout",
     "output_type": "stream",
     "text": [
      "  first_name last_name   age gender  pre_movie_score  post_movie_score\n",
      "0        Tom     Hanks  63.0      m              8.0              10.0\n",
      "2       Hugh   Jackman  51.0      m              NaN               NaN\n",
      "3      Oprah   Winfrey  66.0      f              6.0               8.0\n",
      "4       Emma     Stone  31.0      f              7.0               9.0\n"
     ]
    }
   ],
   "source": [
    "# Any row with atleast one non-null value is retained\n",
    "print(df.dropna(thresh = 1))"
   ]
  },
  {
   "cell_type": "code",
   "execution_count": 14,
   "id": "d7730e4f",
   "metadata": {},
   "outputs": [
    {
     "name": "stdout",
     "output_type": "stream",
     "text": [
      "Empty DataFrame\n",
      "Columns: []\n",
      "Index: [0, 1, 2, 3, 4]\n"
     ]
    }
   ],
   "source": [
    "# Drop a column that contains atleast one null\n",
    "print(df.dropna(axis = 1))"
   ]
  },
  {
   "cell_type": "code",
   "execution_count": 15,
   "id": "0f57c4d3",
   "metadata": {},
   "outputs": [
    {
     "name": "stdout",
     "output_type": "stream",
     "text": [
      "  first_name last_name   age gender\n",
      "0        Tom     Hanks  63.0      m\n",
      "1        NaN       NaN   NaN    NaN\n",
      "2       Hugh   Jackman  51.0      m\n",
      "3      Oprah   Winfrey  66.0      f\n",
      "4       Emma     Stone  31.0      f\n"
     ]
    }
   ],
   "source": [
    "# A column must have atleaast 4 non-null values to be retained\n",
    "print(df.dropna(thresh = 4, axis = 1))"
   ]
  },
  {
   "cell_type": "code",
   "execution_count": 16,
   "id": "1e20a870",
   "metadata": {},
   "outputs": [
    {
     "name": "stdout",
     "output_type": "stream",
     "text": [
      "0      Tom\n",
      "1    Empty\n",
      "2     Hugh\n",
      "3    Oprah\n",
      "4     Emma\n",
      "Name: first_name, dtype: object\n"
     ]
    }
   ],
   "source": [
    "# Fill data\n",
    "df.fillna(\"NEW VALUE!\")\n",
    "\n",
    "print(df['first_name'].fillna(\"Empty\"))\n",
    "df['first_name'] = (df['first_name'].fillna(\"Empty\"))"
   ]
  },
  {
   "cell_type": "code",
   "execution_count": 17,
   "id": "5b640a26",
   "metadata": {},
   "outputs": [
    {
     "name": "stdout",
     "output_type": "stream",
     "text": [
      "7.0\n"
     ]
    },
    {
     "data": {
      "text/plain": [
       "0    8.0\n",
       "1    7.0\n",
       "2    7.0\n",
       "3    6.0\n",
       "4    7.0\n",
       "Name: pre_movie_score, dtype: float64"
      ]
     },
     "execution_count": 17,
     "metadata": {},
     "output_type": "execute_result"
    }
   ],
   "source": [
    "# Fill nulls with average\n",
    "print(df['pre_movie_score'].mean())\n",
    "df['pre_movie_score'].fillna(df['pre_movie_score'].mean())"
   ]
  },
  {
   "cell_type": "code",
   "execution_count": null,
   "id": "6e85d508",
   "metadata": {},
   "outputs": [],
   "source": []
  }
 ],
 "metadata": {
  "kernelspec": {
   "display_name": "Python 3 (ipykernel)",
   "language": "python",
   "name": "python3"
  },
  "language_info": {
   "codemirror_mode": {
    "name": "ipython",
    "version": 3
   },
   "file_extension": ".py",
   "mimetype": "text/x-python",
   "name": "python",
   "nbconvert_exporter": "python",
   "pygments_lexer": "ipython3",
   "version": "3.9.13"
  }
 },
 "nbformat": 4,
 "nbformat_minor": 5
}
