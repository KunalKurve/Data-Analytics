{
 "cells": [
  {
   "cell_type": "code",
   "execution_count": 2,
   "id": "4e4f7174-b385-4b2a-904d-e8b2900c194c",
   "metadata": {},
   "outputs": [],
   "source": [
    "import numpy as np"
   ]
  },
  {
   "cell_type": "code",
   "execution_count": 5,
   "id": "a5ea12ae-00d6-47dc-8309-bab412c882b2",
   "metadata": {},
   "outputs": [
    {
     "name": "stdout",
     "output_type": "stream",
     "text": [
      "<class 'list'>\n"
     ]
    }
   ],
   "source": [
    "my_list = [1,2,3]\n",
    "my_array = np.array([1,2,3])\n",
    "print(type(my_list))"
   ]
  },
  {
   "cell_type": "code",
   "execution_count": 18,
   "id": "ed68ed95-71fe-45c2-9237-da0f2ada989d",
   "metadata": {},
   "outputs": [
    {
     "name": "stdout",
     "output_type": "stream",
     "text": [
      "[1 2 3]\n"
     ]
    }
   ],
   "source": [
    "# Create a numpy array from a list\n",
    "\n",
    "print(np.array(my_list))"
   ]
  },
  {
   "cell_type": "code",
   "execution_count": 19,
   "id": "cffcfbe8-5179-4c55-997f-045f2d339755",
   "metadata": {},
   "outputs": [
    {
     "name": "stdout",
     "output_type": "stream",
     "text": [
      "[[1, 2, 3], [4, 5, 6], [7, 8, 9]]\n"
     ]
    }
   ],
   "source": [
    "# From a list of list\n",
    "\n",
    "my_matrix = [[1,2,3],[4,5,6],[7,8,9]]\n",
    "print(my_matrix)"
   ]
  },
  {
   "cell_type": "code",
   "execution_count": 20,
   "id": "23ac9296-457e-4f70-b8f9-e84f169f3782",
   "metadata": {},
   "outputs": [
    {
     "name": "stdout",
     "output_type": "stream",
     "text": [
      "[0 1 2 3 4 5 6 7 8 9]\n",
      "[ 0  2  4  6  8 10]\n"
     ]
    }
   ],
   "source": [
    "# Creating arrays using built-in function\n",
    "# Return evenly spaced values within a given interval\n",
    "\n",
    "# Start, stop, step\n",
    "print(np.arange(0,10))\n",
    "print(np.arange(0,11,2))"
   ]
  },
  {
   "cell_type": "code",
   "execution_count": 21,
   "id": "04b78f16-26d8-4721-9bfd-f349cb59aae0",
   "metadata": {},
   "outputs": [
    {
     "name": "stdout",
     "output_type": "stream",
     "text": [
      "[0. 0. 0.]\n",
      "[[0. 0. 0. 0. 0.]\n",
      " [0. 0. 0. 0. 0.]\n",
      " [0. 0. 0. 0. 0.]\n",
      " [0. 0. 0. 0. 0.]\n",
      " [0. 0. 0. 0. 0.]]\n",
      "[1. 1. 1.]\n",
      "[[1. 1. 1.]\n",
      " [1. 1. 1.]\n",
      " [1. 1. 1.]]\n"
     ]
    }
   ],
   "source": [
    "# Generate arrays of zeros or ones\n",
    "\n",
    "print(np.zeros(3))\n",
    "print(np.zeros((5,5)))\n",
    "print(np.ones(3))\n",
    "print(np.ones((3,3)))"
   ]
  },
  {
   "cell_type": "code",
   "execution_count": 12,
   "id": "dc7d6c29-83b6-47e1-9fef-91cfdedd4dd2",
   "metadata": {},
   "outputs": [
    {
     "name": "stdout",
     "output_type": "stream",
     "text": [
      "[ 0.  5. 10.]\n",
      "[0.         0.26315789 0.52631579 0.78947368 1.05263158 1.31578947\n",
      " 1.57894737 1.84210526 2.10526316 2.36842105 2.63157895 2.89473684\n",
      " 3.15789474 3.42105263 3.68421053 3.94736842 4.21052632 4.47368421\n",
      " 4.73684211 5.        ]\n",
      "[0.   0.25 0.5  0.75 1.   1.25 1.5  1.75 2.   2.25 2.5  2.75 3.   3.25\n",
      " 3.5  3.75 4.   4.25 4.5  4.75 5.  ]\n"
     ]
    }
   ],
   "source": [
    "# Return evenly spaced nos over a specified interval\n",
    "# Start, stop, no of elements (and not step)\n",
    "# Unlike numpy.arrange(), the stop value is included in the result\n",
    "# the spacing between values is automatically determined based on the specified no of values (num)\n",
    "\n",
    "print(np.linspace(0,10,3))\n",
    "print(np.linspace(0,5,20))\n",
    "print(np.linspace(0,5,21))"
   ]
  },
  {
   "cell_type": "code",
   "execution_count": 16,
   "id": "f2125f1d-824f-4b04-bc14-c78a5e1bd5bb",
   "metadata": {},
   "outputs": [
    {
     "name": "stdout",
     "output_type": "stream",
     "text": [
      "[0.24485308 0.942419  ]\n",
      "[[0.09028158 0.30048396 0.12770987 0.95514547 0.96517584]\n",
      " [0.12549828 0.32769885 0.6678081  0.55361159 0.67029742]\n",
      " [0.19456424 0.01274108 0.09532968 0.50226517 0.40431066]\n",
      " [0.0917542  0.37893946 0.74196113 0.68044814 0.95593134]\n",
      " [0.34574722 0.06592937 0.4914158  0.47883035 0.37170644]]\n"
     ]
    }
   ],
   "source": [
    "# Random number arrays\n",
    "\n",
    "print(np.random.rand(2))\n",
    "print(np.random.rand(5,5))"
   ]
  },
  {
   "cell_type": "code",
   "execution_count": 22,
   "id": "b84d6a40-3467-40ca-be4d-deed8c461735",
   "metadata": {},
   "outputs": [
    {
     "name": "stdout",
     "output_type": "stream",
     "text": [
      "[-0.53340235 -0.87201138]\n",
      "[[-0.86430769 -0.36296697  0.16779086 -0.24463917 -0.26157106]\n",
      " [-0.44255792 -0.67822462 -0.22259425  0.19329743  1.04450441]\n",
      " [-0.12442836 -0.4530511  -1.19017545  1.67969206  0.27321495]\n",
      " [-1.57786734 -0.02954774  1.57278617  0.81546234 -0.7369442 ]\n",
      " [-0.2260585  -1.54893417 -0.45641735 -0.11449053  0.5450463 ]]\n"
     ]
    }
   ],
   "source": [
    "# From normal dstribution\n",
    "\n",
    "print(np.random.randn(2))\n",
    "print(np.random.randn(5,5))\n",
    "\n",
    "# The graph of a normal distribution is a bell shaped curve"
   ]
  },
  {
   "cell_type": "code",
   "execution_count": null,
   "id": "7d137181-a3ed-48dd-96f3-ebfa6219ffb5",
   "metadata": {},
   "outputs": [],
   "source": [
    "# From normal dstribution\n",
    "\n",
    "print(np.random.randint(1,100))\n",
    "print(np.random.randint(1, 100, 10))"
   ]
  },
  {
   "cell_type": "code",
   "execution_count": 29,
   "id": "67d2f6ca-b17d-4df4-9f4d-61c9eed2bf30",
   "metadata": {},
   "outputs": [
    {
     "name": "stdout",
     "output_type": "stream",
     "text": [
      "[0.37454012 0.95071431 0.73199394 0.59865848]\n",
      "[0.37454012 0.95071431 0.73199394 0.59865848]\n"
     ]
    }
   ],
   "source": [
    "# Seeding for reproducable result- random but predictble unlike random functon whose results are unpredictable\n",
    "# We will get the same set of random numbers using seed.\n",
    "\n",
    "np.random.seed(42)\n",
    "print(np.random.rand(4))\n",
    "\n",
    "np.random.seed(42)\n",
    "print(np.random.rand(4))"
   ]
  },
  {
   "cell_type": "code",
   "execution_count": 64,
   "id": "2fff1d27-5e45-460e-bb28-8e1481b2f11a",
   "metadata": {},
   "outputs": [
    {
     "name": "stdout",
     "output_type": "stream",
     "text": [
      "[ 0  1  2  3  4  5  6  7  8  9 10 11 12 13 14 15 16 17 18 19 20 21 22 23\n",
      " 24]\n",
      "[43  2 36  6 20  8 38 17  3 24]\n"
     ]
    }
   ],
   "source": [
    "# Storing\n",
    "\n",
    "arr = np.arange(25)\n",
    "ranarr = np.random.randint(0,50,10)\n",
    "# 10 random nos between 0 to 50\n",
    "print(arr)\n",
    "print(ranarr)"
   ]
  },
  {
   "cell_type": "code",
   "execution_count": 65,
   "id": "e0409178-cdd7-4c50-bec3-81e4c007ab7a",
   "metadata": {},
   "outputs": [
    {
     "name": "stdout",
     "output_type": "stream",
     "text": [
      "[[ 0  1  2  3  4]\n",
      " [ 5  6  7  8  9]\n",
      " [10 11 12 13 14]\n",
      " [15 16 17 18 19]\n",
      " [20 21 22 23 24]]\n"
     ]
    }
   ],
   "source": [
    "# Reshape: Returns an array containing the same data with a new shape\n",
    "\n",
    "print(arr.reshape(5,5))"
   ]
  },
  {
   "cell_type": "code",
   "execution_count": 66,
   "id": "0d6892ed-121a-4e46-9485-fa3ad76fdecc",
   "metadata": {},
   "outputs": [
    {
     "name": "stdout",
     "output_type": "stream",
     "text": [
      "43\n",
      "0\n",
      "2\n"
     ]
    }
   ],
   "source": [
    "# Max, min and index positions\n",
    "\n",
    "print(ranarr.max())\n",
    "print(ranarr.argmax()) # Index position of max value in array\n",
    "print(ranarr.min())"
   ]
  },
  {
   "cell_type": "code",
   "execution_count": 67,
   "id": "e834c777-3e02-4f66-ac30-1d24967be1a1",
   "metadata": {},
   "outputs": [
    {
     "name": "stdout",
     "output_type": "stream",
     "text": [
      "[ 0  1  2  3  4  5  6  7  8  9 10]\n",
      "8\n"
     ]
    }
   ],
   "source": [
    "# Creating sample array\n",
    "\n",
    "arr = np.arange(0,11)\n",
    "print(arr)\n",
    "\n",
    "# Bracket indexing and selection - similar to Python lists\n",
    "# Get a value at an index\n",
    "\n",
    "print(arr[8])"
   ]
  },
  {
   "cell_type": "code",
   "execution_count": 46,
   "id": "e26c48bd-7c99-4bdf-9ed3-91c61123db4f",
   "metadata": {},
   "outputs": [
    {
     "name": "stdout",
     "output_type": "stream",
     "text": [
      "[1 2 3 4]\n",
      "[ 0  1  2  3  4  5  6  7  8  9 10]\n"
     ]
    }
   ],
   "source": [
    "# Get values in a range\n",
    "\n",
    "print(arr[1:5])\n",
    "print(arr)"
   ]
  },
  {
   "cell_type": "code",
   "execution_count": 47,
   "id": "f8b84516-5b14-416e-b85e-43ba28605d08",
   "metadata": {},
   "outputs": [
    {
     "name": "stdout",
     "output_type": "stream",
     "text": [
      "[100 100 100 100 100   5   6   7   8   9  10]\n"
     ]
    }
   ],
   "source": [
    "# Broadcasting\n",
    "# Setting a value with index range\n",
    "\n",
    "arr[0:5] = 100\n",
    "print(arr)"
   ]
  },
  {
   "cell_type": "code",
   "execution_count": 48,
   "id": "ce3ef790-6ec1-4c2e-9306-84a07fa879f1",
   "metadata": {},
   "outputs": [
    {
     "name": "stdout",
     "output_type": "stream",
     "text": [
      "[ 0  1  2  3  4  5  6  7  8  9 10]\n"
     ]
    }
   ],
   "source": [
    "# Reset array\n",
    "\n",
    "arr = np.arange(0,11)\n",
    "print(arr)"
   ]
  },
  {
   "cell_type": "code",
   "execution_count": 51,
   "id": "520d44b0-3c90-4799-8988-0c1ae0573d42",
   "metadata": {},
   "outputs": [
    {
     "name": "stdout",
     "output_type": "stream",
     "text": [
      "[0 1 2 3 4 5]\n"
     ]
    }
   ],
   "source": [
    "# Important notes on Slices\n",
    "\n",
    "slice_of_arr = arr[0:6]\n",
    "print(slice_of_arr)"
   ]
  },
  {
   "cell_type": "code",
   "execution_count": 54,
   "id": "d452b51e-5c7a-4495-9425-fc20789f98e8",
   "metadata": {},
   "outputs": [
    {
     "name": "stdout",
     "output_type": "stream",
     "text": [
      "[99 99 99 99 99 99]\n",
      "[99 99 99 99 99 99  6  7  8  9 10]\n"
     ]
    }
   ],
   "source": [
    "# Changing slice\n",
    "\n",
    "slice_of_arr[:] = 99\n",
    "print(slice_of_arr)\n",
    "print(arr)\n",
    "# Changes made are also there in our original array\n",
    "# Data is not copied, it is the view of the original array\n",
    "# This avoid memory problems\n",
    "# Similar to pointers"
   ]
  },
  {
   "cell_type": "code",
   "execution_count": 55,
   "id": "60314354-b3fb-4b5b-8dde-28d12694b967",
   "metadata": {},
   "outputs": [
    {
     "name": "stdout",
     "output_type": "stream",
     "text": [
      "[99 99 99 99 99 99  6  7  8  9 10]\n"
     ]
    }
   ],
   "source": [
    "# To get a copy, we need to be explicit\n",
    "\n",
    "arr_copy = arr.copy()\n",
    "print(arr_copy)"
   ]
  },
  {
   "cell_type": "code",
   "execution_count": 60,
   "id": "501b0c75-5b74-491b-a336-603c2cb0d80c",
   "metadata": {},
   "outputs": [
    {
     "name": "stdout",
     "output_type": "stream",
     "text": [
      "[[ 5 10 15]\n",
      " [20 25 30]\n",
      " [30 35 40]]\n"
     ]
    }
   ],
   "source": [
    "# 2D Arrays\n",
    "\n",
    "arr_2d = np.array(([5,10,15],[20,25,30],[30,35,40]))\n",
    "print(arr_2d)"
   ]
  },
  {
   "cell_type": "code",
   "execution_count": 62,
   "id": "cf3accc5-a499-45ef-a16a-e8ceaef92518",
   "metadata": {},
   "outputs": [
    {
     "name": "stdout",
     "output_type": "stream",
     "text": [
      "[20 25 30]\n"
     ]
    }
   ],
   "source": [
    "# Indexing row\n",
    "\n",
    "print(arr_2d[1])"
   ]
  },
  {
   "cell_type": "code",
   "execution_count": 58,
   "id": "4c3af13b-b3d3-4cf1-a22e-7fa6552843db",
   "metadata": {},
   "outputs": [
    {
     "name": "stdout",
     "output_type": "stream",
     "text": [
      "20\n",
      "20\n"
     ]
    }
   ],
   "source": [
    "# Getting individual elemnt value\n",
    "# Syntax is arr_2d[row][col] or arr_2d[row,col]\n",
    "\n",
    "print(arr_2d[1,0])\n",
    "print(arr_2d[1][0])"
   ]
  },
  {
   "cell_type": "code",
   "execution_count": 63,
   "id": "e9e92c0b-dd54-4e52-9e41-cc6d9a58661a",
   "metadata": {},
   "outputs": [
    {
     "name": "stdout",
     "output_type": "stream",
     "text": [
      "[[10 15]\n",
      " [25 30]]\n"
     ]
    }
   ],
   "source": [
    "# 2D Array slicing\n",
    "# shape (2,2) from top right corner\n",
    "\n",
    "print(arr_2d[:2,1:])"
   ]
  },
  {
   "cell_type": "code",
   "execution_count": 68,
   "id": "e4fb33c7-b7f3-4608-b5f6-a0f6ae434882",
   "metadata": {},
   "outputs": [
    {
     "name": "stdout",
     "output_type": "stream",
     "text": [
      "[ 1  2  3  4  5  6  7  8  9 10]\n"
     ]
    }
   ],
   "source": [
    "# Conditional selection\n",
    "arr = np.arange(1,11)\n",
    "print(arr)"
   ]
  },
  {
   "cell_type": "code",
   "execution_count": 69,
   "id": "b8d700ca-3246-4895-bb04-8637c1b51d6d",
   "metadata": {},
   "outputs": [
    {
     "name": "stdout",
     "output_type": "stream",
     "text": [
      "[False False False False  True  True  True  True  True  True]\n",
      "[False False False False  True  True  True  True  True  True]\n"
     ]
    }
   ],
   "source": [
    "# Check each element of the rray aggainst the condition arr>4\n",
    "# Whih returns a boolean array where each element is true if the corresponding eleent in the array is greates than 4 else false.\n",
    "\n",
    "print(arr>4)\n",
    "# Outhput: [False False False False  True  True  True  True  True  True]\n",
    "\n",
    "bool_arr = arr>4\n",
    "print(bool_arr)"
   ]
  },
  {
   "cell_type": "code",
   "execution_count": 70,
   "id": "b0555423-3b17-4bd1-903a-892d7838eb9f",
   "metadata": {},
   "outputs": [
    {
     "name": "stdout",
     "output_type": "stream",
     "text": [
      "[ 5  6  7  8  9 10]\n"
     ]
    }
   ],
   "source": [
    "# Select only those elements form the arr array where the corresponding element in bool_arr is true.\n",
    "# It effectively filters out the elements of the arr where the condition arr>4 is true\n",
    "\n",
    "print(arr[bool_arr])"
   ]
  },
  {
   "cell_type": "code",
   "execution_count": null,
   "id": "19a85102-34b7-4681-a52c-a232e86b9332",
   "metadata": {},
   "outputs": [],
   "source": []
  }
 ],
 "metadata": {
  "kernelspec": {
   "display_name": "Python 3 (ipykernel)",
   "language": "python",
   "name": "python3"
  },
  "language_info": {
   "codemirror_mode": {
    "name": "ipython",
    "version": 3
   },
   "file_extension": ".py",
   "mimetype": "text/x-python",
   "name": "python",
   "nbconvert_exporter": "python",
   "pygments_lexer": "ipython3",
   "version": "3.10.13"
  }
 },
 "nbformat": 4,
 "nbformat_minor": 5
}
