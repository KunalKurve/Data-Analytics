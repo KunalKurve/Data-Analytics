{
 "cells": [
  {
   "cell_type": "code",
   "execution_count": 1,
   "id": "3b0edb10-a67a-4790-bdbb-5b6a6c41c4cf",
   "metadata": {},
   "outputs": [],
   "source": [
    "#pandas help in cleaning data and to explre data\n",
    "#these two things are heart of data analysis\n",
    "\n",
    "#extremely powerful due to one thing ie DATAFRAMES - extremely powerful and flexible.\n",
    "\n",
    "# Pandas operations can run very fast using GPUs\n",
    "\n",
    "#easily read and write data....any format"
   ]
  },
  {
   "cell_type": "code",
   "execution_count": 1,
   "id": "69004a4e-0450-441f-a60f-b3e2277f1a1a",
   "metadata": {},
   "outputs": [],
   "source": [
    "import numpy as np\n",
    "import pandas as pd"
   ]
  },
  {
   "cell_type": "code",
   "execution_count": 2,
   "id": "8fa962c5-1d13-43ba-b0be-2bc9f7221351",
   "metadata": {},
   "outputs": [
    {
     "name": "stdout",
     "output_type": "stream",
     "text": [
      "0    1776\n",
      "1    1876\n",
      "2    2821\n",
      "dtype: int64\n"
     ]
    }
   ],
   "source": [
    "#Creating a sepearate series froma python list\n",
    "myindex = ['USA', \"Canada\", 'England']\n",
    "mydata = [1776, 1876, 2821]\n",
    "\n",
    "# Just the numeric index\n",
    "myser = pd.Series(data=mydata)\n",
    "print(myser)"
   ]
  },
  {
   "cell_type": "code",
   "execution_count": 3,
   "id": "f706f250-6a29-462b-8ac7-d260d2548a9b",
   "metadata": {},
   "outputs": [
    {
     "name": "stdout",
     "output_type": "stream",
     "text": [
      "USA        1776\n",
      "Canada     1876\n",
      "England    2821\n",
      "dtype: int64\n"
     ]
    }
   ],
   "source": [
    "#Now the names indecx\n",
    "myser = pd.Series(data = mydata, index = myindex)\n",
    "print(myser)"
   ]
  },
  {
   "cell_type": "code",
   "execution_count": 4,
   "id": "e0282b90-091d-4924-91ef-bd5bf44315df",
   "metadata": {},
   "outputs": [
    {
     "name": "stdout",
     "output_type": "stream",
     "text": [
      "[24 56 38 99]\n"
     ]
    }
   ],
   "source": [
    "#creating a Series from numpy array\n",
    "\n",
    "ran_data  = np.random.randint(0,100,4)\n",
    "print(ran_data)"
   ]
  },
  {
   "cell_type": "code",
   "execution_count": 12,
   "id": "051069af-0121-4a76-b1f6-63e44d1c22d0",
   "metadata": {},
   "outputs": [
    {
     "name": "stdout",
     "output_type": "stream",
     "text": [
      "Alice      53\n",
      "Bob        47\n",
      "Candice     2\n",
      "Dave       89\n",
      "dtype: int32\n"
     ]
    }
   ],
   "source": [
    "names = ['Alice', 'Bob', 'Candice', 'Dave']\n",
    "ages = pd.Series(ran_data, names)\n",
    "print(ages)"
   ]
  },
  {
   "cell_type": "code",
   "execution_count": 15,
   "id": "7d7b5e27-78e5-4c72-ad6a-e04efcb48a32",
   "metadata": {},
   "outputs": [
    {
     "name": "stdout",
     "output_type": "stream",
     "text": [
      "Japan      80\n",
      "China     450\n",
      "India    2000\n",
      "USA       200\n",
      "dtype: int64\n",
      "Brazil    100\n",
      "China     500\n",
      "India     270\n",
      "USA       260\n",
      "dtype: int64\n"
     ]
    }
   ],
   "source": [
    "# Using name index\n",
    "# Imaginary sales data for 1st and 2nd quarter for a global comapany\n",
    "q1 = {\"Japan\": 80, \"China\": 450, \"India\": 2000, \"USA\": 200}\n",
    "q2 = {\"Brazil\": 100, \"China\": 500, \"India\": 270, \"USA\": 260}\n",
    "# this is similar to JSON format\n",
    "\n",
    "\n",
    "# Convert into Pandas Sereis\n",
    "sales_Q1 = pd.Series(q1)\n",
    "sales_Q2 = pd.Series(q2)\n",
    "\n",
    "print(sales_Q1)\n",
    "print(sales_Q2)"
   ]
  },
  {
   "cell_type": "code",
   "execution_count": 16,
   "id": "9aca5e11-e454-4ac9-a92d-249dc430ef60",
   "metadata": {},
   "outputs": [
    {
     "name": "stdout",
     "output_type": "stream",
     "text": [
      "80\n",
      "80\n"
     ]
    }
   ],
   "source": [
    "# Call values based on Named Index\n",
    "print(sales_Q1['Japan'])\n",
    "\n",
    "# Integer based location information also retained\n",
    "print(sales_Q1[0])\n",
    "\n",
    "# Be careful with potential errors: \n",
    "# 1. Wrong name\n",
    "# 2. Accidental extra space\n",
    "# 3. Text case mistake in Uppercase, lowercase"
   ]
  },
  {
   "cell_type": "code",
   "execution_count": 18,
   "id": "dd7648fa-957e-4147-be66-3f543707f661",
   "metadata": {},
   "outputs": [
    {
     "name": "stdout",
     "output_type": "stream",
     "text": [
      "Index(['Japan', 'China', 'India', 'USA'], dtype='object')\n"
     ]
    }
   ],
   "source": [
    "# Series Operations\n",
    "# Grab just the index keys\n",
    "\n",
    "print(sales_Q1.keys())"
   ]
  },
  {
   "cell_type": "code",
   "execution_count": 20,
   "id": "2a6886a3-11f8-4883-9aec-ccb26a47017d",
   "metadata": {},
   "outputs": [
    {
     "name": "stdout",
     "output_type": "stream",
     "text": [
      "Japan     160\n",
      "China     900\n",
      "India    4000\n",
      "USA       400\n",
      "dtype: int64\n",
      "Brazil    1.0\n",
      "China     5.0\n",
      "India     2.7\n",
      "USA       2.6\n",
      "dtype: float64\n"
     ]
    }
   ],
   "source": [
    "# Can perform operations broadcasted across entire series\n",
    "\n",
    "print(sales_Q1*2)\n",
    "print(sales_Q2/100)\n",
    "\n",
    "#This is possible because Dataframes interally use NumPy Arrays"
   ]
  },
  {
   "cell_type": "code",
   "execution_count": 21,
   "id": "c967caa3-f5df-48df-b90e-2da04615690b",
   "metadata": {},
   "outputs": [
    {
     "name": "stdout",
     "output_type": "stream",
     "text": [
      "Brazil       NaN\n",
      "China      950.0\n",
      "India     2270.0\n",
      "Japan        NaN\n",
      "USA        460.0\n",
      "dtype: float64\n"
     ]
    }
   ],
   "source": [
    "# Pandas informs of mismatch with NaN\n",
    "print(sales_Q1 + sales_Q2)"
   ]
  },
  {
   "cell_type": "code",
   "execution_count": 24,
   "id": "f5aafe51-64f9-4314-9c60-abc1afbea8ec",
   "metadata": {},
   "outputs": [
    {
     "name": "stdout",
     "output_type": "stream",
     "text": [
      "Brazil     100.0\n",
      "China      950.0\n",
      "India     2270.0\n",
      "Japan       80.0\n",
      "USA        460.0\n",
      "dtype: float64\n"
     ]
    }
   ],
   "source": [
    "# Can fill NaN with any matching data type value\n",
    "print(sales_Q1.add(sales_Q2,fill_value=0))"
   ]
  },
  {
   "cell_type": "raw",
   "id": "0e816a91-219f-43b5-9be9-15c41a8bfe69",
   "metadata": {},
   "source": [
    "# if we decontruct dataFrame, we find multiple Series with same index an dif we deconstruct series, we find Arrays working "
   ]
  }
 ],
 "metadata": {
  "kernelspec": {
   "display_name": "Python 3 (ipykernel)",
   "language": "python",
   "name": "python3"
  },
  "language_info": {
   "codemirror_mode": {
    "name": "ipython",
    "version": 3
   },
   "file_extension": ".py",
   "mimetype": "text/x-python",
   "name": "python",
   "nbconvert_exporter": "python",
   "pygments_lexer": "ipython3",
   "version": "3.10.13"
  }
 },
 "nbformat": 4,
 "nbformat_minor": 5
}
