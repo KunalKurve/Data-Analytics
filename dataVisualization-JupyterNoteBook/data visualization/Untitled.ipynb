{
 "cells": [
  {
   "cell_type": "code",
   "execution_count": 2,
   "id": "7d3779bb",
   "metadata": {},
   "outputs": [
    {
     "name": "stdout",
     "output_type": "stream",
     "text": [
      "Hello world!\n",
      "0 1 2 3 4 "
     ]
    }
   ],
   "source": [
    "print(\"Hello world!\")\n",
    "for i in range(5):\n",
    "    print(i,sep=\",\",end=\" \")"
   ]
  },
  {
   "cell_type": "markdown",
   "id": "41a30b6c",
   "metadata": {},
   "source": [
    "<h1>This is title</h1>\n",
    "This is notes, written in jupyter notebook"
   ]
  },
  {
   "cell_type": "code",
   "execution_count": null,
   "id": "5c08884b",
   "metadata": {},
   "outputs": [],
   "source": []
  }
 ],
 "metadata": {
  "kernelspec": {
   "display_name": "Python 3 (ipykernel)",
   "language": "python",
   "name": "python3"
  },
  "language_info": {
   "codemirror_mode": {
    "name": "ipython",
    "version": 3
   },
   "file_extension": ".py",
   "mimetype": "text/x-python",
   "name": "python",
   "nbconvert_exporter": "python",
   "pygments_lexer": "ipython3",
   "version": "3.10.9"
  }
 },
 "nbformat": 4,
 "nbformat_minor": 5
}
