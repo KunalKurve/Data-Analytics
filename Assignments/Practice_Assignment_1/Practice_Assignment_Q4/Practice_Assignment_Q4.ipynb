{
 "cells": [
  {
   "cell_type": "raw",
   "id": "4002569e-4089-41bb-a612-14dabb7cf8a2",
   "metadata": {},
   "source": [
    "Question Number 4: The purchase analysis of walmart.\n",
    "a. What is the average Purchase Price?\n",
    "b. What were the highest and lowest purchase prices?\n",
    "c. How many people have English 'en' as their Language of choice on the website?\n",
    "d. What is the email of the person with the following Credit Card Number: 4926535242672853\n",
    "e. Someone made a purchase that came from Lot: \"90 WT\" , what was the Purchase Price for this     transaction?\n",
    "f. How many people have American Express as their Credit Card Provider and made a purchase above $95 ?\n",
    "g. How many people have a credit card that expires in 2025?\n",
    "h. What are the top 5 most popular email providers/hosts (e.g. gmail.com, yahoo.com, etc...) ?\n",
    "i. What are the 5 most common Job Titles?\n",
    "j. How many people made the purchase during morning and evening time?"
   ]
  },
  {
   "cell_type": "code",
   "execution_count": 1,
   "id": "92c1bec9-68c9-43db-be9a-18904e22d48f",
   "metadata": {},
   "outputs": [],
   "source": [
    "import pandas as pd\n",
    "import numpy as np\n",
    "import seaborn as sns\n",
    "import matplotlib.pyplot as plt"
   ]
  },
  {
   "cell_type": "code",
   "execution_count": 2,
   "id": "111d29e0-c534-4248-a0df-04506f1f85e9",
   "metadata": {},
   "outputs": [
    {
     "data": {
      "text/html": [
       "<div>\n",
       "<style scoped>\n",
       "    .dataframe tbody tr th:only-of-type {\n",
       "        vertical-align: middle;\n",
       "    }\n",
       "\n",
       "    .dataframe tbody tr th {\n",
       "        vertical-align: top;\n",
       "    }\n",
       "\n",
       "    .dataframe thead th {\n",
       "        text-align: right;\n",
       "    }\n",
       "</style>\n",
       "<table border=\"1\" class=\"dataframe\">\n",
       "  <thead>\n",
       "    <tr style=\"text-align: right;\">\n",
       "      <th></th>\n",
       "      <th>Address</th>\n",
       "      <th>Lot</th>\n",
       "      <th>AM or PM</th>\n",
       "      <th>Browser Info</th>\n",
       "      <th>Company</th>\n",
       "      <th>Credit Card</th>\n",
       "      <th>CC Exp Date</th>\n",
       "      <th>CC Security Code</th>\n",
       "      <th>CC Provider</th>\n",
       "      <th>Email</th>\n",
       "      <th>Job</th>\n",
       "      <th>IP Address</th>\n",
       "      <th>Language</th>\n",
       "      <th>Purchase Price</th>\n",
       "    </tr>\n",
       "  </thead>\n",
       "  <tbody>\n",
       "    <tr>\n",
       "      <th>0</th>\n",
       "      <td>16629 Pace Camp Apt. 448\\nAlexisborough, NE 77...</td>\n",
       "      <td>46 in</td>\n",
       "      <td>PM</td>\n",
       "      <td>Opera/9.56.(X11; Linux x86_64; sl-SI) Presto/2...</td>\n",
       "      <td>Martinez-Herman</td>\n",
       "      <td>6011929061123406</td>\n",
       "      <td>02/20</td>\n",
       "      <td>900</td>\n",
       "      <td>JCB 16 digit</td>\n",
       "      <td>pdunlap@yahoo.com</td>\n",
       "      <td>Scientist, product/process development</td>\n",
       "      <td>149.146.147.205</td>\n",
       "      <td>el</td>\n",
       "      <td>98.14</td>\n",
       "    </tr>\n",
       "    <tr>\n",
       "      <th>1</th>\n",
       "      <td>9374 Jasmine Spurs Suite 508\\nSouth John, TN 8...</td>\n",
       "      <td>28 rn</td>\n",
       "      <td>PM</td>\n",
       "      <td>Opera/8.93.(Windows 98; Win 9x 4.90; en-US) Pr...</td>\n",
       "      <td>Fletcher, Richards and Whitaker</td>\n",
       "      <td>3337758169645356</td>\n",
       "      <td>11/18</td>\n",
       "      <td>561</td>\n",
       "      <td>Mastercard</td>\n",
       "      <td>anthony41@reed.com</td>\n",
       "      <td>Drilling engineer</td>\n",
       "      <td>15.160.41.51</td>\n",
       "      <td>fr</td>\n",
       "      <td>70.73</td>\n",
       "    </tr>\n",
       "    <tr>\n",
       "      <th>2</th>\n",
       "      <td>Unit 0065 Box 5052\\nDPO AP 27450</td>\n",
       "      <td>94 vE</td>\n",
       "      <td>PM</td>\n",
       "      <td>Mozilla/5.0 (compatible; MSIE 9.0; Windows NT ...</td>\n",
       "      <td>Simpson, Williams and Pham</td>\n",
       "      <td>675957666125</td>\n",
       "      <td>08/19</td>\n",
       "      <td>699</td>\n",
       "      <td>JCB 16 digit</td>\n",
       "      <td>amymiller@morales-harrison.com</td>\n",
       "      <td>Customer service manager</td>\n",
       "      <td>132.207.160.22</td>\n",
       "      <td>de</td>\n",
       "      <td>0.95</td>\n",
       "    </tr>\n",
       "    <tr>\n",
       "      <th>3</th>\n",
       "      <td>7780 Julia Fords\\nNew Stacy, WA 45798</td>\n",
       "      <td>36 vm</td>\n",
       "      <td>PM</td>\n",
       "      <td>Mozilla/5.0 (Macintosh; Intel Mac OS X 10_8_0 ...</td>\n",
       "      <td>Williams, Marshall and Buchanan</td>\n",
       "      <td>6011578504430710</td>\n",
       "      <td>02/24</td>\n",
       "      <td>384</td>\n",
       "      <td>Discover</td>\n",
       "      <td>brent16@olson-robinson.info</td>\n",
       "      <td>Drilling engineer</td>\n",
       "      <td>30.250.74.19</td>\n",
       "      <td>es</td>\n",
       "      <td>78.04</td>\n",
       "    </tr>\n",
       "    <tr>\n",
       "      <th>4</th>\n",
       "      <td>23012 Munoz Drive Suite 337\\nNew Cynthia, TX 5...</td>\n",
       "      <td>20 IE</td>\n",
       "      <td>AM</td>\n",
       "      <td>Opera/9.58.(X11; Linux x86_64; it-IT) Presto/2...</td>\n",
       "      <td>Brown, Watson and Andrews</td>\n",
       "      <td>6011456623207998</td>\n",
       "      <td>10/25</td>\n",
       "      <td>678</td>\n",
       "      <td>Diners Club / Carte Blanche</td>\n",
       "      <td>christopherwright@gmail.com</td>\n",
       "      <td>Fine artist</td>\n",
       "      <td>24.140.33.94</td>\n",
       "      <td>es</td>\n",
       "      <td>77.82</td>\n",
       "    </tr>\n",
       "    <tr>\n",
       "      <th>...</th>\n",
       "      <td>...</td>\n",
       "      <td>...</td>\n",
       "      <td>...</td>\n",
       "      <td>...</td>\n",
       "      <td>...</td>\n",
       "      <td>...</td>\n",
       "      <td>...</td>\n",
       "      <td>...</td>\n",
       "      <td>...</td>\n",
       "      <td>...</td>\n",
       "      <td>...</td>\n",
       "      <td>...</td>\n",
       "      <td>...</td>\n",
       "      <td>...</td>\n",
       "    </tr>\n",
       "    <tr>\n",
       "      <th>9995</th>\n",
       "      <td>966 Castaneda Locks\\nWest Juliafurt, CO 96415</td>\n",
       "      <td>92 XI</td>\n",
       "      <td>PM</td>\n",
       "      <td>Mozilla/5.0 (Windows NT 5.1) AppleWebKit/5352 ...</td>\n",
       "      <td>Randall-Sloan</td>\n",
       "      <td>342945015358701</td>\n",
       "      <td>03/22</td>\n",
       "      <td>838</td>\n",
       "      <td>JCB 15 digit</td>\n",
       "      <td>iscott@wade-garner.com</td>\n",
       "      <td>Printmaker</td>\n",
       "      <td>29.73.197.114</td>\n",
       "      <td>it</td>\n",
       "      <td>82.21</td>\n",
       "    </tr>\n",
       "    <tr>\n",
       "      <th>9996</th>\n",
       "      <td>832 Curtis Dam Suite 785\\nNorth Edwardburgh, T...</td>\n",
       "      <td>41 JY</td>\n",
       "      <td>AM</td>\n",
       "      <td>Mozilla/5.0 (compatible; MSIE 9.0; Windows NT ...</td>\n",
       "      <td>Hale, Collins and Wilson</td>\n",
       "      <td>210033169205009</td>\n",
       "      <td>07/25</td>\n",
       "      <td>207</td>\n",
       "      <td>JCB 16 digit</td>\n",
       "      <td>mary85@hotmail.com</td>\n",
       "      <td>Energy engineer</td>\n",
       "      <td>121.133.168.51</td>\n",
       "      <td>pt</td>\n",
       "      <td>25.63</td>\n",
       "    </tr>\n",
       "    <tr>\n",
       "      <th>9997</th>\n",
       "      <td>Unit 4434 Box 6343\\nDPO AE 28026-0283</td>\n",
       "      <td>74 Zh</td>\n",
       "      <td>AM</td>\n",
       "      <td>Mozilla/5.0 (Macintosh; U; Intel Mac OS X 10_7...</td>\n",
       "      <td>Anderson Ltd</td>\n",
       "      <td>6011539787356311</td>\n",
       "      <td>05/21</td>\n",
       "      <td>1</td>\n",
       "      <td>VISA 16 digit</td>\n",
       "      <td>tyler16@gmail.com</td>\n",
       "      <td>Veterinary surgeon</td>\n",
       "      <td>156.210.0.254</td>\n",
       "      <td>el</td>\n",
       "      <td>83.98</td>\n",
       "    </tr>\n",
       "    <tr>\n",
       "      <th>9998</th>\n",
       "      <td>0096 English Rest\\nRoystad, IA 12457</td>\n",
       "      <td>74 cL</td>\n",
       "      <td>PM</td>\n",
       "      <td>Mozilla/5.0 (Macintosh; Intel Mac OS X 10_8_8;...</td>\n",
       "      <td>Cook Inc</td>\n",
       "      <td>180003348082930</td>\n",
       "      <td>11/17</td>\n",
       "      <td>987</td>\n",
       "      <td>American Express</td>\n",
       "      <td>elizabethmoore@reid.net</td>\n",
       "      <td>Local government officer</td>\n",
       "      <td>55.78.26.143</td>\n",
       "      <td>es</td>\n",
       "      <td>38.84</td>\n",
       "    </tr>\n",
       "    <tr>\n",
       "      <th>9999</th>\n",
       "      <td>40674 Barrett Stravenue\\nGrimesville, WI 79682</td>\n",
       "      <td>64 Hr</td>\n",
       "      <td>AM</td>\n",
       "      <td>Mozilla/5.0 (X11; Linux i686; rv:1.9.5.20) Gec...</td>\n",
       "      <td>Greene Inc</td>\n",
       "      <td>4139972901927273</td>\n",
       "      <td>02/19</td>\n",
       "      <td>302</td>\n",
       "      <td>JCB 15 digit</td>\n",
       "      <td>rachelford@vaughn.com</td>\n",
       "      <td>Embryologist, clinical</td>\n",
       "      <td>176.119.198.199</td>\n",
       "      <td>el</td>\n",
       "      <td>67.59</td>\n",
       "    </tr>\n",
       "  </tbody>\n",
       "</table>\n",
       "<p>10000 rows × 14 columns</p>\n",
       "</div>"
      ],
      "text/plain": [
       "                                                Address    Lot AM or PM  \\\n",
       "0     16629 Pace Camp Apt. 448\\nAlexisborough, NE 77...  46 in       PM   \n",
       "1     9374 Jasmine Spurs Suite 508\\nSouth John, TN 8...  28 rn       PM   \n",
       "2                      Unit 0065 Box 5052\\nDPO AP 27450  94 vE       PM   \n",
       "3                 7780 Julia Fords\\nNew Stacy, WA 45798  36 vm       PM   \n",
       "4     23012 Munoz Drive Suite 337\\nNew Cynthia, TX 5...  20 IE       AM   \n",
       "...                                                 ...    ...      ...   \n",
       "9995      966 Castaneda Locks\\nWest Juliafurt, CO 96415  92 XI       PM   \n",
       "9996  832 Curtis Dam Suite 785\\nNorth Edwardburgh, T...  41 JY       AM   \n",
       "9997              Unit 4434 Box 6343\\nDPO AE 28026-0283  74 Zh       AM   \n",
       "9998               0096 English Rest\\nRoystad, IA 12457  74 cL       PM   \n",
       "9999     40674 Barrett Stravenue\\nGrimesville, WI 79682  64 Hr       AM   \n",
       "\n",
       "                                           Browser Info  \\\n",
       "0     Opera/9.56.(X11; Linux x86_64; sl-SI) Presto/2...   \n",
       "1     Opera/8.93.(Windows 98; Win 9x 4.90; en-US) Pr...   \n",
       "2     Mozilla/5.0 (compatible; MSIE 9.0; Windows NT ...   \n",
       "3     Mozilla/5.0 (Macintosh; Intel Mac OS X 10_8_0 ...   \n",
       "4     Opera/9.58.(X11; Linux x86_64; it-IT) Presto/2...   \n",
       "...                                                 ...   \n",
       "9995  Mozilla/5.0 (Windows NT 5.1) AppleWebKit/5352 ...   \n",
       "9996  Mozilla/5.0 (compatible; MSIE 9.0; Windows NT ...   \n",
       "9997  Mozilla/5.0 (Macintosh; U; Intel Mac OS X 10_7...   \n",
       "9998  Mozilla/5.0 (Macintosh; Intel Mac OS X 10_8_8;...   \n",
       "9999  Mozilla/5.0 (X11; Linux i686; rv:1.9.5.20) Gec...   \n",
       "\n",
       "                              Company       Credit Card CC Exp Date  \\\n",
       "0                     Martinez-Herman  6011929061123406       02/20   \n",
       "1     Fletcher, Richards and Whitaker  3337758169645356       11/18   \n",
       "2          Simpson, Williams and Pham      675957666125       08/19   \n",
       "3     Williams, Marshall and Buchanan  6011578504430710       02/24   \n",
       "4           Brown, Watson and Andrews  6011456623207998       10/25   \n",
       "...                               ...               ...         ...   \n",
       "9995                    Randall-Sloan   342945015358701       03/22   \n",
       "9996         Hale, Collins and Wilson   210033169205009       07/25   \n",
       "9997                     Anderson Ltd  6011539787356311       05/21   \n",
       "9998                         Cook Inc   180003348082930       11/17   \n",
       "9999                       Greene Inc  4139972901927273       02/19   \n",
       "\n",
       "      CC Security Code                  CC Provider  \\\n",
       "0                  900                 JCB 16 digit   \n",
       "1                  561                   Mastercard   \n",
       "2                  699                 JCB 16 digit   \n",
       "3                  384                     Discover   \n",
       "4                  678  Diners Club / Carte Blanche   \n",
       "...                ...                          ...   \n",
       "9995               838                 JCB 15 digit   \n",
       "9996               207                 JCB 16 digit   \n",
       "9997                 1                VISA 16 digit   \n",
       "9998               987             American Express   \n",
       "9999               302                 JCB 15 digit   \n",
       "\n",
       "                               Email                                     Job  \\\n",
       "0                  pdunlap@yahoo.com  Scientist, product/process development   \n",
       "1                 anthony41@reed.com                       Drilling engineer   \n",
       "2     amymiller@morales-harrison.com                Customer service manager   \n",
       "3        brent16@olson-robinson.info                       Drilling engineer   \n",
       "4        christopherwright@gmail.com                             Fine artist   \n",
       "...                              ...                                     ...   \n",
       "9995          iscott@wade-garner.com                              Printmaker   \n",
       "9996              mary85@hotmail.com                         Energy engineer   \n",
       "9997               tyler16@gmail.com                      Veterinary surgeon   \n",
       "9998         elizabethmoore@reid.net                Local government officer   \n",
       "9999           rachelford@vaughn.com                  Embryologist, clinical   \n",
       "\n",
       "           IP Address Language  Purchase Price  \n",
       "0     149.146.147.205       el           98.14  \n",
       "1        15.160.41.51       fr           70.73  \n",
       "2      132.207.160.22       de            0.95  \n",
       "3        30.250.74.19       es           78.04  \n",
       "4        24.140.33.94       es           77.82  \n",
       "...               ...      ...             ...  \n",
       "9995    29.73.197.114       it           82.21  \n",
       "9996   121.133.168.51       pt           25.63  \n",
       "9997    156.210.0.254       el           83.98  \n",
       "9998     55.78.26.143       es           38.84  \n",
       "9999  176.119.198.199       el           67.59  \n",
       "\n",
       "[10000 rows x 14 columns]"
      ]
     },
     "execution_count": 2,
     "metadata": {},
     "output_type": "execute_result"
    }
   ],
   "source": [
    "df = pd.read_csv(\"walmart_purchase_data.csv\")\n",
    "df"
   ]
  },
  {
   "cell_type": "markdown",
   "id": "16f8e3a7-2f8c-41c1-a522-f593a54256f4",
   "metadata": {},
   "source": [
    "a. What is the average Purchase Price?"
   ]
  },
  {
   "cell_type": "code",
   "execution_count": 5,
   "id": "ca1957d0-a0a4-4689-86f6-7ebee62af1d4",
   "metadata": {},
   "outputs": [
    {
     "name": "stdout",
     "output_type": "stream",
     "text": [
      "Average Purchase Price: 50.347302\n"
     ]
    }
   ],
   "source": [
    "avg_PP = df[\"Purchase Price\"].mean()\n",
    "print(\"Average Purchase Price:\",avg_PP)"
   ]
  },
  {
   "cell_type": "raw",
   "id": "942345a1-f61f-4c81-b472-33d9d1e4b0b5",
   "metadata": {},
   "source": [
    "b. What were the highest and lowest purchase prices?"
   ]
  },
  {
   "cell_type": "code",
   "execution_count": 6,
   "id": "80da76e8-963c-4869-b0bf-bbcc6913e571",
   "metadata": {},
   "outputs": [
    {
     "name": "stdout",
     "output_type": "stream",
     "text": [
      "Lowest Purchase Price: 0.0\n",
      "Highest Purchase Price: 99.99\n"
     ]
    }
   ],
   "source": [
    "min_PP = df[\"Purchase Price\"].min()\n",
    "print(\"Lowest Purchase Price:\",min_PP)\n",
    "\n",
    "max_PP = df[\"Purchase Price\"].max()\n",
    "print(\"Highest Purchase Price:\",max_PP)"
   ]
  },
  {
   "cell_type": "raw",
   "id": "f58c266e-6a62-4fdf-b7d3-0d66cbab08b9",
   "metadata": {},
   "source": [
    "c. How many people have English 'en' as their Language of choice on the website?"
   ]
  },
  {
   "cell_type": "code",
   "execution_count": 7,
   "id": "a04b801b-d76f-49b4-a59c-ed084efda134",
   "metadata": {},
   "outputs": [
    {
     "name": "stdout",
     "output_type": "stream",
     "text": [
      "English Count: 1098\n"
     ]
    }
   ],
   "source": [
    "count_english = df[\"Language\"].value_counts()[\"en\"]\n",
    "print(\"English Count:\",count_english)"
   ]
  },
  {
   "cell_type": "raw",
   "id": "091158fb-b0b0-4c69-b036-2d268615c53d",
   "metadata": {},
   "source": [
    "d. What is the email of the person with the following Credit Card Number: 4926535242672853"
   ]
  },
  {
   "cell_type": "code",
   "execution_count": 8,
   "id": "f51087b2-832c-4d81-8b16-fcb6aad89ce8",
   "metadata": {},
   "outputs": [
    {
     "name": "stdout",
     "output_type": "stream",
     "text": [
      "Email of given CC Number: bondellen@williams-garza.com\n"
     ]
    }
   ],
   "source": [
    "email = df[df[\"Credit Card\"] == 4926535242672853][\"Email\"].values[0]\n",
    "print(\"Email of given CC Number:\",email)"
   ]
  },
  {
   "cell_type": "raw",
   "id": "05c5ef24-c55c-48e9-a106-097582a1866e",
   "metadata": {},
   "source": [
    "e. Someone made a purchase that came from Lot: \"90 WT\" , what was the Purchase Price for this     transaction?"
   ]
  },
  {
   "cell_type": "code",
   "execution_count": 9,
   "id": "b10f1cd0-e907-4c63-b568-9ae44ecf5a4c",
   "metadata": {},
   "outputs": [
    {
     "name": "stdout",
     "output_type": "stream",
     "text": [
      "Purchase Price: 75.1\n"
     ]
    }
   ],
   "source": [
    "pp = df[df[\"Lot\"] == \"90 WT\"][\"Purchase Price\"].values[0]\n",
    "print(\"Purchase Price:\",pp)"
   ]
  },
  {
   "cell_type": "raw",
   "id": "94afdab5-f85b-4d36-80f0-939081224879",
   "metadata": {},
   "source": [
    "f. How many people have American Express as their Credit Card Provider and made a purchase above $95 ?"
   ]
  },
  {
   "cell_type": "code",
   "execution_count": 14,
   "id": "1e436cfb-37e0-48d4-9484-625d67406ba1",
   "metadata": {},
   "outputs": [
    {
     "name": "stdout",
     "output_type": "stream",
     "text": [
      "People Count 39\n"
     ]
    },
    {
     "data": {
      "text/plain": [
       "array(['02/20', '11/18', '08/19', '02/24', '10/25', '07/25', '07/24',\n",
       "       '06/25', '04/24', '01/17', '02/17', '06/26', '05/26', '01/25',\n",
       "       '09/22', '04/25', '06/22', '01/26', '12/22', '03/22', '03/25',\n",
       "       '07/22', '02/23', '07/18', '05/19', '03/19', '12/16', '11/24',\n",
       "       '04/17', '01/20', '05/25', '01/21', '09/16', '09/20', '06/18',\n",
       "       '12/20', '02/19', '08/20', '04/23', '08/24', '03/26', '05/24',\n",
       "       '10/17', '08/17', '11/23', '09/19', '02/26', '01/24', '10/20',\n",
       "       '05/20', '09/25', '11/21', '06/21', '07/23', '03/21', '12/23',\n",
       "       '11/22', '01/18', '08/22', '08/25', '05/21', '06/17', '10/19',\n",
       "       '01/22', '11/25', '08/23', '02/18', '12/24', '04/18', '02/25',\n",
       "       '10/16', '07/17', '06/20', '08/18', '10/18', '09/21', '03/23',\n",
       "       '03/24', '11/20', '06/19', '07/21', '10/24', '09/17', '09/18',\n",
       "       '05/22', '12/19', '07/19', '01/23', '10/22', '11/16', '07/20',\n",
       "       '12/25', '10/21', '05/17', '01/19', '02/22', '10/23', '03/20',\n",
       "       '12/21', '11/19', '09/23', '02/21', '06/23', '11/17', '03/17',\n",
       "       '04/21', '09/24', '06/24', '05/23', '07/26', '04/22', '08/16',\n",
       "       '04/19', '12/18', '12/17', '03/18', '08/21', '05/18', '04/26',\n",
       "       '08/26', '04/20'], dtype=object)"
      ]
     },
     "execution_count": 14,
     "metadata": {},
     "output_type": "execute_result"
    }
   ],
   "source": [
    "people_count = df[(df[\"CC Provider\"] == \"American Express\") & (df[\"Purchase Price\"] > 95)].count()[1]\n",
    "print(\"People Count\",people_count)\n",
    "df[\"CC Exp Date\"].unique()"
   ]
  },
  {
   "cell_type": "raw",
   "id": "a7289a3f-fae8-4eca-8961-e8b2cf38c3ae",
   "metadata": {},
   "source": [
    "g. How many people have a credit card that expires in 2025?"
   ]
  },
  {
   "cell_type": "code",
   "execution_count": 15,
   "id": "53639f2b-4d12-40e3-843a-9556d19e9105",
   "metadata": {},
   "outputs": [
    {
     "name": "stdout",
     "output_type": "stream",
     "text": [
      "People have a credit card that expires in 2025: 1033\n"
     ]
    }
   ],
   "source": [
    "people_cc = df[\"CC Exp Date\"].str.split(\"/\").str[1].value_counts()[\"25\"]\n",
    "print(\"People have a credit card that expires in 2025:\", people_cc)"
   ]
  },
  {
   "cell_type": "raw",
   "id": "e27576bd-fc9c-40ed-baec-00c48c0c31e4",
   "metadata": {},
   "source": [
    "h. What are the top 5 most popular email providers/hosts (e.g. gmail.com, yahoo.com, etc...) ?"
   ]
  },
  {
   "cell_type": "code",
   "execution_count": 19,
   "id": "de6a1a60-03b6-4188-9f75-aa47b62c9f6f",
   "metadata": {},
   "outputs": [
    {
     "name": "stdout",
     "output_type": "stream",
     "text": [
      "Top 5 most popular Email List:\n",
      "hotmail.com     1638\n",
      "yahoo.com       1616\n",
      "gmail.com       1605\n",
      "smith.com         42\n",
      "williams.com      37\n",
      "Name: Email, dtype: int64\n"
     ]
    }
   ],
   "source": [
    "email_lst = df[\"Email\"].apply(lambda x: x.split('@')[1]).value_counts().head()\n",
    "print(\"Top 5 most popular Email List:\")\n",
    "print(email_lst)"
   ]
  },
  {
   "cell_type": "raw",
   "id": "f955b087-1e90-4cb5-9840-2356c16990a4",
   "metadata": {},
   "source": [
    "i. What are the 5 most common Job Titles?"
   ]
  },
  {
   "cell_type": "code",
   "execution_count": 20,
   "id": "05ef2424-a573-414f-bb4f-e205fc606401",
   "metadata": {},
   "outputs": [
    {
     "name": "stdout",
     "output_type": "stream",
     "text": [
      "Top 5 most common Job List:\n",
      "Interior and spatial designer    31\n",
      "Lawyer                           30\n",
      "Social researcher                28\n",
      "Purchasing manager               27\n",
      "Designer, jewellery              27\n",
      "Name: Job, dtype: int64\n"
     ]
    }
   ],
   "source": [
    "job_lst = df[\"Job\"].value_counts().head()\n",
    "print(\"Top 5 most common Job List:\")\n",
    "print(job_lst)"
   ]
  },
  {
   "cell_type": "raw",
   "id": "acb39312-9bfb-4ef3-9cc1-429c7bb83d1e",
   "metadata": {},
   "source": [
    "j. How many people made the purchase during morning and evening time?"
   ]
  },
  {
   "cell_type": "code",
   "execution_count": 22,
   "id": "f94a5ae0-7f18-4e6c-896c-e509d626a1a1",
   "metadata": {},
   "outputs": [
    {
     "name": "stdout",
     "output_type": "stream",
     "text": [
      "People made the purchase during morning and evening time:\n",
      "PM    5068\n",
      "AM    4932\n",
      "Name: AM or PM, dtype: int64\n"
     ]
    }
   ],
   "source": [
    "people_lst = df[\"AM or PM\"].value_counts()\n",
    "print(\"People made the purchase during morning and evening time:\")\n",
    "print(people_lst)"
   ]
  },
  {
   "cell_type": "code",
   "execution_count": null,
   "id": "f1ecb511-01a8-412f-9722-506d4aeb3b2a",
   "metadata": {},
   "outputs": [],
   "source": []
  }
 ],
 "metadata": {
  "kernelspec": {
   "display_name": "Python 3 (ipykernel)",
   "language": "python",
   "name": "python3"
  },
  "language_info": {
   "codemirror_mode": {
    "name": "ipython",
    "version": 3
   },
   "file_extension": ".py",
   "mimetype": "text/x-python",
   "name": "python",
   "nbconvert_exporter": "python",
   "pygments_lexer": "ipython3",
   "version": "3.10.13"
  }
 },
 "nbformat": 4,
 "nbformat_minor": 5
}
