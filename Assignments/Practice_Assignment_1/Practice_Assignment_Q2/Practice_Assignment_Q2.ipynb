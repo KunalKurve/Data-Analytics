{
 "cells": [
  {
   "cell_type": "markdown",
   "id": "0401d3be-0dab-458e-ab72-9cb24ab9dc13",
   "metadata": {},
   "source": [
    "a. Create a Matrix between 0 and 1, with each value difference of 0.01."
   ]
  },
  {
   "cell_type": "code",
   "execution_count": 7,
   "id": "e59890f0-4455-41c7-88da-c475b2dd6ba5",
   "metadata": {},
   "outputs": [
    {
     "name": "stdout",
     "output_type": "stream",
     "text": [
      "[0.   0.01 0.02 0.03 0.04 0.05 0.06 0.07 0.08 0.09 0.1  0.11 0.12 0.13\n",
      " 0.14 0.15 0.16 0.17 0.18 0.19 0.2  0.21 0.22 0.23 0.24 0.25 0.26 0.27\n",
      " 0.28 0.29 0.3  0.31 0.32 0.33 0.34 0.35 0.36 0.37 0.38 0.39 0.4  0.41\n",
      " 0.42 0.43 0.44 0.45 0.46 0.47 0.48 0.49 0.5  0.51 0.52 0.53 0.54 0.55\n",
      " 0.56 0.57 0.58 0.59 0.6  0.61 0.62 0.63 0.64 0.65 0.66 0.67 0.68 0.69\n",
      " 0.7  0.71 0.72 0.73 0.74 0.75 0.76 0.77 0.78 0.79 0.8  0.81 0.82 0.83\n",
      " 0.84 0.85 0.86 0.87 0.88 0.89 0.9  0.91 0.92 0.93 0.94 0.95 0.96 0.97\n",
      " 0.98 0.99 1.  ]\n"
     ]
    }
   ],
   "source": [
    "import numpy as np\n",
    "\n",
    "matrix = np.arange(0, 1.01, 0.01)\n",
    "\n",
    "print(matrix)"
   ]
  },
  {
   "cell_type": "markdown",
   "id": "d00e57b7-fae3-445a-bb4b-bd8384c7ac21",
   "metadata": {},
   "source": [
    "b. Create an array of 20 linearly spaced points between 0 and 1."
   ]
  },
  {
   "cell_type": "code",
   "execution_count": 9,
   "id": "3f8d59fd-13e7-4c27-94be-2bf5611a9c4b",
   "metadata": {},
   "outputs": [
    {
     "name": "stdout",
     "output_type": "stream",
     "text": [
      "[0.         0.05263158 0.10526316 0.15789474 0.21052632 0.26315789\n",
      " 0.31578947 0.36842105 0.42105263 0.47368421 0.52631579 0.57894737\n",
      " 0.63157895 0.68421053 0.73684211 0.78947368 0.84210526 0.89473684\n",
      " 0.94736842 1.        ]\n"
     ]
    }
   ],
   "source": [
    "import numpy as np\n",
    "\n",
    "array = np.linspace(0, 1, 20)\n",
    "\n",
    "print(array)"
   ]
  },
  {
   "cell_type": "markdown",
   "id": "68a43089-2cbe-4b97-8809-1716c000ba8a",
   "metadata": {},
   "source": [
    "c. Create a 5*5 matrix using range 1 to 26, and return sum of the matrix, standard deviation and sum of all the columns of the matrix."
   ]
  },
  {
   "cell_type": "code",
   "execution_count": 17,
   "id": "f56fcdcf-3149-40f4-88ec-5ae500237eb2",
   "metadata": {},
   "outputs": [
    {
     "name": "stdout",
     "output_type": "stream",
     "text": [
      "Matrix:\n",
      "[[ 1  2  3  4  5]\n",
      " [ 6  7  8  9 10]\n",
      " [11 12 13 14 15]\n",
      " [16 17 18 19 20]\n",
      " [21 22 23 24 25]]\n",
      "\n",
      "Matrix Sum: 325\n",
      "Standard Deviation: 7.211102550927978\n",
      "Sum of all the columns of the matrix: [55 60 65 70 75]\n"
     ]
    }
   ],
   "source": [
    "import numpy as np\n",
    "\n",
    "matrix = np.arange(1, 26).reshape(5, 5)\n",
    "print(\"Matrix:\")\n",
    "print(matrix)\n",
    "\n",
    "matrix_sum = np.sum(matrix)\n",
    "print(\"\\nMatrix Sum:\",matrix_sum)\n",
    "\n",
    "matrix_std = np.std(matrix)\n",
    "print(\"Standard Deviation:\",matrix_std)\n",
    "\n",
    "column_sums = np.sum(matrix, axis = 0)\n",
    "print(\"Sum of all the columns of the matrix:\",column_sums)"
   ]
  },
  {
   "cell_type": "code",
   "execution_count": null,
   "id": "be7c6017-ab35-4a1e-837c-9eb4340fee52",
   "metadata": {},
   "outputs": [],
   "source": []
  }
 ],
 "metadata": {
  "kernelspec": {
   "display_name": "Python 3 (ipykernel)",
   "language": "python",
   "name": "python3"
  },
  "language_info": {
   "codemirror_mode": {
    "name": "ipython",
    "version": 3
   },
   "file_extension": ".py",
   "mimetype": "text/x-python",
   "name": "python",
   "nbconvert_exporter": "python",
   "pygments_lexer": "ipython3",
   "version": "3.10.13"
  }
 },
 "nbformat": 4,
 "nbformat_minor": 5
}
