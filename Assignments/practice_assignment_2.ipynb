{
 "cells": [
  {
   "cell_type": "markdown",
   "metadata": {},
   "source": [
    "Question Number 2:\n",
    "\n",
    "a. Create a Matrix between 0 and 1, with each value difference of 0.01.\n",
    "b. Create an array of 20 linearly spaced points between 0 and 1.\n",
    "c. Create a 5*5 matrix using range 1 to 26, and return sum of the matrix, standard\n",
    "deviation and sum of all the columns of the matrix."
   ]
  },
  {
   "cell_type": "code",
   "execution_count": 1,
   "metadata": {},
   "outputs": [],
   "source": [
    "import numpy as np"
   ]
  },
  {
   "cell_type": "code",
   "execution_count": 2,
   "metadata": {},
   "outputs": [
    {
     "name": "stdout",
     "output_type": "stream",
     "text": [
      "Matrix A:\n",
      " [[0.  ]\n",
      " [0.01]\n",
      " [0.02]\n",
      " [0.03]\n",
      " [0.04]\n",
      " [0.05]\n",
      " [0.06]\n",
      " [0.07]\n",
      " [0.08]\n",
      " [0.09]\n",
      " [0.1 ]\n",
      " [0.11]\n",
      " [0.12]\n",
      " [0.13]\n",
      " [0.14]\n",
      " [0.15]\n",
      " [0.16]\n",
      " [0.17]\n",
      " [0.18]\n",
      " [0.19]\n",
      " [0.2 ]\n",
      " [0.21]\n",
      " [0.22]\n",
      " [0.23]\n",
      " [0.24]\n",
      " [0.25]\n",
      " [0.26]\n",
      " [0.27]\n",
      " [0.28]\n",
      " [0.29]\n",
      " [0.3 ]\n",
      " [0.31]\n",
      " [0.32]\n",
      " [0.33]\n",
      " [0.34]\n",
      " [0.35]\n",
      " [0.36]\n",
      " [0.37]\n",
      " [0.38]\n",
      " [0.39]\n",
      " [0.4 ]\n",
      " [0.41]\n",
      " [0.42]\n",
      " [0.43]\n",
      " [0.44]\n",
      " [0.45]\n",
      " [0.46]\n",
      " [0.47]\n",
      " [0.48]\n",
      " [0.49]\n",
      " [0.5 ]\n",
      " [0.51]\n",
      " [0.52]\n",
      " [0.53]\n",
      " [0.54]\n",
      " [0.55]\n",
      " [0.56]\n",
      " [0.57]\n",
      " [0.58]\n",
      " [0.59]\n",
      " [0.6 ]\n",
      " [0.61]\n",
      " [0.62]\n",
      " [0.63]\n",
      " [0.64]\n",
      " [0.65]\n",
      " [0.66]\n",
      " [0.67]\n",
      " [0.68]\n",
      " [0.69]\n",
      " [0.7 ]\n",
      " [0.71]\n",
      " [0.72]\n",
      " [0.73]\n",
      " [0.74]\n",
      " [0.75]\n",
      " [0.76]\n",
      " [0.77]\n",
      " [0.78]\n",
      " [0.79]\n",
      " [0.8 ]\n",
      " [0.81]\n",
      " [0.82]\n",
      " [0.83]\n",
      " [0.84]\n",
      " [0.85]\n",
      " [0.86]\n",
      " [0.87]\n",
      " [0.88]\n",
      " [0.89]\n",
      " [0.9 ]\n",
      " [0.91]\n",
      " [0.92]\n",
      " [0.93]\n",
      " [0.94]\n",
      " [0.95]\n",
      " [0.96]\n",
      " [0.97]\n",
      " [0.98]\n",
      " [0.99]\n",
      " [1.  ]]\n"
     ]
    }
   ],
   "source": [
    "\n",
    "# a. Create a Matrix between 0 and 1, with each value difference of 0.01.\n",
    "matrix_a = np.arange(0, 1.01, 0.01).reshape(-1, 1)\n",
    "print(\"Matrix A:\\n\", matrix_a)\n",
    "\n"
   ]
  },
  {
   "cell_type": "code",
   "execution_count": 3,
   "metadata": {},
   "outputs": [
    {
     "name": "stdout",
     "output_type": "stream",
     "text": [
      "\n",
      "Array B:\n",
      " [0.         0.05263158 0.10526316 0.15789474 0.21052632 0.26315789\n",
      " 0.31578947 0.36842105 0.42105263 0.47368421 0.52631579 0.57894737\n",
      " 0.63157895 0.68421053 0.73684211 0.78947368 0.84210526 0.89473684\n",
      " 0.94736842 1.        ]\n"
     ]
    }
   ],
   "source": [
    "# b. Create an array of 20 linearly spaced points between 0 and 1.\n",
    "array_b = np.linspace(0, 1, 20)\n",
    "print(\"\\nArray B:\\n\", array_b)"
   ]
  },
  {
   "cell_type": "code",
   "execution_count": 4,
   "metadata": {},
   "outputs": [
    {
     "name": "stdout",
     "output_type": "stream",
     "text": [
      "\n",
      "Matrix C:\n",
      " [[ 1  2  3  4  5]\n",
      " [ 6  7  8  9 10]\n",
      " [11 12 13 14 15]\n",
      " [16 17 18 19 20]\n",
      " [21 22 23 24 25]]\n"
     ]
    }
   ],
   "source": [
    "# c. Create a 5*5 matrix using range 1 to 26\n",
    "matrix_c = np.arange(1, 26).reshape(5, 5)\n",
    "print(\"\\nMatrix C:\\n\", matrix_c)"
   ]
  },
  {
   "cell_type": "code",
   "execution_count": 5,
   "metadata": {},
   "outputs": [
    {
     "name": "stdout",
     "output_type": "stream",
     "text": [
      "\n",
      "Sum of Matrix C: 325\n",
      "\n",
      "Standard Deviation of Matrix C: 7.211102550927978\n",
      "\n",
      "Sum of Columns of Matrix C: [55 60 65 70 75]\n"
     ]
    }
   ],
   "source": [
    "# Return sum of the matrix\n",
    "sum_matrix_c = np.sum(matrix_c)\n",
    "print(\"\\nSum of Matrix C:\", sum_matrix_c)\n",
    "\n",
    "# Standard deviation of the matrix\n",
    "std_dev_matrix_c = np.std(matrix_c)\n",
    "print(\"\\nStandard Deviation of Matrix C:\", std_dev_matrix_c)\n",
    "\n",
    "# Sum of all the columns of the matrix\n",
    "sum_columns_matrix_c = np.sum(matrix_c, axis=0)\n",
    "print(\"\\nSum of Columns of Matrix C:\", sum_columns_matrix_c)"
   ]
  }
 ],
 "metadata": {
  "kernelspec": {
   "display_name": "test_env",
   "language": "python",
   "name": "python3"
  },
  "language_info": {
   "codemirror_mode": {
    "name": "ipython",
    "version": 3
   },
   "file_extension": ".py",
   "mimetype": "text/x-python",
   "name": "python",
   "nbconvert_exporter": "python",
   "pygments_lexer": "ipython3",
   "version": "3.12.2"
  }
 },
 "nbformat": 4,
 "nbformat_minor": 2
}
