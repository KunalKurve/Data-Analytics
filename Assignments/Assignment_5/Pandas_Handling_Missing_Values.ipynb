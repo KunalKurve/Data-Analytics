{
 "cells": [
  {
   "cell_type": "code",
   "execution_count": 1,
   "id": "18592081-4530-4f61-a969-6f8e9f7e8eeb",
   "metadata": {},
   "outputs": [],
   "source": [
    "import numpy as np\n",
    "import pandas as pd"
   ]
  },
  {
   "cell_type": "raw",
   "id": "5934d4ca-661c-4dc6-889c-5c6e69aa2fb0",
   "metadata": {},
   "source": [
    "1. Write a Pandas program to detect missing values of a given DataFrame.\n",
    "   Display True or False."
   ]
  },
  {
   "cell_type": "code",
   "execution_count": 7,
   "id": "a452a022-dec5-429f-af8f-3c1347311ec8",
   "metadata": {},
   "outputs": [
    {
     "name": "stdout",
     "output_type": "stream",
     "text": [
      "     ord_no  purch_amt    ord_date  customer_id  salesman_id\n",
      "0   70001.0     150.50  2012-10-05         3002       5002.0\n",
      "1       NaN     270.65  2012-09-10         3001       5003.0\n",
      "2   70002.0      65.26         NaN         3001       5001.0\n",
      "3   70004.0     110.50  2012-08-17         3003          NaN\n",
      "4       NaN     948.50  2012-09-10         3002       5002.0\n",
      "5   70005.0    2400.60  2012-07-27         3001       5001.0\n",
      "6       NaN    5760.00  2012-09-10         3001       5001.0\n",
      "7   70010.0    1983.43  2012-10-10         3004          NaN\n",
      "8   70003.0    2480.40  2012-10-10         3003       5003.0\n",
      "9   70012.0     250.45  2012-06-27         3002       5002.0\n",
      "10      NaN      75.29  2012-08-17         3001       5003.0\n",
      "11  70013.0    3045.60  2012-04-25         3001          NaN\n",
      "\n",
      "Missing Values- True/False\n",
      "\n",
      "    ord_no  purch_amt  ord_date  customer_id  salesman_id\n",
      "0    False      False     False        False        False\n",
      "1     True      False     False        False        False\n",
      "2    False      False      True        False        False\n",
      "3    False      False     False        False         True\n",
      "4     True      False     False        False        False\n",
      "5    False      False     False        False        False\n",
      "6     True      False     False        False        False\n",
      "7    False      False     False        False         True\n",
      "8    False      False     False        False        False\n",
      "9    False      False     False        False        False\n",
      "10    True      False     False        False        False\n",
      "11   False      False     False        False         True\n"
     ]
    }
   ],
   "source": [
    "column = ['ord_no', 'purch_amt', 'ord_date', 'customer_id', 'salesman_id']\n",
    "data = [\n",
    "    [70001.0, 150.50, '2012-10-05', 3002, 5002.0],\n",
    "    [np.nan, 270.65, '2012-09-10', 3001, 5003.0],\n",
    "    [70002.0, 65.26, np.nan, 3001, 5001.0],\n",
    "    [70004.0, 110.50, '2012-08-17', 3003, np.nan],\n",
    "    [np.nan, 948.50, '2012-09-10', 3002, 5002.0],\n",
    "    [70005.0, 2400.60, '2012-07-27', 3001, 5001.0],\n",
    "    [np.nan, 5760.00, '2012-09-10', 3001, 5001.0],\n",
    "    [70010.0, 1983.43, '2012-10-10', 3004, np.nan],\n",
    "    [70003.0, 2480.40, '2012-10-10', 3003, 5003.0],\n",
    "    [70012.0, 250.45, '2012-06-27', 3002, 5002.0],\n",
    "    [np.nan, 75.29, '2012-08-17', 3001, 5003.0],\n",
    "    [70013.0, 3045.60, '2012-04-25', 3001, np.nan]\n",
    "]\n",
    "df = pd.DataFrame(data, columns = column)\n",
    "\n",
    "print(df)\n",
    "\n",
    "missing_values = df.isnull()\n",
    "print(\"\\nMissing Values- True/False\\n\")\n",
    "print(missing_values)"
   ]
  },
  {
   "cell_type": "raw",
   "id": "447476d2-a772-44bf-851d-7450eea6c6b9",
   "metadata": {},
   "source": [
    "2. Write a Pandas program to identify the column(s) of a given DataFrame which have at least one missing value."
   ]
  },
  {
   "cell_type": "code",
   "execution_count": 9,
   "id": "e355ea9c-3c73-4536-be79-1c81a6eb8871",
   "metadata": {},
   "outputs": [
    {
     "name": "stdout",
     "output_type": "stream",
     "text": [
      "     ord_no  purch_amt    ord_date  customer_id  salesman_id\n",
      "0   70001.0     150.50  2012-10-05         3002       5002.0\n",
      "1       NaN     270.65  2012-09-10         3001       5003.0\n",
      "2   70002.0      65.26         NaN         3001       5001.0\n",
      "3   70004.0     110.50  2012-08-17         3003          NaN\n",
      "4       NaN     948.50  2012-09-10         3002       5002.0\n",
      "5   70005.0    2400.60  2012-07-27         3001       5001.0\n",
      "6       NaN    5760.00  2012-09-10         3001       5001.0\n",
      "7   70010.0    1983.43  2012-10-10         3004          NaN\n",
      "8   70003.0    2480.40  2012-10-10         3003       5003.0\n",
      "9   70012.0     250.45  2012-06-27         3002       5002.0\n",
      "10      NaN      75.29  2012-08-17         3001       5003.0\n",
      "11  70013.0    3045.60  2012-04-25         3001          NaN\n",
      "\n",
      "Missing Values in columns\n",
      "\n",
      "Index(['ord_no', 'ord_date', 'salesman_id'], dtype='object')\n"
     ]
    }
   ],
   "source": [
    "column = ['ord_no', 'purch_amt', 'ord_date', 'customer_id', 'salesman_id']\n",
    "data = [\n",
    "    [70001.0, 150.50, '2012-10-05', 3002, 5002.0],\n",
    "    [np.nan, 270.65, '2012-09-10', 3001, 5003.0],\n",
    "    [70002.0, 65.26, np.nan, 3001, 5001.0],\n",
    "    [70004.0, 110.50, '2012-08-17', 3003, np.nan],\n",
    "    [np.nan, 948.50, '2012-09-10', 3002, 5002.0],\n",
    "    [70005.0, 2400.60, '2012-07-27', 3001, 5001.0],\n",
    "    [np.nan, 5760.00, '2012-09-10', 3001, 5001.0],\n",
    "    [70010.0, 1983.43, '2012-10-10', 3004, np.nan],\n",
    "    [70003.0, 2480.40, '2012-10-10', 3003, 5003.0],\n",
    "    [70012.0, 250.45, '2012-06-27', 3002, 5002.0],\n",
    "    [np.nan, 75.29, '2012-08-17', 3001, 5003.0],\n",
    "    [70013.0, 3045.60, '2012-04-25', 3001, np.nan]\n",
    "]\n",
    "df = pd.DataFrame(data, columns = column)\n",
    "\n",
    "print(df)\n",
    "print(\"\\nMissing Values in columns\\n\")\n",
    "columns_with_missing_values = df.columns[df.isnull().any()]\n",
    "print(columns_with_missing_values)"
   ]
  },
  {
   "cell_type": "raw",
   "id": "fff30d14-0ad3-498f-851a-ed7b6af5f94e",
   "metadata": {},
   "source": [
    "3. Write a Pandas program to count the number of missing values in each column of a given DataFrame."
   ]
  },
  {
   "cell_type": "code",
   "execution_count": 10,
   "id": "3ac9959c-61af-4963-8271-5021565df8bd",
   "metadata": {},
   "outputs": [
    {
     "name": "stdout",
     "output_type": "stream",
     "text": [
      "     ord_no  purch_amt    ord_date  customer_id  salesman_id\n",
      "0   70001.0     150.50  2012-10-05         3002       5002.0\n",
      "1       NaN     270.65  2012-09-10         3001       5003.0\n",
      "2   70002.0      65.26         NaN         3001       5001.0\n",
      "3   70004.0     110.50  2012-08-17         3003          NaN\n",
      "4       NaN     948.50  2012-09-10         3002       5002.0\n",
      "5   70005.0    2400.60  2012-07-27         3001       5001.0\n",
      "6       NaN    5760.00  2012-09-10         3001       5001.0\n",
      "7   70010.0    1983.43  2012-10-10         3004          NaN\n",
      "8   70003.0    2480.40  2012-10-10         3003       5003.0\n",
      "9   70012.0     250.45  2012-06-27         3002       5002.0\n",
      "10      NaN      75.29  2012-08-17         3001       5003.0\n",
      "11  70013.0    3045.60  2012-04-25         3001          NaN\n",
      "\n",
      "Missing Values in columns\n",
      "\n",
      "ord_no         4\n",
      "purch_amt      0\n",
      "ord_date       1\n",
      "customer_id    0\n",
      "salesman_id    3\n",
      "dtype: int64\n"
     ]
    }
   ],
   "source": [
    "column = ['ord_no', 'purch_amt', 'ord_date', 'customer_id', 'salesman_id']\n",
    "data = [\n",
    "    [70001.0, 150.50, '2012-10-05', 3002, 5002.0],\n",
    "    [np.nan, 270.65, '2012-09-10', 3001, 5003.0],\n",
    "    [70002.0, 65.26, np.nan, 3001, 5001.0],\n",
    "    [70004.0, 110.50, '2012-08-17', 3003, np.nan],\n",
    "    [np.nan, 948.50, '2012-09-10', 3002, 5002.0],\n",
    "    [70005.0, 2400.60, '2012-07-27', 3001, 5001.0],\n",
    "    [np.nan, 5760.00, '2012-09-10', 3001, 5001.0],\n",
    "    [70010.0, 1983.43, '2012-10-10', 3004, np.nan],\n",
    "    [70003.0, 2480.40, '2012-10-10', 3003, 5003.0],\n",
    "    [70012.0, 250.45, '2012-06-27', 3002, 5002.0],\n",
    "    [np.nan, 75.29, '2012-08-17', 3001, 5003.0],\n",
    "    [70013.0, 3045.60, '2012-04-25', 3001, np.nan]\n",
    "]\n",
    "df = pd.DataFrame(data, columns = column)\n",
    "\n",
    "print(df)\n",
    "print(\"\\nMissing Values in columns\\n\")\n",
    "missing_values_count = df.isnull().sum()\n",
    "print(missing_values_count)"
   ]
  },
  {
   "cell_type": "raw",
   "id": "c3ac9a74-4927-4bee-aac6-d66a11f30535",
   "metadata": {},
   "source": [
    "4. Write a Pandas program to find and replace the missing values in a given DataFrame which do not have any valuable information."
   ]
  },
  {
   "cell_type": "code",
   "execution_count": 11,
   "id": "568a6f9d-7b54-48a0-aa37-5a5485983dfa",
   "metadata": {},
   "outputs": [
    {
     "name": "stdout",
     "output_type": "stream",
     "text": [
      "   ord_no purch_amt    ord_date customer_id salesman_id\n",
      "0   70001     150.5           ?        3002        5002\n",
      "1     NaN    270.65  2012-09-10        3001        5003\n",
      "2   70002     65.26         NaN        3001           ?\n",
      "3   70004     110.5  2012-08-17        3003        5001\n",
      "4     NaN     948.5  2012-09-10        3002         NaN\n",
      "5   70005    2400.6  2012-07-27        3001        5002\n",
      "6      --      5760  2012-09-10        3001        5001\n",
      "7   70010         ?  2012-10-10        3004           ?\n",
      "8   70003     12.43  2012-10-10          --        5003\n",
      "9   70012    2480.4  2012-06-27        3002        5002\n",
      "10    NaN    250.45  2012-08-17        3001        5003\n",
      "11  70013    3045.6  2012-04-25        3001          --\n",
      "\n",
      "Replace Missing Values\n",
      "\n",
      "     ord_no  purch_amt    ord_date  customer_id  salesman_id\n",
      "0   70001.0     150.50         NaN       3002.0       5002.0\n",
      "1       NaN     270.65  2012-09-10       3001.0       5003.0\n",
      "2   70002.0      65.26         NaN       3001.0          NaN\n",
      "3   70004.0     110.50  2012-08-17       3003.0       5001.0\n",
      "4       NaN     948.50  2012-09-10       3002.0          NaN\n",
      "5   70005.0    2400.60  2012-07-27       3001.0       5002.0\n",
      "6       NaN    5760.00  2012-09-10       3001.0       5001.0\n",
      "7   70010.0        NaN  2012-10-10       3004.0          NaN\n",
      "8   70003.0      12.43  2012-10-10          NaN       5003.0\n",
      "9   70012.0    2480.40  2012-06-27       3002.0       5002.0\n",
      "10      NaN     250.45  2012-08-17       3001.0       5003.0\n",
      "11  70013.0    3045.60  2012-04-25       3001.0          NaN\n"
     ]
    }
   ],
   "source": [
    "column = ['ord_no', 'purch_amt', 'ord_date', 'customer_id', 'salesman_id']\n",
    "data = [\n",
    "    [70001, 150.5, '?', 3002, 5002],\n",
    "    [np.nan, 270.65, '2012-09-10', 3001, 5003],\n",
    "    [70002, 65.26, np.nan, 3001, '?'],\n",
    "    [70004, 110.5, '2012-08-17', 3003, 5001],\n",
    "    [np.nan, 948.5, '2012-09-10', 3002, np.nan],\n",
    "    [70005, 2400.6, '2012-07-27', 3001, 5002],\n",
    "    ['--', 5760, '2012-09-10', 3001, 5001],\n",
    "    [70010, '?', '2012-10-10', 3004, '?'],\n",
    "    [70003, 12.43, '2012-10-10', '--', 5003],\n",
    "    [70012, 2480.4, '2012-06-27', 3002, 5002],\n",
    "    [np.nan, 250.45, '2012-08-17', 3001, 5003],\n",
    "    [70013, 3045.6, '2012-04-25', 3001, '--']\n",
    "]\n",
    "df = pd.DataFrame(data, columns = column)\n",
    "\n",
    "print(df)\n",
    "print(\"\\nReplace Missing Values\\n\")\n",
    "df = df.replace({'--': np.nan, '?': np.nan})\n",
    "print(df)"
   ]
  },
  {
   "cell_type": "code",
   "execution_count": null,
   "id": "5c635fac-7eaf-4544-b2de-b5b0df3b295c",
   "metadata": {},
   "outputs": [],
   "source": []
  }
 ],
 "metadata": {
  "kernelspec": {
   "display_name": "Python 3 (ipykernel)",
   "language": "python",
   "name": "python3"
  },
  "language_info": {
   "codemirror_mode": {
    "name": "ipython",
    "version": 3
   },
   "file_extension": ".py",
   "mimetype": "text/x-python",
   "name": "python",
   "nbconvert_exporter": "python",
   "pygments_lexer": "ipython3",
   "version": "3.10.13"
  }
 },
 "nbformat": 4,
 "nbformat_minor": 5
}
