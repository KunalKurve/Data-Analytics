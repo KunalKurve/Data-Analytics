{
 "cells": [
  {
   "cell_type": "raw",
   "id": "09371f08-07e6-44e4-9060-96d01c4717bd",
   "metadata": {},
   "source": [
    "Q1\n",
    "1. Create two CSV file with three columns viz. Tom, Brick, Harry with index ‘True’ and ‘False’.\n",
    "   Each column must contain at least ten values each as a combination of datatypes.\n",
    "\n",
    "2. Create a data frame with at least 5 columns and 10 rows. There must be some missing values in it. \n",
    "   If the integer column contains missing values replace it with some statistical approach. \n",
    "   Also, if there is any missing values in String column, drop the rows using some looping function.\n",
    "\n",
    "3. Create a data frame with at least 5 columns and 10 rows. Each column must contain only integer elements only. \n",
    "   Column names must be Abilash, Ankit, Ashok, Asif, Anjaan. \n",
    "   Now apply a function where we want to club together the data based on any row or column.\n",
    "   Group the series using a mapper or by a series of columns.\n",
    "\n",
    "4. Read the CountryDataIND.csv file and perform statistical operation on the same about the dataset. \n",
    "   Look for any missing data if any.\n",
    "\n",
    "5. Plot a histogram by keeping the bin size to 10 for the column name = ‘Observation Value’.\n",
    "   Also Plot a scatter plot between ‘observation Value’ and ‘Time Period’"
   ]
  },
  {
   "cell_type": "code",
   "execution_count": null,
   "id": "f69c3ef2-4c25-4c63-bb9c-091e4253d066",
   "metadata": {},
   "outputs": [],
   "source": []
  }
 ],
 "metadata": {
  "kernelspec": {
   "display_name": "Python 3 (ipykernel)",
   "language": "python",
   "name": "python3"
  },
  "language_info": {
   "codemirror_mode": {
    "name": "ipython",
    "version": 3
   },
   "file_extension": ".py",
   "mimetype": "text/x-python",
   "name": "python",
   "nbconvert_exporter": "python",
   "pygments_lexer": "ipython3",
   "version": "3.10.13"
  }
 },
 "nbformat": 4,
 "nbformat_minor": 5
}
