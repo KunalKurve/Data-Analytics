{
 "cells": [
  {
   "cell_type": "markdown",
   "id": "contained-purchase",
   "metadata": {
    "papermill": {
     "duration": 0.01703,
     "end_time": "2021-04-03T18:19:37.433693",
     "exception": false,
     "start_time": "2021-04-03T18:19:37.416663",
     "status": "completed"
    },
    "tags": []
   },
   "source": [
    "#  Data Visualization or EDA\n",
    " \n",
    "In this notebook I will walk you through data visualization on the Titanic dataset.\n",
    "\n",
    "**Data visualization** is the graphical representation of information and data. By using visual elements like charts, graphs, and maps, data visualization tools provide an accessible way to see and understand trends, outliers, and patterns in data.\n",
    "We will be using the Seaborn Library.\n",
    "\n",
    "So let'start by importing some libaries. "
   ]
  },
  {
   "cell_type": "code",
   "execution_count": 1,
   "id": "infrared-opportunity",
   "metadata": {
    "_cell_guid": "b1076dfc-b9ad-4769-8c92-a6c4dae69d19",
    "_uuid": "8f2839f25d086af736a60e9eeb907d3b93b6e0e5",
    "execution": {
     "iopub.execute_input": "2021-04-03T18:19:37.479107Z",
     "iopub.status.busy": "2021-04-03T18:19:37.478108Z",
     "iopub.status.idle": "2021-04-03T18:19:38.522798Z",
     "shell.execute_reply": "2021-04-03T18:19:38.521656Z"
    },
    "papermill": {
     "duration": 1.073377,
     "end_time": "2021-04-03T18:19:38.523014",
     "exception": false,
     "start_time": "2021-04-03T18:19:37.449637",
     "status": "completed"
    },
    "tags": []
   },
   "outputs": [
    {
     "name": "stdout",
     "output_type": "stream",
     "text": [
      "/kaggle/input/titanic/train.csv\n",
      "/kaggle/input/titanic/test.csv\n",
      "/kaggle/input/titanic/gender_submission.csv\n"
     ]
    }
   ],
   "source": [
    "\n",
    "import numpy as np # linear algebra\n",
    "import pandas as pd # data processing, CSV file I/O (e.g. pd.read_csv)\n",
    "import seaborn as sns #for data data visualization\n",
    "\n",
    "\n",
    "import os\n",
    "for dirname, _, filenames in os.walk('/kaggle/input'):\n",
    "    for filename in filenames:\n",
    "        print(os.path.join(dirname, filename))\n",
    "\n"
   ]
  },
  {
   "cell_type": "code",
   "execution_count": 2,
   "id": "final-maintenance",
   "metadata": {
    "execution": {
     "iopub.execute_input": "2021-04-03T18:19:38.561764Z",
     "iopub.status.busy": "2021-04-03T18:19:38.560898Z",
     "iopub.status.idle": "2021-04-03T18:19:38.610622Z",
     "shell.execute_reply": "2021-04-03T18:19:38.611145Z"
    },
    "papermill": {
     "duration": 0.071334,
     "end_time": "2021-04-03T18:19:38.611317",
     "exception": false,
     "start_time": "2021-04-03T18:19:38.539983",
     "status": "completed"
    },
    "tags": []
   },
   "outputs": [
    {
     "data": {
      "text/html": [
       "<div>\n",
       "<style scoped>\n",
       "    .dataframe tbody tr th:only-of-type {\n",
       "        vertical-align: middle;\n",
       "    }\n",
       "\n",
       "    .dataframe tbody tr th {\n",
       "        vertical-align: top;\n",
       "    }\n",
       "\n",
       "    .dataframe thead th {\n",
       "        text-align: right;\n",
       "    }\n",
       "</style>\n",
       "<table border=\"1\" class=\"dataframe\">\n",
       "  <thead>\n",
       "    <tr style=\"text-align: right;\">\n",
       "      <th></th>\n",
       "      <th>PassengerId</th>\n",
       "      <th>Survived</th>\n",
       "      <th>Pclass</th>\n",
       "      <th>Name</th>\n",
       "      <th>Sex</th>\n",
       "      <th>Age</th>\n",
       "      <th>SibSp</th>\n",
       "      <th>Parch</th>\n",
       "      <th>Ticket</th>\n",
       "      <th>Fare</th>\n",
       "      <th>Cabin</th>\n",
       "      <th>Embarked</th>\n",
       "    </tr>\n",
       "  </thead>\n",
       "  <tbody>\n",
       "    <tr>\n",
       "      <th>0</th>\n",
       "      <td>1</td>\n",
       "      <td>0</td>\n",
       "      <td>3</td>\n",
       "      <td>Braund, Mr. Owen Harris</td>\n",
       "      <td>male</td>\n",
       "      <td>22.0</td>\n",
       "      <td>1</td>\n",
       "      <td>0</td>\n",
       "      <td>A/5 21171</td>\n",
       "      <td>7.2500</td>\n",
       "      <td>NaN</td>\n",
       "      <td>S</td>\n",
       "    </tr>\n",
       "    <tr>\n",
       "      <th>1</th>\n",
       "      <td>2</td>\n",
       "      <td>1</td>\n",
       "      <td>1</td>\n",
       "      <td>Cumings, Mrs. John Bradley (Florence Briggs Th...</td>\n",
       "      <td>female</td>\n",
       "      <td>38.0</td>\n",
       "      <td>1</td>\n",
       "      <td>0</td>\n",
       "      <td>PC 17599</td>\n",
       "      <td>71.2833</td>\n",
       "      <td>C85</td>\n",
       "      <td>C</td>\n",
       "    </tr>\n",
       "    <tr>\n",
       "      <th>2</th>\n",
       "      <td>3</td>\n",
       "      <td>1</td>\n",
       "      <td>3</td>\n",
       "      <td>Heikkinen, Miss. Laina</td>\n",
       "      <td>female</td>\n",
       "      <td>26.0</td>\n",
       "      <td>0</td>\n",
       "      <td>0</td>\n",
       "      <td>STON/O2. 3101282</td>\n",
       "      <td>7.9250</td>\n",
       "      <td>NaN</td>\n",
       "      <td>S</td>\n",
       "    </tr>\n",
       "    <tr>\n",
       "      <th>3</th>\n",
       "      <td>4</td>\n",
       "      <td>1</td>\n",
       "      <td>1</td>\n",
       "      <td>Futrelle, Mrs. Jacques Heath (Lily May Peel)</td>\n",
       "      <td>female</td>\n",
       "      <td>35.0</td>\n",
       "      <td>1</td>\n",
       "      <td>0</td>\n",
       "      <td>113803</td>\n",
       "      <td>53.1000</td>\n",
       "      <td>C123</td>\n",
       "      <td>S</td>\n",
       "    </tr>\n",
       "    <tr>\n",
       "      <th>4</th>\n",
       "      <td>5</td>\n",
       "      <td>0</td>\n",
       "      <td>3</td>\n",
       "      <td>Allen, Mr. William Henry</td>\n",
       "      <td>male</td>\n",
       "      <td>35.0</td>\n",
       "      <td>0</td>\n",
       "      <td>0</td>\n",
       "      <td>373450</td>\n",
       "      <td>8.0500</td>\n",
       "      <td>NaN</td>\n",
       "      <td>S</td>\n",
       "    </tr>\n",
       "  </tbody>\n",
       "</table>\n",
       "</div>"
      ],
      "text/plain": [
       "   PassengerId  Survived  Pclass  \\\n",
       "0            1         0       3   \n",
       "1            2         1       1   \n",
       "2            3         1       3   \n",
       "3            4         1       1   \n",
       "4            5         0       3   \n",
       "\n",
       "                                                Name     Sex   Age  SibSp  \\\n",
       "0                            Braund, Mr. Owen Harris    male  22.0      1   \n",
       "1  Cumings, Mrs. John Bradley (Florence Briggs Th...  female  38.0      1   \n",
       "2                             Heikkinen, Miss. Laina  female  26.0      0   \n",
       "3       Futrelle, Mrs. Jacques Heath (Lily May Peel)  female  35.0      1   \n",
       "4                           Allen, Mr. William Henry    male  35.0      0   \n",
       "\n",
       "   Parch            Ticket     Fare Cabin Embarked  \n",
       "0      0         A/5 21171   7.2500   NaN        S  \n",
       "1      0          PC 17599  71.2833   C85        C  \n",
       "2      0  STON/O2. 3101282   7.9250   NaN        S  \n",
       "3      0            113803  53.1000  C123        S  \n",
       "4      0            373450   8.0500   NaN        S  "
      ]
     },
     "execution_count": 2,
     "metadata": {},
     "output_type": "execute_result"
    }
   ],
   "source": [
    "#training data\n",
    "train_data = pd.read_csv(\"/kaggle/input/titanic/train.csv\")\n",
    "train_data.head()"
   ]
  },
  {
   "cell_type": "code",
   "execution_count": 3,
   "id": "married-hudson",
   "metadata": {
    "execution": {
     "iopub.execute_input": "2021-04-03T18:19:38.650849Z",
     "iopub.status.busy": "2021-04-03T18:19:38.650035Z",
     "iopub.status.idle": "2021-04-03T18:19:38.675634Z",
     "shell.execute_reply": "2021-04-03T18:19:38.674691Z"
    },
    "papermill": {
     "duration": 0.047586,
     "end_time": "2021-04-03T18:19:38.675798",
     "exception": false,
     "start_time": "2021-04-03T18:19:38.628212",
     "status": "completed"
    },
    "tags": []
   },
   "outputs": [
    {
     "data": {
      "text/html": [
       "<div>\n",
       "<style scoped>\n",
       "    .dataframe tbody tr th:only-of-type {\n",
       "        vertical-align: middle;\n",
       "    }\n",
       "\n",
       "    .dataframe tbody tr th {\n",
       "        vertical-align: top;\n",
       "    }\n",
       "\n",
       "    .dataframe thead th {\n",
       "        text-align: right;\n",
       "    }\n",
       "</style>\n",
       "<table border=\"1\" class=\"dataframe\">\n",
       "  <thead>\n",
       "    <tr style=\"text-align: right;\">\n",
       "      <th></th>\n",
       "      <th>PassengerId</th>\n",
       "      <th>Pclass</th>\n",
       "      <th>Name</th>\n",
       "      <th>Sex</th>\n",
       "      <th>Age</th>\n",
       "      <th>SibSp</th>\n",
       "      <th>Parch</th>\n",
       "      <th>Ticket</th>\n",
       "      <th>Fare</th>\n",
       "      <th>Cabin</th>\n",
       "      <th>Embarked</th>\n",
       "    </tr>\n",
       "  </thead>\n",
       "  <tbody>\n",
       "    <tr>\n",
       "      <th>0</th>\n",
       "      <td>892</td>\n",
       "      <td>3</td>\n",
       "      <td>Kelly, Mr. James</td>\n",
       "      <td>male</td>\n",
       "      <td>34.5</td>\n",
       "      <td>0</td>\n",
       "      <td>0</td>\n",
       "      <td>330911</td>\n",
       "      <td>7.8292</td>\n",
       "      <td>NaN</td>\n",
       "      <td>Q</td>\n",
       "    </tr>\n",
       "    <tr>\n",
       "      <th>1</th>\n",
       "      <td>893</td>\n",
       "      <td>3</td>\n",
       "      <td>Wilkes, Mrs. James (Ellen Needs)</td>\n",
       "      <td>female</td>\n",
       "      <td>47.0</td>\n",
       "      <td>1</td>\n",
       "      <td>0</td>\n",
       "      <td>363272</td>\n",
       "      <td>7.0000</td>\n",
       "      <td>NaN</td>\n",
       "      <td>S</td>\n",
       "    </tr>\n",
       "    <tr>\n",
       "      <th>2</th>\n",
       "      <td>894</td>\n",
       "      <td>2</td>\n",
       "      <td>Myles, Mr. Thomas Francis</td>\n",
       "      <td>male</td>\n",
       "      <td>62.0</td>\n",
       "      <td>0</td>\n",
       "      <td>0</td>\n",
       "      <td>240276</td>\n",
       "      <td>9.6875</td>\n",
       "      <td>NaN</td>\n",
       "      <td>Q</td>\n",
       "    </tr>\n",
       "    <tr>\n",
       "      <th>3</th>\n",
       "      <td>895</td>\n",
       "      <td>3</td>\n",
       "      <td>Wirz, Mr. Albert</td>\n",
       "      <td>male</td>\n",
       "      <td>27.0</td>\n",
       "      <td>0</td>\n",
       "      <td>0</td>\n",
       "      <td>315154</td>\n",
       "      <td>8.6625</td>\n",
       "      <td>NaN</td>\n",
       "      <td>S</td>\n",
       "    </tr>\n",
       "    <tr>\n",
       "      <th>4</th>\n",
       "      <td>896</td>\n",
       "      <td>3</td>\n",
       "      <td>Hirvonen, Mrs. Alexander (Helga E Lindqvist)</td>\n",
       "      <td>female</td>\n",
       "      <td>22.0</td>\n",
       "      <td>1</td>\n",
       "      <td>1</td>\n",
       "      <td>3101298</td>\n",
       "      <td>12.2875</td>\n",
       "      <td>NaN</td>\n",
       "      <td>S</td>\n",
       "    </tr>\n",
       "  </tbody>\n",
       "</table>\n",
       "</div>"
      ],
      "text/plain": [
       "   PassengerId  Pclass                                          Name     Sex  \\\n",
       "0          892       3                              Kelly, Mr. James    male   \n",
       "1          893       3              Wilkes, Mrs. James (Ellen Needs)  female   \n",
       "2          894       2                     Myles, Mr. Thomas Francis    male   \n",
       "3          895       3                              Wirz, Mr. Albert    male   \n",
       "4          896       3  Hirvonen, Mrs. Alexander (Helga E Lindqvist)  female   \n",
       "\n",
       "    Age  SibSp  Parch   Ticket     Fare Cabin Embarked  \n",
       "0  34.5      0      0   330911   7.8292   NaN        Q  \n",
       "1  47.0      1      0   363272   7.0000   NaN        S  \n",
       "2  62.0      0      0   240276   9.6875   NaN        Q  \n",
       "3  27.0      0      0   315154   8.6625   NaN        S  \n",
       "4  22.0      1      1  3101298  12.2875   NaN        S  "
      ]
     },
     "execution_count": 3,
     "metadata": {},
     "output_type": "execute_result"
    }
   ],
   "source": [
    "#test data\n",
    "test_data = pd.read_csv(\"/kaggle/input/titanic/test.csv\")\n",
    "test_data.head()"
   ]
  },
  {
   "cell_type": "markdown",
   "id": "existing-tumor",
   "metadata": {
    "papermill": {
     "duration": 0.017039,
     "end_time": "2021-04-03T18:19:38.710198",
     "exception": false,
     "start_time": "2021-04-03T18:19:38.693159",
     "status": "completed"
    },
    "tags": []
   },
   "source": [
    "\n",
    "# Identifying the null values (missing values)\n",
    "First we will check for null values in the data using *heatmap* with the *isnull()* method  "
   ]
  },
  {
   "cell_type": "code",
   "execution_count": 4,
   "id": "precise-yukon",
   "metadata": {
    "execution": {
     "iopub.execute_input": "2021-04-03T18:19:38.769992Z",
     "iopub.status.busy": "2021-04-03T18:19:38.753778Z",
     "iopub.status.idle": "2021-04-03T18:19:38.998574Z",
     "shell.execute_reply": "2021-04-03T18:19:38.997915Z"
    },
    "papermill": {
     "duration": 0.269449,
     "end_time": "2021-04-03T18:19:38.998734",
     "exception": false,
     "start_time": "2021-04-03T18:19:38.729285",
     "status": "completed"
    },
    "tags": []
   },
   "outputs": [
    {
     "data": {
      "text/plain": [
       "<AxesSubplot:>"
      ]
     },
     "execution_count": 4,
     "metadata": {},
     "output_type": "execute_result"
    },
    {
     "data": {
      "image/png": "[encoded data removed]",
      "text/plain": [
       "<Figure size 432x288 with 1 Axes>"
      ]
     },
     "metadata": {
      "needs_background": "light"
     },
     "output_type": "display_data"
    }
   ],
   "source": [
    "sns.heatmap(train_data.isnull(),yticklabels=False,cbar=False,cmap = 'viridis')"
   ]
  },
  {
   "cell_type": "markdown",
   "id": "announced-dream",
   "metadata": {
    "papermill": {
     "duration": 0.018564,
     "end_time": "2021-04-03T18:19:39.036031",
     "exception": false,
     "start_time": "2021-04-03T18:19:39.017467",
     "status": "completed"
    },
    "tags": []
   },
   "source": [
    "We can see here that there are many missing values are present in the Age column and lots of missing values are there in Cabin column"
   ]
  },
  {
   "cell_type": "markdown",
   "id": "scenic-strip",
   "metadata": {
    "papermill": {
     "duration": 0.018918,
     "end_time": "2021-04-03T18:19:39.073574",
     "exception": false,
     "start_time": "2021-04-03T18:19:39.054656",
     "status": "completed"
    },
    "tags": []
   },
   "source": [
    "If you want to see the exact null values than this code is helpful"
   ]
  },
  {
   "cell_type": "code",
   "execution_count": 5,
   "id": "explicit-cement",
   "metadata": {
    "execution": {
     "iopub.execute_input": "2021-04-03T18:19:39.120390Z",
     "iopub.status.busy": "2021-04-03T18:19:39.119460Z",
     "iopub.status.idle": "2021-04-03T18:19:39.124451Z",
     "shell.execute_reply": "2021-04-03T18:19:39.123921Z"
    },
    "papermill": {
     "duration": 0.031948,
     "end_time": "2021-04-03T18:19:39.124611",
     "exception": false,
     "start_time": "2021-04-03T18:19:39.092663",
     "status": "completed"
    },
    "tags": []
   },
   "outputs": [
    {
     "data": {
      "text/plain": [
       "PassengerId      0\n",
       "Survived         0\n",
       "Pclass           0\n",
       "Name             0\n",
       "Sex              0\n",
       "Age            177\n",
       "SibSp            0\n",
       "Parch            0\n",
       "Ticket           0\n",
       "Fare             0\n",
       "Cabin          687\n",
       "Embarked         2\n",
       "dtype: int64"
      ]
     },
     "execution_count": 5,
     "metadata": {},
     "output_type": "execute_result"
    }
   ],
   "source": [
    "train_data.isnull().sum()"
   ]
  },
  {
   "cell_type": "markdown",
   "id": "bored-turkey",
   "metadata": {
    "papermill": {
     "duration": 0.018663,
     "end_time": "2021-04-03T18:19:39.162427",
     "exception": false,
     "start_time": "2021-04-03T18:19:39.143764",
     "status": "completed"
    },
    "tags": []
   },
   "source": [
    "# Survival of Male and Female\n",
    "\n",
    "here will we will check for the number of male and female survived ,using count plot.\n"
   ]
  },
  {
   "cell_type": "code",
   "execution_count": 6,
   "id": "driving-terminology",
   "metadata": {
    "execution": {
     "iopub.execute_input": "2021-04-03T18:19:39.211034Z",
     "iopub.status.busy": "2021-04-03T18:19:39.210287Z",
     "iopub.status.idle": "2021-04-03T18:19:39.385133Z",
     "shell.execute_reply": "2021-04-03T18:19:39.385638Z"
    },
    "papermill": {
     "duration": 0.204465,
     "end_time": "2021-04-03T18:19:39.385840",
     "exception": false,
     "start_time": "2021-04-03T18:19:39.181375",
     "status": "completed"
    },
    "tags": []
   },
   "outputs": [
    {
     "data": {
      "text/plain": [
       "<AxesSubplot:xlabel='Survived', ylabel='count'>"
      ]
     },
     "execution_count": 6,
     "metadata": {},
     "output_type": "execute_result"
    },
    {
     "data": {
      "image/png": "[encoded data removed]",
      "text/plain": [
       "<Figure size 432x288 with 1 Axes>"
      ]
     },
     "metadata": {
      "needs_background": "light"
     },
     "output_type": "display_data"
    }
   ],
   "source": [
    "sns.countplot(x='Survived',data=train_data,hue = 'Sex')"
   ]
  },
  {
   "cell_type": "markdown",
   "id": "operating-tulsa",
   "metadata": {
    "papermill": {
     "duration": 0.019798,
     "end_time": "2021-04-03T18:19:39.427012",
     "exception": false,
     "start_time": "2021-04-03T18:19:39.407214",
     "status": "completed"
    },
    "tags": []
   },
   "source": [
    "With the help of the coutplot we can see that large number of male did not survived (more than 400)"
   ]
  },
  {
   "cell_type": "markdown",
   "id": "relative-mainstream",
   "metadata": {
    "papermill": {
     "duration": 0.01982,
     "end_time": "2021-04-03T18:19:39.466964",
     "exception": false,
     "start_time": "2021-04-03T18:19:39.447144",
     "status": "completed"
    },
    "tags": []
   },
   "source": [
    "# Survival Based on Pclass\n",
    "\n",
    "We will be using the countplot here also but to check for survival based on pclass , use *hue = 'Pclass'*"
   ]
  },
  {
   "cell_type": "code",
   "execution_count": 7,
   "id": "brief-david",
   "metadata": {
    "execution": {
     "iopub.execute_input": "2021-04-03T18:19:39.514206Z",
     "iopub.status.busy": "2021-04-03T18:19:39.513133Z",
     "iopub.status.idle": "2021-04-03T18:19:39.695480Z",
     "shell.execute_reply": "2021-04-03T18:19:39.694912Z"
    },
    "papermill": {
     "duration": 0.208619,
     "end_time": "2021-04-03T18:19:39.695620",
     "exception": false,
     "start_time": "2021-04-03T18:19:39.487001",
     "status": "completed"
    },
    "tags": []
   },
   "outputs": [
    {
     "data": {
      "text/plain": [
       "<AxesSubplot:xlabel='Survived', ylabel='count'>"
      ]
     },
     "execution_count": 7,
     "metadata": {},
     "output_type": "execute_result"
    },
    {
     "data": {
      "image/png": "[encoded data removed]",
      "text/plain": [
       "<Figure size 432x288 with 1 Axes>"
      ]
     },
     "metadata": {
      "needs_background": "light"
     },
     "output_type": "display_data"
    }
   ],
   "source": [
    "sns.countplot(x='Survived',data=train_data,hue = 'Pclass')"
   ]
  },
  {
   "cell_type": "markdown",
   "id": "settled-documentary",
   "metadata": {
    "papermill": {
     "duration": 0.020987,
     "end_time": "2021-04-03T18:19:39.738082",
     "exception": false,
     "start_time": "2021-04-03T18:19:39.717095",
     "status": "completed"
    },
    "tags": []
   },
   "source": [
    "With help of this graph we can see that the large number of the 3rd class or say lower class people did not survived.  \n",
    "\n",
    "It can be like this because all of lower class people were not allowed to sit on the rescue boat."
   ]
  },
  {
   "cell_type": "markdown",
   "id": "scheduled-terminology",
   "metadata": {
    "papermill": {
     "duration": 0.020985,
     "end_time": "2021-04-03T18:19:39.780583",
     "exception": false,
     "start_time": "2021-04-03T18:19:39.759598",
     "status": "completed"
    },
    "tags": []
   },
   "source": [
    "# Age\n"
   ]
  },
  {
   "cell_type": "code",
   "execution_count": 8,
   "id": "honest-joshua",
   "metadata": {
    "execution": {
     "iopub.execute_input": "2021-04-03T18:19:39.830457Z",
     "iopub.status.busy": "2021-04-03T18:19:39.829667Z",
     "iopub.status.idle": "2021-04-03T18:19:40.073102Z",
     "shell.execute_reply": "2021-04-03T18:19:40.072367Z"
    },
    "papermill": {
     "duration": 0.270632,
     "end_time": "2021-04-03T18:19:40.073260",
     "exception": false,
     "start_time": "2021-04-03T18:19:39.802628",
     "status": "completed"
    },
    "tags": []
   },
   "outputs": [
    {
     "data": {
      "text/plain": [
       "<AxesSubplot:ylabel='Frequency'>"
      ]
     },
     "execution_count": 8,
     "metadata": {},
     "output_type": "execute_result"
    },
    {
     "data": {
      "image/png": "[encoded data removed]",
      "text/plain": [
       "<Figure size 432x288 with 1 Axes>"
      ]
     },
     "metadata": {
      "needs_background": "light"
     },
     "output_type": "display_data"
    }
   ],
   "source": [
    "train_data['Age'].dropna().plot.hist(bins=30)"
   ]
  },
  {
   "cell_type": "markdown",
   "id": "specialized-anime",
   "metadata": {
    "papermill": {
     "duration": 0.022391,
     "end_time": "2021-04-03T18:19:40.118620",
     "exception": false,
     "start_time": "2021-04-03T18:19:40.096229",
     "status": "completed"
    },
    "tags": []
   },
   "source": [
    "This histogram helps us to understand that many of the passengers that were present in the titanic were of age range 20-35 years.\n",
    "Here I have used bins = 30 for more clear plot. (You can try with differnt bins values to find how its working.)\n",
    "\n",
    "Also I have used **dropna()** to drop null values so that it will disturb the graph"
   ]
  },
  {
   "cell_type": "markdown",
   "id": "elect-stress",
   "metadata": {
    "papermill": {
     "duration": 0.022148,
     "end_time": "2021-04-03T18:19:40.163807",
     "exception": false,
     "start_time": "2021-04-03T18:19:40.141659",
     "status": "completed"
    },
    "tags": []
   },
   "source": [
    "# Siblings"
   ]
  },
  {
   "cell_type": "code",
   "execution_count": 9,
   "id": "found-shock",
   "metadata": {
    "execution": {
     "iopub.execute_input": "2021-04-03T18:19:40.216057Z",
     "iopub.status.busy": "2021-04-03T18:19:40.215004Z",
     "iopub.status.idle": "2021-04-03T18:19:40.367112Z",
     "shell.execute_reply": "2021-04-03T18:19:40.367639Z"
    },
    "papermill": {
     "duration": 0.181461,
     "end_time": "2021-04-03T18:19:40.367837",
     "exception": false,
     "start_time": "2021-04-03T18:19:40.186376",
     "status": "completed"
    },
    "tags": []
   },
   "outputs": [
    {
     "data": {
      "text/plain": [
       "<AxesSubplot:xlabel='SibSp', ylabel='count'>"
      ]
     },
     "execution_count": 9,
     "metadata": {},
     "output_type": "execute_result"
    },
    {
     "data": {
      "image/png": "[encoded data removed]",
      "text/plain": [
       "<Figure size 432x288 with 1 Axes>"
      ]
     },
     "metadata": {
      "needs_background": "light"
     },
     "output_type": "display_data"
    }
   ],
   "source": [
    "sns.countplot(x='SibSp',data=train_data)"
   ]
  },
  {
   "cell_type": "markdown",
   "id": "isolated-optics",
   "metadata": {
    "papermill": {
     "duration": 0.023698,
     "end_time": "2021-04-03T18:19:40.414796",
     "exception": false,
     "start_time": "2021-04-03T18:19:40.391098",
     "status": "completed"
    },
    "tags": []
   },
   "source": [
    "Here we can see that majority of the passengers were single.\n",
    "\n",
    "And second highest  were we can say pessengers with their 1 sibling or spouse etc "
   ]
  },
  {
   "cell_type": "markdown",
   "id": "respected-salem",
   "metadata": {
    "papermill": {
     "duration": 0.022965,
     "end_time": "2021-04-03T18:19:40.461279",
     "exception": false,
     "start_time": "2021-04-03T18:19:40.438314",
     "status": "completed"
    },
    "tags": []
   },
   "source": [
    "# Fare Tickets"
   ]
  },
  {
   "cell_type": "code",
   "execution_count": 10,
   "id": "statewide-machine",
   "metadata": {
    "execution": {
     "iopub.execute_input": "2021-04-03T18:19:40.531162Z",
     "iopub.status.busy": "2021-04-03T18:19:40.528610Z",
     "iopub.status.idle": "2021-04-03T18:19:40.743776Z",
     "shell.execute_reply": "2021-04-03T18:19:40.743148Z"
    },
    "papermill": {
     "duration": 0.258892,
     "end_time": "2021-04-03T18:19:40.743935",
     "exception": false,
     "start_time": "2021-04-03T18:19:40.485043",
     "status": "completed"
    },
    "tags": []
   },
   "outputs": [
    {
     "data": {
      "text/plain": [
       "<AxesSubplot:>"
      ]
     },
     "execution_count": 10,
     "metadata": {},
     "output_type": "execute_result"
    },
    {
     "data": {
      "image/png": "[encoded data removed]",
      "text/plain": [
       "<Figure size 720x288 with 1 Axes>"
      ]
     },
     "metadata": {
      "needs_background": "light"
     },
     "output_type": "display_data"
    }
   ],
   "source": [
    "train_data['Fare'].hist(bins=40,figsize=(10,4))"
   ]
  },
  {
   "cell_type": "markdown",
   "id": "finished-rachel",
   "metadata": {
    "papermill": {
     "duration": 0.024123,
     "end_time": "2021-04-03T18:19:40.793811",
     "exception": false,
     "start_time": "2021-04-03T18:19:40.769688",
     "status": "completed"
    },
    "tags": []
   },
   "source": [
    "With this histogram this we can find that cheaper tickets were sold and that make sense most passengers were on lower class."
   ]
  },
  {
   "cell_type": "markdown",
   "id": "stone-machinery",
   "metadata": {
    "papermill": {
     "duration": 0.024287,
     "end_time": "2021-04-03T18:19:40.843206",
     "exception": false,
     "start_time": "2021-04-03T18:19:40.818919",
     "status": "completed"
    },
    "tags": []
   },
   "source": [
    "That's it. Hope you will find this notebook helpfull in working with this competition."
   ]
  },
  {
   "cell_type": "markdown",
   "id": "premier-policy",
   "metadata": {
    "papermill": {
     "duration": 0.024369,
     "end_time": "2021-04-03T18:19:40.892054",
     "exception": false,
     "start_time": "2021-04-03T18:19:40.867685",
     "status": "completed"
    },
    "tags": []
   },
   "source": [
    "# Happy Learning"
   ]
  },
  {
   "cell_type": "code",
   "execution_count": null,
   "id": "lightweight-software",
   "metadata": {
    "papermill": {
     "duration": 0.024642,
     "end_time": "2021-04-03T18:19:40.941136",
     "exception": false,
     "start_time": "2021-04-03T18:19:40.916494",
     "status": "completed"
    },
    "tags": []
   },
   "outputs": [],
   "source": []
  }
 ],
 "metadata": {
  "kernelspec": {
   "display_name": "Python 3",
   "language": "python",
   "name": "python3"
  },
  "language_info": {
   "codemirror_mode": {
    "name": "ipython",
    "version": 3
   },
   "file_extension": ".py",
   "mimetype": "text/x-python",
   "name": "python",
   "nbconvert_exporter": "python",
   "pygments_lexer": "ipython3",
   "version": "3.7.9"
  },
  "papermill": {
   "default_parameters": {},
   "duration": 11.956966,
   "end_time": "2021-04-03T18:19:42.653314",
   "environment_variables": {},
   "exception": null,
   "input_path": "__notebook__.ipynb",
   "output_path": "__notebook__.ipynb",
   "parameters": {},
   "start_time": "2021-04-03T18:19:30.696348",
   "version": "2.3.2"
  }
 },
 "nbformat": 4,
 "nbformat_minor": 5
}
