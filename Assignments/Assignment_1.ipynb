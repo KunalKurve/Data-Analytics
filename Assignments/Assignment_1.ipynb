{
 "cells": [
  {
   "cell_type": "markdown",
   "id": "fdbb3a64",
   "metadata": {},
   "source": [
    "**NumPy Questions**\n",
    "- Write a NumPy program to get the numpy version and show numpy build configuration.\n",
    "- Write a NumPy program to get help on the add function.\n",
    "- Write a NumPy program to test whether none of the elements of a given array is zero.\n",
    "- Write a NumPy program to test whether any of the elements of a given array is non-zero.\n",
    "- Write a NumPy program to test a given array element-wise for finiteness (not infinity or not a Number).\n",
    "- Write a NumPy program to test element-wise for positive or negative infinity.\n",
    "- Write a NumPy program to test element-wise for NaN of a given array.\n",
    "- Write a NumPy program to test element-wise for complex number, real number of a given array. Also test whether a given number is a scalar type or not.\n",
    "- Write a NumPy program to create an element-wise comparison (greater, greater_equal, less and less_equal) of two given arrays.\n",
    "- Write a NumPy program to create an array with the values 1, 7, 13, 105 and determine the size of the memory occupied by the array.\n",
    "- Write a NumPy program to create an array of 10 zeros,10 ones, 10 fives.\n",
    "- Write a NumPy program to create an array of the integers from 30 to70.\n",
    "- Write a NumPy program to create an array of all the even integers from 30 to 70.\n",
    "- Write a NumPy program to create a 3x3 identity matrix.\n",
    "- Write a NumPy program to generate a random number between 0 and 1.\n",
    "- Write a NumPy program to generate an array of 15 random numbers from a standard normal distribution.\n",
    "- Write a NumPy program to create a vector with values ranging from 15 to 55 and print all values except the first and last.\n",
    "- Write a NumPy program to create a 3X4 array using and iterate over it.\n",
    "- Write a NumPy program to create a vector of length 10 with values evenly distributed between 5 and 50.\n",
    "- Write a NumPy program to create a vector with values from 0 to 20 and change the sign of the numbers in the range from 9 to 15.\n",
    "- Write a NumPy program to create a vector of length 5 filled with arbitrary integers from 0 to 10.\n",
    "- Write a NumPy program to multiply the values of two given vectors.\n",
    "- Write a NumPy program to create a 3x4 matrix filled with values from 10 to 21.\n",
    "- Write a NumPy program to find the number of rows and columns of a given matrix.\n",
    "- Write a NumPy program to create a 3x3 identity matrix, i.e. diagonal elements are 1, the rest are 0.\n",
    "- Write a NumPy program to create a 10x10 matrix, in which the elements on the borders will be equal to 1, and inside 0.\n",
    "- Write a NumPy program to create a 5x5 zero matrix with elements on the main diagonal equal to 1, 2, 3, 4, 5.\n",
    "- Write a NumPy program to create a 4x4 matrix in which 0 and 1 are staggered, with zeros on the main diagonal.\n",
    "- Write a NumPy program to create a 3x3x3 array filled with arbitrary values.\n",
    "- Write a NumPy program to compute sum of all elements, sum of each column and sum of each row of a given array.\n",
    "- Write a NumPy program to compute the inner product of two given vectors.\n",
    "- Write a NumPy program to add a vector to each row of a given matrix.\n",
    "- Write a NumPy program to compute the x and y coordinates for points on a sine curve and plot the points using matplotlib.\n",
    "- Write a NumPy program to convert numpy dtypes to native python types.\n",
    "- Write a NumPy program to find the missing data in a given array.\n",
    "- Write a NumPy program to sort a given array by row and column in ascending order.\n",
    "- Write a NumPy program to extract all numbers from a given array which are less and greater than a specified number.\n",
    "- Write a NumPy program to replace all numbers in a given array which is equal, less and greater to a given number.\n",
    "- Write a NumPy program to create an array of equal shape and data type of a given array.\n",
    "- Write a NumPy program to create a three-dimension array with shape (3,5,4) and set to a variable.\n",
    "- Write a NumPy program to multiply two given arrays of same size element-by-element."
   ]
  },
  {
   "cell_type": "code",
   "execution_count": 1,
   "id": "828bc4ce",
   "metadata": {},
   "outputs": [],
   "source": [
    "import numpy as np"
   ]
  },
  {
   "cell_type": "code",
   "execution_count": 2,
   "id": "2145ae50",
   "metadata": {},
   "outputs": [
    {
     "name": "stdout",
     "output_type": "stream",
     "text": [
      "NumPy Version: 1.21.5\n",
      "blas_mkl_info:\n",
      "    libraries = ['mkl_rt']\n",
      "    library_dirs = ['C:/ProgramData/Anaconda3\\\\Library\\\\lib']\n",
      "    define_macros = [('SCIPY_MKL_H', None), ('HAVE_CBLAS', None)]\n",
      "    include_dirs = ['C:/ProgramData/Anaconda3\\\\Library\\\\include']\n",
      "blas_opt_info:\n",
      "    libraries = ['mkl_rt']\n",
      "    library_dirs = ['C:/ProgramData/Anaconda3\\\\Library\\\\lib']\n",
      "    define_macros = [('SCIPY_MKL_H', None), ('HAVE_CBLAS', None)]\n",
      "    include_dirs = ['C:/ProgramData/Anaconda3\\\\Library\\\\include']\n",
      "lapack_mkl_info:\n",
      "    libraries = ['mkl_rt']\n",
      "    library_dirs = ['C:/ProgramData/Anaconda3\\\\Library\\\\lib']\n",
      "    define_macros = [('SCIPY_MKL_H', None), ('HAVE_CBLAS', None)]\n",
      "    include_dirs = ['C:/ProgramData/Anaconda3\\\\Library\\\\include']\n",
      "lapack_opt_info:\n",
      "    libraries = ['mkl_rt']\n",
      "    library_dirs = ['C:/ProgramData/Anaconda3\\\\Library\\\\lib']\n",
      "    define_macros = [('SCIPY_MKL_H', None), ('HAVE_CBLAS', None)]\n",
      "    include_dirs = ['C:/ProgramData/Anaconda3\\\\Library\\\\include']\n",
      "Supported SIMD extensions in this NumPy install:\n",
      "    baseline = SSE,SSE2,SSE3\n",
      "    found = SSSE3,SSE41,POPCNT,SSE42,AVX,F16C,FMA3,AVX2,AVX512F,AVX512CD,AVX512_SKX,AVX512_CLX\n",
      "    not found = AVX512_CNL\n",
      "Configuration: None\n"
     ]
    }
   ],
   "source": [
    "# 1. Write a NumPy program to get the numpy version and show numpy build configuration.\n",
    "print(\"NumPy Version:\",np.__version__)\n",
    "print(\"Configuration:\",np.show_config())"
   ]
  },
  {
   "cell_type": "code",
   "execution_count": 3,
   "id": "87f6a9be",
   "metadata": {},
   "outputs": [
    {
     "name": "stdout",
     "output_type": "stream",
     "text": [
      "add(x1, x2, /, out=None, *, where=True, casting='same_kind', order='K', dtype=None, subok=True[, signature, extobj])\n",
      "\n",
      "Add arguments element-wise.\n",
      "\n",
      "Parameters\n",
      "----------\n",
      "x1, x2 : array_like\n",
      "    The arrays to be added.\n",
      "    If ``x1.shape != x2.shape``, they must be broadcastable to a common\n",
      "    shape (which becomes the shape of the output).\n",
      "out : ndarray, None, or tuple of ndarray and None, optional\n",
      "    A location into which the result is stored. If provided, it must have\n",
      "    a shape that the inputs broadcast to. If not provided or None,\n",
      "    a freshly-allocated array is returned. A tuple (possible only as a\n",
      "    keyword argument) must have length equal to the number of outputs.\n",
      "where : array_like, optional\n",
      "    This condition is broadcast over the input. At locations where the\n",
      "    condition is True, the `out` array will be set to the ufunc result.\n",
      "    Elsewhere, the `out` array will retain its original value.\n",
      "    Note that if an uninitialized `out` array is created via the default\n",
      "    ``out=None``, locations within it where the condition is False will\n",
      "    remain uninitialized.\n",
      "**kwargs\n",
      "    For other keyword-only arguments, see the\n",
      "    :ref:`ufunc docs <ufuncs.kwargs>`.\n",
      "\n",
      "Returns\n",
      "-------\n",
      "add : ndarray or scalar\n",
      "    The sum of `x1` and `x2`, element-wise.\n",
      "    This is a scalar if both `x1` and `x2` are scalars.\n",
      "\n",
      "Notes\n",
      "-----\n",
      "Equivalent to `x1` + `x2` in terms of array broadcasting.\n",
      "\n",
      "Examples\n",
      "--------\n",
      ">>> np.add(1.0, 4.0)\n",
      "5.0\n",
      ">>> x1 = np.arange(9.0).reshape((3, 3))\n",
      ">>> x2 = np.arange(3.0)\n",
      ">>> np.add(x1, x2)\n",
      "array([[  0.,   2.,   4.],\n",
      "       [  3.,   5.,   7.],\n",
      "       [  6.,   8.,  10.]])\n",
      "\n",
      "The ``+`` operator can be used as a shorthand for ``np.add`` on ndarrays.\n",
      "\n",
      ">>> x1 = np.arange(9.0).reshape((3, 3))\n",
      ">>> x2 = np.arange(3.0)\n",
      ">>> x1 + x2\n",
      "array([[ 0.,  2.,  4.],\n",
      "       [ 3.,  5.,  7.],\n",
      "       [ 6.,  8., 10.]])\n",
      "None\n"
     ]
    }
   ],
   "source": [
    "# 2. Write a NumPy program to get help on the add function.\n",
    "print(np.info(np.add))"
   ]
  },
  {
   "cell_type": "code",
   "execution_count": 4,
   "id": "ba732016",
   "metadata": {},
   "outputs": [
    {
     "name": "stdout",
     "output_type": "stream",
     "text": [
      "Original array: [1 2 0 4 5 0]\n",
      "\n",
      "Elements of a given array is zero: True\n",
      "Element check: [False False  True False False  True]\n"
     ]
    }
   ],
   "source": [
    "# 3. Write a NumPy program to test whether none of the elements of a given array is zero.\n",
    "arr = np.array([1,2,0,4,5,0])\n",
    "non_zero = np.any(arr != 0)\n",
    "print(\"Original array:\",arr)\n",
    "print(\"\\nElements of a given array is zero:\",non_zero)\n",
    "print(\"Element check:\",arr == 0)"
   ]
  },
  {
   "cell_type": "code",
   "execution_count": 5,
   "id": "d31fea93",
   "metadata": {},
   "outputs": [
    {
     "name": "stdout",
     "output_type": "stream",
     "text": [
      "Original array: [1 2 0 4 5 0]\n",
      "\n",
      "Elements of a given array is non-zero: True\n",
      "Element check: [False False  True False False  True]\n"
     ]
    }
   ],
   "source": [
    "# 4. Write a NumPy program to test whether any of the elements of a given array is non-zero\n",
    "arr = np.array([1,2,0,4,5,0])\n",
    "zeros = np.any(arr != 0)\n",
    "print(\"Original array:\",arr)\n",
    "print(\"\\nElements of a given array is non-zero:\",zeros)\n",
    "print(\"Element check:\",arr == 0)"
   ]
  },
  {
   "cell_type": "code",
   "execution_count": 6,
   "id": "233f43f0",
   "metadata": {},
   "outputs": [
    {
     "name": "stdout",
     "output_type": "stream",
     "text": [
      "Original array: [ 1.  2. inf  4.  5. nan]\n",
      "\n",
      "Element-wise for finiteness: [ True  True False  True  True False]\n"
     ]
    }
   ],
   "source": [
    "# 5. Write a NumPy program to test a given array element-wise for finiteness (not infinity or not a Number).\n",
    "arr = np.array([1, 2, np.inf, 4, 5, np.nan])\n",
    "finite_elements = np.isfinite(arr)\n",
    "\n",
    "# Print the results\n",
    "print(\"Original array:\",arr)\n",
    "print(\"\\nElement-wise for finiteness:\",finite_elements)"
   ]
  },
  {
   "cell_type": "code",
   "execution_count": 7,
   "id": "e2d5c024",
   "metadata": {},
   "outputs": [
    {
     "name": "stdout",
     "output_type": "stream",
     "text": [
      "Original array: [ inf   2. -inf   4.   5.  nan]\n",
      "\n",
      "Element-wise check: [ True False  True False False False]\n"
     ]
    }
   ],
   "source": [
    "# 6. Write a NumPy program to test element-wise for positive or negative infinity\n",
    "arr = np.array([np.inf, 2, np.NINF, 4, 5, np.nan])\n",
    "non_infi = np.isinf(arr)\n",
    "\n",
    "print(\"Original array:\",arr)\n",
    "print(\"\\nElement-wise check:\",non_infi)"
   ]
  },
  {
   "cell_type": "code",
   "execution_count": 8,
   "id": "316cc689",
   "metadata": {},
   "outputs": [
    {
     "name": "stdout",
     "output_type": "stream",
     "text": [
      "Original array: [ inf   2.  nan -inf  nan   4.   5.  nan]\n",
      "\n",
      "Element-wise check: [False False  True False  True False False  True]\n"
     ]
    }
   ],
   "source": [
    "# 7. Write a NumPy program to test element-wise for NaN of a given array.\n",
    "arr = np.array([np.inf, 2, np.nan, np.NINF, np.nan, 4, 5, np.nan])\n",
    "nan_element = np.isnan(arr)\n",
    "\n",
    "print(\"Original array:\",arr)\n",
    "print(\"\\nElement-wise check:\",nan_element)"
   ]
  },
  {
   "cell_type": "code",
   "execution_count": 9,
   "id": "f412e0a9",
   "metadata": {},
   "outputs": [
    {
     "name": "stdout",
     "output_type": "stream",
     "text": [
      "\n",
      "Element-wise check for Scalar Number: True\n",
      "\n",
      "Element-wise check for Scalar Number: True\n",
      "\n",
      "Element-wise check for Scalar Number: True\n",
      "\n",
      "Element-wise check for Scalar Number: True\n",
      "\n",
      "Element-wise check for Scalar Number: True\n",
      "\n",
      "Element-wise check for Scalar Number: True\n",
      "[1. +0.j 2. +3.j 4.5+0.j 6. +0.j 0. +7.j 8. +9.j]\n",
      "\n",
      "Element-wise check for Complex Number: [False  True False False  True  True]\n",
      "\n",
      "Element-wise check for Real Number: [ True False  True  True False False]\n"
     ]
    }
   ],
   "source": [
    "# 8. Write a NumPy program to test element-wise for complex number, real number of a given array. Also test whether a given number is a scalar type or not.\n",
    "arr = np.array([1, 2+3j, 4.5, 6, 7j, 8+9j]) #use j and not i\n",
    "arr1 = np.array([1,2,3,4,5])\n",
    "complex_element = np.iscomplex(arr)\n",
    "real_no = np.isreal(arr)\n",
    "for e in arr:\n",
    "  scalar_no = np.isscalar(e)\n",
    "  print(\"\\nElement-wise check for Scalar Number:\",scalar_no)\n",
    "\n",
    "print(arr)\n",
    "print(\"\\nElement-wise check for Complex Number:\",complex_element)\n",
    "print(\"\\nElement-wise check for Real Number:\",real_no)\n"
   ]
  },
  {
   "cell_type": "code",
   "execution_count": 10,
   "id": "1a2f6790",
   "metadata": {},
   "outputs": [
    {
     "name": "stdout",
     "output_type": "stream",
     "text": [
      "Element-wise comparison - Greater: [False False  True  True False]\n",
      "Element-wise comparison - Greater-Equal: [False  True  True  True False]\n",
      "Element-wise comparison - Less: [ True False False False  True]\n",
      "Element-wise comparison - Less-Equal: [ True False False False  True]\n"
     ]
    }
   ],
   "source": [
    "# 9. Write a NumPy program to create an element-wise comparison (greater, greater_equal, less and less_equal) of two given arrays.\n",
    "arr1 = np.array([1,2,3,4,5])\n",
    "arr2 = np.array([3,2,1,2,7])\n",
    "\n",
    "greater = np.greater(arr1,arr2)\n",
    "print(\"Element-wise comparison - Greater:\",greater)\n",
    "\n",
    "greater_equal = np.greater_equal(arr1,arr2)\n",
    "print(\"Element-wise comparison - Greater-Equal:\",greater_equal)\n",
    "\n",
    "less = np.less(arr1,arr2)\n",
    "print(\"Element-wise comparison - Less:\",less)\n",
    "\n",
    "less_equal = np.less(arr1,arr2)\n",
    "print(\"Element-wise comparison - Less-Equal:\",less_equal)"
   ]
  },
  {
   "cell_type": "code",
   "execution_count": 11,
   "id": "906086cb",
   "metadata": {},
   "outputs": [
    {
     "name": "stdout",
     "output_type": "stream",
     "text": [
      "Array:  [  1   7  13 105]\n",
      "Size occupied:  120\n"
     ]
    }
   ],
   "source": [
    "# 10. Write a NumPy program to create an array with the values 1, 7, 13, 105 and determine the size of the memory occupied by the array.\n",
    "import sys\n",
    "\n",
    "arr = np.array([1,7,13,105])\n",
    "size = sys.getsizeof(arr)\n",
    "\n",
    "print(\"Array: \",arr)\n",
    "print(\"Size occupied: \",size)"
   ]
  },
  {
   "cell_type": "code",
   "execution_count": 12,
   "id": "9dbbee8a",
   "metadata": {},
   "outputs": [
    {
     "name": "stdout",
     "output_type": "stream",
     "text": [
      "[0. 0. 0. 0. 0. 0. 0. 0. 0. 0. 1. 1. 1. 1. 1. 1. 1. 1. 1. 1. 5. 5. 5. 5.\n",
      " 5. 5. 5. 5. 5. 5.]\n"
     ]
    }
   ],
   "source": [
    "# 11. Write a NumPy program to create an array of 10 zeros,10 ones, 10 fives.\n",
    "\n",
    "zeros = np.zeros(10)\n",
    "ones = np.ones(10)\n",
    "fives = np.full(10,5)\n",
    "\n",
    "arr = np.concatenate((zeros,ones,fives))\n",
    "print(arr)"
   ]
  },
  {
   "cell_type": "code",
   "execution_count": 13,
   "id": "da5d2a19",
   "metadata": {},
   "outputs": [
    {
     "name": "stdout",
     "output_type": "stream",
     "text": [
      "[30 31 32 33 34 35 36 37 38 39 40 41 42 43 44 45 46 47 48 49 50 51 52 53\n",
      " 54 55 56 57 58 59 60 61 62 63 64 65 66 67 68 69 70]\n"
     ]
    }
   ],
   "source": [
    "# 12. Write a NumPy program to create an array of the integers from 30 to 70.\n",
    "arr = np.arange(30,71)\n",
    "print(arr)"
   ]
  },
  {
   "cell_type": "code",
   "execution_count": 14,
   "id": "7dcac2b1",
   "metadata": {},
   "outputs": [
    {
     "name": "stdout",
     "output_type": "stream",
     "text": [
      "[[1. 0. 0.]\n",
      " [0. 1. 0.]\n",
      " [0. 0. 1.]]\n"
     ]
    }
   ],
   "source": [
    "# 13. Write a NumPy program to create a 3x3 identity matrix.\n",
    "arr = np.identity(3)\n",
    "print(arr)"
   ]
  },
  {
   "cell_type": "code",
   "execution_count": 15,
   "id": "65c7401a",
   "metadata": {},
   "outputs": [
    {
     "name": "stdout",
     "output_type": "stream",
     "text": [
      "[0.12869671]\n"
     ]
    }
   ],
   "source": [
    "# 14. Write a NumPy program to generate a random number between 0 and 1.\n",
    "random_no = np.random.rand(1)\n",
    "print(random_no)"
   ]
  },
  {
   "cell_type": "code",
   "execution_count": 16,
   "id": "7d9132ae",
   "metadata": {},
   "outputs": [
    {
     "name": "stdout",
     "output_type": "stream",
     "text": [
      "[0.97031305 0.58099317 0.71421501 0.11751935 0.1496718  0.29962111\n",
      " 0.08252226 0.50500709 0.49960544 0.03923664 0.73181744 0.5883557\n",
      " 0.44344034 0.24723649 0.07668907]\n"
     ]
    }
   ],
   "source": [
    "# 15. Write a NumPy program to generate an array of 15 random numbers from a standard normal distribution.\n",
    "random_no = np.random.rand(15)\n",
    "print(random_no)"
   ]
  },
  {
   "cell_type": "code",
   "execution_count": 17,
   "id": "9f275856",
   "metadata": {},
   "outputs": [
    {
     "name": "stdout",
     "output_type": "stream",
     "text": [
      "[16 17 18 19 20 21 22 23 24 25 26 27 28 29 30 31 32 33 34 35 36 37 38 39\n",
      " 40 41 42 43 44 45 46 47 48 49 50 51 52 53 54]\n"
     ]
    }
   ],
   "source": [
    "# 16. Write a NumPy program to create a vector with values ranging from 15 to 55 and print all values except the first and last.\n",
    "vector = np.arange(15,56)\n",
    "print(vector[1:-1]) "
   ]
  },
  {
   "cell_type": "code",
   "execution_count": 20,
   "id": "56b9fe9b",
   "metadata": {},
   "outputs": [
    {
     "name": "stdout",
     "output_type": "stream",
     "text": [
      "[[ 1  2  3  4]\n",
      " [ 5  6  7  8]\n",
      " [ 9 10 11 12]]\n",
      "1\n",
      "2\n",
      "3\n",
      "4\n",
      "5\n",
      "6\n",
      "7\n",
      "8\n",
      "9\n",
      "10\n",
      "11\n",
      "12\n"
     ]
    }
   ],
   "source": [
    "# 17. Write a NumPy program to create a 3X4 array using and iterate over it.\n",
    "arr = np.array([[1, 2, 3, 4], [5, 6, 7, 8], [9, 10, 11, 12]])\n",
    "print(arr)\n",
    "for x in np.nditer(arr):\n",
    "    print(x)"
   ]
  },
  {
   "cell_type": "code",
   "execution_count": 2,
   "id": "284338a4",
   "metadata": {},
   "outputs": [
    {
     "name": "stdout",
     "output_type": "stream",
     "text": [
      "[ 5. 10. 15. 20. 25. 30. 35. 40. 45. 50.]\n"
     ]
    }
   ],
   "source": [
    "# 18. Write a NumPy program to create a vector of length 10 with values evenly distributed between 5 and 50.\n",
    "\n",
    "vector = np.linspace(5, 50, 10)\n",
    "print(vector)"
   ]
  },
  {
   "cell_type": "code",
   "execution_count": 4,
   "id": "6058d974",
   "metadata": {},
   "outputs": [
    {
     "name": "stdout",
     "output_type": "stream",
     "text": [
      "[  0   1   2   3   4   5   6   7   8  -9 -10 -11 -12 -13 -14 -15  16  17\n",
      "  18  19  20]\n"
     ]
    }
   ],
   "source": [
    "# 19. Write a NumPy program to create a vector with values from 0 to 20 and change the sign of the numbers in the range from 9 to 15.\n",
    "\n",
    "vector = np.arange(21)\n",
    "vector[9:16] *= -1\n",
    "print(vector)"
   ]
  },
  {
   "cell_type": "code",
   "execution_count": 6,
   "id": "53450475",
   "metadata": {},
   "outputs": [
    {
     "name": "stdout",
     "output_type": "stream",
     "text": [
      "[6 4 6 0 8]\n"
     ]
    }
   ],
   "source": [
    "# 20. Write a NumPy program to create a vector of length 5 filled with arbitrary integers from 0 to 10.\n",
    "\n",
    "vector = np.random.randint(0,11,5)\n",
    "print(vector)"
   ]
  },
  {
   "cell_type": "code",
   "execution_count": 7,
   "id": "41aa23be",
   "metadata": {},
   "outputs": [
    {
     "name": "stdout",
     "output_type": "stream",
     "text": [
      "[ 4 10 18]\n"
     ]
    }
   ],
   "source": [
    "# 21. Write a NumPy program to multiply the values of two given vectors.\n",
    "\n",
    "vector1 = np.array([1, 2, 3])\n",
    "vector2 = np.array([4, 5, 6])\n",
    "\n",
    "result = np.multiply(vector1, vector2)\n",
    "print(result)"
   ]
  },
  {
   "cell_type": "code",
   "execution_count": 8,
   "id": "28802f20",
   "metadata": {},
   "outputs": [
    {
     "name": "stdout",
     "output_type": "stream",
     "text": [
      "[[10 11 12 13]\n",
      " [14 15 16 17]\n",
      " [18 19 20 21]]\n"
     ]
    }
   ],
   "source": [
    "# 22. Write a NumPy program to create a 3x4 matrix filled with values from 10 to 21.\n",
    "matrix = np.arange(10, 22).reshape(3, 4)\n",
    "print(matrix)"
   ]
  },
  {
   "cell_type": "code",
   "execution_count": 9,
   "id": "bea06e31",
   "metadata": {},
   "outputs": [
    {
     "name": "stdout",
     "output_type": "stream",
     "text": [
      "Rows: 3\n",
      "Columns: 4\n"
     ]
    }
   ],
   "source": [
    "# 23. Write a NumPy program to find the number of rows and columns of a given matrix.\n",
    "matrix = np.array([[1, 2, 3, 4], [5, 6, 7, 8], [9, 10, 11, 12]])\n",
    "rows, columns = matrix.shape\n",
    "print(\"Rows:\",rows)\n",
    "print(\"Columns:\",columns)"
   ]
  },
  {
   "cell_type": "code",
   "execution_count": 27,
   "id": "eb8c22b5",
   "metadata": {},
   "outputs": [
    {
     "name": "stdout",
     "output_type": "stream",
     "text": [
      "[[1. 0. 0.]\n",
      " [0. 1. 0.]\n",
      " [0. 0. 1.]]\n"
     ]
    }
   ],
   "source": [
    "# 24. Write a NumPy program to create a 3x3 identity matrix, i.e. diagonal elements are 1, the rest are 0.\n",
    "identity = np.eye(3)\n",
    "print(identity)"
   ]
  },
  {
   "cell_type": "code",
   "execution_count": 28,
   "id": "399f622f",
   "metadata": {},
   "outputs": [
    {
     "name": "stdout",
     "output_type": "stream",
     "text": [
      "[[1. 1. 1. 1. 1. 1. 1. 1. 1. 1.]\n",
      " [1. 0. 0. 0. 0. 0. 0. 0. 0. 1.]\n",
      " [1. 0. 0. 0. 0. 0. 0. 0. 0. 1.]\n",
      " [1. 0. 0. 0. 0. 0. 0. 0. 0. 1.]\n",
      " [1. 0. 0. 0. 0. 0. 0. 0. 0. 1.]\n",
      " [1. 0. 0. 0. 0. 0. 0. 0. 0. 1.]\n",
      " [1. 0. 0. 0. 0. 0. 0. 0. 0. 1.]\n",
      " [1. 0. 0. 0. 0. 0. 0. 0. 0. 1.]\n",
      " [1. 0. 0. 0. 0. 0. 0. 0. 0. 1.]\n",
      " [1. 1. 1. 1. 1. 1. 1. 1. 1. 1.]]\n"
     ]
    }
   ],
   "source": [
    "# 25. Write a NumPy program to create a 10x10 matrix, in which the elements on the borders will be equal to 1, and inside 0.\n",
    "matrix = np.zeros((10, 10))\n",
    "\n",
    "for i in range(10):\n",
    "    matrix[i, 0] = 1\n",
    "    matrix[i, -1] = 1\n",
    "    matrix[0, i] = 1\n",
    "    matrix[-1, i] = 1\n",
    "\n",
    "print(matrix)"
   ]
  },
  {
   "cell_type": "code",
   "execution_count": 30,
   "id": "e0c472af",
   "metadata": {},
   "outputs": [
    {
     "name": "stdout",
     "output_type": "stream",
     "text": [
      "[[1. 0. 0. 0. 0.]\n",
      " [0. 2. 0. 0. 0.]\n",
      " [0. 0. 3. 0. 0.]\n",
      " [0. 0. 0. 4. 0.]\n",
      " [0. 0. 0. 0. 5.]]\n"
     ]
    }
   ],
   "source": [
    "# 26. Write a NumPy program to create a 5x5 zero matrix with elements on the main diagonal equal to 1, 2, 3, 4, 5.\n",
    "\n",
    "matrix = np.zeros((5, 5))\n",
    "diagonal_element = [1,2,3,4,5]\n",
    "np.fill_diagonal(matrix, diagonal_element)\n",
    "print(matrix)"
   ]
  },
  {
   "cell_type": "code",
   "execution_count": 34,
   "id": "e957a02e",
   "metadata": {},
   "outputs": [
    {
     "name": "stdout",
     "output_type": "stream",
     "text": [
      "[[0. 1. 0. 1.]\n",
      " [1. 0. 1. 0.]\n",
      " [0. 1. 0. 1.]\n",
      " [1. 0. 1. 0.]]\n"
     ]
    }
   ],
   "source": [
    "# 27. Write a NumPy program to create a 4x4 matrix in which 0 and 1 are staggered, with zeros on the main diagonal.\n",
    "matrix = np.zeros((4,4))\n",
    "for i in range(4):\n",
    "    for j in range(4):\n",
    "        if (i+j)%2 == 0:\n",
    "            matrix[i][j] = 0\n",
    "        else:\n",
    "            matrix[i,j] = 1\n",
    "\n",
    "print(matrix)"
   ]
  },
  {
   "cell_type": "code",
   "execution_count": 38,
   "id": "513af967",
   "metadata": {},
   "outputs": [
    {
     "name": "stdout",
     "output_type": "stream",
     "text": [
      "[[[0.4242373  0.30063191 0.42153072]\n",
      "  [0.93117886 0.509221   0.93821688]\n",
      "  [0.08994267 0.57095888 0.26390222]]\n",
      "\n",
      " [[0.75781179 0.62783845 0.14081465]\n",
      "  [0.57988667 0.82223608 0.56279955]\n",
      "  [0.7988489  0.42066776 0.57765783]]\n",
      "\n",
      " [[0.69525988 0.71752141 0.16616949]\n",
      "  [0.6210406  0.29876602 0.12711752]\n",
      "  [0.4865596  0.20165908 0.84048247]]]\n"
     ]
    }
   ],
   "source": [
    "# 28. Write a NumPy program to create a 3x3x3 array filled with arbitrary values.\n",
    "\n",
    "arr = np.random.rand(3,3,3)\n",
    "print(arr)"
   ]
  },
  {
   "cell_type": "code",
   "execution_count": 39,
   "id": "662dda61",
   "metadata": {},
   "outputs": [
    {
     "name": "stdout",
     "output_type": "stream",
     "text": [
      "Sum of all elements: 30\n",
      "Sum of each column: [ 9 11 10]\n",
      "Sum of each row: [13  6 11]\n"
     ]
    }
   ],
   "source": [
    "# 29. Write a NumPy program to compute sum of all elements, sum of each column and sum of each row of a given array.\n",
    "\n",
    "array = np.random.randint(1, 11, size=(3, 3))\n",
    "\n",
    "sum_arr = np.sum(array)\n",
    "sum_cols = np.sum(array, axis=0)\n",
    "sum_rows = np.sum(array, axis=1)\n",
    "\n",
    "print(\"Sum of all elements:\", sum_arr)\n",
    "print(\"Sum of each column:\", sum_cols)\n",
    "print(\"Sum of each row:\", sum_rows)"
   ]
  },
  {
   "cell_type": "code",
   "execution_count": 46,
   "id": "18a93eba",
   "metadata": {},
   "outputs": [
    {
     "name": "stdout",
     "output_type": "stream",
     "text": [
      "[1 2]\n",
      "[2 3]\n",
      "Inner product: 8\n"
     ]
    }
   ],
   "source": [
    "# 30. Write a NumPy program to compute the inner product of two given vectors.\n",
    "\n",
    "vector1 = np.array([1,2])\n",
    "vector2 = np.array([2,3])\n",
    "\n",
    "print(vector1)\n",
    "print(vector2)\n",
    "\n",
    "inner_prod = np.dot(vector1,vector2)\n",
    "print(\"Inner product:\", inner_prod)"
   ]
  },
  {
   "cell_type": "code",
   "execution_count": 53,
   "id": "8585fad2",
   "metadata": {},
   "outputs": [
    {
     "name": "stdout",
     "output_type": "stream",
     "text": [
      "Matrix\n",
      " [[ 9  4  7]\n",
      " [ 6 10  4]\n",
      " [ 7  1  5]]\n",
      "Vector: [ 2 10  9]\n",
      "Matrix with vector added:\n",
      " [[11 14 16]\n",
      " [ 8 20 13]\n",
      " [ 9 11 14]]\n"
     ]
    }
   ],
   "source": [
    "# 31. Write a NumPy program to add a vector to each row of a given matrix.\n",
    "\n",
    "matrix = np.random.randint(1, 11, size=(3, 3))\n",
    "vector = np.random.randint(1, 11, size=(3,))\n",
    "\n",
    "print(\"Matrix\\n\",matrix)\n",
    "print(\"Vector:\",vector)\n",
    "\n",
    "matrix_add = matrix + vector\n",
    "print(\"Matrix with vector added:\\n\", matrix_add)"
   ]
  },
  {
   "cell_type": "code",
   "execution_count": 55,
   "id": "9534ff5b",
   "metadata": {},
   "outputs": [
    {
     "data": {
      "image/png": "[encoded data removed]",
      "text/plain": [
       "<Figure size 640x480 with 1 Axes>"
      ]
     },
     "metadata": {},
     "output_type": "display_data"
    }
   ],
   "source": [
    "# 32. Write a NumPy program to compute the x and y coordinates for points on a sine curve and plot the points using matplotlib.\n",
    "\n",
    "import matplotlib.pyplot as plt\n",
    "\n",
    "x = np.linspace(0, 2 * np.pi, 100)\n",
    "y = np.sin(x)\n",
    "\n",
    "plt.plot(x, y)\n",
    "plt.xlabel('x')\n",
    "plt.ylabel('Sin(x)')\n",
    "plt.title('Sine Curve')\n",
    "plt.grid(True)\n",
    "plt.show()"
   ]
  },
  {
   "cell_type": "code",
   "execution_count": 57,
   "id": "ef34dd37",
   "metadata": {},
   "outputs": [
    {
     "name": "stdout",
     "output_type": "stream",
     "text": [
      "['1', '2.5', '3', 'True', '4']\n"
     ]
    }
   ],
   "source": [
    "# 33. Write a NumPy program to convert numpy dtypes to native python types\n",
    "array = np.array([1, 2.5, '3', True, 4])\n",
    "native_types = array.tolist()\n",
    "print(native_types)"
   ]
  },
  {
   "cell_type": "code",
   "execution_count": 62,
   "id": "b2fc9c3b",
   "metadata": {},
   "outputs": [
    {
     "name": "stdout",
     "output_type": "stream",
     "text": [
      "Missing data:\n",
      " (array([3], dtype=int64),)\n"
     ]
    }
   ],
   "source": [
    "# 34. Write a NumPy program to find the missing data in a given array.\n",
    "\n",
    "array = np.array([1,2,3,np.nan,6,7])\n",
    "print(array)\n",
    "missing_data = np.where(np.isnan(array))\n",
    "\n",
    "print(\"Missing data:\\n\", missing_data)"
   ]
  },
  {
   "cell_type": "code",
   "execution_count": 63,
   "id": "484018fb",
   "metadata": {},
   "outputs": [
    {
     "name": "stdout",
     "output_type": "stream",
     "text": [
      "[[ 5  1 10 10  3]\n",
      " [ 5  2  2  7  1]\n",
      " [ 5  7  5  1  1]\n",
      " [10  4  4  6 10]\n",
      " [ 8  2  9 10  8]]\n",
      "Array sorted by row:\n",
      " [[ 1  3  5 10 10]\n",
      " [ 1  2  2  5  7]\n",
      " [ 1  1  5  5  7]\n",
      " [ 4  4  6 10 10]\n",
      " [ 2  8  8  9 10]]\n",
      "Array sorted by Column:\n",
      " [[ 5  1  2  1  1]\n",
      " [ 5  2  4  6  1]\n",
      " [ 5  2  5  7  3]\n",
      " [ 8  4  9 10  8]\n",
      " [10  7 10 10 10]]\n"
     ]
    }
   ],
   "source": [
    "# 35. Write a NumPy program to sort a given array by row and column in ascending order.\n",
    "\n",
    "array = np.random.randint(1, 11, size=(5, 5))\n",
    "print(array)\n",
    "\n",
    "sort_row = np.sort(array, axis=1)\n",
    "sort_col = np.sort(array, axis=0)\n",
    "\n",
    "print(\"Array sorted by row:\\n\",sort_row)\n",
    "print(\"Array sorted by Column:\\n\",sort_col)"
   ]
  },
  {
   "cell_type": "code",
   "execution_count": 76,
   "id": "424c8696",
   "metadata": {},
   "outputs": [
    {
     "name": "stdout",
     "output_type": "stream",
     "text": [
      "[[ 5 10  6]\n",
      " [ 8  3  8]\n",
      " [ 6 10  5]]\n",
      "Numbers less than 5 :\n",
      "[3]\n",
      "\n",
      "Numbers greater than 5 :\n",
      "[10  6  8  8  6 10]\n"
     ]
    }
   ],
   "source": [
    "# 36. Write a NumPy program to extract all numbers from a given array which are less and greater than a specified number.\n",
    "\n",
    "array = np.random.randint(1, 11, size=(3, 3))\n",
    "print(array)\n",
    "\n",
    "num = 5\n",
    "\n",
    "less_than_num = array[array < num]\n",
    "\n",
    "greater_than_num = array[array > num]\n",
    "\n",
    "print(\"Numbers less than\", num, \":\")\n",
    "print(less_than_num)\n",
    "print(\"\\nNumbers greater than\", num, \":\")\n",
    "print(greater_than_num)"
   ]
  },
  {
   "cell_type": "code",
   "execution_count": 75,
   "id": "fc822530",
   "metadata": {},
   "outputs": [
    {
     "name": "stdout",
     "output_type": "stream",
     "text": [
      "[[2 2 9]\n",
      " [6 3 7]\n",
      " [4 8 9]]\n",
      "Answer:\n",
      " [[-1 -1  1]\n",
      " [ 1 -1  1]\n",
      " [-1  1  1]]\n"
     ]
    }
   ],
   "source": [
    "# 37. Write a NumPy program to replace all numbers in a given array which is equal, less and greater to a given number.\n",
    "\n",
    "array = np.random.randint(1, 11, size=(3, 3))\n",
    "print(array)\n",
    "\n",
    "num = 5\n",
    "\n",
    "array[array == num] = 0\n",
    "array[array < num] = -1\n",
    "array[array > num] = 1\n",
    "\n",
    "print(\"Answer:\\n\",array)"
   ]
  },
  {
   "cell_type": "code",
   "execution_count": 74,
   "id": "235c7529",
   "metadata": {},
   "outputs": [
    {
     "name": "stdout",
     "output_type": "stream",
     "text": [
      "[[5 1 3]\n",
      " [7 9 1]\n",
      " [4 3 6]]\n",
      "New Array:\n",
      " [[4 2 2]\n",
      " [3 8 3]\n",
      " [2 3 2]]\n"
     ]
    }
   ],
   "source": [
    "# 38. Write a NumPy program to create an array of equal shape and data type of a given array.\n",
    "\n",
    "array = np.random.randint(1, 11, size=(3, 3))\n",
    "print(array)\n",
    "\n",
    "new_array = np.empty_like(array)\n",
    "\n",
    "print(\"New Array:\\n\",new_array)"
   ]
  },
  {
   "cell_type": "code",
   "execution_count": 72,
   "id": "63e40710",
   "metadata": {},
   "outputs": [
    {
     "name": "stdout",
     "output_type": "stream",
     "text": [
      "Array:\n",
      " [[[ 6  8  1  1]\n",
      "  [ 8  5  1  1]\n",
      "  [ 2  2  7 10]\n",
      "  [10  9  4  2]\n",
      "  [ 9  9  1  3]]\n",
      "\n",
      " [[ 5  1 10  1]\n",
      "  [ 1  2 10  6]\n",
      "  [ 4  2 10  6]\n",
      "  [ 5  3  5  8]\n",
      "  [ 2  7  1 10]]\n",
      "\n",
      " [[ 1  6  5  3]\n",
      "  [10  5  3  5]\n",
      "  [ 3  6  7  6]\n",
      "  [ 5  4  3  3]\n",
      "  [ 7  7  5 10]]]\n",
      "Shape of the array:  (3, 5, 4)\n",
      "Data type of the array:  int32\n"
     ]
    }
   ],
   "source": [
    "# 39. Write a NumPy program to create a three-dimension array with shape (3,5,4) and set to a variable.\n",
    "\n",
    "arr1 = np.random.randint(1, 11, size=(3, 5, 4))\n",
    "\n",
    "print(\"Array:\\n\",arr1)\n",
    "print(\"Shape of the array: \", arr1.shape)\n",
    "print(\"Data type of the array: \", arr1.dtype)"
   ]
  },
  {
   "cell_type": "code",
   "execution_count": 69,
   "id": "ad755ee2",
   "metadata": {},
   "outputs": [
    {
     "name": "stdout",
     "output_type": "stream",
     "text": [
      "Array 1:\n",
      " [[3 6 7]\n",
      " [9 8 7]\n",
      " [8 6 1]]\n",
      "Array 2:\n",
      " [[ 7  7  8]\n",
      " [ 6  2 10]\n",
      " [ 5  3  6]]\n",
      "Result:\n",
      " [[21 42 56]\n",
      " [54 16 70]\n",
      " [40 18  6]]\n"
     ]
    }
   ],
   "source": [
    "# 40. Write a NumPy program to multiply two given arrays of same size element-by-element.\n",
    "\n",
    "arr1 = np.random.randint(1, 11, size=(3, 3))\n",
    "print(\"Array 1:\\n\",arr1)\n",
    "\n",
    "arr2 = np.random.randint(1, 11, size=(3, 3))\n",
    "print(\"Array 2:\\n\",arr2)\n",
    "\n",
    "result = np.multiply(arr1, arr2)\n",
    "print(\"Result:\\n\",result)"
   ]
  },
  {
   "cell_type": "code",
   "execution_count": null,
   "id": "97858457",
   "metadata": {},
   "outputs": [],
   "source": []
  }
 ],
 "metadata": {
  "kernelspec": {
   "display_name": "Python 3 (ipykernel)",
   "language": "python",
   "name": "python3"
  },
  "language_info": {
   "codemirror_mode": {
    "name": "ipython",
    "version": 3
   },
   "file_extension": ".py",
   "mimetype": "text/x-python",
   "name": "python",
   "nbconvert_exporter": "python",
   "pygments_lexer": "ipython3",
   "version": "3.9.13"
  }
 },
 "nbformat": 4,
 "nbformat_minor": 5
}
