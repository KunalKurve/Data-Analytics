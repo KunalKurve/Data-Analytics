{
 "cells": [
  {
   "cell_type": "code",
   "execution_count": 1,
   "metadata": {},
   "outputs": [
    {
     "name": "stdout",
     "output_type": "stream",
     "text": [
      "Requirement already satisfied: pandas in c:\\users\\administrator.dai-pc2\\.conda\\envs\\test_env\\lib\\site-packages (2.2.1)\n",
      "Requirement already satisfied: pytz in c:\\users\\administrator.dai-pc2\\.conda\\envs\\test_env\\lib\\site-packages (2023.3.post1)\n",
      "Requirement already satisfied: numpy<2,>=1.26.0 in c:\\users\\administrator.dai-pc2\\.conda\\envs\\test_env\\lib\\site-packages (from pandas) (1.26.4)\n",
      "Requirement already satisfied: python-dateutil>=2.8.2 in c:\\users\\administrator.dai-pc2\\.conda\\envs\\test_env\\lib\\site-packages (from pandas) (2.8.2)\n",
      "Requirement already satisfied: tzdata>=2022.7 in c:\\users\\administrator.dai-pc2\\.conda\\envs\\test_env\\lib\\site-packages (from pandas) (2024.1)\n",
      "Requirement already satisfied: six>=1.5 in c:\\users\\administrator.dai-pc2\\.conda\\envs\\test_env\\lib\\site-packages (from python-dateutil>=2.8.2->pandas) (1.16.0)\n"
     ]
    }
   ],
   "source": [
    "! pip install pandas pytz"
   ]
  },
  {
   "cell_type": "code",
   "execution_count": 2,
   "metadata": {},
   "outputs": [
    {
     "name": "stdout",
     "output_type": "stream",
     "text": [
      "a) Datetime object for Jan 15 2012: 2012-01-15 00:00:00\n",
      "b) Specific date and time of 9:20 pm: 2022-01-01 21:20:00\n",
      "c) Local date and time: 2024-04-23 08:51:30.615483\n",
      "d) A date without time: 2024-04-23 00:00:00\n",
      "e) Current date: 2024-04-23 00:00:00\n",
      "f) Time from a datetime: 00:00:00\n",
      "g) Current local time: 08:51:30.784051\n"
     ]
    }
   ],
   "source": [
    "import pandas as pd\n",
    "from datetime import datetime\n",
    "import pytz\n",
    "\n",
    "# a) Datetime object for Jan 15 2012.\n",
    "date1 = pd.Timestamp('2012-01-15')\n",
    "print(f\"a) Datetime object for Jan 15 2012: {date1}\")\n",
    "\n",
    "# b) Specific date and time of 9:20 pm.\n",
    "date2 = pd.Timestamp('2022-01-01 21:20:00')\n",
    "print(f\"b) Specific date and time of 9:20 pm: {date2}\")\n",
    "\n",
    "# c) Local date and time.\n",
    "date3 = pd.Timestamp(datetime.now())\n",
    "print(f\"c) Local date and time: {date3}\")\n",
    "\n",
    "# d) A date without time.\n",
    "date4 = pd.Timestamp(datetime.date(datetime.now()))\n",
    "print(f\"d) A date without time: {date4}\")\n",
    "\n",
    "# e) Current date.\n",
    "date5 = pd.Timestamp(pd.to_datetime(\"today\").strftime(\"%Y-%m-%d\"))\n",
    "print(f\"e) Current date: {date5}\")\n",
    "\n",
    "# f) Time from a datetime.\n",
    "time = date1.time()\n",
    "print(f\"f) Time from a datetime: {time}\")\n",
    "\n",
    "# g) Current local time.\n",
    "local_time = datetime.now(pytz.timezone('Asia/Kolkata')).time()\n",
    "print(f\"g) Current local time: {local_time}\")\n"
   ]
  },
  {
   "cell_type": "code",
   "execution_count": 3,
   "metadata": {},
   "outputs": [
    {
     "name": "stdout",
     "output_type": "stream",
     "text": [
      "a) A specific date using timestamp: 2012-01-15 00:00:00\n",
      "b) Date and time using timestamp: 2022-01-01 21:20:00\n",
      "c) A time adds in the current local date using timestamp: 2024-04-23 13:20:00\n",
      "d) Current date and time using timestamp: 2024-04-23 08:51:30.808949\n"
     ]
    }
   ],
   "source": [
    "import pandas as pd\n",
    "from datetime import datetime, time\n",
    "import pytz\n",
    "\n",
    "# a) A specific date using timestamp.\n",
    "date1 = pd.Timestamp('2012-01-15')\n",
    "print(f\"a) A specific date using timestamp: {date1}\")\n",
    "\n",
    "# b) Date and time using timestamp.\n",
    "date2 = pd.Timestamp('2022-01-01 21:20:00')\n",
    "print(f\"b) Date and time using timestamp: {date2}\")\n",
    "\n",
    "# c) A time adds in the current local date using timestamp.\n",
    "current_date = pd.Timestamp(datetime.date(datetime.now()))\n",
    "specific_time = time(13, 20)  # specific time: 13:20\n",
    "date3 = pd.Timestamp(datetime.combine(current_date, specific_time))\n",
    "print(f\"c) A time adds in the current local date using timestamp: {date3}\")\n",
    "\n",
    "# d) Current date and time using timestamp.\n",
    "date4 = pd.Timestamp(datetime.now())\n",
    "print(f\"d) Current date and time using timestamp: {date4}\")\n",
    "\n"
   ]
  },
  {
   "cell_type": "code",
   "execution_count": 4,
   "metadata": {},
   "outputs": [
    {
     "name": "stdout",
     "output_type": "stream",
     "text": [
      "a) Date from a given year, month, day: 2012-01-15 00:00:00\n",
      "b) Date from a given string formats: 2022-01-01 00:00:00\n"
     ]
    }
   ],
   "source": [
    "import pandas as pd\n",
    "\n",
    "# a) Create a date from a given year, month, day.\n",
    "date1 = pd.Timestamp(year=2012, month=1, day=15)\n",
    "print(f\"a) Date from a given year, month, day: {date1}\")\n",
    "\n",
    "# b) Create a date from a given string formats.\n",
    "date2 = pd.to_datetime(\"1st of January, 2022\")\n",
    "print(f\"b) Date from a given string formats: {date2}\")\n"
   ]
  },
  {
   "cell_type": "code",
   "execution_count": 5,
   "metadata": {},
   "outputs": [
    {
     "name": "stdout",
     "output_type": "stream",
     "text": [
      "a) Day after 2022-01-01 00:00:00: 2022-01-02 00:00:00\n",
      "   Day before 2022-01-01 00:00:00: 2021-12-31 00:00:00\n",
      "b) Days between 2022-01-01 00:00:00 and 2022-01-31 00:00:00: 30\n"
     ]
    }
   ],
   "source": [
    "import pandas as pd\n",
    "\n",
    "# a) Print the day after and before a specified date.\n",
    "date = pd.Timestamp('2022-01-01')\n",
    "day_after = date + pd.DateOffset(days=1)\n",
    "day_before = date - pd.DateOffset(days=1)\n",
    "print(f\"a) Day after {date}: {day_after}\")\n",
    "print(f\"   Day before {date}: {day_before}\")\n",
    "\n",
    "# b) Print the days between two given dates.\n",
    "date1 = pd.Timestamp('2022-01-01')\n",
    "date2 = pd.Timestamp('2022-01-31')\n",
    "days_between = (date2 - date1).days\n",
    "print(f\"b) Days between {date1} and {date2}: {days_between}\")\n"
   ]
  },
  {
   "cell_type": "code",
   "execution_count": 6,
   "metadata": {},
   "outputs": [
    {
     "name": "stdout",
     "output_type": "stream",
     "text": [
      "Time-series with two index labels and random values:\n",
      "                   A         B\n",
      "2022-01-01  0.445011 -1.385557\n",
      "2022-01-02 -0.552798 -1.240152\n",
      "2022-01-03  0.882715  1.664325\n",
      "2022-01-04 -0.696742 -1.045128\n",
      "2022-01-05 -0.331561 -0.208403\n",
      "2022-01-06 -1.182202 -1.418844\n",
      "\n",
      "Type of the index: <class 'pandas.core.indexes.datetimes.DatetimeIndex'>\n"
     ]
    }
   ],
   "source": [
    "import pandas as pd\n",
    "import numpy as np\n",
    "\n",
    "# Create a time-series with two index labels and random values.\n",
    "dates = pd.date_range('20220101', periods=6)\n",
    "df = pd.DataFrame(np.random.randn(6, 2), index=dates, columns=list('AB'))\n",
    "\n",
    "print(f\"Time-series with two index labels and random values:\\n{df}\")\n",
    "\n",
    "# Print the type of the index.\n",
    "print(f\"\\nType of the index: {type(df.index)}\")\n"
   ]
  },
  {
   "cell_type": "code",
   "execution_count": 7,
   "metadata": {},
   "outputs": [
    {
     "name": "stdout",
     "output_type": "stream",
     "text": [
      "Time-series from a given list of dates as strings:\n",
      "2022-01-01    0\n",
      "2022-01-02    1\n",
      "2022-01-03    2\n",
      "2022-01-04    3\n",
      "2022-01-05    4\n",
      "dtype: int64\n"
     ]
    }
   ],
   "source": [
    "import pandas as pd\n",
    "\n",
    "# Given list of dates as strings.\n",
    "dates = ['2022-01-01', '2022-01-02', '2022-01-03', '2022-01-04', '2022-01-05']\n",
    "\n",
    "# Create a time-series from the given list of dates.\n",
    "ts = pd.Series(range(len(dates)), index=pd.to_datetime(dates))\n",
    "\n",
    "print(f\"Time-series from a given list of dates as strings:\\n{ts}\")\n"
   ]
  },
  {
   "cell_type": "code",
   "execution_count": 8,
   "metadata": {},
   "outputs": [
    {
     "name": "stdout",
     "output_type": "stream",
     "text": [
      "Time series object that has time indexed data:\n",
      "2022-01-01    0\n",
      "2022-01-02    1\n",
      "2022-01-03    2\n",
      "2022-01-04    3\n",
      "2022-01-05    4\n",
      "2022-01-06    5\n",
      "Freq: D, dtype: int64\n",
      "\n",
      "Dates of same year:\n",
      "2022-01-01    0\n",
      "2022-01-02    1\n",
      "2022-01-03    2\n",
      "2022-01-04    3\n",
      "2022-01-05    4\n",
      "2022-01-06    5\n",
      "Freq: D, dtype: int64\n",
      "\n",
      "Dates between '2022-01-02' and '2022-01-04':\n",
      "2022-01-02    1\n",
      "2022-01-03    2\n",
      "2022-01-04    3\n",
      "Freq: D, dtype: int64\n"
     ]
    }
   ],
   "source": [
    "import pandas as pd\n",
    "\n",
    "# Create a time series object that has time indexed data.\n",
    "dates = pd.date_range('2022-01-01', periods=6)\n",
    "ts = pd.Series(range(len(dates)), index=dates)\n",
    "print(f\"Time series object that has time indexed data:\\n{ts}\\n\")\n",
    "\n",
    "# Select the dates of same year.\n",
    "same_year_dates = ts['2022']\n",
    "print(f\"Dates of same year:\\n{same_year_dates}\\n\")\n",
    "\n",
    "# Select the dates between certain dates.\n",
    "certain_dates = ts['2022-01-02':'2022-01-04']\n",
    "print(f\"Dates between '2022-01-02' and '2022-01-04':\\n{certain_dates}\")\n"
   ]
  },
  {
   "cell_type": "code",
   "execution_count": 9,
   "metadata": {},
   "outputs": [
    {
     "name": "stdout",
     "output_type": "stream",
     "text": [
      "Date range using a startpoint date '2022-01-01' and a number of periods 10:\n",
      "DatetimeIndex(['2022-01-01', '2022-01-02', '2022-01-03', '2022-01-04',\n",
      "               '2022-01-05', '2022-01-06', '2022-01-07', '2022-01-08',\n",
      "               '2022-01-09', '2022-01-10'],\n",
      "              dtype='datetime64[ns]', freq='D')\n"
     ]
    }
   ],
   "source": [
    "import pandas as pd\n",
    "\n",
    "# Create a date range using a startpoint date and a number of periods.\n",
    "start_date = '2022-01-01'\n",
    "num_periods = 10\n",
    "date_range = pd.date_range(start=start_date, periods=num_periods)\n",
    "\n",
    "print(f\"Date range using a startpoint date '{start_date}' and a number of periods {num_periods}:\\n{date_range}\")\n"
   ]
  },
  {
   "cell_type": "code",
   "execution_count": 10,
   "metadata": {},
   "outputs": [
    {
     "name": "stdout",
     "output_type": "stream",
     "text": [
      "Whole month of dates in daily frequencies:\n",
      "DatetimeIndex(['2022-01-01', '2022-01-02', '2022-01-03', '2022-01-04',\n",
      "               '2022-01-05', '2022-01-06', '2022-01-07', '2022-01-08',\n",
      "               '2022-01-09', '2022-01-10', '2022-01-11', '2022-01-12',\n",
      "               '2022-01-13', '2022-01-14', '2022-01-15', '2022-01-16',\n",
      "               '2022-01-17', '2022-01-18', '2022-01-19', '2022-01-20',\n",
      "               '2022-01-21', '2022-01-22', '2022-01-23', '2022-01-24',\n",
      "               '2022-01-25', '2022-01-26', '2022-01-27', '2022-01-28',\n",
      "               '2022-01-29', '2022-01-30', '2022-01-31'],\n",
      "              dtype='datetime64[ns]', freq='D')\n",
      "\n",
      "Maximum timestamp: 2022-01-31 00:00:00\n",
      "Minimum timestamp: 2022-01-01 00:00:00\n",
      "\n",
      "Maximum index: 30\n",
      "Minimum index: 0\n"
     ]
    }
   ],
   "source": [
    "import pandas as pd\n",
    "\n",
    "# Create a whole month of dates in daily frequencies.\n",
    "date_range = pd.date_range(start='2022-01-01', end='2022-01-31', freq='D')\n",
    "print(f\"Whole month of dates in daily frequencies:\\n{date_range}\\n\")\n",
    "\n",
    "# Find the maximum, minimum timestamp.\n",
    "max_timestamp = date_range.max()\n",
    "min_timestamp = date_range.min()\n",
    "print(f\"Maximum timestamp: {max_timestamp}\")\n",
    "print(f\"Minimum timestamp: {min_timestamp}\\n\")\n",
    "\n",
    "# Find the maximum, minimum index.\n",
    "max_index = date_range.argmax()\n",
    "min_index = date_range.argmin()\n",
    "print(f\"Maximum index: {max_index}\")\n",
    "print(f\"Minimum index: {min_index}\")\n"
   ]
  },
  {
   "cell_type": "code",
   "execution_count": 11,
   "metadata": {},
   "outputs": [
    {
     "name": "stdout",
     "output_type": "stream",
     "text": [
      "Time series using three months frequency:\n",
      "DatetimeIndex(['2022-01-31', '2022-04-30', '2022-07-31', '2022-10-31',\n",
      "               '2023-01-31', '2023-04-30', '2023-07-31', '2023-10-31'],\n",
      "              dtype='datetime64[ns]', freq='3ME')\n"
     ]
    },
    {
     "name": "stderr",
     "output_type": "stream",
     "text": [
      "C:\\Users\\Administrator.DAI-PC2\\AppData\\Local\\Temp\\ipykernel_14664\\3722183833.py:4: FutureWarning: 'M' is deprecated and will be removed in a future version, please use 'ME' instead.\n",
      "  date_range = pd.date_range(start='2022-01-01', end='2023-12-31', freq='3M')\n"
     ]
    }
   ],
   "source": [
    "import pandas as pd\n",
    "\n",
    "# Create a time series using three months frequency.\n",
    "date_range = pd.date_range(start='2022-01-01', end='2023-12-31', freq='3M')\n",
    "print(f\"Time series using three months frequency:\\n{date_range}\")\n"
   ]
  },
  {
   "cell_type": "code",
   "execution_count": 12,
   "metadata": {},
   "outputs": [
    {
     "name": "stdout",
     "output_type": "stream",
     "text": [
      "Hourly range of perods 49:\n",
      "TimedeltaIndex(['0 days 00:00:00', '0 days 01:00:00', '0 days 02:00:00',\n",
      "                '0 days 03:00:00', '0 days 04:00:00', '0 days 05:00:00',\n",
      "                '0 days 06:00:00', '0 days 07:00:00', '0 days 08:00:00',\n",
      "                '0 days 09:00:00', '0 days 10:00:00', '0 days 11:00:00',\n",
      "                '0 days 12:00:00', '0 days 13:00:00', '0 days 14:00:00',\n",
      "                '0 days 15:00:00', '0 days 16:00:00', '0 days 17:00:00',\n",
      "                '0 days 18:00:00', '0 days 19:00:00', '0 days 20:00:00',\n",
      "                '0 days 21:00:00', '0 days 22:00:00', '0 days 23:00:00',\n",
      "                '1 days 00:00:00', '1 days 01:00:00', '1 days 02:00:00',\n",
      "                '1 days 03:00:00', '1 days 04:00:00', '1 days 05:00:00',\n",
      "                '1 days 06:00:00', '1 days 07:00:00', '1 days 08:00:00',\n",
      "                '1 days 09:00:00', '1 days 10:00:00', '1 days 11:00:00',\n",
      "                '1 days 12:00:00', '1 days 13:00:00', '1 days 14:00:00',\n",
      "                '1 days 15:00:00', '1 days 16:00:00', '1 days 17:00:00',\n",
      "                '1 days 18:00:00', '1 days 19:00:00', '1 days 20:00:00',\n",
      "                '1 days 21:00:00', '1 days 22:00:00', '1 days 23:00:00',\n",
      "                '2 days 00:00:00'],\n",
      "               dtype='timedelta64[ns]', freq='h')\n"
     ]
    },
    {
     "name": "stderr",
     "output_type": "stream",
     "text": [
      "C:\\Users\\Administrator.DAI-PC2\\AppData\\Local\\Temp\\ipykernel_14664\\4248309288.py:2: FutureWarning: 'H' is deprecated and will be removed in a future version, please use 'h' instead.\n",
      "  date_range = pd.timedelta_range(0, periods=49, freq='H')\n"
     ]
    }
   ],
   "source": [
    "import pandas as pd\n",
    "date_range = pd.timedelta_range(0, periods=49, freq='H')\n",
    "print(\"Hourly range of perods 49:\")\n",
    "print(date_range)"
   ]
  },
  {
   "cell_type": "code",
   "execution_count": 13,
   "metadata": {},
   "outputs": [
    {
     "name": "stdout",
     "output_type": "stream",
     "text": [
      "Original DataFrame:\n",
      "   year  day_of_the_year\n",
      "0  2002              250\n",
      "1  2003              365\n",
      "2  2015                1\n",
      "3  2018              140\n",
      "\n",
      "New DataFrame:\n",
      "   year  day_of_the_year  combined       date\n",
      "0  2002              250   2002250 2002-09-07\n",
      "1  2003              365   2003365 2003-12-31\n",
      "2  2015                1   2015001 2015-01-01\n",
      "3  2018              140   2018140 2018-05-20\n"
     ]
    }
   ],
   "source": [
    "import pandas as pd\n",
    "data = {\\\n",
    "\"year\": [2002, 2003, 2015, 2018],\n",
    "\"day_of_the_year\": [250, 365, 1, 140]\n",
    "}\n",
    "df = pd.DataFrame(data)\n",
    "print(\"Original DataFrame:\")\n",
    "print(df)\n",
    "df[\"combined\"] = df[\"year\"]*1000 + df[\"day_of_the_year\"]\n",
    "df[\"date\"] = pd.to_datetime(df[\"combined\"], format = \"%Y%j\")\n",
    "print(\"\\nNew DataFrame:\")\n",
    "print(df)\n"
   ]
  },
  {
   "cell_type": "code",
   "execution_count": 14,
   "metadata": {},
   "outputs": [
    {
     "name": "stdout",
     "output_type": "stream",
     "text": [
      "Original dataframe:\n",
      "   year  month  day  hour\n",
      "0  2018      2    4     2\n",
      "1  2019      3    5     3\n",
      "2  2020      4    6     4\n",
      "\n",
      "Series of Timestamps from the said dataframe:\n",
      "0   2018-02-04 02:00:00\n",
      "1   2019-03-05 03:00:00\n",
      "2   2020-04-06 04:00:00\n",
      "dtype: datetime64[ns]\n",
      "\n",
      "Series of Timestamps using specified columns:\n",
      "0   2018-02-04\n",
      "1   2019-03-05\n",
      "2   2020-04-06\n",
      "dtype: datetime64[ns]\n"
     ]
    }
   ],
   "source": [
    "import pandas as pd\n",
    "df = pd.DataFrame({'year': [2018, 2019, 2020],\n",
    "                   'month': [2, 3, 4],\n",
    "                   'day': [4, 5, 6],\n",
    "                   'hour': [2, 3, 4]})\n",
    "print(\"Original dataframe:\")\n",
    "print(df)\n",
    "result = pd.to_datetime(df)\n",
    "print(\"\\nSeries of Timestamps from the said dataframe:\")\n",
    "print(result)\n",
    "print(\"\\nSeries of Timestamps using specified columns:\")\n",
    "print(pd.to_datetime(df[['year', 'month', 'day']]))\n"
   ]
  },
  {
   "cell_type": "code",
   "execution_count": 15,
   "metadata": {},
   "outputs": [
    {
     "name": "stdout",
     "output_type": "stream",
     "text": [
      "Check busines day or not?\n",
      "2020-12-01:  True\n",
      "2020-12-06:  False\n",
      "2020-12-07:  True\n",
      "2020-12-08:  True\n"
     ]
    }
   ],
   "source": [
    "import pandas as pd\n",
    "def is_business_day(date):\n",
    "    return bool(len(pd.bdate_range(date, date)))\n",
    "print(\"Check busines day or not?\")\n",
    "print('2020-12-01: ',is_business_day('2020-12-01'))\n",
    "print('2020-12-06: ',is_business_day('2020-12-06'))\n",
    "print('2020-12-07: ',is_business_day('2020-12-07'))\n",
    "print('2020-12-08: ',is_business_day('2020-12-08'))\n"
   ]
  },
  {
   "cell_type": "code",
   "execution_count": 16,
   "metadata": {},
   "outputs": [
    {
     "name": "stdout",
     "output_type": "stream",
     "text": [
      "last working days of each month of a specific year:\n",
      "         Date\n",
      "0  2021-01-29\n",
      "1  2021-02-26\n",
      "2  2021-03-31\n",
      "3  2021-04-30\n",
      "4  2021-05-31\n",
      "5  2021-06-30\n",
      "6  2021-07-30\n",
      "7  2021-08-31\n",
      "8  2021-09-30\n",
      "9  2021-10-29\n",
      "10 2021-11-30\n",
      "11 2021-12-31\n"
     ]
    },
    {
     "name": "stderr",
     "output_type": "stream",
     "text": [
      "C:\\Users\\Administrator.DAI-PC2\\AppData\\Local\\Temp\\ipykernel_14664\\357345439.py:2: FutureWarning: 'BM' is deprecated and will be removed in a future version, please use 'BME' instead.\n",
      "  s = pd.date_range('2021-01-01', periods=12, freq='BM')\n"
     ]
    }
   ],
   "source": [
    "import pandas as pd\n",
    "s = pd.date_range('2021-01-01', periods=12, freq='BM')\n",
    "df = pd.DataFrame(s, columns=['Date'])\n",
    "print('last working days of each month of a specific year:')\n",
    "print(df)\n"
   ]
  },
  {
   "cell_type": "code",
   "execution_count": 17,
   "metadata": {},
   "outputs": [
    {
     "name": "stdout",
     "output_type": "stream",
     "text": [
      "For a frequency of 1 hours 20 minutes, here we have combined the hour (H) and minute (T):\n",
      "\n",
      "TimedeltaIndex(['0 days 00:00:00', '0 days 01:20:00', '0 days 02:40:00',\n",
      "                '0 days 04:00:00', '0 days 05:20:00', '0 days 06:40:00',\n",
      "                '0 days 08:00:00', '0 days 09:20:00', '0 days 10:40:00',\n",
      "                '0 days 12:00:00', '0 days 13:20:00', '0 days 14:40:00',\n",
      "                '0 days 16:00:00', '0 days 17:20:00', '0 days 18:40:00',\n",
      "                '0 days 20:00:00', '0 days 21:20:00', '0 days 22:40:00',\n",
      "                '1 days 00:00:00', '1 days 01:20:00', '1 days 02:40:00',\n",
      "                '1 days 04:00:00', '1 days 05:20:00', '1 days 06:40:00',\n",
      "                '1 days 08:00:00', '1 days 09:20:00', '1 days 10:40:00',\n",
      "                '1 days 12:00:00', '1 days 13:20:00', '1 days 14:40:00'],\n",
      "               dtype='timedelta64[ns]', freq='80min')\n"
     ]
    },
    {
     "name": "stderr",
     "output_type": "stream",
     "text": [
      "C:\\Users\\Administrator.DAI-PC2\\AppData\\Local\\Temp\\ipykernel_14664\\2656366963.py:2: FutureWarning: 'H' is deprecated and will be removed in a future version, please use 'h' instead.\n",
      "  result = pd.timedelta_range(0, periods=30, freq=\"1H20T\")\n",
      "C:\\Users\\Administrator.DAI-PC2\\AppData\\Local\\Temp\\ipykernel_14664\\2656366963.py:2: FutureWarning: 'T' is deprecated and will be removed in a future version, please use 'min' instead.\n",
      "  result = pd.timedelta_range(0, periods=30, freq=\"1H20T\")\n"
     ]
    }
   ],
   "source": [
    "import pandas as pd\n",
    "result = pd.timedelta_range(0, periods=30, freq=\"1H20T\")\n",
    "print(\"For a frequency of 1 hours 20 minutes, here we have combined the hour (H) and minute (T):\\n\")\n",
    "print(result)\n"
   ]
  },
  {
   "cell_type": "code",
   "execution_count": 18,
   "metadata": {},
   "outputs": [
    {
     "name": "stdout",
     "output_type": "stream",
     "text": [
      "Regular time stamp in UTC:\n",
      "2021-05-16 02:32:35\n",
      "\n",
      "Convert the said timestamp in to US/Pacific:\n",
      "2021-05-15 19:32:35-07:00\n",
      "\n",
      "Convert the said timestamp in to Europe/Berlin:\n",
      "2021-05-16 04:32:35+02:00\n"
     ]
    }
   ],
   "source": [
    "import pandas as pd\n",
    "epoch_t = 1621132355\n",
    "time_stamp = pd.to_datetime(epoch_t, unit='s')\n",
    "# UTC (Coordinated Universal Time) is one of the well-known names of UTC+0 time zone which is 0h.\n",
    "# By default, time series objects of pandas do not have an assigned time zone.\n",
    "print(\"Regular time stamp in UTC:\")\n",
    "print(time_stamp)\n",
    "print(\"\\nConvert the said timestamp in to US/Pacific:\")\n",
    "print(time_stamp.tz_localize('UTC').tz_convert('US/Pacific'))\n",
    "print(\"\\nConvert the said timestamp in to Europe/Berlin:\")\n",
    "print(time_stamp.tz_localize('UTC').tz_convert('Europe/Berlin'))\n"
   ]
  },
  {
   "cell_type": "code",
   "execution_count": 19,
   "metadata": {},
   "outputs": [
    {
     "name": "stdout",
     "output_type": "stream",
     "text": [
      "Timezone: Europe/Berlin:\n",
      "Using pytz:\n",
      "Europe/Berlin\n",
      "Using dateutil:\n",
      "tzfile('Europe/Berlin')\n",
      "\n",
      "US/Pacific:\n",
      "Using pytz:\n",
      "US/Pacific\n",
      "Using dateutil:\n",
      "tzfile('US/Pacific')\n"
     ]
    }
   ],
   "source": [
    "import pandas as pd\n",
    "print(\"Timezone: Europe/Berlin:\")\n",
    "print(\"Using pytz:\")\n",
    "date_pytz = pd.Timestamp('2019-01-01', tz = 'Europe/Berlin')\n",
    "print(date_pytz.tz)  \n",
    "print(\"Using dateutil:\")\n",
    "date_util = pd.Timestamp('2019-01-01', tz = 'dateutil/Europe/Berlin')\n",
    "print(date_util.tz)\n",
    "print(\"\\nUS/Pacific:\")\n",
    "print(\"Using pytz:\")\n",
    "date_pytz = pd.Timestamp('2019-01-01', tz = 'US/Pacific')\n",
    "print(date_pytz.tz)  \n",
    "print(\"Using dateutil:\")\n",
    "date_util = pd.Timestamp('2019-01-01', tz = 'dateutil/US/Pacific')\n",
    "print(date_util.tz)"
   ]
  },
  {
   "cell_type": "code",
   "execution_count": 20,
   "metadata": {},
   "outputs": [
    {
     "name": "stdout",
     "output_type": "stream",
     "text": [
      "Time series data with time zone:\n",
      "2019-01-01 00:00:00+01:00\n",
      "2019-01-01 00:00:00-08:00\n",
      "2019-01-01 00:00:00-05:00\n",
      "\n",
      "Time series data without time zone:\n",
      "2019-01-01 00:00:00\n",
      "2019-01-01 00:00:00\n",
      "2019-01-01 00:00:00\n"
     ]
    }
   ],
   "source": [
    "import pandas as pd\n",
    "date1 = pd.Timestamp('2019-01-01', tz='Europe/Berlin')\n",
    "date2 = pd.Timestamp('2019-01-01', tz='US/Pacific')\n",
    "date3 = pd.Timestamp('2019-01-01', tz='US/Eastern')\n",
    "print(\"Time series data with time zone:\")\n",
    "print(date1)\n",
    "print(date2)\n",
    "print(date3)\n",
    "print(\"\\nTime series data without time zone:\")\n",
    "print(date1.tz_localize(None))\n",
    "print(date2.tz_localize(None))\n",
    "print(date3.tz_localize(None))\n"
   ]
  },
  {
   "cell_type": "code",
   "execution_count": 21,
   "metadata": {},
   "outputs": [
    {
     "name": "stdout",
     "output_type": "stream",
     "text": [
      "Subtract two timestamps of same time zone:\n",
      "Difference:  30 days 18:00:00\n",
      "\n",
      "Subtract two timestamps of different time zone:\n",
      "Difference:  0 days 05:00:00\n"
     ]
    }
   ],
   "source": [
    "import pandas as pd\n",
    "print(\"Subtract two timestamps of same time zone:\")\n",
    "date1 = pd.Timestamp('2019-03-01 12:00', tz='US/Eastern')\n",
    "date2 = pd.Timestamp('2019-04-01 07:00', tz='US/Eastern')\n",
    "print(\"Difference: \", (date2-date1))\n",
    "print(\"\\nSubtract two timestamps of different time zone:\")\n",
    "date1 = pd.Timestamp('2019-03-01 12:00', tz='US/Eastern')\n",
    "date2 = pd.Timestamp('2019-03-01 07:00', tz='US/Pacific')\n",
    "# Remove the time zone and do the subtraction\n",
    "print(\"Difference: \", (date1.tz_localize(None) - date2.tz_localize(None)))\n"
   ]
  },
  {
   "cell_type": "code",
   "execution_count": 22,
   "metadata": {},
   "outputs": [
    {
     "name": "stdout",
     "output_type": "stream",
     "text": [
      "All Thursdays between 2020-01-01 and 2020-12-31:\n",
      "\n",
      "['2020-01-02T00:00:00.000000000' '2020-01-09T00:00:00.000000000'\n",
      " '2020-01-16T00:00:00.000000000' '2020-01-23T00:00:00.000000000'\n",
      " '2020-01-30T00:00:00.000000000' '2020-02-06T00:00:00.000000000'\n",
      " '2020-02-13T00:00:00.000000000' '2020-02-20T00:00:00.000000000'\n",
      " '2020-02-27T00:00:00.000000000' '2020-03-05T00:00:00.000000000'\n",
      " '2020-03-12T00:00:00.000000000' '2020-03-19T00:00:00.000000000'\n",
      " '2020-03-26T00:00:00.000000000' '2020-04-02T00:00:00.000000000'\n",
      " '2020-04-09T00:00:00.000000000' '2020-04-16T00:00:00.000000000'\n",
      " '2020-04-23T00:00:00.000000000' '2020-04-30T00:00:00.000000000'\n",
      " '2020-05-07T00:00:00.000000000' '2020-05-14T00:00:00.000000000'\n",
      " '2020-05-21T00:00:00.000000000' '2020-05-28T00:00:00.000000000'\n",
      " '2020-06-04T00:00:00.000000000' '2020-06-11T00:00:00.000000000'\n",
      " '2020-06-18T00:00:00.000000000' '2020-06-25T00:00:00.000000000'\n",
      " '2020-07-02T00:00:00.000000000' '2020-07-09T00:00:00.000000000'\n",
      " '2020-07-16T00:00:00.000000000' '2020-07-23T00:00:00.000000000'\n",
      " '2020-07-30T00:00:00.000000000' '2020-08-06T00:00:00.000000000'\n",
      " '2020-08-13T00:00:00.000000000' '2020-08-20T00:00:00.000000000'\n",
      " '2020-08-27T00:00:00.000000000' '2020-09-03T00:00:00.000000000'\n",
      " '2020-09-10T00:00:00.000000000' '2020-09-17T00:00:00.000000000'\n",
      " '2020-09-24T00:00:00.000000000' '2020-10-01T00:00:00.000000000'\n",
      " '2020-10-08T00:00:00.000000000' '2020-10-15T00:00:00.000000000'\n",
      " '2020-10-22T00:00:00.000000000' '2020-10-29T00:00:00.000000000'\n",
      " '2020-11-05T00:00:00.000000000' '2020-11-12T00:00:00.000000000'\n",
      " '2020-11-19T00:00:00.000000000' '2020-11-26T00:00:00.000000000'\n",
      " '2020-12-03T00:00:00.000000000' '2020-12-10T00:00:00.000000000'\n",
      " '2020-12-17T00:00:00.000000000' '2020-12-24T00:00:00.000000000'\n",
      " '2020-12-31T00:00:00.000000000']\n"
     ]
    }
   ],
   "source": [
    "import pandas as pd\n",
    "thursdays  = pd.date_range('2020-01-01', \n",
    "                           '2020-12-31', freq=\"W-THU\")\n",
    "print(\"All Thursdays between 2020-01-01 and 2020-12-31:\\n\")\n",
    "print(thursdays.values)\n"
   ]
  },
  {
   "cell_type": "code",
   "execution_count": 23,
   "metadata": {},
   "outputs": [
    {
     "name": "stdout",
     "output_type": "stream",
     "text": [
      "All the business quarterly begin dates of 2020:\n",
      "['2020-03-02T00:00:00.000000000' '2020-06-01T00:00:00.000000000'\n",
      " '2020-09-01T00:00:00.000000000' '2020-12-01T00:00:00.000000000']\n",
      "\n",
      "All the business quarterly end dates of 2020:\n",
      "['2020-03-31T00:00:00.000000000' '2020-06-30T00:00:00.000000000'\n",
      " '2020-09-30T00:00:00.000000000' '2020-12-31T00:00:00.000000000']\n"
     ]
    },
    {
     "name": "stderr",
     "output_type": "stream",
     "text": [
      "C:\\Users\\Administrator.DAI-PC2\\AppData\\Local\\Temp\\ipykernel_14664\\2566595562.py:3: FutureWarning: 'BQ-JUN' is deprecated and will be removed in a future version, please use 'BQE-JUN' instead.\n",
      "  q_end_dates = pd.date_range('2020-01-01', '2020-12-31', freq='BQ-JUN')\n"
     ]
    }
   ],
   "source": [
    "import pandas as pd\n",
    "q_start_dates = pd.date_range('2020-01-01', '2020-12-31', freq='BQS-JUN')\n",
    "q_end_dates = pd.date_range('2020-01-01', '2020-12-31', freq='BQ-JUN')\n",
    "print(\"All the business quarterly begin dates of 2020:\")\n",
    "print(q_start_dates.values)\n",
    "print(\"\\nAll the business quarterly end dates of 2020:\")\n",
    "print(q_end_dates.values)\n"
   ]
  },
  {
   "cell_type": "code",
   "execution_count": 24,
   "metadata": {},
   "outputs": [
    {
     "name": "stdout",
     "output_type": "stream",
     "text": [
      "Sequences of fixed-frequency dates and time spans (1 H):\n",
      "\n",
      "DatetimeIndex(['2030-01-01 00:00:00', '2030-01-01 01:00:00',\n",
      "               '2030-01-01 02:00:00', '2030-01-01 03:00:00',\n",
      "               '2030-01-01 04:00:00', '2030-01-01 05:00:00',\n",
      "               '2030-01-01 06:00:00', '2030-01-01 07:00:00',\n",
      "               '2030-01-01 08:00:00', '2030-01-01 09:00:00'],\n",
      "              dtype='datetime64[ns]', freq='h')\n",
      "\n",
      "Sequences of fixed-frequency dates and time spans (3 H):\n",
      "\n",
      "DatetimeIndex(['2030-01-01 00:00:00', '2030-01-01 03:00:00',\n",
      "               '2030-01-01 06:00:00', '2030-01-01 09:00:00',\n",
      "               '2030-01-01 12:00:00', '2030-01-01 15:00:00',\n",
      "               '2030-01-01 18:00:00', '2030-01-01 21:00:00',\n",
      "               '2030-01-02 00:00:00', '2030-01-02 03:00:00'],\n",
      "              dtype='datetime64[ns]', freq='3h')\n"
     ]
    },
    {
     "name": "stderr",
     "output_type": "stream",
     "text": [
      "C:\\Users\\Administrator.DAI-PC2\\AppData\\Local\\Temp\\ipykernel_14664\\2717260022.py:3: FutureWarning: 'H' is deprecated and will be removed in a future version, please use 'h' instead.\n",
      "  r1 = pd.date_range('2030-01-01', periods=10, freq='H')\n",
      "C:\\Users\\Administrator.DAI-PC2\\AppData\\Local\\Temp\\ipykernel_14664\\2717260022.py:6: FutureWarning: 'H' is deprecated and will be removed in a future version, please use 'h' instead.\n",
      "  r2 = pd.date_range('2030-01-01', periods=10, freq='3H')\n"
     ]
    }
   ],
   "source": [
    "import pandas as pd\n",
    "print(\"Sequences of fixed-frequency dates and time spans (1 H):\\n\")\n",
    "r1 = pd.date_range('2030-01-01', periods=10, freq='H')\n",
    "print(r1)\n",
    "print(\"\\nSequences of fixed-frequency dates and time spans (3 H):\\n\")\n",
    "r2 = pd.date_range('2030-01-01', periods=10, freq='3H')\n",
    "print(r2)\n"
   ]
  },
  {
   "cell_type": "code",
   "execution_count": 25,
   "metadata": {},
   "outputs": [
    {
     "name": "stdout",
     "output_type": "stream",
     "text": [
      "Time series with frequency 3h10min:\n",
      "DatetimeIndex(['2029-01-01 00:00:00', '2029-01-01 03:10:00',\n",
      "               '2029-01-01 06:20:00', '2029-01-01 09:30:00',\n",
      "               '2029-01-01 12:40:00', '2029-01-01 15:50:00',\n",
      "               '2029-01-01 19:00:00', '2029-01-01 22:10:00',\n",
      "               '2029-01-02 01:20:00', '2029-01-02 04:30:00',\n",
      "               '2029-01-02 07:40:00', '2029-01-02 10:50:00',\n",
      "               '2029-01-02 14:00:00', '2029-01-02 17:10:00',\n",
      "               '2029-01-02 20:20:00', '2029-01-02 23:30:00',\n",
      "               '2029-01-03 02:40:00', '2029-01-03 05:50:00',\n",
      "               '2029-01-03 09:00:00', '2029-01-03 12:10:00'],\n",
      "              dtype='datetime64[ns]', freq='190min')\n",
      "\n",
      "Time series with frequency 1 day 10 minutes and 20 microseconds:\n",
      "DatetimeIndex([       '2029-01-01 00:00:00', '2029-01-02 00:10:00.000020',\n",
      "               '2029-01-03 00:20:00.000040', '2029-01-04 00:30:00.000060',\n",
      "               '2029-01-05 00:40:00.000080', '2029-01-06 00:50:00.000100',\n",
      "               '2029-01-07 01:00:00.000120', '2029-01-08 01:10:00.000140',\n",
      "               '2029-01-09 01:20:00.000160', '2029-01-10 01:30:00.000180',\n",
      "               '2029-01-11 01:40:00.000200', '2029-01-12 01:50:00.000220',\n",
      "               '2029-01-13 02:00:00.000240', '2029-01-14 02:10:00.000260',\n",
      "               '2029-01-15 02:20:00.000280', '2029-01-16 02:30:00.000300',\n",
      "               '2029-01-17 02:40:00.000320', '2029-01-18 02:50:00.000340',\n",
      "               '2029-01-19 03:00:00.000360', '2029-01-20 03:10:00.000380'],\n",
      "              dtype='datetime64[ns]', freq='87000000020us')\n"
     ]
    },
    {
     "name": "stderr",
     "output_type": "stream",
     "text": [
      "C:\\Users\\Administrator.DAI-PC2\\AppData\\Local\\Temp\\ipykernel_14664\\249900638.py:5: FutureWarning: 'U' is deprecated and will be removed in a future version, please use 'us' instead.\n",
      "  dateset2 = pd.date_range('2029-01-01 00:00:00', periods=20, freq='1D10min20U')\n"
     ]
    }
   ],
   "source": [
    "import pandas as pd\n",
    "dateset1 = pd.date_range('2029-01-01 00:00:00', periods=20, freq='3h10min')\n",
    "print(\"Time series with frequency 3h10min:\")\n",
    "print(dateset1)\n",
    "dateset2 = pd.date_range('2029-01-01 00:00:00', periods=20, freq='1D10min20U')\n",
    "print(\"\\nTime series with frequency 1 day 10 minutes and 20 microseconds:\")\n",
    "print(dateset2)"
   ]
  },
  {
   "cell_type": "code",
   "execution_count": 26,
   "metadata": {},
   "outputs": [
    {
     "name": "stdout",
     "output_type": "stream",
     "text": [
      "First date:\n",
      "2020-02-07 00:00:00\n",
      "\n",
      "The day name of the said date:\n",
      "Friday\n",
      "\n",
      "Add 2 days with the said date:\n",
      "Sunday\n",
      "\n",
      "Next business day:\n",
      "Monday\n"
     ]
    }
   ],
   "source": [
    "import pandas as pd\n",
    "newday = pd.Timestamp('2020-02-07')\n",
    "print(\"First date:\")\n",
    "print(newday)\n",
    "print(\"\\nThe day name of the said date:\")\n",
    "print(newday.day_name())\n",
    "print(\"\\nAdd 2 days with the said date:\")\n",
    "newday1 = newday + pd.Timedelta('2 day')\n",
    "print(newday1.day_name())\n",
    "print(\"\\nNext business day:\")\n",
    "nbday = newday + pd.offsets.BDay()\n",
    "print(nbday.day_name())\n"
   ]
  },
  {
   "cell_type": "code",
   "execution_count": 27,
   "metadata": {},
   "outputs": [
    {
     "name": "stdout",
     "output_type": "stream",
     "text": [
      "Convert integer or float epoch times to Timestamp and DatetimeIndex upto second:\n",
      "DatetimeIndex(['2012-02-21 06:41:45', '1974-02-11 09:21:45',\n",
      "               '2009-08-10 08:28:25', '2009-08-11 08:28:25',\n",
      "               '2009-08-12 08:28:25'],\n",
      "              dtype='datetime64[ns]', freq=None)\n",
      "\n",
      "Convert integer or float epoch times to Timestamp and DatetimeIndex upto milisecond:\n",
      "DatetimeIndex(['2009-08-08 08:28:25.100000', '2009-08-08 08:28:25.200000',\n",
      "               '2009-08-08 08:28:25.300000', '2009-08-08 08:28:25.400000',\n",
      "               '2009-08-08 08:28:25.500000'],\n",
      "              dtype='datetime64[ns]', freq=None)\n"
     ]
    }
   ],
   "source": [
    "import pandas as pd\n",
    "dates1 = pd.to_datetime([1329806505, 129806505, 1249892905,\n",
    "                1249979305, 1250065705], unit='s')\n",
    "print(\"Convert integer or float epoch times to Timestamp and DatetimeIndex upto second:\")\n",
    "print(dates1)\n",
    "print(\"\\nConvert integer or float epoch times to Timestamp and DatetimeIndex upto milisecond:\")\n",
    "dates2 = pd.to_datetime([1249720105100, 1249720105200, 1249720105300,\n",
    "                1249720105400, 1249720105500], unit='ms')\n",
    "print(dates2)\n"
   ]
  },
  {
   "cell_type": "code",
   "execution_count": 28,
   "metadata": {},
   "outputs": [
    {
     "name": "stdout",
     "output_type": "stream",
     "text": [
      "Specified date:\n",
      "2020-01-04 00:00:00\n",
      "\n",
      "One business day from the said date:\n",
      "2020-01-06 00:00:00\n",
      "\n",
      "Two business days from the said date:\n",
      "2020-01-07 00:00:00\n",
      "\n",
      "Three business days from the said date:\n",
      "2020-01-08 00:00:00\n",
      "\n",
      "Next business month end from the said date:\n",
      "2020-01-31 00:00:00\n"
     ]
    }
   ],
   "source": [
    "import pandas as pd\n",
    "from pandas.tseries.offsets import *\n",
    "import datetime\n",
    "from datetime import datetime, date\n",
    "dt = datetime(2020, 1, 4)\n",
    "print(\"Specified date:\")\n",
    "print(dt)\n",
    "print(\"\\nOne business day from the said date:\")\n",
    "obday = dt + BusinessDay()\n",
    "print(obday)\n",
    "print(\"\\nTwo business days from the said date:\")\n",
    "tbday = dt + 2 * BusinessDay()\n",
    "print(tbday)\n",
    "print(\"\\nThree business days from the said date:\")\n",
    "thbday = dt + 3 * BusinessDay()\n",
    "print(thbday)\n",
    "print(\"\\nNext business month end from the said date:\")\n",
    "nbday = dt + BMonthEnd()\n",
    "print(nbday)\n"
   ]
  },
  {
   "cell_type": "code",
   "execution_count": 29,
   "metadata": {},
   "outputs": [
    {
     "name": "stdout",
     "output_type": "stream",
     "text": [
      "All monthly boundaries of a given year:\n",
      "PeriodIndex(['2020-01', '2020-02', '2020-03', '2020-04', '2020-05', '2020-06',\n",
      "             '2020-07', '2020-08', '2020-09', '2020-10', '2020-11', '2020-12'],\n",
      "            dtype='period[M]')\n",
      "\n",
      "Start and end time for each period object in the said index:\n",
      "2020-01-01 00:00:00 2020-01-31 23:59:59.999999999\n",
      "2020-02-01 00:00:00 2020-02-29 23:59:59.999999999\n",
      "2020-03-01 00:00:00 2020-03-31 23:59:59.999999999\n",
      "2020-04-01 00:00:00 2020-04-30 23:59:59.999999999\n",
      "2020-05-01 00:00:00 2020-05-31 23:59:59.999999999\n",
      "2020-06-01 00:00:00 2020-06-30 23:59:59.999999999\n",
      "2020-07-01 00:00:00 2020-07-31 23:59:59.999999999\n",
      "2020-08-01 00:00:00 2020-08-31 23:59:59.999999999\n",
      "2020-09-01 00:00:00 2020-09-30 23:59:59.999999999\n",
      "2020-10-01 00:00:00 2020-10-31 23:59:59.999999999\n",
      "2020-11-01 00:00:00 2020-11-30 23:59:59.999999999\n",
      "2020-12-01 00:00:00 2020-12-31 23:59:59.999999999\n"
     ]
    }
   ],
   "source": [
    "import pandas as pd\n",
    "import datetime\n",
    "from datetime import datetime, date\n",
    "sdt = datetime(2020, 1, 1)\n",
    "edt = datetime(2020, 12, 31)\n",
    "dateset = pd.period_range(sdt, edt, freq='M')\n",
    "print(\"All monthly boundaries of a given year:\")\n",
    "print(dateset) \n",
    "print(\"\\nStart and end time for each period object in the said index:\")\n",
    "for d in dateset: \n",
    "    print (\"{0} {1}\".format(d.start_time, d.end_time)) \n"
   ]
  },
  {
   "cell_type": "code",
   "execution_count": 30,
   "metadata": {},
   "outputs": [
    {
     "name": "stdout",
     "output_type": "stream",
     "text": [
      "PeriodIndex which represents all the calendar month periods in 2029 and 2030:\n",
      "2029-01   -0.678142\n",
      "2029-02   -1.860469\n",
      "2029-03    0.854498\n",
      "2029-04    1.808489\n",
      "2029-05   -0.862060\n",
      "2029-06   -0.443902\n",
      "2029-07    0.439805\n",
      "2029-08   -0.159029\n",
      "2029-09   -0.265248\n",
      "2029-10    0.158530\n",
      "2029-11   -0.358781\n",
      "2029-12   -0.873033\n",
      "2030-01    1.511195\n",
      "2030-02    1.520630\n",
      "2030-03   -0.819147\n",
      "2030-04   -1.183074\n",
      "2030-05    0.624470\n",
      "2030-06    1.094758\n",
      "2030-07   -0.503661\n",
      "2030-08   -1.303044\n",
      "2030-09   -1.556200\n",
      "2030-10    0.050867\n",
      "2030-11   -0.530657\n",
      "2030-12    0.116332\n",
      "2031-01    0.225790\n",
      "2031-02    0.692302\n",
      "2031-03    1.774099\n",
      "2031-04    0.781695\n",
      "2031-05   -1.721266\n",
      "2031-06    0.401979\n",
      "2031-07    0.492007\n",
      "2031-08   -0.499532\n",
      "2031-09   -0.050065\n",
      "2031-10   -1.652501\n",
      "2031-11   -0.598092\n",
      "2031-12   -0.019694\n",
      "Freq: M, dtype: float64\n",
      "\n",
      "Values for all periods in 2030:\n",
      "2030-01    1.511195\n",
      "2030-02    1.520630\n",
      "2030-03   -0.819147\n",
      "2030-04   -1.183074\n",
      "2030-05    0.624470\n",
      "2030-06    1.094758\n",
      "2030-07   -0.503661\n",
      "2030-08   -1.303044\n",
      "2030-09   -1.556200\n",
      "2030-10    0.050867\n",
      "2030-11   -0.530657\n",
      "2030-12    0.116332\n",
      "Freq: M, dtype: float64\n"
     ]
    }
   ],
   "source": [
    "import pandas as pd\n",
    "import numpy as np\n",
    "pi = pd.Series(np.random.randn(36), \n",
    "               pd.period_range('1/1/2029', \n",
    "                               '12/31/2031', freq='M'))\n",
    "print(\"PeriodIndex which represents all the calendar month periods in 2029 and 2030:\")\n",
    "print(pi)\n",
    "print(\"\\nValues for all periods in 2030:\")\n",
    "print(pi['2030'])"
   ]
  },
  {
   "cell_type": "code",
   "execution_count": 31,
   "metadata": {},
   "outputs": [
    {
     "name": "stdout",
     "output_type": "stream",
     "text": [
      "DatetimeIndex(['2024-01-01', '2024-01-15', '2024-02-19', '2024-05-27',\n",
      "               '2024-06-19', '2024-07-04', '2024-09-02', '2024-10-14',\n",
      "               '2024-11-11', '2024-11-28', '2024-12-25'],\n",
      "              dtype='datetime64[ns]', freq=None)\n"
     ]
    }
   ],
   "source": [
    "import pandas as pd\n",
    "from pandas.tseries.holiday import USFederalHolidayCalendar\n",
    "\n",
    "# Define start and end dates\n",
    "start_date = '2024-01-01'\n",
    "end_date = '2024-12-31'\n",
    "\n",
    "# Create a calendar object\n",
    "cal = USFederalHolidayCalendar()\n",
    "\n",
    "# Create a DatetimeIndex with US federal holidays between start_date and end_date\n",
    "holidays = cal.holidays(start=start_date, end=end_date)\n",
    "\n",
    "# Print the holidays\n",
    "print(holidays)\n"
   ]
  },
  {
   "cell_type": "code",
   "execution_count": 32,
   "metadata": {},
   "outputs": [
    {
     "name": "stdout",
     "output_type": "stream",
     "text": [
      "Monthly time perid:  2021-11\n",
      "\n",
      "List of names in the current local scope:\n",
      "['__add__', '__array_priority__', '__class__', '__delattr__', '__dict__', '__dir__', '__doc__', '__eq__', '__format__', '__ge__', '__getattribute__', '__getstate__', '__gt__', '__hash__', '__init__', '__init_subclass__', '__le__', '__lt__', '__module__', '__ne__', '__new__', '__radd__', '__reduce__', '__reduce_cython__', '__reduce_ex__', '__repr__', '__rsub__', '__setattr__', '__setstate__', '__setstate_cython__', '__sizeof__', '__str__', '__sub__', '__subclasshook__', '__weakref__', '_add_offset', '_add_timedeltalike_scalar', '_dtype', '_from_ordinal', '_maybe_convert_freq', '_require_matching_freq', 'asfreq', 'day', 'day_of_week', 'day_of_year', 'dayofweek', 'dayofyear', 'days_in_month', 'daysinmonth', 'end_time', 'freq', 'freqstr', 'hour', 'is_leap_year', 'minute', 'month', 'now', 'ordinal', 'quarter', 'qyear', 'second', 'start_time', 'strftime', 'to_timestamp', 'week', 'weekday', 'weekofyear', 'year']\n"
     ]
    }
   ],
   "source": [
    "import pandas as pd\n",
    "mtp = pd.Period('2021-11','M')\n",
    "print(\"Monthly time perid: \",mtp)\n",
    "print(\"\\nList of names in the current local scope:\")\n",
    "print(dir(mtp)) \n"
   ]
  },
  {
   "cell_type": "code",
   "execution_count": 33,
   "metadata": {},
   "outputs": [
    {
     "name": "stdout",
     "output_type": "stream",
     "text": [
      "Yearly time perid: 2020\n",
      "\n",
      "All the properties of the said period:\n",
      "['__add__', '__array_priority__', '__class__', '__delattr__', '__dict__', '__dir__', '__doc__', '__eq__', '__format__', '__ge__', '__getattribute__', '__getstate__', '__gt__', '__hash__', '__init__', '__init_subclass__', '__le__', '__lt__', '__module__', '__ne__', '__new__', '__radd__', '__reduce__', '__reduce_cython__', '__reduce_ex__', '__repr__', '__rsub__', '__setattr__', '__setstate__', '__setstate_cython__', '__sizeof__', '__str__', '__sub__', '__subclasshook__', '__weakref__', '_add_offset', '_add_timedeltalike_scalar', '_dtype', '_from_ordinal', '_maybe_convert_freq', '_require_matching_freq', 'asfreq', 'day', 'day_of_week', 'day_of_year', 'dayofweek', 'dayofyear', 'days_in_month', 'daysinmonth', 'end_time', 'freq', 'freqstr', 'hour', 'is_leap_year', 'minute', 'month', 'now', 'ordinal', 'quarter', 'qyear', 'second', 'start_time', 'strftime', 'to_timestamp', 'week', 'weekday', 'weekofyear', 'year']\n"
     ]
    },
    {
     "name": "stderr",
     "output_type": "stream",
     "text": [
      "C:\\Users\\Administrator.DAI-PC2\\AppData\\Local\\Temp\\ipykernel_14664\\1487725673.py:2: FutureWarning: 'A-DEC' is deprecated and will be removed in a future version, please use 'Y-DEC' instead.\n",
      "  ytp = pd.Period('2020','A-DEC')\n"
     ]
    }
   ],
   "source": [
    "import pandas as pd\n",
    "ytp = pd.Period('2020','A-DEC')\n",
    "print(\"Yearly time perid:\",ytp)\n",
    "print(\"\\nAll the properties of the said period:\")\n",
    "print(dir(ytp))\n"
   ]
  }
 ],
 "metadata": {
  "kernelspec": {
   "display_name": "test_env",
   "language": "python",
   "name": "python3"
  },
  "language_info": {
   "codemirror_mode": {
    "name": "ipython",
    "version": 3
   },
   "file_extension": ".py",
   "mimetype": "text/x-python",
   "name": "python",
   "nbconvert_exporter": "python",
   "pygments_lexer": "ipython3",
   "version": "3.12.2"
  }
 },
 "nbformat": 4,
 "nbformat_minor": 2
}
