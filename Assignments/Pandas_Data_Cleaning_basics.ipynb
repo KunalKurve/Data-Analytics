{
 "cells": [
  {
   "cell_type": "code",
   "execution_count": 1,
   "id": "48f68ea5-aee1-40d5-a39d-f298fecbab91",
   "metadata": {},
   "outputs": [],
   "source": [
    "import numpy as np\n",
    "import pandas as pd"
   ]
  },
  {
   "cell_type": "code",
   "execution_count": 2,
   "id": "218da857-2550-4deb-b294-5fa39fe8c104",
   "metadata": {},
   "outputs": [
    {
     "name": "stdout",
     "output_type": "stream",
     "text": [
      "  first_name last_name   age gender  pre_movie_score  post_movie_score\n",
      "0        Tom     Hanks  63.0      m              8.0              10.0\n",
      "1        NaN       NaN   NaN    NaN              NaN               NaN\n",
      "2       Hugh   Jackman  51.0      m              NaN               NaN\n",
      "3      Oprah   Winfrey  66.0      f              6.0               8.0\n",
      "4       Emma     Stone  31.0      f              7.0               9.0\n"
     ]
    }
   ],
   "source": [
    "df=pd.read_csv(\"movie_scores.csv\")\n",
    "print(df)"
   ]
  },
  {
   "cell_type": "code",
   "execution_count": 3,
   "id": "7a9d68e7-50dc-42f9-a354-d018869f9df6",
   "metadata": {},
   "outputs": [
    {
     "name": "stdout",
     "output_type": "stream",
     "text": [
      "   first_name  last_name    age  gender  pre_movie_score  post_movie_score\n",
      "0       False      False  False   False            False             False\n",
      "1        True       True   True    True             True              True\n",
      "2       False      False  False   False             True              True\n",
      "3       False      False  False   False            False             False\n",
      "4       False      False  False   False            False             False\n",
      "   first_name  last_name    age  gender  pre_movie_score  post_movie_score\n",
      "0        True       True   True    True             True              True\n",
      "1       False      False  False   False            False             False\n",
      "2        True       True   True    True            False             False\n",
      "3        True       True   True    True             True              True\n",
      "4        True       True   True    True             True              True\n"
     ]
    }
   ],
   "source": [
    "#Chcecking and selecting for null values\n",
    "print(df.isnull())\n",
    "print(df.notnull())"
   ]
  },
  {
   "cell_type": "code",
   "execution_count": 4,
   "id": "43116d1f-1fd3-437c-a5f3-d8719851a9b5",
   "metadata": {},
   "outputs": [
    {
     "name": "stdout",
     "output_type": "stream",
     "text": [
      "0      Tom\n",
      "1      NaN\n",
      "2     Hugh\n",
      "3    Oprah\n",
      "4     Emma\n",
      "Name: first_name, dtype: object\n",
      "0     True\n",
      "1    False\n",
      "2     True\n",
      "3     True\n",
      "4     True\n",
      "Name: first_name, dtype: bool\n"
     ]
    }
   ],
   "source": [
    "print(df[\"first_name\"])\n",
    "print(df[\"first_name\"].notnull())"
   ]
  },
  {
   "cell_type": "code",
   "execution_count": 5,
   "id": "44bce339-3fbc-4fc5-87ad-f533ae7c8c4f",
   "metadata": {},
   "outputs": [
    {
     "name": "stdout",
     "output_type": "stream",
     "text": [
      "  first_name last_name   age gender  pre_movie_score  post_movie_score\n",
      "2       Hugh   Jackman  51.0      m              NaN               NaN\n"
     ]
    }
   ],
   "source": [
    "print(df[(df['pre_movie_score'].isnull()) & df['gender'].notnull()])"
   ]
  },
  {
   "cell_type": "code",
   "execution_count": 6,
   "id": "4c9dd2ce-2ae5-4e3b-aa2c-aac8ea2f5192",
   "metadata": {},
   "outputs": [
    {
     "name": "stdout",
     "output_type": "stream",
     "text": [
      "  first_name last_name   age gender  pre_movie_score  post_movie_score\n",
      "0        Tom     Hanks  63.0      m              8.0              10.0\n",
      "3      Oprah   Winfrey  66.0      f              6.0               8.0\n",
      "4       Emma     Stone  31.0      f              7.0               9.0\n"
     ]
    }
   ],
   "source": [
    "#dropna\n",
    "print(df.dropna())"
   ]
  },
  {
   "cell_type": "code",
   "execution_count": 7,
   "id": "bff1a56b-9690-40f8-94a6-3dc0d783c4ac",
   "metadata": {},
   "outputs": [
    {
     "name": "stdout",
     "output_type": "stream",
     "text": [
      "  first_name last_name   age gender  pre_movie_score  post_movie_score\n",
      "0        Tom     Hanks  63.0      m              8.0              10.0\n",
      "2       Hugh   Jackman  51.0      m              NaN               NaN\n",
      "3      Oprah   Winfrey  66.0      f              6.0               8.0\n",
      "4       Emma     Stone  31.0      f              7.0               9.0\n"
     ]
    }
   ],
   "source": [
    "print(df.dropna(thresh=1))"
   ]
  },
  {
   "cell_type": "code",
   "execution_count": 8,
   "id": "429a237c-5d60-4074-bf2b-0279c9a0b4bd",
   "metadata": {},
   "outputs": [
    {
     "name": "stdout",
     "output_type": "stream",
     "text": [
      "Empty DataFrame\n",
      "Columns: []\n",
      "Index: [0, 1, 2, 3, 4]\n"
     ]
    }
   ],
   "source": [
    "print(df.dropna(axis=1))"
   ]
  },
  {
   "cell_type": "code",
   "execution_count": 10,
   "id": "9de19108-6adb-40c4-a619-897aafc6b8a5",
   "metadata": {},
   "outputs": [
    {
     "name": "stdout",
     "output_type": "stream",
     "text": [
      "  first_name last_name   age gender\n",
      "0        Tom     Hanks  63.0      m\n",
      "1        NaN       NaN   NaN    NaN\n",
      "2       Hugh   Jackman  51.0      m\n",
      "3      Oprah   Winfrey  66.0      f\n",
      "4       Emma     Stone  31.0      f\n"
     ]
    }
   ],
   "source": [
    "print(df.dropna(thresh=4,axis=1))"
   ]
  },
  {
   "cell_type": "code",
   "execution_count": 12,
   "id": "33fb90c1-d955-4053-bbe6-5b260f7a953e",
   "metadata": {},
   "outputs": [
    {
     "name": "stdout",
     "output_type": "stream",
     "text": [
      "0      Tom\n",
      "1    Empty\n",
      "2     Hugh\n",
      "3    Oprah\n",
      "4     Emma\n",
      "Name: first_name, dtype: object\n"
     ]
    }
   ],
   "source": [
    "#fill value\n",
    "df.fillna(\"New Value!\")\n",
    "\n",
    "print(df[\"first_name\"].fillna(\"Empty\"))\n",
    "df['first_name']=df[\"first_name\"].fillna(\"Empty\")"
   ]
  },
  {
   "cell_type": "code",
   "execution_count": 13,
   "id": "4ef278d1-91c1-4f1d-b7da-af4dc425ba82",
   "metadata": {},
   "outputs": [
    {
     "name": "stdout",
     "output_type": "stream",
     "text": [
      "7.0\n"
     ]
    },
    {
     "data": {
      "text/plain": [
       "0    8.0\n",
       "1    7.0\n",
       "2    7.0\n",
       "3    6.0\n",
       "4    7.0\n",
       "Name: pre_movie_score, dtype: float64"
      ]
     },
     "execution_count": 13,
     "metadata": {},
     "output_type": "execute_result"
    }
   ],
   "source": [
    "#Fills null values with average\n",
    "print(df['pre_movie_score'].mean())\n",
    "df['pre_movie_score'].fillna(df['pre_movie_score'].mean())"
   ]
  },
  {
   "cell_type": "code",
   "execution_count": 14,
   "id": "44435aad-b89e-4628-aaa0-df006b610db1",
   "metadata": {},
   "outputs": [
    {
     "name": "stdout",
     "output_type": "stream",
     "text": [
      "     total_bill   tip  gender smoker   day    time  size  price_per_person  \\\n",
      "0         16.99  1.01  Female     No   Sun  Dinner     2              8.49   \n",
      "1         10.34  1.66    Male     No   Sun  Dinner     3              3.45   \n",
      "2         21.01  3.50    Male     No   Sun  Dinner     3              7.00   \n",
      "3         23.68  3.31    Male     No   Sun  Dinner     2             11.84   \n",
      "4         24.59  3.61  Female     No   Sun  Dinner     4              6.15   \n",
      "..          ...   ...     ...    ...   ...     ...   ...               ...   \n",
      "239       29.03  5.92    Male     No   Sat  Dinner     3              9.68   \n",
      "240       27.18  2.00  Female    Yes   Sat  Dinner     2             13.59   \n",
      "241       22.67  2.00    Male    Yes   Sat  Dinner     2             11.34   \n",
      "242       17.82  1.75    Male     No   Sat  Dinner     2              8.91   \n",
      "243       18.78  3.00  Female     No  Thur  Dinner     2              9.39   \n",
      "\n",
      "             Payer Name     CC Number Payment ID  \n",
      "0    Christy Cunningham  3.560330e+15    Sun2959  \n",
      "1        Douglas Tucker  4.478070e+15    Sun4608  \n",
      "2        Travis Walters  6.011810e+15    Sun4458  \n",
      "3      Nathaniel Harris  4.676140e+15    Sun5260  \n",
      "4          Tonya Carter  4.832730e+15    Sun2251  \n",
      "..                  ...           ...        ...  \n",
      "239       Michael Avila  5.296070e+15    Sat2657  \n",
      "240      Monica Sanders  3.506810e+15    Sat1766  \n",
      "241          Keith Wong  6.011890e+15    Sat3880  \n",
      "242        Dennis Dixon  4.375220e+12      Sat17  \n",
      "243     Michelle Hardin  3.511450e+15    Thur672  \n",
      "\n",
      "[244 rows x 11 columns]\n"
     ]
    }
   ],
   "source": [
    "'''\n",
    "grouping functionality:\n",
    "1. Splitting: the data is first  split into groups baseed on the criteria prvoded\n",
    "2. Applying: A function  (or multiple function ) is applied to each group independently\n",
    "3. Combining : the result of the function application combine into a new dataframe\n",
    "'''\n",
    "df=pd.read_csv(\"tips.csv\")\n",
    "print(df)"
   ]
  },
  {
   "cell_type": "code",
   "execution_count": 17,
   "id": "de7bdd85-0425-4c8f-826b-175986415a1f",
   "metadata": {},
   "outputs": [
    {
     "name": "stdout",
     "output_type": "stream",
     "text": [
      "    total_bill   tip  gender smoker  day    time  size  price_per_person  \\\n",
      "0        16.99  1.01  Female     No  Sun  Dinner     2              8.49   \n",
      "1        10.34  1.66    Male     No  Sun  Dinner     3              3.45   \n",
      "2        21.01  3.50    Male     No  Sun  Dinner     3              7.00   \n",
      "3        23.68  3.31    Male     No  Sun  Dinner     2             11.84   \n",
      "4        24.59  3.61  Female     No  Sun  Dinner     4              6.15   \n",
      "5        25.29  4.71    Male     No  Sun  Dinner     4              6.32   \n",
      "6         8.77  2.00    Male     No  Sun  Dinner     2              4.38   \n",
      "11       35.26  5.00  Female     No  Sun  Dinner     4              8.82   \n",
      "14       14.83  3.02  Female     No  Sun  Dinner     2              7.42   \n",
      "16       10.33  1.67  Female     No  Sun  Dinner     3              3.44   \n",
      "\n",
      "            Payer Name     CC Number Payment ID  \n",
      "0   Christy Cunningham  3.560330e+15    Sun2959  \n",
      "1       Douglas Tucker  4.478070e+15    Sun4608  \n",
      "2       Travis Walters  6.011810e+15    Sun4458  \n",
      "3     Nathaniel Harris  4.676140e+15    Sun5260  \n",
      "4         Tonya Carter  4.832730e+15    Sun2251  \n",
      "5           Erik Smith  2.131400e+14    Sun9679  \n",
      "6   Kristopher Johnson  2.223730e+15    Sun5985  \n",
      "11        Diane Macias  4.577820e+15    Sun6686  \n",
      "14       Vanessa Jones  3.001670e+13    Sun3848  \n",
      "16    Elizabeth Foster  4.240030e+15    Sun9715  \n"
     ]
    }
   ],
   "source": [
    "#1.Spliting\n",
    "df_grouped = df.groupby(\"gender\")\n",
    "print(df_grouped.head())"
   ]
  },
  {
   "cell_type": "code",
   "execution_count": 18,
   "id": "7f49e8e3-a809-4135-ab54-2811e1c54093",
   "metadata": {},
   "outputs": [
    {
     "name": "stdout",
     "output_type": "stream",
     "text": [
      "gender\n",
      "Female    2.833448\n",
      "Male      3.089618\n",
      "Name: tip, dtype: float64\n"
     ]
    }
   ],
   "source": [
    "#2.Applying\n",
    "#calculate the mean tip for each gender\n",
    "mean_tip_by_gender= df_grouped['tip'].mean()\n",
    "print(mean_tip_by_gender)"
   ]
  },
  {
   "cell_type": "code",
   "execution_count": 21,
   "id": "b01ef795-58ba-4b45-bbaa-f39a497fa347",
   "metadata": {},
   "outputs": [
    {
     "name": "stdout",
     "output_type": "stream",
     "text": [
      "gender\n",
      "Female    1.0\n",
      "Male      1.0\n",
      "Name: tip, dtype: float64\n",
      "gender\n",
      "Female     6.5\n",
      "Male      10.0\n",
      "Name: tip, dtype: float64\n",
      "gender\n",
      "Female    1.159495\n",
      "Male      1.489102\n",
      "Name: tip, dtype: float64\n",
      "gender\n",
      "Female    1.344428\n",
      "Male      2.217424\n",
      "Name: tip, dtype: float64\n",
      "gender\n",
      "Female     87\n",
      "Male      157\n",
      "Name: tip, dtype: int64\n",
      "gender\n",
      "Female    246.51\n",
      "Male      485.07\n",
      "Name: tip, dtype: float64\n"
     ]
    }
   ],
   "source": [
    "print(df_grouped['tip'].min())\n",
    "print(df_grouped['tip'].max())\n",
    "print(df_grouped['tip'].std())\n",
    "print(df_grouped['tip'].var())\n",
    "print(df_grouped['tip'].count())\n",
    "print(df_grouped['tip'].sum())"
   ]
  },
  {
   "cell_type": "code",
   "execution_count": 22,
   "id": "a9537fae-0fcc-411c-a7dc-a7f687bba1fa",
   "metadata": {},
   "outputs": [],
   "source": [
    "#Creating Groups for multiple columns\n",
    "df_grouped=df.groupby(['gender','day'])"
   ]
  },
  {
   "cell_type": "code",
   "execution_count": 23,
   "id": "6bcb7e48-a306-4d68-a65b-efa448b2a29f",
   "metadata": {},
   "outputs": [
    {
     "name": "stdout",
     "output_type": "stream",
     "text": [
      "gender  day \n",
      "Female  Fri     2.781111\n",
      "        Sat     2.801786\n",
      "        Sun     3.367222\n",
      "        Thur    2.575625\n",
      "Male    Fri     2.693000\n",
      "        Sat     3.083898\n",
      "        Sun     3.220345\n",
      "        Thur    2.980333\n",
      "Name: tip, dtype: float64\n"
     ]
    }
   ],
   "source": [
    "#3 Combining also konwn as Drill-down\n",
    "mean_tip_by_gender_day=df_grouped['tip'].mean()\n",
    "print(mean_tip_by_gender_day)"
   ]
  },
  {
   "cell_type": "code",
   "execution_count": 24,
   "id": "770a8a55-46fe-4062-84e8-d616e493f102",
   "metadata": {},
   "outputs": [],
   "source": [
    "#agg function\n",
    "#apply multiple aggregation functions to differenet columns when grouping data\n",
    "#Claculate both the mean and the sum if the 'tip' column for each combinaton of 'gender' & 'day'\n",
    "\n",
    "#Group the DataFrame by both \"gender\" and \"day\" and calculate the mean and the sum of the \"tip\" for each combination\n",
    "df_grouped=df.groupby(['gender','day']).agg({'tip':['mean','sum']}).reset_index()"
   ]
  },
  {
   "cell_type": "code",
   "execution_count": 25,
   "id": "bcf3ba29-3d1e-4ff9-8eef-4d7ee1b6c1a2",
   "metadata": {},
   "outputs": [
    {
     "name": "stdout",
     "output_type": "stream",
     "text": [
      "   gender   day  mean_tip  total_tip\n",
      "0  Female   Fri  2.781111      25.03\n",
      "1  Female   Sat  2.801786      78.45\n",
      "2  Female   Sun  3.367222      60.61\n",
      "3  Female  Thur  2.575625      82.42\n",
      "4    Male   Fri  2.693000      26.93\n"
     ]
    }
   ],
   "source": [
    "df_grouped.columns=[\"gender\",'day','mean_tip','total_tip']\n",
    "print(df_grouped.head())"
   ]
  },
  {
   "cell_type": "code",
   "execution_count": null,
   "id": "91d1098c-5cdd-400f-9c48-7f80875acfcc",
   "metadata": {},
   "outputs": [],
   "source": []
  }
 ],
 "metadata": {
  "kernelspec": {
   "display_name": "Python 3 (ipykernel)",
   "language": "python",
   "name": "python3"
  },
  "language_info": {
   "codemirror_mode": {
    "name": "ipython",
    "version": 3
   },
   "file_extension": ".py",
   "mimetype": "text/x-python",
   "name": "python",
   "nbconvert_exporter": "python",
   "pygments_lexer": "ipython3",
   "version": "3.12.2"
  }
 },
 "nbformat": 4,
 "nbformat_minor": 5
}
