{
  "cells": [
    {
      "cell_type": "code",
      "execution_count": 1,
      "metadata": {
        "id": "XK_CzXiNsI2g"
      },
      "outputs": [],
      "source": [
        "import numpy as np\n",
        "import pandas as pd\n",
        "import matplotlib.pyplot as plt\n",
        "import seaborn as sns"
      ]
    },
    {
      "cell_type": "code",
      "execution_count": 2,
      "metadata": {
        "colab": {
          "base_uri": "https://localhost:8080/"
        },
        "id": "hZwR7K4QsI2k",
        "outputId": "2d9fc94b-16b8-4bdb-c1b9-2edab46e52e8"
      },
      "outputs": [
        {
          "name": "stdout",
          "output_type": "stream",
          "text": [
            "<class 'pandas.core.frame.DataFrame'>\n",
            "RangeIndex: 2404 entries, 0 to 2403\n",
            "Data columns (total 18 columns):\n",
            " #   Column                Non-Null Count  Dtype  \n",
            "---  ------                --------------  -----  \n",
            " 0   Model                 2404 non-null   object \n",
            " 1   Displ                 2404 non-null   float64\n",
            " 2   Cyl                   2205 non-null   object \n",
            " 3   Trans                 2205 non-null   object \n",
            " 4   Drive                 2311 non-null   object \n",
            " 5   Fuel                  2404 non-null   object \n",
            " 6   Sales Area            2404 non-null   object \n",
            " 7   Stnd                  2404 non-null   object \n",
            " 8   Underhood ID          2404 non-null   object \n",
            " 9   Veh Class             2404 non-null   object \n",
            " 10  Air Pollution Score   2404 non-null   object \n",
            " 11  FE Calc Appr          2205 non-null   object \n",
            " 12  City MPG              2205 non-null   object \n",
            " 13  Hwy MPG               2205 non-null   object \n",
            " 14  Cmb MPG               2205 non-null   object \n",
            " 15  Unadj Cmb MPG         2205 non-null   float64\n",
            " 16  Greenhouse Gas Score  2205 non-null   object \n",
            " 17  SmartWay              2404 non-null   object \n",
            "dtypes: float64(2), object(16)\n",
            "memory usage: 338.2+ KB\n"
          ]
        }
      ],
      "source": [
        "df1 = pd.read_csv(\"all_alpha_08.csv\")\n",
        "df1.info()\n"
      ]
    },
    {
      "cell_type": "code",
      "execution_count": 3,
      "metadata": {
        "colab": {
          "base_uri": "https://localhost:8080/",
          "height": 112
        },
        "id": "zwxGNJbzskjQ",
        "outputId": "3a290991-d4cf-432f-8f4e-b0b7250568ed"
      },
      "outputs": [
        {
          "data": {
            "text/html": [
              "<div>\n",
              "<style scoped>\n",
              "    .dataframe tbody tr th:only-of-type {\n",
              "        vertical-align: middle;\n",
              "    }\n",
              "\n",
              "    .dataframe tbody tr th {\n",
              "        vertical-align: top;\n",
              "    }\n",
              "\n",
              "    .dataframe thead th {\n",
              "        text-align: right;\n",
              "    }\n",
              "</style>\n",
              "<table border=\"1\" class=\"dataframe\">\n",
              "  <thead>\n",
              "    <tr style=\"text-align: right;\">\n",
              "      <th></th>\n",
              "      <th>Displ</th>\n",
              "      <th>Unadj Cmb MPG</th>\n",
              "    </tr>\n",
              "  </thead>\n",
              "  <tbody>\n",
              "    <tr>\n",
              "      <th>Displ</th>\n",
              "      <td>1.00000</td>\n",
              "      <td>-0.77831</td>\n",
              "    </tr>\n",
              "    <tr>\n",
              "      <th>Unadj Cmb MPG</th>\n",
              "      <td>-0.77831</td>\n",
              "      <td>1.00000</td>\n",
              "    </tr>\n",
              "  </tbody>\n",
              "</table>\n",
              "</div>"
            ],
            "text/plain": [
              "                 Displ  Unadj Cmb MPG\n",
              "Displ          1.00000       -0.77831\n",
              "Unadj Cmb MPG -0.77831        1.00000"
            ]
          },
          "execution_count": 3,
          "metadata": {},
          "output_type": "execute_result"
        }
      ],
      "source": [
        "df1.select_dtypes(exclude=object).corr()"
      ]
    },
    {
      "cell_type": "code",
      "execution_count": 4,
      "metadata": {
        "colab": {
          "base_uri": "https://localhost:8080/",
          "height": 424
        },
        "id": "s6ptxqm8sI2m",
        "outputId": "cc806ae7-afb4-4674-fe87-4d01da6d3cb3"
      },
      "outputs": [
        {
          "data": {
            "text/html": [
              "<div>\n",
              "<style scoped>\n",
              "    .dataframe tbody tr th:only-of-type {\n",
              "        vertical-align: middle;\n",
              "    }\n",
              "\n",
              "    .dataframe tbody tr th {\n",
              "        vertical-align: top;\n",
              "    }\n",
              "\n",
              "    .dataframe thead th {\n",
              "        text-align: right;\n",
              "    }\n",
              "</style>\n",
              "<table border=\"1\" class=\"dataframe\">\n",
              "  <thead>\n",
              "    <tr style=\"text-align: right;\">\n",
              "      <th></th>\n",
              "      <th>Model</th>\n",
              "      <th>Displ</th>\n",
              "      <th>Fuel</th>\n",
              "      <th>Sales Area</th>\n",
              "      <th>Stnd</th>\n",
              "      <th>Underhood ID</th>\n",
              "      <th>Veh Class</th>\n",
              "      <th>Air Pollution Score</th>\n",
              "      <th>SmartWay</th>\n",
              "    </tr>\n",
              "  </thead>\n",
              "  <tbody>\n",
              "    <tr>\n",
              "      <th>0</th>\n",
              "      <td>ACURA MDX</td>\n",
              "      <td>3.7</td>\n",
              "      <td>Gasoline</td>\n",
              "      <td>CA</td>\n",
              "      <td>U2</td>\n",
              "      <td>8HNXT03.7PKR</td>\n",
              "      <td>SUV</td>\n",
              "      <td>7</td>\n",
              "      <td>no</td>\n",
              "    </tr>\n",
              "    <tr>\n",
              "      <th>1</th>\n",
              "      <td>ACURA MDX</td>\n",
              "      <td>3.7</td>\n",
              "      <td>Gasoline</td>\n",
              "      <td>FA</td>\n",
              "      <td>B5</td>\n",
              "      <td>8HNXT03.7PKR</td>\n",
              "      <td>SUV</td>\n",
              "      <td>6</td>\n",
              "      <td>no</td>\n",
              "    </tr>\n",
              "    <tr>\n",
              "      <th>2</th>\n",
              "      <td>ACURA RDX</td>\n",
              "      <td>2.3</td>\n",
              "      <td>Gasoline</td>\n",
              "      <td>CA</td>\n",
              "      <td>U2</td>\n",
              "      <td>8HNXT02.3DKR</td>\n",
              "      <td>SUV</td>\n",
              "      <td>7</td>\n",
              "      <td>no</td>\n",
              "    </tr>\n",
              "    <tr>\n",
              "      <th>3</th>\n",
              "      <td>ACURA RDX</td>\n",
              "      <td>2.3</td>\n",
              "      <td>Gasoline</td>\n",
              "      <td>FA</td>\n",
              "      <td>B5</td>\n",
              "      <td>8HNXT02.3DKR</td>\n",
              "      <td>SUV</td>\n",
              "      <td>6</td>\n",
              "      <td>no</td>\n",
              "    </tr>\n",
              "    <tr>\n",
              "      <th>4</th>\n",
              "      <td>ACURA RL</td>\n",
              "      <td>3.5</td>\n",
              "      <td>Gasoline</td>\n",
              "      <td>CA</td>\n",
              "      <td>U2</td>\n",
              "      <td>8HNXV03.5HKR</td>\n",
              "      <td>midsize car</td>\n",
              "      <td>7</td>\n",
              "      <td>no</td>\n",
              "    </tr>\n",
              "    <tr>\n",
              "      <th>...</th>\n",
              "      <td>...</td>\n",
              "      <td>...</td>\n",
              "      <td>...</td>\n",
              "      <td>...</td>\n",
              "      <td>...</td>\n",
              "      <td>...</td>\n",
              "      <td>...</td>\n",
              "      <td>...</td>\n",
              "      <td>...</td>\n",
              "    </tr>\n",
              "    <tr>\n",
              "      <th>2399</th>\n",
              "      <td>VOLVO XC 90</td>\n",
              "      <td>3.2</td>\n",
              "      <td>Gasoline</td>\n",
              "      <td>CA</td>\n",
              "      <td>U2</td>\n",
              "      <td>8VVXB03.2U2N</td>\n",
              "      <td>SUV</td>\n",
              "      <td>7</td>\n",
              "      <td>no</td>\n",
              "    </tr>\n",
              "    <tr>\n",
              "      <th>2400</th>\n",
              "      <td>VOLVO XC 90</td>\n",
              "      <td>4.4</td>\n",
              "      <td>Gasoline</td>\n",
              "      <td>CA</td>\n",
              "      <td>U2</td>\n",
              "      <td>8VVXB04.4U2N</td>\n",
              "      <td>SUV</td>\n",
              "      <td>7</td>\n",
              "      <td>no</td>\n",
              "    </tr>\n",
              "    <tr>\n",
              "      <th>2401</th>\n",
              "      <td>VOLVO XC 90</td>\n",
              "      <td>3.2</td>\n",
              "      <td>Gasoline</td>\n",
              "      <td>FA</td>\n",
              "      <td>B5</td>\n",
              "      <td>8VVXB03.2U2N</td>\n",
              "      <td>SUV</td>\n",
              "      <td>6</td>\n",
              "      <td>no</td>\n",
              "    </tr>\n",
              "    <tr>\n",
              "      <th>2402</th>\n",
              "      <td>VOLVO XC 90</td>\n",
              "      <td>3.2</td>\n",
              "      <td>Gasoline</td>\n",
              "      <td>FA</td>\n",
              "      <td>B5</td>\n",
              "      <td>8VVXB03.2U2N</td>\n",
              "      <td>SUV</td>\n",
              "      <td>6</td>\n",
              "      <td>no</td>\n",
              "    </tr>\n",
              "    <tr>\n",
              "      <th>2403</th>\n",
              "      <td>VOLVO XC 90</td>\n",
              "      <td>4.4</td>\n",
              "      <td>Gasoline</td>\n",
              "      <td>FA</td>\n",
              "      <td>B5</td>\n",
              "      <td>8VVXB04.4U2N</td>\n",
              "      <td>SUV</td>\n",
              "      <td>6</td>\n",
              "      <td>no</td>\n",
              "    </tr>\n",
              "  </tbody>\n",
              "</table>\n",
              "<p>2404 rows × 9 columns</p>\n",
              "</div>"
            ],
            "text/plain": [
              "            Model  Displ      Fuel Sales Area Stnd  Underhood ID    Veh Class  \\\n",
              "0       ACURA MDX    3.7  Gasoline         CA   U2  8HNXT03.7PKR          SUV   \n",
              "1       ACURA MDX    3.7  Gasoline         FA   B5  8HNXT03.7PKR          SUV   \n",
              "2       ACURA RDX    2.3  Gasoline         CA   U2  8HNXT02.3DKR          SUV   \n",
              "3       ACURA RDX    2.3  Gasoline         FA   B5  8HNXT02.3DKR          SUV   \n",
              "4        ACURA RL    3.5  Gasoline         CA   U2  8HNXV03.5HKR  midsize car   \n",
              "...           ...    ...       ...        ...  ...           ...          ...   \n",
              "2399  VOLVO XC 90    3.2  Gasoline         CA   U2  8VVXB03.2U2N          SUV   \n",
              "2400  VOLVO XC 90    4.4  Gasoline         CA   U2  8VVXB04.4U2N          SUV   \n",
              "2401  VOLVO XC 90    3.2  Gasoline         FA   B5  8VVXB03.2U2N          SUV   \n",
              "2402  VOLVO XC 90    3.2  Gasoline         FA   B5  8VVXB03.2U2N          SUV   \n",
              "2403  VOLVO XC 90    4.4  Gasoline         FA   B5  8VVXB04.4U2N          SUV   \n",
              "\n",
              "     Air Pollution Score SmartWay  \n",
              "0                      7       no  \n",
              "1                      6       no  \n",
              "2                      7       no  \n",
              "3                      6       no  \n",
              "4                      7       no  \n",
              "...                  ...      ...  \n",
              "2399                   7       no  \n",
              "2400                   7       no  \n",
              "2401                   6       no  \n",
              "2402                   6       no  \n",
              "2403                   6       no  \n",
              "\n",
              "[2404 rows x 9 columns]"
            ]
          },
          "execution_count": 4,
          "metadata": {},
          "output_type": "execute_result"
        }
      ],
      "source": [
        "df1=df1.dropna(axis=1)\n",
        "df1"
      ]
    },
    {
      "cell_type": "code",
      "execution_count": 5,
      "metadata": {
        "colab": {
          "base_uri": "https://localhost:8080/"
        },
        "id": "9_XRLeU8sI2n",
        "outputId": "2968bf2c-55d4-4d97-9014-0e74c55f9de7"
      },
      "outputs": [
        {
          "name": "stdout",
          "output_type": "stream",
          "text": [
            "<class 'pandas.core.frame.DataFrame'>\n",
            "RangeIndex: 2404 entries, 0 to 2403\n",
            "Data columns (total 9 columns):\n",
            " #   Column               Non-Null Count  Dtype  \n",
            "---  ------               --------------  -----  \n",
            " 0   Model                2404 non-null   object \n",
            " 1   Displ                2404 non-null   float64\n",
            " 2   Fuel                 2404 non-null   object \n",
            " 3   Sales Area           2404 non-null   object \n",
            " 4   Stnd                 2404 non-null   object \n",
            " 5   Underhood ID         2404 non-null   object \n",
            " 6   Veh Class            2404 non-null   object \n",
            " 7   Air Pollution Score  2404 non-null   object \n",
            " 8   SmartWay             2404 non-null   object \n",
            "dtypes: float64(1), object(8)\n",
            "memory usage: 169.2+ KB\n"
          ]
        }
      ],
      "source": [
        "df1.info()"
      ]
    },
    {
      "cell_type": "code",
      "execution_count": 6,
      "metadata": {
        "colab": {
          "base_uri": "https://localhost:8080/",
          "height": 424
        },
        "id": "iQkk64q5sI2p",
        "outputId": "508f1927-a565-4f40-ae9c-7ae20466c7a6"
      },
      "outputs": [
        {
          "data": {
            "text/html": [
              "<div>\n",
              "<style scoped>\n",
              "    .dataframe tbody tr th:only-of-type {\n",
              "        vertical-align: middle;\n",
              "    }\n",
              "\n",
              "    .dataframe tbody tr th {\n",
              "        vertical-align: top;\n",
              "    }\n",
              "\n",
              "    .dataframe thead th {\n",
              "        text-align: right;\n",
              "    }\n",
              "</style>\n",
              "<table border=\"1\" class=\"dataframe\">\n",
              "  <thead>\n",
              "    <tr style=\"text-align: right;\">\n",
              "      <th></th>\n",
              "      <th>model</th>\n",
              "      <th>displ</th>\n",
              "      <th>cyl</th>\n",
              "      <th>trans</th>\n",
              "      <th>drive</th>\n",
              "      <th>fuel</th>\n",
              "      <th>veh_class</th>\n",
              "      <th>air_pollution_score</th>\n",
              "      <th>city_mpg</th>\n",
              "      <th>hwy_mpg</th>\n",
              "      <th>cmb_mpg</th>\n",
              "      <th>greenhouse_gas_score</th>\n",
              "      <th>smartway</th>\n",
              "    </tr>\n",
              "  </thead>\n",
              "  <tbody>\n",
              "    <tr>\n",
              "      <th>0</th>\n",
              "      <td>ACURA RDX</td>\n",
              "      <td>3.5</td>\n",
              "      <td>6</td>\n",
              "      <td>SemiAuto-6</td>\n",
              "      <td>2WD</td>\n",
              "      <td>Gasoline</td>\n",
              "      <td>small SUV</td>\n",
              "      <td>3.0</td>\n",
              "      <td>20.0</td>\n",
              "      <td>28.0</td>\n",
              "      <td>23.0</td>\n",
              "      <td>5</td>\n",
              "      <td>No</td>\n",
              "    </tr>\n",
              "    <tr>\n",
              "      <th>1</th>\n",
              "      <td>ACURA RDX</td>\n",
              "      <td>3.5</td>\n",
              "      <td>6</td>\n",
              "      <td>SemiAuto-6</td>\n",
              "      <td>4WD</td>\n",
              "      <td>Gasoline</td>\n",
              "      <td>small SUV</td>\n",
              "      <td>3.0</td>\n",
              "      <td>19.0</td>\n",
              "      <td>27.0</td>\n",
              "      <td>22.0</td>\n",
              "      <td>4</td>\n",
              "      <td>No</td>\n",
              "    </tr>\n",
              "    <tr>\n",
              "      <th>2</th>\n",
              "      <td>ACURA TLX</td>\n",
              "      <td>2.4</td>\n",
              "      <td>4</td>\n",
              "      <td>AMS-8</td>\n",
              "      <td>2WD</td>\n",
              "      <td>Gasoline</td>\n",
              "      <td>small car</td>\n",
              "      <td>3.0</td>\n",
              "      <td>23.0</td>\n",
              "      <td>33.0</td>\n",
              "      <td>27.0</td>\n",
              "      <td>6</td>\n",
              "      <td>No</td>\n",
              "    </tr>\n",
              "    <tr>\n",
              "      <th>3</th>\n",
              "      <td>ACURA TLX</td>\n",
              "      <td>3.5</td>\n",
              "      <td>6</td>\n",
              "      <td>SemiAuto-9</td>\n",
              "      <td>2WD</td>\n",
              "      <td>Gasoline</td>\n",
              "      <td>small car</td>\n",
              "      <td>3.0</td>\n",
              "      <td>20.0</td>\n",
              "      <td>32.0</td>\n",
              "      <td>24.0</td>\n",
              "      <td>5</td>\n",
              "      <td>No</td>\n",
              "    </tr>\n",
              "    <tr>\n",
              "      <th>4</th>\n",
              "      <td>ACURA TLX</td>\n",
              "      <td>3.5</td>\n",
              "      <td>6</td>\n",
              "      <td>SemiAuto-9</td>\n",
              "      <td>4WD</td>\n",
              "      <td>Gasoline</td>\n",
              "      <td>small car</td>\n",
              "      <td>3.0</td>\n",
              "      <td>21.0</td>\n",
              "      <td>30.0</td>\n",
              "      <td>24.0</td>\n",
              "      <td>5</td>\n",
              "      <td>No</td>\n",
              "    </tr>\n",
              "    <tr>\n",
              "      <th>...</th>\n",
              "      <td>...</td>\n",
              "      <td>...</td>\n",
              "      <td>...</td>\n",
              "      <td>...</td>\n",
              "      <td>...</td>\n",
              "      <td>...</td>\n",
              "      <td>...</td>\n",
              "      <td>...</td>\n",
              "      <td>...</td>\n",
              "      <td>...</td>\n",
              "      <td>...</td>\n",
              "      <td>...</td>\n",
              "      <td>...</td>\n",
              "    </tr>\n",
              "    <tr>\n",
              "      <th>827</th>\n",
              "      <td>TOYOTA Sequoia FFV</td>\n",
              "      <td>5.7</td>\n",
              "      <td>8</td>\n",
              "      <td>SemiAuto-6</td>\n",
              "      <td>4WD</td>\n",
              "      <td>Gas</td>\n",
              "      <td>standard SUV</td>\n",
              "      <td>5.0</td>\n",
              "      <td>13.0</td>\n",
              "      <td>17.0</td>\n",
              "      <td>14.0</td>\n",
              "      <td>1</td>\n",
              "      <td>No</td>\n",
              "    </tr>\n",
              "    <tr>\n",
              "      <th>828</th>\n",
              "      <td>TOYOTA Tundra FFV</td>\n",
              "      <td>5.7</td>\n",
              "      <td>8</td>\n",
              "      <td>SemiAuto-6</td>\n",
              "      <td>4WD</td>\n",
              "      <td>Gas</td>\n",
              "      <td>pickup</td>\n",
              "      <td>5.0</td>\n",
              "      <td>13.0</td>\n",
              "      <td>17.0</td>\n",
              "      <td>15.0</td>\n",
              "      <td>2</td>\n",
              "      <td>No</td>\n",
              "    </tr>\n",
              "    <tr>\n",
              "      <th>829</th>\n",
              "      <td>VOLVO S90</td>\n",
              "      <td>2.0</td>\n",
              "      <td>4</td>\n",
              "      <td>SemiAuto-8</td>\n",
              "      <td>4WD</td>\n",
              "      <td>Electricity</td>\n",
              "      <td>midsize car</td>\n",
              "      <td>7.0</td>\n",
              "      <td>70.0</td>\n",
              "      <td>72.0</td>\n",
              "      <td>71.0</td>\n",
              "      <td>10</td>\n",
              "      <td>Elite</td>\n",
              "    </tr>\n",
              "    <tr>\n",
              "      <th>830</th>\n",
              "      <td>VOLVO XC 60</td>\n",
              "      <td>2.0</td>\n",
              "      <td>4</td>\n",
              "      <td>SemiAuto-8</td>\n",
              "      <td>4WD</td>\n",
              "      <td>Electricity</td>\n",
              "      <td>small SUV</td>\n",
              "      <td>7.0</td>\n",
              "      <td>60.0</td>\n",
              "      <td>58.0</td>\n",
              "      <td>59.0</td>\n",
              "      <td>10</td>\n",
              "      <td>Elite</td>\n",
              "    </tr>\n",
              "    <tr>\n",
              "      <th>831</th>\n",
              "      <td>VOLVO XC 90</td>\n",
              "      <td>2.0</td>\n",
              "      <td>4</td>\n",
              "      <td>SemiAuto-8</td>\n",
              "      <td>4WD</td>\n",
              "      <td>Electricity</td>\n",
              "      <td>standard SUV</td>\n",
              "      <td>7.0</td>\n",
              "      <td>63.0</td>\n",
              "      <td>61.0</td>\n",
              "      <td>62.0</td>\n",
              "      <td>10</td>\n",
              "      <td>Elite</td>\n",
              "    </tr>\n",
              "  </tbody>\n",
              "</table>\n",
              "<p>832 rows × 13 columns</p>\n",
              "</div>"
            ],
            "text/plain": [
              "                  model  displ  cyl       trans drive         fuel  \\\n",
              "0             ACURA RDX    3.5    6  SemiAuto-6   2WD     Gasoline   \n",
              "1             ACURA RDX    3.5    6  SemiAuto-6   4WD     Gasoline   \n",
              "2             ACURA TLX    2.4    4       AMS-8   2WD     Gasoline   \n",
              "3             ACURA TLX    3.5    6  SemiAuto-9   2WD     Gasoline   \n",
              "4             ACURA TLX    3.5    6  SemiAuto-9   4WD     Gasoline   \n",
              "..                  ...    ...  ...         ...   ...          ...   \n",
              "827  TOYOTA Sequoia FFV    5.7    8  SemiAuto-6   4WD          Gas   \n",
              "828   TOYOTA Tundra FFV    5.7    8  SemiAuto-6   4WD          Gas   \n",
              "829           VOLVO S90    2.0    4  SemiAuto-8   4WD  Electricity   \n",
              "830         VOLVO XC 60    2.0    4  SemiAuto-8   4WD  Electricity   \n",
              "831         VOLVO XC 90    2.0    4  SemiAuto-8   4WD  Electricity   \n",
              "\n",
              "        veh_class  air_pollution_score  city_mpg  hwy_mpg  cmb_mpg  \\\n",
              "0       small SUV                  3.0      20.0     28.0     23.0   \n",
              "1       small SUV                  3.0      19.0     27.0     22.0   \n",
              "2       small car                  3.0      23.0     33.0     27.0   \n",
              "3       small car                  3.0      20.0     32.0     24.0   \n",
              "4       small car                  3.0      21.0     30.0     24.0   \n",
              "..            ...                  ...       ...      ...      ...   \n",
              "827  standard SUV                  5.0      13.0     17.0     14.0   \n",
              "828        pickup                  5.0      13.0     17.0     15.0   \n",
              "829   midsize car                  7.0      70.0     72.0     71.0   \n",
              "830     small SUV                  7.0      60.0     58.0     59.0   \n",
              "831  standard SUV                  7.0      63.0     61.0     62.0   \n",
              "\n",
              "     greenhouse_gas_score smartway  \n",
              "0                       5       No  \n",
              "1                       4       No  \n",
              "2                       6       No  \n",
              "3                       5       No  \n",
              "4                       5       No  \n",
              "..                    ...      ...  \n",
              "827                     1       No  \n",
              "828                     2       No  \n",
              "829                    10    Elite  \n",
              "830                    10    Elite  \n",
              "831                    10    Elite  \n",
              "\n",
              "[832 rows x 13 columns]"
            ]
          },
          "execution_count": 6,
          "metadata": {},
          "output_type": "execute_result"
        }
      ],
      "source": [
        "df2 = pd.read_csv(\"clean_08.csv\")\n",
        "df3 = pd.read_csv(\"clean_18.csv\")\n",
        "df3"
      ]
    },
    {
      "cell_type": "code",
      "execution_count": 7,
      "metadata": {
        "colab": {
          "base_uri": "https://localhost:8080/",
          "height": 580
        },
        "id": "Cy3asz_isI2q",
        "outputId": "37c5d857-d4f9-490e-fa42-d953d82b5eed"
      },
      "outputs": [
        {
          "name": "stdout",
          "output_type": "stream",
          "text": [
            "Alternative sources of fuel in 2008:\n",
            "fuel\n",
            "False    99.696049\n",
            "True      0.303951\n",
            "Name: count, dtype: float64\n",
            "\n",
            "Alternative sources of fuel in 2018:\n",
            "fuel\n",
            "False    92.307692\n",
            "True      7.692308\n",
            "Name: count, dtype: float64\n"
          ]
        },
        {
          "data": {
            "image/png": "[encoded data removed]",
            "text/plain": [
              "<Figure size 1000x500 with 2 Axes>"
            ]
          },
          "metadata": {},
          "output_type": "display_data"
        }
      ],
      "source": [
        "#Q1\n",
        "fuel_2008 = df2['fuel'].value_counts().sum()\n",
        "fuel_2018 = df3['fuel'].value_counts().sum()\n",
        "\n",
        "alternative_fuels_2008 = df2['fuel'].isin(['CNG', 'ethanol','gas']).value_counts()\n",
        "alternative_fuels_2018 = df3['fuel'].isin(['CNG', 'Ethanol','Electricity','Gas']).value_counts()\n",
        "\n",
        "print(\"Alternative sources of fuel in 2008:\")\n",
        "print((alternative_fuels_2008/fuel_2008)*100)\n",
        "\n",
        "print(\"\\nAlternative sources of fuel in 2018:\")\n",
        "print((alternative_fuels_2018/fuel_2018)*100)\n",
        "\n",
        "import matplotlib.pyplot as plt\n",
        "\n",
        "# Calculate the percentage of alternative fuels\n",
        "alt_fuel_2008_pct = (alternative_fuels_2008 / fuel_2008) * 100\n",
        "alt_fuel_2018_pct = (alternative_fuels_2018 / fuel_2018) * 100\n",
        "\n",
        "# Create a dataframe for plotting\n",
        "df_plot = pd.DataFrame({'2008': alt_fuel_2008_pct, '2018': alt_fuel_2018_pct})\n",
        "\n",
        "# Plot the data\n",
        "df_plot.plot.pie(subplots=True, figsize=(10, 5) , autopct = '%1.1f')\n",
        "\n",
        "plt.show()"
      ]
    },
    {
      "cell_type": "code",
      "execution_count": 8,
      "metadata": {
        "colab": {
          "base_uri": "https://localhost:8080/"
        },
        "id": "CNePLBtssI2r",
        "outputId": "99f9ca04-8cba-4111-9a77-9921c3cfedd4"
      },
      "outputs": [
        {
          "data": {
            "text/plain": [
              "array(['Gasoline', 'CNG', 'ethanol', 'gas'], dtype=object)"
            ]
          },
          "execution_count": 8,
          "metadata": {},
          "output_type": "execute_result"
        }
      ],
      "source": [
        "df2['fuel'].unique()"
      ]
    },
    {
      "cell_type": "code",
      "execution_count": 9,
      "metadata": {
        "colab": {
          "base_uri": "https://localhost:8080/",
          "height": 885
        },
        "id": "dB7yjB3hsI2s",
        "outputId": "cb357ff5-abd0-455e-eeb0-b82979933fdc"
      },
      "outputs": [
        {
          "name": "stdout",
          "output_type": "stream",
          "text": [
            "veh_class\n",
            "SUV                     NaN\n",
            "large car          4.900000\n",
            "midsize car        6.282609\n",
            "minivan            1.682353\n",
            "pickup             2.312635\n",
            "small SUV               NaN\n",
            "small car          4.315948\n",
            "special purpose         NaN\n",
            "standard SUV            NaN\n",
            "station wagon      5.162745\n",
            "van                     NaN\n",
            "Name: cmb_mpg, dtype: float64\n"
          ]
        },
        {
          "data": {
            "image/png": "[encoded data removed]",
            "text/plain": [
              "<Figure size 1000x600 with 1 Axes>"
            ]
          },
          "metadata": {},
          "output_type": "display_data"
        }
      ],
      "source": [
        "# Q2\n",
        "fuel_economy_2008 = df2.groupby('veh_class')['cmb_mpg'].mean()\n",
        "fuel_economy_2018 = df3.groupby('veh_class')['cmb_mpg'].mean()\n",
        "improvement = fuel_economy_2018 - fuel_economy_2008\n",
        "\n",
        "print(improvement)\n",
        "\n",
        "# Series with the improvement values\n",
        "improvement.plot(kind='bar', figsize=(10, 6))\n",
        "\n",
        "\n",
        "plt.title('Improvement in Fuel Economy from 2008 to 2018 by Vehicle Class')\n",
        "plt.xlabel('Vehicle Class')\n",
        "plt.ylabel('Improvement in Combined MPG')\n",
        "\n",
        "plt.show()\n",
        "\n"
      ]
    },
    {
      "cell_type": "code",
      "execution_count": 10,
      "metadata": {
        "colab": {
          "base_uri": "https://localhost:8080/"
        },
        "id": "AeV0iI0NsI2t",
        "outputId": "2cb5467e-0702-4baf-d012-e7cdbc97a502"
      },
      "outputs": [
        {
          "name": "stdout",
          "output_type": "stream",
          "text": [
            "            displ         cyl  air_pollution_score    city_mpg     hwy_mpg  \\\n",
            "count  452.000000  452.000000           452.000000  452.000000  452.000000   \n",
            "mean     0.474990    0.662867            -3.383818    0.364347    0.211842   \n",
            "std      0.736164    0.753112             0.667875    5.330092    5.238960   \n",
            "min     -0.100000   -1.000000            -5.000000   -8.000000  -10.000000   \n",
            "25%     -0.275000    0.000000            -4.000000   -2.000000   -2.000000   \n",
            "50%      0.600000    2.000000            -4.000000    0.000000    0.000000   \n",
            "75%      0.600000    0.000000            -2.000000    2.000000    2.000000   \n",
            "max      3.000000    8.000000            -2.500000   65.000000   54.000000   \n",
            "\n",
            "          cmb_mpg  greenhouse_gas_score  \n",
            "count  452.000000            452.000000  \n",
            "mean     0.293206             -2.118421  \n",
            "std      5.422792              0.923027  \n",
            "min    -10.000000             -5.000000  \n",
            "25%     -3.000000             -3.000000  \n",
            "50%      0.000000             -2.000000  \n",
            "75%      2.000000             -1.000000  \n",
            "max     60.000000              0.000000  \n"
          ]
        }
      ],
      "source": [
        "# Q3\n",
        "smartway_2008 = df2[df2['smartway'] != 'no']\n",
        "smartway_2018 = df3[df3['smartway'] != 'no']\n",
        "\n",
        "\n",
        "change_in_smartway = smartway_2018.describe() - smartway_2008.describe()\n",
        "print(change_in_smartway)"
      ]
    },
    {
      "cell_type": "code",
      "execution_count": 11,
      "metadata": {
        "colab": {
          "base_uri": "https://localhost:8080/",
          "height": 874
        },
        "id": "7rBMPez1sI2u",
        "outputId": "bf03920a-5ec6-4d42-e9ee-b99751ff34b3"
      },
      "outputs": [
        {
          "name": "stdout",
          "output_type": "stream",
          "text": [
            "Correlation :                          displ       cyl  air_pollution_score  city_mpg  \\\n",
            "displ                 1.000000  0.928189            -0.384986 -0.536748   \n",
            "cyl                   0.928189  1.000000            -0.404966 -0.524090   \n",
            "air_pollution_score  -0.384986 -0.404966             1.000000  0.288700   \n",
            "city_mpg             -0.536748 -0.524090             0.288700  1.000000   \n",
            "hwy_mpg              -0.605202 -0.589986             0.309338  0.950309   \n",
            "cmb_mpg              -0.574880 -0.561166             0.301150  0.992635   \n",
            "greenhouse_gas_score -0.754193 -0.743946             0.390771  0.785513   \n",
            "\n",
            "                       hwy_mpg   cmb_mpg  greenhouse_gas_score  \n",
            "displ                -0.605202 -0.574880             -0.754193  \n",
            "cyl                  -0.589986 -0.561166             -0.743946  \n",
            "air_pollution_score   0.309338  0.301150              0.390771  \n",
            "city_mpg              0.950309  0.992635              0.785513  \n",
            "hwy_mpg               1.000000  0.978206              0.826981  \n",
            "cmb_mpg               0.978206  1.000000              0.814982  \n",
            "greenhouse_gas_score  0.826981  0.814982              1.000000  \n"
          ]
        },
        {
          "data": {
            "image/png": "[encoded data removed]",
            "text/plain": [
              "<Figure size 640x480 with 2 Axes>"
            ]
          },
          "metadata": {},
          "output_type": "display_data"
        }
      ],
      "source": [
        "# Q4\n",
        "correlation = df3.select_dtypes(exclude=object).corr()\n",
        "print(\"Correlation :\",correlation)\n",
        "\n",
        "cmap = sns.diverging_palette(10, 220, as_cmap=True)\n",
        "sns.heatmap(correlation, vmin=-1.0,annot=True,vmax=1.0, square=True , cmap=cmap)\n",
        "plt.show()"
      ]
    },
    {
      "cell_type": "code",
      "execution_count": 12,
      "metadata": {
        "colab": {
          "base_uri": "https://localhost:8080/"
        },
        "id": "k5auNApFsI2v",
        "outputId": "8d5560e6-b02e-4a56-930e-2f6ce95717fa"
      },
      "outputs": [
        {
          "name": "stdout",
          "output_type": "stream",
          "text": [
            "The model with the most improvement is VOLVO XC 90 with an improvement of 16.53333333333334 mpg.\n"
          ]
        }
      ],
      "source": [
        "#5\n",
        "# Calculate the average mpg for each model in 2008 and 2018\n",
        "avg_mpg_2008 = df2.groupby('model')['cmb_mpg'].mean()\n",
        "avg_mpg_2018 = df3.groupby('model')['cmb_mpg'].mean()\n",
        "\n",
        "# Calculate the improvement for each model\n",
        "improvement = avg_mpg_2018 - avg_mpg_2008\n",
        "\n",
        "# Find the model with the most improvement\n",
        "most_improved_model = improvement.idxmax()\n",
        "most_improved_value = improvement.max()\n",
        "\n",
        "print(f\"The model with the most improvement is {most_improved_model} with an improvement of {most_improved_value} mpg.\")\n"
      ]
    }
  ],
  "metadata": {
    "colab": {
      "provenance": []
    },
    "kernelspec": {
      "display_name": "test_env",
      "language": "python",
      "name": "python3"
    },
    "language_info": {
      "codemirror_mode": {
        "name": "ipython",
        "version": 3
      },
      "file_extension": ".py",
      "mimetype": "text/x-python",
      "name": "python",
      "nbconvert_exporter": "python",
      "pygments_lexer": "ipython3",
      "version": "3.12.2"
    }
  },
  "nbformat": 4,
  "nbformat_minor": 0
}
