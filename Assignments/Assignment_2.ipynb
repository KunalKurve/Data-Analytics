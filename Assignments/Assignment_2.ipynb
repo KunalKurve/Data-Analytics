{
 "cells": [
  {
   "cell_type": "code",
   "execution_count": 1,
   "id": "955f0a78",
   "metadata": {},
   "outputs": [],
   "source": [
    "import pandas as pd\n",
    "import numpy as np\n",
    "import random\n",
    "from dateutil.parser import parse\n",
    "from collections import Counter"
   ]
  },
  {
   "cell_type": "raw",
   "id": "828c33ab-cb3d-41f7-8bf6-002ae30cdfb9",
   "metadata": {},
   "source": [
    "1. Write a Pandas program to create and display a one-dimensional array-like object containing an array of data using Pandas module."
   ]
  },
  {
   "cell_type": "code",
   "execution_count": 2,
   "id": "d5727649",
   "metadata": {},
   "outputs": [
    {
     "name": "stdout",
     "output_type": "stream",
     "text": [
      "0    0.25\n",
      "1    0.50\n",
      "2    0.75\n",
      "3    1.00\n",
      "dtype: float64\n"
     ]
    }
   ],
   "source": [
    "data = pd.Series([0.25, 0.5, 0.75, 1.0])\n",
    "print(data)"
   ]
  },
  {
   "cell_type": "raw",
   "id": "17704aa0-2a45-429b-b24f-681dff395b05",
   "metadata": {},
   "source": [
    "2. Write a Pandas program to convert a Panda module Series to Python list and it's type."
   ]
  },
  {
   "cell_type": "code",
   "execution_count": 3,
   "id": "3b48272c",
   "metadata": {},
   "outputs": [
    {
     "name": "stdout",
     "output_type": "stream",
     "text": [
      "[0.25, 0.5, 0.75, 1.0]\n",
      "<class 'list'>\n"
     ]
    }
   ],
   "source": [
    "data = pd.Series([0.25, 0.5, 0.75, 1.0])\n",
    "data_pd = data.tolist()\n",
    "print(data_pd)\n",
    "print(type(data_pd))"
   ]
  },
  {
   "cell_type": "raw",
   "id": "ea92788b-45f5-4ef9-98bc-98083adc77b8",
   "metadata": {},
   "source": [
    "3. Write a Pandas program to add, subtract, multiple and divide two Pandas Series.\n",
    "Sample Series: [2, 4, 6, 8, 10], [1, 3, 5, 7, 9]"
   ]
  },
  {
   "cell_type": "code",
   "execution_count": 4,
   "id": "1fed8c94",
   "metadata": {},
   "outputs": [
    {
     "name": "stdout",
     "output_type": "stream",
     "text": [
      "Addition:\n",
      " 0     3\n",
      "1     7\n",
      "2    11\n",
      "3    15\n",
      "4    19\n",
      "dtype: int64\n",
      "\n",
      "Subtraction:\n",
      " 0    1\n",
      "1    1\n",
      "2    1\n",
      "3    1\n",
      "4    1\n",
      "dtype: int64\n",
      "\n",
      "Multiplication:\n",
      " 0     2\n",
      "1    12\n",
      "2    30\n",
      "3    56\n",
      "4    90\n",
      "dtype: int64\n",
      "\n",
      "Division:\n",
      " 0    2.000000\n",
      "1    1.333333\n",
      "2    1.200000\n",
      "3    1.142857\n",
      "4    1.111111\n",
      "dtype: float64\n"
     ]
    }
   ],
   "source": [
    "s1 = pd.Series([2, 4, 6, 8, 10])\n",
    "s2 = pd.Series([1, 3, 5, 7, 9])\n",
    "\n",
    "print(\"Addition:\\n\", s1+s2)\n",
    "print(\"\\nSubtraction:\\n\", s1-s2)\n",
    "print(\"\\nMultiplication:\\n\", s1*s2)\n",
    "print(\"\\nDivision:\\n\", s1/s2)"
   ]
  },
  {
   "cell_type": "raw",
   "id": "4c9602df-1b2a-4bec-b898-b9fb8ce69eea",
   "metadata": {},
   "source": [
    "4. Write a Pandas program to compare the elements of the two Pandas\n",
    "Series.\n",
    "Sample Series: [2, 4, 6, 8, 10], [1, 3, 5, 7, 10]"
   ]
  },
  {
   "cell_type": "code",
   "execution_count": 5,
   "id": "6d3858ac",
   "metadata": {},
   "outputs": [
    {
     "name": "stdout",
     "output_type": "stream",
     "text": [
      "0    False\n",
      "1    False\n",
      "2    False\n",
      "3    False\n",
      "4     True\n",
      "dtype: bool\n"
     ]
    }
   ],
   "source": [
    "s1 = pd.Series([2, 4, 6, 8, 10])\n",
    "s2 = pd.Series([1, 3, 5, 7, 10])\n",
    "\n",
    "print(s1 == s2)"
   ]
  },
  {
   "cell_type": "raw",
   "id": "0265299d-029c-40ef-88f2-ebc9443ef61d",
   "metadata": {},
   "source": [
    "5. Write a Pandas program to convert a dictionary to a Pandas series.\n",
    "Sample Series:\n",
    "Original dictionary: {'a': 100, 'b': 200, 'c': 300, 'd': 400, 'e': 800}\n",
    "Converted series:\n",
    "a 100\n",
    "b 200\n",
    "c 300\n",
    "d 400\n",
    "e 800"
   ]
  },
  {
   "cell_type": "code",
   "execution_count": 6,
   "id": "dcb35ca0",
   "metadata": {},
   "outputs": [
    {
     "name": "stdout",
     "output_type": "stream",
     "text": [
      "a    100\n",
      "b    200\n",
      "c    300\n",
      "d    400\n",
      "e    800\n",
      "dtype: int64\n"
     ]
    }
   ],
   "source": [
    "dictionary = {'a': 100, 'b': 200, 'c': 300, 'd': 400, 'e': 800}\n",
    "series = pd.Series(dictionary)\n",
    "print(series)"
   ]
  },
  {
   "cell_type": "raw",
   "id": "50667281-f85b-4fe6-8ead-a6e915812d36",
   "metadata": {},
   "source": [
    "6. Write a Pandas program to convert a NumPy array to a Pandas series.\n",
    "Sample Series:\n",
    "NumPy array: [10 20 30 40 50]\n",
    "Converted Pandas series:\n",
    "0 10\n",
    "1 20\n",
    "2 30\n",
    "3 40\n",
    "4 50"
   ]
  },
  {
   "cell_type": "code",
   "execution_count": 7,
   "id": "98672414",
   "metadata": {},
   "outputs": [
    {
     "name": "stdout",
     "output_type": "stream",
     "text": [
      "0    10\n",
      "1    20\n",
      "2    30\n",
      "3    40\n",
      "4    50\n",
      "dtype: int32\n"
     ]
    }
   ],
   "source": [
    "arr = np.array([10, 20, 30, 40, 50])\n",
    "series = pd.Series(arr)\n",
    "print(series)"
   ]
  },
  {
   "cell_type": "raw",
   "id": "6c43f6cd-f773-437c-ba74-7da32f12facb",
   "metadata": {},
   "source": [
    "7. Write a Pandas program to change the data type of given a column or a Series.\n",
    "Sample Series:\n",
    "Original Data Series:\n",
    "        0 100\n",
    "        1 200\n",
    "        2 python\n",
    "        3 300.12\n",
    "        4 400\n",
    "\n",
    "Change the said data type to numeric:\n",
    "        0 100.00\n",
    "        1 200.00\n",
    "        2 NaN\n",
    "        3 300.12\n",
    "        4 400.00"
   ]
  },
  {
   "cell_type": "code",
   "execution_count": 8,
   "id": "49301739",
   "metadata": {},
   "outputs": [
    {
     "name": "stdout",
     "output_type": "stream",
     "text": [
      "0       100\n",
      "1       200\n",
      "2    python\n",
      "3    300.12\n",
      "4       400\n",
      "dtype: object\n",
      "0    100.00\n",
      "1    200.00\n",
      "2       NaN\n",
      "3    300.12\n",
      "4    400.00\n",
      "dtype: float64\n"
     ]
    }
   ],
   "source": [
    "series = pd.Series([100, 200, 'python', 300.12, 400])\n",
    "print(series)\n",
    "\n",
    "changed_series = pd.to_numeric(series, errors='coerce') \n",
    "print(changed_series)"
   ]
  },
  {
   "cell_type": "raw",
   "id": "eff938a0-1ae7-4e92-a898-9eece03b4c36",
   "metadata": {},
   "source": [
    "8. Write a Pandas program to convert the first column of a DataFrame as a Series.\n",
    "Sample Output:\n",
    "Original DataFrame\n",
    "  col1 col2 col3\n",
    "0  1    4    7\n",
    "1  2    5    5\n",
    "2  3    6    8\n",
    "3  4    9    12\n",
    "4  7    5    1\n",
    "5  11   0    11\n",
    "\n",
    "1st column as a Series:\n",
    " 0 1\n",
    " 1 2\n",
    " 2 3\n",
    " 3 4\n",
    " 4 7\n",
    " 5 11\n",
    " Name: col1, dtype: int64\n",
    " <class 'pandas.core.series.Series'>"
   ]
  },
  {
   "cell_type": "code",
   "execution_count": 9,
   "id": "c363575a",
   "metadata": {},
   "outputs": [
    {
     "name": "stdout",
     "output_type": "stream",
     "text": [
      "Original DataFrame\n",
      "    col1  col2  col3\n",
      "0     1     4     7\n",
      "1     2     5     5\n",
      "2     3     6     8\n",
      "3     4     9    12\n",
      "4     7     5     1\n",
      "5    11     0    11\n",
      "\n",
      "1st column as a Series:\n",
      " 0     1\n",
      "1     2\n",
      "2     3\n",
      "3     4\n",
      "4     7\n",
      "5    11\n",
      "\n",
      "<class '<class 'pandas.core.series.Series'>'>\n"
     ]
    }
   ],
   "source": [
    "data = {'col1': [1, 2, 3, 4, 7, 11],\n",
    "       'col2': [4, 5, 6, 9, 5, 0],\n",
    "       'col3': [7, 5, 8, 12, 1, 11]}\n",
    "\n",
    "df = pd.DataFrame(data)\n",
    "print(\"Original DataFrame\\n\", df.to_string())\n",
    "\n",
    "series = df.iloc[:,0]\n",
    "print(\"\\n1st column as a Series:\\n\",series.to_string())\n",
    "print(f\"\\n<class '{type(series)}'>\")"
   ]
  },
  {
   "cell_type": "raw",
   "id": "348802da",
   "metadata": {},
   "source": [
    "9. Write a Pandas program to convert a given Series to an array.\n",
    "Sample Output:\n",
    "Original Data Series:\n",
    "0 100\n",
    "1 200\n",
    "2 python\n",
    "3 300.12\n",
    "4 400\n",
    "dtype: object\n",
    "Series to an array\n",
    "\n",
    "['100' '200' 'python' '300.12' '400']\n",
    "<class 'numpy.ndarray'>"
   ]
  },
  {
   "cell_type": "code",
   "execution_count": 10,
   "id": "f4228cf0",
   "metadata": {},
   "outputs": [
    {
     "name": "stdout",
     "output_type": "stream",
     "text": [
      "Series:\n",
      " 0       100\n",
      "1       200\n",
      "2    python\n",
      "3    300.12\n",
      "4       400\n",
      "dtype: object\n",
      "<class '<class 'pandas.core.series.Series'>'>\n",
      "\n",
      "Array: [100 200 'python' 300.12 400]\n",
      "<class '<class 'numpy.ndarray'>'>\n"
     ]
    }
   ],
   "source": [
    "series = pd.Series([100, 200, \"python\", 300.12, 400])\n",
    "print(\"Series:\\n\",series)\n",
    "print(f\"<class '{type(series)}'>\")\n",
    "\n",
    "arr = np.array(series)\n",
    "print(\"\\nArray:\",arr)\n",
    "print(f\"<class '{type(arr)}'>\")"
   ]
  },
  {
   "cell_type": "raw",
   "id": "13a43688",
   "metadata": {},
   "source": [
    "10. Write a Pandas program to convert Series of lists to one Series.\n",
    "Sample Input:\n",
    "Original Series of list\n",
    "0 [Red, Green, White]\n",
    "1 [Red, Black]\n",
    "2 [Yellow]\n",
    "dtype: object\n",
    "One Series\n",
    "0 Red\n",
    "1 Green\n",
    "2 White\n",
    "3 Red\n",
    "4 Black\n",
    "5 Yellow\n",
    "dtype: object"
   ]
  },
  {
   "cell_type": "code",
   "execution_count": 11,
   "id": "8283a28a",
   "metadata": {},
   "outputs": [
    {
     "name": "stdout",
     "output_type": "stream",
     "text": [
      "0    [Red, Green, White]\n",
      "1           [Red, Black]\n",
      "2               [Yellow]\n",
      "dtype: object\n",
      "0       Red\n",
      "1     Green\n",
      "2     White\n",
      "3       Red\n",
      "4     Black\n",
      "5    Yellow\n",
      "dtype: object\n"
     ]
    }
   ],
   "source": [
    "series = pd.Series([['Red','Green','White'],['Red','Black'],['Yellow']])\n",
    "print(series)\n",
    "\n",
    "final_series = series.explode().reset_index(drop=True)\n",
    "# series = data.apply(pd.Series).stack().reset_index(drop=True)\n",
    "print(final_series)"
   ]
  },
  {
   "cell_type": "raw",
   "id": "92bfbf6d",
   "metadata": {},
   "source": [
    "11. Write a Pandas program to sort a given Series.\n",
    "Sample Input:\n",
    "Original Data Series:\n",
    "0 100\n",
    "1 200\n",
    "2 python\n",
    "3 300.12\n",
    "4 400\n",
    "dtype: object\n",
    "0 100\n",
    "1 200\n",
    "3 300.12\n",
    "4 400\n",
    "2 python\n",
    "dtype: object"
   ]
  },
  {
   "cell_type": "code",
   "execution_count": 12,
   "id": "2538d6a5",
   "metadata": {},
   "outputs": [
    {
     "name": "stdout",
     "output_type": "stream",
     "text": [
      "Original Data Series:\n",
      "0       100\n",
      "1       200\n",
      "2    python\n",
      "3    300.12\n",
      "4       400\n",
      "dtype: object\n",
      "\n",
      "Shuffled Data Series:\n",
      "0       100\n",
      "1       400\n",
      "2    python\n",
      "3    300.12\n",
      "4       200\n",
      "dtype: object\n"
     ]
    }
   ],
   "source": [
    "series = pd.Series([100, 200, \"python\", 300.12, 400])\n",
    "\n",
    "series_shuffled = series.sample(frac = 1).reset_index(drop = True)\n",
    "\n",
    "print(\"Original Data Series:\")\n",
    "print(series)\n",
    "print(\"\\nShuffled Data Series:\")\n",
    "print(series_shuffled)"
   ]
  },
  {
   "cell_type": "raw",
   "id": "f9ac2aa1-651a-48f7-981b-d6c0e068d7a2",
   "metadata": {},
   "source": [
    "12. Write a Pandas program to add some data to an existing Series.\n",
    "Sample Output:\n",
    "Original Data Series:\n",
    "0 100\n",
    "1 200\n",
    "2 python\n",
    "3 300.12\n",
    "4 400\n",
    "dtype: object\n",
    "Data Series after adding some data:\n",
    "0 100\n",
    "1 200\n",
    "2 python\n",
    "3 300.12\n",
    "4 400\n",
    "5 500"
   ]
  },
  {
   "cell_type": "code",
   "execution_count": 13,
   "id": "d23b17e5-07b8-4148-bdee-fbca028e0179",
   "metadata": {},
   "outputs": [
    {
     "name": "stdout",
     "output_type": "stream",
     "text": [
      "Original Data Series:\n",
      "0       100\n",
      "1       200\n",
      "2    python\n",
      "3    300.12\n",
      "4       400\n",
      "dtype: object\n",
      "\n",
      "Data Series after adding some data:\n",
      "0       100\n",
      "1       200\n",
      "2    python\n",
      "3    300.12\n",
      "4       400\n",
      "0       500\n",
      "1       php\n",
      "dtype: object\n"
     ]
    }
   ],
   "source": [
    "series = pd.Series([100, 200, 'python', 300.12, 400])\n",
    "\n",
    "# series = series.append(pd.Series([500]))\n",
    "# series = series.append(pd.Series(['php']))\n",
    "# We get warning and the index is not updated. Hence use concat\n",
    "\n",
    "new_data = pd.Series([500, 'php'])\n",
    "series = pd.concat([series,new_data])\n",
    "\n",
    "\n",
    "print(\"Original Data Series:\")\n",
    "print(series.iloc[:-2])\n",
    "print(\"\\nData Series after adding some data:\")\n",
    "print(series)"
   ]
  },
  {
   "cell_type": "raw",
   "id": "30c282be-894a-4afc-b9b7-23ef7f39eed1",
   "metadata": {},
   "source": [
    "13. Write a Pandas program to create a subset of a given series based on value and condition.\n",
    "Sample Output:\n",
    "Original Data Series:\n",
    "0 0\n",
    "1 1\n",
    "2 2\n",
    "....\n",
    "9 9\n",
    "10 10\n",
    "dtype: int64\n",
    "Subset of the above Data Series:\n",
    "0 0\n",
    "1 1\n",
    "2 2\n",
    "3 3\n",
    "4 4\n",
    "5 5\n",
    "dtype: int64"
   ]
  },
  {
   "cell_type": "code",
   "execution_count": 14,
   "id": "879b1578-12d2-499d-937b-e7da410c7850",
   "metadata": {},
   "outputs": [
    {
     "name": "stdout",
     "output_type": "stream",
     "text": [
      "Original Data Series:\n",
      "0      0\n",
      "1      1\n",
      "2      2\n",
      "3      3\n",
      "4      4\n",
      "5      5\n",
      "6      6\n",
      "7      7\n",
      "8      8\n",
      "9      9\n",
      "10    10\n",
      "dtype: int64\n",
      "\n",
      "Subset of the above Data Series:\n",
      "0    0\n",
      "1    1\n",
      "2    2\n",
      "3    3\n",
      "4    4\n",
      "5    5\n",
      "dtype: int64\n"
     ]
    }
   ],
   "source": [
    "s = pd.Series(range(11))\n",
    "\n",
    "subset = s[s <= 5]\n",
    "\n",
    "print(\"Original Data Series:\")\n",
    "print(s)\n",
    "print(\"\\nSubset of the above Data Series:\")\n",
    "print(subset)"
   ]
  },
  {
   "cell_type": "raw",
   "id": "893eaa52-eaea-4a0b-97d3-433d91f57c27",
   "metadata": {},
   "source": [
    "14. Write a Pandas program to change the order of index of a given series.\n",
    "Sample Output:\n",
    "Original Data Series:\n",
    "A 1\n",
    "B 2\n",
    "C 3\n",
    "D 4\n",
    "E 5\n",
    "dtype: int64\n",
    "Data Series after changing the order of index:\n",
    "B 2\n",
    "A 1\n",
    "C 3\n",
    "D 4\n",
    "E 5\n",
    "dtype: int64"
   ]
  },
  {
   "cell_type": "code",
   "execution_count": 15,
   "id": "5a5c24f2-3a57-4928-8dcd-5e9a5dabcb98",
   "metadata": {},
   "outputs": [
    {
     "name": "stdout",
     "output_type": "stream",
     "text": [
      "Original Data Series:\n",
      "A    1\n",
      "B    2\n",
      "C    3\n",
      "D    4\n",
      "E    5\n",
      "dtype: int64\n",
      "\n",
      "Shuffled Data Series:\n",
      "B    2\n",
      "A    1\n",
      "C    3\n",
      "D    4\n",
      "E    5\n",
      "dtype: int64\n"
     ]
    }
   ],
   "source": [
    "series = pd.Series([1, 2, 3, 4, 5], index = ['A', 'B', 'C', 'D', 'E'])\n",
    "\n",
    "series_shuffled = series.reindex(['B', 'A', 'C', 'D', 'E'])\n",
    "\n",
    "print(\"Original Data Series:\")\n",
    "print(series)\n",
    "print(\"\\nShuffled Data Series:\")\n",
    "print(series_shuffled)"
   ]
  },
  {
   "cell_type": "raw",
   "id": "9050eb13-7c8f-44f6-a3f8-1c64619ffe86",
   "metadata": {},
   "source": [
    "15. Write a Pandas program to create the mean and standard deviation of the data of a\n",
    "given Series.\n",
    "Sample Output:\n",
    "Original Data Series:\n",
    "0 1\n",
    "1 2\n",
    "2 3\n",
    "\n",
    "....\n",
    "7 8\n",
    "8 9\n",
    "9 5\n",
    "10 3\n",
    "dtype: int64\n",
    "Mean of the said Data Series:\n",
    "4.818181818181818\n",
    "Standard deviation of the said Data Series:\n",
    "2.522624895547565"
   ]
  },
  {
   "cell_type": "code",
   "execution_count": 16,
   "id": "da2dd74b-e957-4cb2-b765-151b53ab8bd8",
   "metadata": {},
   "outputs": [
    {
     "name": "stdout",
     "output_type": "stream",
     "text": [
      "Series:\n",
      " 0     1\n",
      "1     2\n",
      "2     3\n",
      "3     4\n",
      "4     5\n",
      "5     6\n",
      "6     7\n",
      "7     8\n",
      "8     9\n",
      "9    10\n",
      "dtype: int64\n",
      "Mean: 5.5\n",
      "Standard Deviation: 3.0276503540974917\n"
     ]
    }
   ],
   "source": [
    "#series = pd.Series(range(11))\n",
    "series = pd.Series([1,2,3,4,5,6,7,8,9,10])\n",
    "\n",
    "mean = series.mean()\n",
    "std_dev = series.std()\n",
    "\n",
    "print(\"Series:\\n\",series)\n",
    "print(\"Mean:\",mean)\n",
    "print(\"Standard Deviation:\",std_dev)"
   ]
  },
  {
   "cell_type": "raw",
   "id": "a73cc1cc-37d8-471c-b9d8-8f17144b9e42",
   "metadata": {},
   "source": [
    "16. Write a Pandas program to get the items of a given series not present in another given series.\n",
    "Sample Output:\n",
    "Original Series:\n",
    "sr1:\n",
    "0 1\n",
    "1 2\n",
    "2 3\n",
    "3 4\n",
    "4 5\n",
    "dtype: int64\n",
    "sr2:\n",
    "0 2\n",
    "1 4\n",
    "2 6\n",
    "3 8\n",
    "4 10\n",
    "dtype: int64\n",
    "Items of sr1 not present in sr2:\n",
    "0 1\n",
    "2 3\n",
    "4 5\n",
    "dtype: int64"
   ]
  },
  {
   "cell_type": "code",
   "execution_count": 17,
   "id": "6e5f6590-a075-4dff-a983-d5d0e4e85fac",
   "metadata": {},
   "outputs": [
    {
     "name": "stdout",
     "output_type": "stream",
     "text": [
      "Two Series:\n",
      "Series 1:\n",
      " 0    1\n",
      "1    2\n",
      "2    3\n",
      "3    4\n",
      "4    5\n",
      "dtype: int64\n",
      "Series 2:\n",
      " 0     2\n",
      "1     4\n",
      "2     6\n",
      "3     8\n",
      "4    10\n",
      "dtype: int64\n",
      "Items Series 1 but not in series 2:\n",
      " 0    1\n",
      "2    3\n",
      "4    5\n",
      "dtype: int64\n"
     ]
    }
   ],
   "source": [
    "s1 = pd.Series([1,2,3,4,5])\n",
    "s2 = pd.Series([2,4,6,8,10])\n",
    "\n",
    "not_in_s2 = s1[~s1.isin(s2)]\n",
    "\n",
    "print(\"Two Series:\")\n",
    "print(\"Series 1:\\n\",s1)\n",
    "print(\"Series 2:\\n\",s2)\n",
    "print(\"Items Series 1 but not in series 2:\\n\",not_in_s2)"
   ]
  },
  {
   "cell_type": "raw",
   "id": "51029aea-0578-4a6e-b20e-40308aa9b9ff",
   "metadata": {},
   "source": [
    "17. Write a Pandas program to get the items which are not common of two given series.\n",
    "Sample Output:\n",
    "Original Series:\n",
    "sr1:\n",
    "0 1\n",
    "1 2\n",
    "2 3\n",
    "3 4\n",
    "4 5\n",
    "dtype: int64\n",
    "sr2:\n",
    "0 2\n",
    "1 4\n",
    "2 6\n",
    "3 8\n",
    "4 10\n",
    "\n",
    "dtype: int64\n",
    "Items of a given series not present in another given series:\n",
    "0 1\n",
    "2 3\n",
    "4 5\n",
    "5 6\n",
    "6 8\n",
    "7 10\n",
    "dtype: int64"
   ]
  },
  {
   "cell_type": "code",
   "execution_count": 18,
   "id": "2b3909a9-445c-4135-ae25-9ccc99ebf904",
   "metadata": {},
   "outputs": [
    {
     "name": "stdout",
     "output_type": "stream",
     "text": [
      "Two Series:\n",
      "Series 1:\n",
      " 0    1\n",
      "1    2\n",
      "2    3\n",
      "3    4\n",
      "4    5\n",
      "dtype: int64\n",
      "Series 2:\n",
      " 0     2\n",
      "1     4\n",
      "2     6\n",
      "3     8\n",
      "4    10\n",
      "dtype: int64\n",
      "Uncommon in series 2:\n",
      " 0     1\n",
      "1     3\n",
      "2     5\n",
      "3     6\n",
      "4     8\n",
      "5    10\n",
      "dtype: int64\n"
     ]
    }
   ],
   "source": [
    "s1 = pd.Series([1,2,3,4,5])\n",
    "s2 = pd.Series([2,4,6,8,10])\n",
    "\n",
    "#not_in_s1 = s2[~s2.isin(s1)]\n",
    "not_common = pd.Series(np.union1d(s1[~s1.isin(s2)] , s2[~s2.isin(s1)]))\n",
    "print(\"Two Series:\")\n",
    "print(\"Series 1:\\n\",s1)\n",
    "print(\"Series 2:\\n\",s2)\n",
    "print(\"Uncommon in series 2:\\n\",not_common)"
   ]
  },
  {
   "cell_type": "raw",
   "id": "041a084c-76b6-471a-a940-7b7494d3e50d",
   "metadata": {},
   "source": [
    "18. Write a Pandas program to compute the minimum, 25th percentile, median, 75th, and\n",
    "maximum of a given series.\n",
    "Sample Output:\n",
    "Original Series:\n",
    "0 3.000938\n",
    "1 11.370722\n",
    "2 14.612143\n",
    "....\n",
    "17 14.118931\n",
    "18 8.247458\n",
    "19 5.526727\n",
    "dtype: float64\n",
    "Minimum, 25th percentile, median, 75th, and maximum of a given series:\n",
    "[ 3.00093811 8.09463867 10.23353705 12.21537733 14.61214321]"
   ]
  },
  {
   "cell_type": "code",
   "execution_count": 19,
   "id": "6b783c8c-c352-4c74-859d-48c0529a2b7c",
   "metadata": {},
   "outputs": [
    {
     "name": "stdout",
     "output_type": "stream",
     "text": [
      "Original Series:\n",
      " 0      3.000938\n",
      "1     11.370722\n",
      "2     14.612143\n",
      "3      8.990256\n",
      "4     13.925283\n",
      "5     12.056875\n",
      "6     10.884719\n",
      "7      5.719827\n",
      "8      9.242017\n",
      "9     11.020006\n",
      "10     8.167892\n",
      "11    11.740654\n",
      "12     7.665620\n",
      "13    13.267388\n",
      "14    12.690883\n",
      "15     9.582355\n",
      "16     7.874878\n",
      "17    14.118931\n",
      "18     8.247458\n",
      "19     5.526727\n",
      "dtype: float64\n",
      "\n",
      "Minimum, 25th percentile, median, 75th, and maximum of a given series:\n",
      "[3.0009381077812103, 8.094638666640218, 10.233537051661546, 12.215377329892807, 14.612143210254576]\n"
     ]
    }
   ],
   "source": [
    "s_state = np.random.RandomState(100)\n",
    "\n",
    "s = pd.Series(s_state.normal(10, 4, 20))\n",
    "\n",
    "\n",
    "min_val = s.min()\n",
    "q1 = s.quantile(q=0.25)\n",
    "median = s.median()\n",
    "q3 = s.quantile(q=0.75)\n",
    "max_val = s.max()\n",
    "\n",
    "\n",
    "print(\"Original Series:\\n\",s)\n",
    "print(\"\\nMinimum, 25th percentile, median, 75th, and maximum of a given series:\")\n",
    "print([min_val, q1, median, q3, max_val])"
   ]
  },
  {
   "cell_type": "raw",
   "id": "7764a4da-bef8-4726-a6f5-167e8514a849",
   "metadata": {},
   "source": [
    "19. Write a Pandas program to calculate the frequency counts of each unique value of a given series.\n",
    "Sample Output:\n",
    "Original Series:\n",
    "0 1\n",
    "1 7\n",
    "2 1\n",
    "3 6\n",
    "...\n",
    "\n",
    "37 0\n",
    "38 4\n",
    "39 8\n",
    "dtype: object\n",
    "Frequency of each unique value of the said series.\n",
    "0 9\n",
    "2 7\n",
    "9 6\n",
    "....\n",
    "3 2\n",
    "4 1\n",
    "5 1\n",
    "\n",
    "dtype: int64"
   ]
  },
  {
   "cell_type": "code",
   "execution_count": 20,
   "id": "e37d0f95-a0ea-424d-8be4-00ad51773c30",
   "metadata": {},
   "outputs": [
    {
     "name": "stdout",
     "output_type": "stream",
     "text": [
      "Original Series:\n",
      "0     21\n",
      "1     17\n",
      "2     41\n",
      "3     82\n",
      "4     59\n",
      "5     17\n",
      "6     45\n",
      "7     50\n",
      "8     57\n",
      "9     28\n",
      "10    36\n",
      "11    22\n",
      "12    63\n",
      "13    18\n",
      "14    39\n",
      "15    38\n",
      "16    79\n",
      "17    59\n",
      "18    41\n",
      "19     1\n",
      "20    35\n",
      "21    30\n",
      "22    23\n",
      "23    90\n",
      "24    16\n",
      "25    54\n",
      "26     5\n",
      "27    89\n",
      "28    45\n",
      "29    95\n",
      "30    70\n",
      "31    59\n",
      "32    34\n",
      "33    74\n",
      "34    67\n",
      "35    81\n",
      "36    84\n",
      "37    46\n",
      "38    10\n",
      "39     0\n",
      "dtype: int32\n",
      "\n",
      "Frequency of each unique value of the said series:\n",
      "21    1\n",
      "17    2\n",
      "41    2\n",
      "82    1\n",
      "59    3\n",
      "45    2\n",
      "50    1\n",
      "57    1\n",
      "28    1\n",
      "36    1\n",
      "22    1\n",
      "63    1\n",
      "18    1\n",
      "39    1\n",
      "38    1\n",
      "79    1\n",
      "1     1\n",
      "35    1\n",
      "30    1\n",
      "23    1\n",
      "90    1\n",
      "16    1\n",
      "54    1\n",
      "5     1\n",
      "89    1\n",
      "95    1\n",
      "70    1\n",
      "34    1\n",
      "74    1\n",
      "67    1\n",
      "81    1\n",
      "84    1\n",
      "46    1\n",
      "10    1\n",
      "0     1\n",
      "dtype: int64\n"
     ]
    }
   ],
   "source": [
    "s = pd.Series(np.random.randint(100, size=40))\n",
    "value_counts = s.value_counts(sort=False)\n",
    "\n",
    "print(\"Original Series:\")\n",
    "print(s)\n",
    "print(\"\\nFrequency of each unique value of the said series:\")\n",
    "print(value_counts)"
   ]
  },
  {
   "cell_type": "raw",
   "id": "97345fab-617c-4746-9960-77eb9aa07cda",
   "metadata": {},
   "source": [
    "20. Write a Pandas program to display most frequent value in a given series and replace\n",
    "everything else as 'Other' in the series.\n",
    "Sample Output:\n",
    "Original Series:\n",
    "0 3\n",
    "1 1\n",
    "2 1\n",
    "3 3\n",
    "...\n",
    "12 2\n",
    "13 3\n",
    "14 3\n",
    "dtype: int64\n",
    "Top 2 Freq: 2 6\n",
    "3 5\n",
    "1 4\n",
    "dtype: int64\n",
    "0 Other\n",
    "1 Other\n",
    "2 Other\n",
    "3 Other\n",
    "...\n",
    "11 2\n",
    "12 2\n",
    "13 Other\n",
    "14 Other\n",
    "dtype: object"
   ]
  },
  {
   "cell_type": "code",
   "execution_count": 21,
   "id": "183bb923-5d81-4b50-b6db-9cf0299d6033",
   "metadata": {},
   "outputs": [
    {
     "name": "stdout",
     "output_type": "stream",
     "text": [
      "Original Series:\n",
      "0     4\n",
      "1     1\n",
      "2     4\n",
      "3     4\n",
      "4     2\n",
      "5     1\n",
      "6     3\n",
      "7     3\n",
      "8     1\n",
      "9     3\n",
      "10    1\n",
      "11    4\n",
      "12    3\n",
      "dtype: int32\n",
      "\n",
      "Top 2 Freq:\n",
      "4    4\n",
      "1    4\n",
      "3    4\n",
      "2    3\n",
      "dtype: int64\n",
      "\n",
      "Modified Series:\n",
      "0         4\n",
      "1     Other\n",
      "2         4\n",
      "3         4\n",
      "4     Other\n",
      "5     Other\n",
      "6     Other\n",
      "7     Other\n",
      "8     Other\n",
      "9     Other\n",
      "10    Other\n",
      "11        4\n",
      "12    Other\n",
      "13    Other\n",
      "14    Other\n",
      "dtype: object\n"
     ]
    }
   ],
   "source": [
    "s = pd.Series(np.random.randint(1, 5, [15]))\n",
    "\n",
    "most_frequent_value = s.value_counts().index[0]\n",
    "s1 = s.apply(lambda x: 'Other' if x != most_frequent_value else x)\n",
    "\n",
    "print(\"Original Series:\")\n",
    "print(s.iloc[:-2])\n",
    "print(\"\\nTop 2 Freq:\")\n",
    "print(s.value_counts())\n",
    "print(\"\\nModified Series:\")\n",
    "print(s1)"
   ]
  },
  {
   "cell_type": "raw",
   "id": "451f14ea-74b1-4aff-9755-28966f1d199a",
   "metadata": {},
   "source": [
    "21. Write a Pandas program to find the positions of numbers that are multiples of 5 of a given series.\n",
    "Sample Output:\n",
    "Original Series:\n",
    "0 1\n",
    "1 9\n",
    "2 8\n",
    "3 6\n",
    "4 9\n",
    "5 7\n",
    "6 1\n",
    "7 1\n",
    "8 1\n",
    "Positions of numbers that are multiples of 5:[]\n",
    "dtype: int64"
   ]
  },
  {
   "cell_type": "code",
   "execution_count": 22,
   "id": "22544158-7e17-4eb7-b318-f5b82b3d6696",
   "metadata": {},
   "outputs": [
    {
     "name": "stdout",
     "output_type": "stream",
     "text": [
      "Original Series:\n",
      "0    2\n",
      "1    1\n",
      "2    7\n",
      "3    6\n",
      "4    9\n",
      "5    8\n",
      "6    7\n",
      "7    7\n",
      "8    5\n",
      "dtype: int32\n",
      "\n",
      "Positions of numbers that are multiples of 5:\n",
      "[8]\n"
     ]
    }
   ],
   "source": [
    "s = pd.Series(np.random.randint(1, 10, 9))\n",
    "\n",
    "positions = [i for i, element in enumerate(s) if element % 5 == 0]\n",
    "\n",
    "print(\"Original Series:\")\n",
    "print(s)\n",
    "print(\"\\nPositions of numbers that are multiples of 5:\")\n",
    "print(positions)"
   ]
  },
  {
   "cell_type": "raw",
   "id": "32e5dd38-625b-4c41-802d-67ba18a899eb",
   "metadata": {},
   "source": [
    "22. Write a Pandas program to extract items at given positions of a given series.\n",
    "Sample Output:\n",
    "Original Series:\n",
    "0 2\n",
    "1 3\n",
    "2 9\n",
    "3 0\n",
    "4 2\n",
    "5 3\n",
    "...\n",
    "19 0\n",
    "20 2\n",
    "21 3\n",
    "dtype: object\n",
    "Extract items at given positions of the said series:\n",
    "0 2\n",
    "2 9\n",
    "6 8\n",
    "11 0\n",
    "21 3\n",
    "dtype: object"
   ]
  },
  {
   "cell_type": "code",
   "execution_count": 23,
   "id": "469a3071-2737-4ae5-9790-ea8c10b1c734",
   "metadata": {},
   "outputs": [
    {
     "name": "stdout",
     "output_type": "stream",
     "text": [
      "Original Series:\n",
      "0     2\n",
      "1     3\n",
      "2     9\n",
      "3     0\n",
      "4     2\n",
      "5     3\n",
      "6     8\n",
      "7     9\n",
      "8     2\n",
      "9     3\n",
      "10    9\n",
      "11    0\n",
      "12    2\n",
      "13    3\n",
      "14    9\n",
      "15    0\n",
      "16    2\n",
      "17    3\n",
      "18    9\n",
      "19    0\n",
      "20    2\n",
      "21    3\n",
      "dtype: object\n",
      "\n",
      "Extract items at given positions of the said series:\n",
      "0     2\n",
      "2     9\n",
      "6     8\n",
      "11    0\n",
      "21    3\n",
      "dtype: object\n"
     ]
    }
   ],
   "source": [
    "num_series = pd.Series(list('2390238923902390239023'))\n",
    "element_pos = [0, 2, 6, 11, 21]\n",
    "print(\"Original Series:\")\n",
    "print(num_series)\n",
    "result = num_series.take(element_pos)\n",
    "print(\"\\nExtract items at given positions of the said series:\")\n",
    "print(result)"
   ]
  },
  {
   "cell_type": "raw",
   "id": "b3be44f6-2ee7-469b-9534-ab2b29358ce9",
   "metadata": {},
   "source": [
    "23. Write a Pandas program to get the positions of items of a given series in another\n",
    "given series.\n",
    "Sample Output:\n",
    "Original Series:\n",
    "0 1\n",
    "1 2\n",
    "2 3\n",
    "3 4\n",
    "4 5\n",
    "5 6\n",
    "6 7\n",
    "7 8\n",
    "8 9\n",
    "9 10\n",
    "dtype: int64\n",
    "0 1\n",
    "1 3\n",
    "2 5\n",
    "3 7\n",
    "4 10\n",
    "dtype: int64\n",
    "Positions of items of series2 in series1:\n",
    "[0, 2, 4, 6, 9]"
   ]
  },
  {
   "cell_type": "code",
   "execution_count": 24,
   "id": "72da8228-919f-43ee-b135-12f087727f82",
   "metadata": {},
   "outputs": [
    {
     "name": "stdout",
     "output_type": "stream",
     "text": [
      "Original Series:\n",
      "Series 1:\n",
      " 0     1\n",
      "1     2\n",
      "2     3\n",
      "3     4\n",
      "4     5\n",
      "5     6\n",
      "6     7\n",
      "7     8\n",
      "8     9\n",
      "9    10\n",
      "dtype: int64\n",
      "Series 2:\n",
      " 0     1\n",
      "1     3\n",
      "2     5\n",
      "3     7\n",
      "4    10\n",
      "dtype: int64\n",
      "Positions of items of series2 in series1:\n",
      "[0, 2, 4, 6, 9]\n"
     ]
    }
   ],
   "source": [
    "series1 = pd.Series([1, 2, 3, 4, 5, 6, 7, 8, 9, 10])\n",
    "series2 = pd.Series([1, 3, 5, 7, 10])\n",
    "\n",
    "print(\"Original Series:\")\n",
    "print(\"Series 1:\\n\",series1)\n",
    "print(\"Series 2:\\n\",series2)\n",
    "\n",
    "result = [pd.Index(series1).get_loc(i) for i in series2]\n",
    "print(\"Positions of items of series2 in series1:\")\n",
    "print(result)"
   ]
  },
  {
   "cell_type": "raw",
   "id": "86ca6b39-f486-42f8-8998-f007d32b34a5",
   "metadata": {},
   "source": [
    "24. Write a Pandas program convert the first and last character of each word to upper case in each word of a given series.\n",
    "Sample Output:\n",
    "Original Series:\n",
    "0 php\n",
    "1 python\n",
    "2 java\n",
    "3 c#\n",
    "dtype: object\n",
    "First and last character of each word to upper case:\n",
    "0 PhP\n",
    "1 PythoN\n",
    "2 JavA\n",
    "3 C#\n",
    "dtype: object"
   ]
  },
  {
   "cell_type": "code",
   "execution_count": 25,
   "id": "746940c0-3304-464b-92c8-58e7556fa9af",
   "metadata": {},
   "outputs": [
    {
     "name": "stdout",
     "output_type": "stream",
     "text": [
      "Original Series:\n",
      " 0       php\n",
      "1    python\n",
      "2      java\n",
      "3        c#\n",
      "dtype: object\n",
      "\n",
      "First and last character of each word to upper case:\n",
      "0       PhP\n",
      "1    PythoN\n",
      "2      JavA\n",
      "3        C#\n",
      "dtype: object\n"
     ]
    }
   ],
   "source": [
    "series1 = pd.Series(['php', 'python', 'java', 'c#'])\n",
    "print(\"Original Series:\\n\",series1)\n",
    "\n",
    "result = series1.map(lambda x: x[0].upper() + x[1:-1] + x[-1].upper())\n",
    "\n",
    "print(\"\\nFirst and last character of each word to upper case:\")\n",
    "print(result)"
   ]
  },
  {
   "cell_type": "raw",
   "id": "8989142a-605f-4d24-9d30-865a5201c1f7",
   "metadata": {},
   "source": [
    "25. Write a Pandas program to calculate the number of characters in each word in a given\n",
    "series.\n",
    "Sample Output:\n",
    "Original Series:\n",
    "0 Php\n",
    "1 Python\n",
    "2 Java\n",
    "3 C#\n",
    "dtype: object\n",
    "Number of characters in each word in the said series:\n",
    "0 3\n",
    "1 6\n",
    "2 4\n",
    "3 2\n",
    "dtype: int64"
   ]
  },
  {
   "cell_type": "code",
   "execution_count": 26,
   "id": "d4ab01a3-93a8-44a8-ad0d-7ddbef990046",
   "metadata": {},
   "outputs": [
    {
     "name": "stdout",
     "output_type": "stream",
     "text": [
      "Original Series:\n",
      " 0       Php\n",
      "1    Python\n",
      "2      Java\n",
      "3        C#\n",
      "dtype: object\n",
      "\n",
      "Number of characters in each word in the said series:\n",
      "0    3\n",
      "1    6\n",
      "2    4\n",
      "3    2\n",
      "dtype: int64\n"
     ]
    }
   ],
   "source": [
    "series1 = pd.Series(['Php', 'Python', 'Java', 'C#'])\n",
    "print(\"Original Series:\\n\",series1)\n",
    "\n",
    "result = series1.map(lambda x: len(x))\n",
    "\n",
    "print(\"\\nNumber of characters in each word in the said series:\")\n",
    "print(result)"
   ]
  },
  {
   "cell_type": "raw",
   "id": "4728be9f-1acd-46e6-8ac2-c689830cb60b",
   "metadata": {},
   "source": [
    "26. Write a Pandas program to compute difference of differences between consecutive numbers of a given series.\n",
    "Sample Output:\n",
    "Original Series:\n",
    "0 1\n",
    "1 3\n",
    "2 5\n",
    "3 8\n",
    "4 10\n",
    "5 11\n",
    "6 15\n",
    "dtype: int64\n",
    "Difference of differences between consecutive numbers of the said series:\n",
    "[nan, 2.0, 2.0, 3.0, 2.0, 1.0, 4.0]\n",
    "[nan, nan, 0.0, 1.0, -1.0, -1.0, 3.0]"
   ]
  },
  {
   "cell_type": "code",
   "execution_count": 27,
   "id": "c3db2b84-39d8-445d-9c14-212569ee3f3f",
   "metadata": {},
   "outputs": [
    {
     "name": "stdout",
     "output_type": "stream",
     "text": [
      "Original Series:\n",
      "0     1\n",
      "1     3\n",
      "2     5\n",
      "3     8\n",
      "4    10\n",
      "5    11\n",
      "6    15\n",
      "dtype: int64\n",
      "\n",
      "Difference of differences between consecutive numbers of the said series:\n",
      "[nan, 2.0, 2.0, 3.0, 2.0, 1.0, 4.0]\n",
      "[nan, nan, 0.0, 1.0, -1.0, -1.0, 3.0]\n"
     ]
    }
   ],
   "source": [
    "series1 = pd.Series([1, 3, 5, 8, 10, 11, 15])\n",
    "print(\"Original Series:\")\n",
    "print(series1)\n",
    "print(\"\\nDifference of differences between consecutive numbers of the said series:\")\n",
    "print(series1.diff().tolist())\n",
    "print(series1.diff().diff().tolist())"
   ]
  },
  {
   "cell_type": "raw",
   "id": "bb7fa499-f634-4545-b38a-bf3872250d17",
   "metadata": {},
   "source": [
    "27. Write a Pandas program to convert a series of date strings to a timeseries.\n",
    "Sample Output:\n",
    "Original Series:\n",
    "0 01 Jan 2015\n",
    "1 10-02-2016\n",
    "2 20180307\n",
    "3 2014/05/06\n",
    "4 2016-04-12\n",
    "5 2019-04-06T11:20\n",
    "dtype: object\n",
    "Series of date strings to a timeseries:\n",
    "0 2015-01-01 00:00:00\n",
    "1 2016-10-02 00:00:00\n",
    "2 2018-03-07 00:00:00\n",
    "3 2014-05-06 00:00:00\n",
    "4 2016-04-12 00:00:00\n",
    "5 2019-04-06 11:20:00\n",
    "dtype: datetime64[ns]"
   ]
  },
  {
   "cell_type": "code",
   "execution_count": 28,
   "id": "a17fd429-af06-4c4a-976e-950a2057e9f6",
   "metadata": {},
   "outputs": [
    {
     "name": "stdout",
     "output_type": "stream",
     "text": [
      "Original Series:\n",
      "0         01 Jan 2015\n",
      "1          10-02-2016\n",
      "2            20180307\n",
      "3          2014/05/06\n",
      "4          2016-04-12\n",
      "5    2019-04-06T11:20\n",
      "dtype: object\n",
      "\n",
      "Series of date strings to a timeseries:\n",
      "0   2015-01-01 00:00:00\n",
      "1   2016-10-02 00:00:00\n",
      "2   2018-03-07 00:00:00\n",
      "3   2014-05-06 00:00:00\n",
      "4   2016-04-12 00:00:00\n",
      "5   2019-04-06 11:20:00\n",
      "dtype: datetime64[ns]\n"
     ]
    }
   ],
   "source": [
    "date_series = pd.Series(['01 Jan 2015', \n",
    "                         '10-02-2016', \n",
    "                         '20180307', \n",
    "                         '2014/05/06', \n",
    "                         '2016-04-12', \n",
    "                         '2019-04-06T11:20'])\n",
    "\n",
    "print(\"Original Series:\")\n",
    "print(date_series)\n",
    "\n",
    "print(\"\\nSeries of date strings to a timeseries:\")\n",
    "print(pd.to_datetime(date_series))"
   ]
  },
  {
   "cell_type": "raw",
   "id": "76e30f55-f901-412a-a50f-da90104d4823",
   "metadata": {},
   "source": [
    "28. Write a Pandas program to get the day of month, day of year, week number and day\n",
    "of week from a given series of date strings.\n",
    "Sample Output:\n",
    "Original Series:\n",
    "0 01 Jan 2015\n",
    "1 10-02-2016\n",
    "2 20180307\n",
    "3 2014/05/06\n",
    "4 2016-04-12\n",
    "5 2019-04-06T11:20\n",
    "dtype: object\n",
    "Day of month:\n",
    "[1, 2, 7, 6, 12, 6]\n",
    "Day of year:\n",
    "[1, 276, 66, 126, 103, 96]\n",
    "Week number:\n",
    "[1, 39, 10, 19, 15, 14]\n",
    "Day of week:\n",
    "['Thursday', 'Sunday', 'Wednesday', 'Tuesday', 'Tuesday', 'Saturday']"
   ]
  },
  {
   "cell_type": "code",
   "execution_count": 29,
   "id": "f98540d7-0a06-49a0-90db-876e8f3c7adb",
   "metadata": {},
   "outputs": [
    {
     "name": "stdout",
     "output_type": "stream",
     "text": [
      "Original Series:\n",
      "0         01 Jan 2015\n",
      "1          10-02-2016\n",
      "2            20180307\n",
      "3          2014/05/06\n",
      "4          2016-04-12\n",
      "5    2019-04-06T11:20\n",
      "dtype: object\n",
      "\n",
      "Day of month:\n",
      "[1, 2, 7, 6, 12, 6]\n",
      "\n",
      "Day of year:\n",
      "[1, 276, 66, 126, 103, 96]\n",
      "\n",
      "Week number:\n",
      "[1, 39, 10, 19, 15, 14]\n",
      "\n",
      "Day of week:\n",
      "['Thursday', 'Sunday', 'Wednesday', 'Tuesday', 'Tuesday', 'Saturday']\n"
     ]
    }
   ],
   "source": [
    "date_series = pd.Series(['01 Jan 2015', \n",
    "                         '10-02-2016', \n",
    "                         '20180307', \n",
    "                         '2014/05/06', \n",
    "                         '2016-04-12', \n",
    "                         '2019-04-06T11:20'])\n",
    "\n",
    "print(\"Original Series:\")\n",
    "print(date_series)\n",
    "\n",
    "date_series = date_series.map(lambda x: parse(x))\n",
    "\n",
    "print(\"\\nDay of month:\")\n",
    "print(date_series.dt.day.tolist())\n",
    "\n",
    "print(\"\\nDay of year:\")\n",
    "print(date_series.dt.dayofyear.tolist())\n",
    "\n",
    "print(\"\\nWeek number:\")\n",
    "print(date_series.dt.isocalendar().week.tolist())\n",
    "\n",
    "print(\"\\nDay of week:\")\n",
    "print(date_series.dt.day_name().tolist())"
   ]
  },
  {
   "cell_type": "raw",
   "id": "3876b49f-9d43-4c74-911b-0734ac963c3b",
   "metadata": {},
   "source": [
    "29. Write a Pandas program to convert year-month string to dates adding a specified day\n",
    "of the month.\n",
    "Sample Output:\n",
    "Original Series:\n",
    "0 Jan 2015\n",
    "1 Feb 2016\n",
    "2 Mar 2017\n",
    "3 Apr 2018\n",
    "4 May 2019\n",
    "\n",
    "dtype: object\n",
    "New dates:\n",
    "0 2015-01-11\n",
    "1 2016-02-11\n",
    "2 2017-03-11\n",
    "3 2018-04-11\n",
    "4 2019-05-11\n",
    "dtype: datetime64[ns]"
   ]
  },
  {
   "cell_type": "code",
   "execution_count": 30,
   "id": "968436f9-eed1-4f1e-a56c-4b1ed48440c5",
   "metadata": {},
   "outputs": [
    {
     "name": "stdout",
     "output_type": "stream",
     "text": [
      "Original Series:\n",
      "0    Jan 2015\n",
      "1    Feb 2016\n",
      "2    Mar 2017\n",
      "3    Apr 2018\n",
      "4    May 2019\n",
      "dtype: object\n",
      "\n",
      "New dates:\n",
      "0   2015-01-11\n",
      "1   2016-02-11\n",
      "2   2017-03-11\n",
      "3   2018-04-11\n",
      "4   2019-05-11\n",
      "dtype: datetime64[ns]\n"
     ]
    }
   ],
   "source": [
    "date_series = pd.Series(['Jan 2015', \n",
    "                         'Feb 2016', \n",
    "                         'Mar 2017', \n",
    "                         'Apr 2018', \n",
    "                         'May 2019'])\n",
    "\n",
    "print(\"Original Series:\")\n",
    "print(date_series)\n",
    "print(\"\\nNew dates:\")\n",
    "result = date_series.map(lambda d: parse('11 ' + d))\n",
    "print(result)"
   ]
  },
  {
   "cell_type": "raw",
   "id": "e18aab30-18c4-4804-a6e8-c9473424900a",
   "metadata": {},
   "source": [
    "30. Write a Pandas program to filter words from a given series that contain atleast two\n",
    "vowels.\n",
    "Sample Output:\n",
    "Original Series:\n",
    "0 Red\n",
    "1 Green\n",
    "2 Orange\n",
    "3 Pink\n",
    "4 Yellow\n",
    "5 White\n",
    "dtype: object\n",
    "Filtered words:\n",
    "1 Green\n",
    "2 Orange\n",
    "4 Yellow\n",
    "5 White\n",
    "dtype: object"
   ]
  },
  {
   "cell_type": "code",
   "execution_count": 31,
   "id": "68d7972d-6799-42b8-a4f6-78dca3f1aa41",
   "metadata": {},
   "outputs": [
    {
     "name": "stdout",
     "output_type": "stream",
     "text": [
      "Original Series:\n",
      "0       Red\n",
      "1     Green\n",
      "2    Orange\n",
      "3      Pink\n",
      "4    Yellow\n",
      "5     White\n",
      "dtype: object\n",
      "\n",
      "Filtered words:\n",
      "1     Green\n",
      "2    Orange\n",
      "4    Yellow\n",
      "5     White\n",
      "dtype: object\n"
     ]
    }
   ],
   "source": [
    "color_series = pd.Series(['Red', 'Green', 'Orange', 'Pink', 'Yellow', 'White'])\n",
    "print(\"Original Series:\")\n",
    "print(color_series)\n",
    "\n",
    "print(\"\\nFiltered words:\")\n",
    "result =color_series.map(lambda c: sum([Counter(c.lower()).get(i, 0) for i in list('aeiou')]) >= 2)\n",
    "print(color_series[result])"
   ]
  },
  {
   "cell_type": "raw",
   "id": "6ae2fa87-c4f0-4674-bca8-e216823e4459",
   "metadata": {},
   "source": [
    "31. Write a Pandas program to compute the Euclidean distance between two given series.\n",
    "Euclidean distance\n",
    "From Wikipedia,\n",
    "In mathematics, the Euclidean distance or Euclidean metric is the \"ordinary\" straight-line\n",
    "distance between two points in Euclidean space. With this distance, Euclidean space\n",
    "becomes a metric space. The associated norm is called the Euclidean norm.\n",
    "Sample Output:\n",
    "Original series:\n",
    "0 1\n",
    "1 2\n",
    "2 3\n",
    "3 4\n",
    "4 5\n",
    "5 6\n",
    "6 7\n",
    "7 8\n",
    "8 9\n",
    "9 10\n",
    "dtype: int64\n",
    "0 11\n",
    "\n",
    "1 8\n",
    "2 7\n",
    "3 5\n",
    "4 6\n",
    "5 5\n",
    "6 3\n",
    "7 4\n",
    "8 7\n",
    "9 1\n",
    "dtype: int64\n",
    "Euclidean distance between two said series:\n",
    "16.492422502470642"
   ]
  },
  {
   "cell_type": "code",
   "execution_count": 32,
   "id": "e7dcb52d-e56b-4fc6-82ac-201dce83a4ae",
   "metadata": {},
   "outputs": [
    {
     "name": "stdout",
     "output_type": "stream",
     "text": [
      "Original series:\n",
      "0     1\n",
      "1     2\n",
      "2     3\n",
      "3     4\n",
      "4     5\n",
      "5     6\n",
      "6     7\n",
      "7     8\n",
      "8     9\n",
      "9    10\n",
      "dtype: int64\n",
      "0    11\n",
      "1     8\n",
      "2     7\n",
      "3     5\n",
      "4     6\n",
      "5     5\n",
      "6     3\n",
      "7     4\n",
      "8     7\n",
      "9     1\n",
      "dtype: int64\n",
      "\n",
      "Euclidean distance between two said series:\n",
      "16.492422502470642\n"
     ]
    }
   ],
   "source": [
    "x = pd.Series([1, 2, 3, 4, 5, 6, 7, 8, 9, 10])\n",
    "y = pd.Series([11, 8, 7, 5, 6, 5, 3, 4, 7, 1])\n",
    "\n",
    "print(\"Original series:\")\n",
    "print(x)\n",
    "print(y)\n",
    "\n",
    "print(\"\\nEuclidean distance between two said series:\")\n",
    "print(np.linalg.norm(x-y))"
   ]
  },
  {
   "cell_type": "raw",
   "id": "9ba7af85-b71b-44ed-bb0c-26b665160aed",
   "metadata": {},
   "source": [
    "32. Write a Pandas program to find the positions of the values neighboured by smaller\n",
    "values on both sides in a given series.\n",
    "Sample Output:\n",
    "Original series:\n",
    "0 1\n",
    "1 8\n",
    "2 7\n",
    "3 5\n",
    "4 6\n",
    "5 5\n",
    "6 3\n",
    "7 4\n",
    "8 7\n",
    "9 1\n",
    "dtype: int64\n",
    "Positions of the values surrounded by smaller values on both sides:\n",
    "[1 4 8]"
   ]
  },
  {
   "cell_type": "code",
   "execution_count": 33,
   "id": "e04c2e7f-29af-4bf2-a46d-573e2adcf01c",
   "metadata": {},
   "outputs": [
    {
     "name": "stdout",
     "output_type": "stream",
     "text": [
      "Original series:\n",
      "0    1\n",
      "1    8\n",
      "2    7\n",
      "3    5\n",
      "4    6\n",
      "5    5\n",
      "6    3\n",
      "7    4\n",
      "8    7\n",
      "9    1\n",
      "dtype: int64\n",
      "\n",
      "Positions of the values surrounded by smaller values on both sides:\n",
      "[1 4 8]\n"
     ]
    }
   ],
   "source": [
    "nums = pd.Series([1, 8, 7, 5, 6, 5, 3, 4, 7, 1])\n",
    "print(\"Original series:\")\n",
    "print(nums)\n",
    "\n",
    "print(\"\\nPositions of the values surrounded by smaller values on both sides:\")\n",
    "temp = np.diff(np.sign(np.diff(nums)))\n",
    "result = np.where(temp == -2)[0] + 1\n",
    "print(result)"
   ]
  },
  {
   "cell_type": "raw",
   "id": "8b550252-e1ee-48c5-a3e1-410b80d88db7",
   "metadata": {},
   "source": [
    "33. Write a Pandas program to replace missing white spaces in a given string with the\n",
    "least frequent character.\n",
    "Sample Output:\n",
    "Original series:\n",
    "abc def abcdef icd\n",
    "c 3\n",
    "d 3\n",
    "3\n",
    "b 2\n",
    "e 2\n",
    "a 2\n",
    "f 2\n",
    "i 1\n",
    "dtype: int64\n",
    "abcidefiabcdefiicd"
   ]
  },
  {
   "cell_type": "code",
   "execution_count": 34,
   "id": "6d99fdc9-144d-4bd9-a43e-80ad8b884fbf",
   "metadata": {},
   "outputs": [
    {
     "name": "stdout",
     "output_type": "stream",
     "text": [
      "Original series:\n",
      "abc def abcdef icd\n",
      "c    3\n",
      "     3\n",
      "d    3\n",
      "a    2\n",
      "b    2\n",
      "e    2\n",
      "f    2\n",
      "i    1\n",
      "dtype: int64\n",
      "abcidefiabcdefiicd\n"
     ]
    }
   ],
   "source": [
    "str1 = 'abc def abcdef icd'\n",
    "print(\"Original series:\")\n",
    "print(str1)\n",
    "\n",
    "ser = pd.Series(list(str1))\n",
    "element_freq = ser.value_counts()\n",
    "print(element_freq)\n",
    "\n",
    "current_freq = element_freq.dropna().index[-1]\n",
    "result = \"\".join(ser.replace(' ', current_freq))\n",
    "print(result)"
   ]
  },
  {
   "cell_type": "raw",
   "id": "4f25e47d-2fd7-4aea-a3ac-28aa6af1424b",
   "metadata": {},
   "source": [
    "34. Write a Pandas program to compute the autocorrelations of a given numeric series.\n",
    "From Wikipedia:\n",
    "Autocorrelation, also known as serial correlation, is the correlation of a signal with a\n",
    "delayed copy of itself as a function of delay. Informally, it is the similarity between\n",
    "observations as a function of the time lag between them.\n",
    "Sample Output:\n",
    "Original series:\n",
    "0 13.207262\n",
    "1 4.098685\n",
    "2 -1.435534\n",
    "3 13.626760\n",
    "...\n",
    "13 -2.346193\n",
    "14 17.873884\n",
    "dtype: float64\n",
    "Autocorrelations of the said series:\n",
    "[-0.38, 0.1, -0.43, 0.03, 0.35, -0.2, 0.04, -0.59, 0.34, 0.11]"
   ]
  },
  {
   "cell_type": "code",
   "execution_count": 35,
   "id": "8f8343b4-c795-4abc-92ab-96a6b9d7d3b0",
   "metadata": {},
   "outputs": [
    {
     "name": "stdout",
     "output_type": "stream",
     "text": [
      "Original series:\n",
      "0     -1.362240\n",
      "1     -2.703430\n",
      "2      3.954793\n",
      "3     24.734071\n",
      "4     11.085042\n",
      "5     17.786035\n",
      "6    -11.391470\n",
      "7      1.750378\n",
      "8      3.253977\n",
      "9     24.029926\n",
      "10    22.394599\n",
      "11    15.602720\n",
      "12   -17.907786\n",
      "13    16.003760\n",
      "14    16.630147\n",
      "dtype: float64\n",
      "\n",
      "Autocorrelations of the said series:\n",
      "[0.02, -0.27, -0.73, 0.02, 0.24, 0.81, -0.1, -0.16, -0.81, 0.08]\n"
     ]
    }
   ],
   "source": [
    "num_series = pd.Series(np.arange(15) + np.random.normal(1, 10, 15))\n",
    "print(\"Original series:\")\n",
    "print(num_series)\n",
    "\n",
    "autocorrelations = [num_series.autocorr(i).round(2) for i in range(11)]\n",
    "print(\"\\nAutocorrelations of the said series:\")\n",
    "print(autocorrelations[1:])"
   ]
  },
  {
   "cell_type": "raw",
   "id": "24a48154-4ee8-42ea-93b6-50277ba4790f",
   "metadata": {},
   "source": [
    "35. Write a Pandas program to create a TimeSeries to display all the Sundays of given\n",
    "year.\n",
    "Sample Output:\n",
    "All Sundays of 2019:\n",
    "0 2020-01-05\n",
    "1 2020-01-12\n",
    "2 2020-01-19\n",
    "3 2020-01-26\n",
    "4 2020-02-02\n",
    "5 2020-02-09\n",
    ".....\n",
    "48 2020-12-06\n",
    "49 2020-12-13\n",
    "50 2020-12-20\n",
    "51 2020-12-27\n",
    "dtype: datetime64[ns]"
   ]
  },
  {
   "cell_type": "code",
   "execution_count": 36,
   "id": "1d2b47eb-77f2-426b-84c3-9838076d08a4",
   "metadata": {},
   "outputs": [
    {
     "name": "stdout",
     "output_type": "stream",
     "text": [
      "All Sundays of 2019:\n",
      "0    2020-01-05\n",
      "1    2020-01-12\n",
      "2    2020-01-19\n",
      "3    2020-01-26\n",
      "4    2020-02-02\n",
      "5    2020-02-09\n",
      "6    2020-02-16\n",
      "7    2020-02-23\n",
      "8    2020-03-01\n",
      "9    2020-03-08\n",
      "10   2020-03-15\n",
      "11   2020-03-22\n",
      "12   2020-03-29\n",
      "13   2020-04-05\n",
      "14   2020-04-12\n",
      "15   2020-04-19\n",
      "16   2020-04-26\n",
      "17   2020-05-03\n",
      "18   2020-05-10\n",
      "19   2020-05-17\n",
      "20   2020-05-24\n",
      "21   2020-05-31\n",
      "22   2020-06-07\n",
      "23   2020-06-14\n",
      "24   2020-06-21\n",
      "25   2020-06-28\n",
      "26   2020-07-05\n",
      "27   2020-07-12\n",
      "28   2020-07-19\n",
      "29   2020-07-26\n",
      "30   2020-08-02\n",
      "31   2020-08-09\n",
      "32   2020-08-16\n",
      "33   2020-08-23\n",
      "34   2020-08-30\n",
      "35   2020-09-06\n",
      "36   2020-09-13\n",
      "37   2020-09-20\n",
      "38   2020-09-27\n",
      "39   2020-10-04\n",
      "40   2020-10-11\n",
      "41   2020-10-18\n",
      "42   2020-10-25\n",
      "43   2020-11-01\n",
      "44   2020-11-08\n",
      "45   2020-11-15\n",
      "46   2020-11-22\n",
      "47   2020-11-29\n",
      "48   2020-12-06\n",
      "49   2020-12-13\n",
      "50   2020-12-20\n",
      "51   2020-12-27\n",
      "dtype: datetime64[ns]\n"
     ]
    }
   ],
   "source": [
    "result = pd.Series(pd.date_range('2020-01-01', periods=52, freq='W-SUN'))\n",
    "print(\"All Sundays of 2019:\")\n",
    "print(result)"
   ]
  },
  {
   "cell_type": "raw",
   "id": "deccd2fd-113d-4e1a-abe9-4c14ff36dd1e",
   "metadata": {},
   "source": [
    "36. Write a Pandas program to convert given series into a dataframe with its index as\n",
    "another column on the dataframe.\n",
    "Sample Output:\n",
    "index 0\n",
    "0 A 0\n",
    "1 B 1\n",
    "2 C 2\n",
    "3 D 3\n",
    "4 E 4"
   ]
  },
  {
   "cell_type": "code",
   "execution_count": 37,
   "id": "eea74880-c346-415a-8c85-8933e99a9412",
   "metadata": {},
   "outputs": [
    {
     "name": "stdout",
     "output_type": "stream",
     "text": [
      "  index  0\n",
      "0     A  0\n",
      "1     B  1\n",
      "2     C  2\n",
      "3     D  3\n",
      "4     E  4\n"
     ]
    }
   ],
   "source": [
    "char_list = list('ABCDEFGHIJKLMNOP')\n",
    "num_arra = np.arange(8)\n",
    "num_dict = dict(zip(char_list, num_arra))\n",
    "num_ser = pd.Series(num_dict)\n",
    "df = num_ser.to_frame().reset_index()\n",
    "print(df.head())"
   ]
  },
  {
   "cell_type": "raw",
   "id": "0e75b394-6065-49a0-9efc-c8f75e202cc4",
   "metadata": {},
   "source": [
    "37. Write a Pandas program to stack two given series vertically and horizontally.\n",
    "\n",
    "Sample Output:\n",
    "Original Series:\n",
    "0 0\n",
    "1 1\n",
    "2 2\n",
    "....\n",
    "7 7\n",
    "8 8\n",
    "9 9\n",
    "dtype: int64\n",
    "0 p\n",
    "1 q\n",
    "2 r\n",
    "....\n",
    "7 w\n",
    "8 x\n",
    "9 y\n",
    "dtype: object\n",
    "Stack two given series vertically and horizontally:\n",
    "0 1\n",
    "0 0 p\n",
    "1 1 q\n",
    "2 2 r\n",
    ".....\n",
    "8 8 x\n",
    "9 9 y"
   ]
  },
  {
   "cell_type": "code",
   "execution_count": 38,
   "id": "2f4ffee2-e973-4ef6-895e-69ff883fc2a3",
   "metadata": {},
   "outputs": [
    {
     "name": "stdout",
     "output_type": "stream",
     "text": [
      "Original Series:\n",
      "0    0\n",
      "1    1\n",
      "2    2\n",
      "3    3\n",
      "4    4\n",
      "5    5\n",
      "6    6\n",
      "7    7\n",
      "8    8\n",
      "9    9\n",
      "dtype: int64\n",
      "0    p\n",
      "1    q\n",
      "2    r\n",
      "3    s\n",
      "4    t\n",
      "5    u\n",
      "6    v\n",
      "7    w\n",
      "8    x\n",
      "9    y\n",
      "dtype: object\n",
      "\n",
      "Stack two given series vertically and horizontally:\n",
      "   0  1\n",
      "0  0  p\n",
      "1  1  q\n",
      "2  2  r\n",
      "3  3  s\n",
      "4  4  t\n",
      "5  5  u\n",
      "6  6  v\n",
      "7  7  w\n",
      "8  8  x\n",
      "9  9  y\n"
     ]
    },
    {
     "name": "stderr",
     "output_type": "stream",
     "text": [
      "C:\\Users\\Administrator.DAI-PC2\\AppData\\Local\\Temp\\ipykernel_27892\\1336966197.py:7: FutureWarning: The series.append method is deprecated and will be removed from pandas in a future version. Use pandas.concat instead.\n",
      "  series1.append(series2)\n"
     ]
    }
   ],
   "source": [
    "series1 = pd.Series(range(10))\n",
    "series2 = pd.Series(list('pqrstuvwxy'))\n",
    "print(\"Original Series:\")\n",
    "print(series1)\n",
    "print(series2)\n",
    "\n",
    "series1.append(series2)\n",
    "df = pd.concat([series1, series2], axis=1)\n",
    "print(\"\\nStack two given series vertically and horizontally:\")\n",
    "print(df)"
   ]
  },
  {
   "cell_type": "raw",
   "id": "dbb9bbab-7d1b-448c-8dea-a07844131dca",
   "metadata": {},
   "source": [
    "38. Write a Pandas program to check the equality of two given series.\n",
    "Sample Output:\n",
    "Original Series:\n",
    "0 1\n",
    "1 8\n",
    "2 7\n",
    "...\n",
    "7 4\n",
    "8 7\n",
    "9 1\n",
    "dtype: int64\n",
    "0 1\n",
    "1 8\n",
    "2 7\n",
    "3 5\n",
    ".....\n",
    "8 7\n",
    "9 1\n",
    "dtype: int64\n",
    "Check 2 series are equal or not?\n",
    "0 True\n",
    "1 True\n",
    "2 True\n",
    "....\n",
    "7 True\n",
    "8 True\n",
    "9 True\n",
    "dtype: bool"
   ]
  },
  {
   "cell_type": "code",
   "execution_count": 39,
   "id": "8b3f8b9c-e213-4f59-bf4b-03bdd7077ec0",
   "metadata": {},
   "outputs": [
    {
     "name": "stdout",
     "output_type": "stream",
     "text": [
      "Original Series:\n",
      "0    1\n",
      "1    8\n",
      "2    7\n",
      "3    5\n",
      "4    6\n",
      "5    5\n",
      "6    3\n",
      "7    4\n",
      "8    7\n",
      "9    1\n",
      "dtype: int64\n",
      "0    1\n",
      "1    8\n",
      "2    7\n",
      "3    5\n",
      "4    6\n",
      "5    5\n",
      "6    3\n",
      "7    4\n",
      "8    7\n",
      "9    1\n",
      "dtype: int64\n",
      "Check 2 series are equal or not?\n",
      "0    True\n",
      "1    True\n",
      "2    True\n",
      "3    True\n",
      "4    True\n",
      "5    True\n",
      "6    True\n",
      "7    True\n",
      "8    True\n",
      "9    True\n",
      "dtype: bool\n"
     ]
    }
   ],
   "source": [
    "nums1 = pd.Series([1, 8, 7, 5, 6, 5, 3, 4, 7, 1])\n",
    "nums2 = pd.Series([1, 8, 7, 5, 6, 5, 3, 4, 7, 1])\n",
    "print(\"Original Series:\")\n",
    "print(nums1)\n",
    "print(nums2)\n",
    "\n",
    "print(\"Check 2 series are equal or not?\")\n",
    "print(nums1 == nums2)"
   ]
  },
  {
   "cell_type": "raw",
   "id": "a8cd5ab4-3350-4855-a5f7-71df536e6a3e",
   "metadata": {},
   "source": [
    "39. Write a Pandas program to find the index of the first occurrence of the smallest and\n",
    "largest value of a given series.\n",
    "Sample Output:\n",
    "Original Series:\n",
    "0 1\n",
    "1 3\n",
    "2 7\n",
    ".....\n",
    "7 1\n",
    "8 9\n",
    "9 0\n",
    "dtype: int64\n",
    "Index of the first occurrence of the smallest and largest value of the said\n",
    "series:\n",
    "9\n",
    "4"
   ]
  },
  {
   "cell_type": "code",
   "execution_count": 40,
   "id": "3c0514b8-075c-464e-b721-aa6e764d2463",
   "metadata": {},
   "outputs": [
    {
     "name": "stdout",
     "output_type": "stream",
     "text": [
      "Original Series:\n",
      "0     1\n",
      "1     3\n",
      "2     7\n",
      "3    12\n",
      "4    88\n",
      "5    23\n",
      "6     3\n",
      "7     1\n",
      "8     9\n",
      "9     0\n",
      "dtype: int64\n",
      "Index of the first occurrence of the smallest and largest value of the said series:\n",
      "9\n",
      "4\n"
     ]
    }
   ],
   "source": [
    "nums = pd.Series([1, 3, 7, 12, 88, 23, 3, 1, 9, 0])\n",
    "print(\"Original Series:\")\n",
    "print(nums)\n",
    "\n",
    "print(\"Index of the first occurrence of the smallest and largest value of the said series:\")\n",
    "print(nums.idxmin())\n",
    "print(nums.idxmax())"
   ]
  },
  {
   "cell_type": "raw",
   "id": "a0142a36-33cb-4255-bcd6-5322e139514c",
   "metadata": {},
   "source": [
    "40. Write a Pandas program to check inequality over the index axis of a given dataframe\n",
    "and a given series.\n",
    "Sample Output:\n",
    "Original DataFrame:\n",
    "W X Y Z\n",
    "0 68.0 78.0 84 86\n",
    "1 75.0 75.0 94 97\n",
    "2 86.0 NaN 89 96\n",
    "3 80.0 80.0 86 72\n",
    "4 NaN 86.0 86 83\n",
    "Original Series:\n",
    "0 68.0\n",
    "1 75.0\n",
    "2 86.0\n",
    "3 80.0\n",
    "4 NaN\n",
    "dtype: float64\n",
    "Check for inequality of the said series & dataframe:\n",
    "W X Y Z\n",
    "0 False True True True\n",
    "1 False False True True\n",
    "2 False True True True\n",
    "3 False False True True\n",
    "4 True True True True"
   ]
  },
  {
   "cell_type": "code",
   "execution_count": 41,
   "id": "3f03e99b-e167-4c6a-8b06-26d6946c6a1e",
   "metadata": {},
   "outputs": [
    {
     "name": "stdout",
     "output_type": "stream",
     "text": [
      "Original DataFrame:\n",
      "      W     X   Y   Z\n",
      "0  68.0  78.0  84  86\n",
      "1  75.0  75.0  94  97\n",
      "2  86.0   NaN  89  96\n",
      "3  80.0  80.0  86  72\n",
      "4   NaN  86.0  86  83\n",
      "\n",
      "Original Series:\n",
      "0    68.0\n",
      "1    75.0\n",
      "2    86.0\n",
      "3    80.0\n",
      "4     NaN\n",
      "dtype: float64\n",
      "\n",
      "Check for inequality of the said series & dataframe:\n",
      "       W      X     Y     Z\n",
      "0  False   True  True  True\n",
      "1  False  False  True  True\n",
      "2  False   True  True  True\n",
      "3  False  False  True  True\n",
      "4   True   True  True  True\n"
     ]
    }
   ],
   "source": [
    "df_data = pd.DataFrame({'W':[68,75,86,80,None],'X':[78,75,None,80,86], 'Y':[84,94,89,86,86],'Z':[86,97,96,72,83]});\n",
    "sr_data = pd.Series([68, 75, 86, 80, None]) \n",
    "\n",
    "print(\"Original DataFrame:\")\n",
    "print(df_data)\n",
    "\n",
    "print(\"\\nOriginal Series:\")\n",
    "print(sr_data)\n",
    "\n",
    "print(\"\\nCheck for inequality of the said series & dataframe:\")\n",
    "print(df_data.ne(sr_data, axis = 0))"
   ]
  }
 ],
 "metadata": {
  "kernelspec": {
   "display_name": "Python 3 (ipykernel)",
   "language": "python",
   "name": "python3"
  },
  "language_info": {
   "codemirror_mode": {
    "name": "ipython",
    "version": 3
   },
   "file_extension": ".py",
   "mimetype": "text/x-python",
   "name": "python",
   "nbconvert_exporter": "python",
   "pygments_lexer": "ipython3",
   "version": "3.10.13"
  }
 },
 "nbformat": 4,
 "nbformat_minor": 5
}
