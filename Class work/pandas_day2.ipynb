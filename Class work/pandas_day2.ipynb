{
 "cells": [
  {
   "cell_type": "code",
   "execution_count": 1,
   "id": "1f22313b-57c0-4244-85fa-771e1ce1e79f",
   "metadata": {},
   "outputs": [],
   "source": [
    "import numpy as np\n",
    "import pandas as pd"
   ]
  },
  {
   "cell_type": "code",
   "execution_count": 2,
   "id": "eb7be560-c409-4ce7-b617-a5427dedcbf6",
   "metadata": {},
   "outputs": [
    {
     "name": "stdout",
     "output_type": "stream",
     "text": [
      "     total_bill   tip  gender smoker   day    time  size  price_per_person  \\\n",
      "0         16.99  1.01  Female     No   Sun  Dinner     2              8.49   \n",
      "1         10.34  1.66    Male     No   Sun  Dinner     3              3.45   \n",
      "2         21.01  3.50    Male     No   Sun  Dinner     3              7.00   \n",
      "3         23.68  3.31    Male     No   Sun  Dinner     2             11.84   \n",
      "4         24.59  3.61  Female     No   Sun  Dinner     4              6.15   \n",
      "..          ...   ...     ...    ...   ...     ...   ...               ...   \n",
      "239       29.03  5.92    Male     No   Sat  Dinner     3              9.68   \n",
      "240       27.18  2.00  Female    Yes   Sat  Dinner     2             13.59   \n",
      "241       22.67  2.00    Male    Yes   Sat  Dinner     2             11.34   \n",
      "242       17.82  1.75    Male     No   Sat  Dinner     2              8.91   \n",
      "243       18.78  3.00  Female     No  Thur  Dinner     2              9.39   \n",
      "\n",
      "             Payer Name     CC Number Payment ID  \n",
      "0    Christy Cunningham  3.560330e+15    Sun2959  \n",
      "1        Douglas Tucker  4.478070e+15    Sun4608  \n",
      "2        Travis Walters  6.011810e+15    Sun4458  \n",
      "3      Nathaniel Harris  4.676140e+15    Sun5260  \n",
      "4          Tonya Carter  4.832730e+15    Sun2251  \n",
      "..                  ...           ...        ...  \n",
      "239       Michael Avila  5.296070e+15    Sat2657  \n",
      "240      Monica Sanders  3.506810e+15    Sat1766  \n",
      "241          Keith Wong  6.011890e+15    Sat3880  \n",
      "242        Dennis Dixon  4.375220e+12      Sat17  \n",
      "243     Michelle Hardin  3.511450e+15    Thur672  \n",
      "\n",
      "[244 rows x 11 columns]\n"
     ]
    }
   ],
   "source": [
    "df=pd.read_csv(\"tips.csv\")\n",
    "print(df)"
   ]
  },
  {
   "cell_type": "code",
   "execution_count": 3,
   "id": "7db21023-f7de-4130-a7d4-12c9e6f9459c",
   "metadata": {},
   "outputs": [
    {
     "name": "stdout",
     "output_type": "stream",
     "text": [
      "0      16.99\n",
      "1      10.34\n",
      "2      21.01\n",
      "3      23.68\n",
      "4      24.59\n",
      "       ...  \n",
      "239    29.03\n",
      "240    27.18\n",
      "241    22.67\n",
      "242    17.82\n",
      "243    18.78\n",
      "Name: total_bill, Length: 244, dtype: float64\n",
      "<class 'pandas.core.series.Series'>\n"
     ]
    }
   ],
   "source": [
    "#Select a single column\n",
    "print(df['total_bill'])\n",
    "print(type(df['total_bill']))"
   ]
  },
  {
   "cell_type": "code",
   "execution_count": 4,
   "id": "dfe87e52-4251-42e9-bc52-4c67de6906e8",
   "metadata": {},
   "outputs": [
    {
     "name": "stdout",
     "output_type": "stream",
     "text": [
      "     total_bill   tip\n",
      "0         16.99  1.01\n",
      "1         10.34  1.66\n",
      "2         21.01  3.50\n",
      "3         23.68  3.31\n",
      "4         24.59  3.61\n",
      "..          ...   ...\n",
      "239       29.03  5.92\n",
      "240       27.18  2.00\n",
      "241       22.67  2.00\n",
      "242       17.82  1.75\n",
      "243       18.78  3.00\n",
      "\n",
      "[244 rows x 2 columns]\n"
     ]
    }
   ],
   "source": [
    "#Select Multiple Columns\n",
    "print(df[['total_bill','tip']])"
   ]
  },
  {
   "cell_type": "code",
   "execution_count": 5,
   "id": "ec9843c9-7427-48e6-8720-0fc03c141af1",
   "metadata": {},
   "outputs": [
    {
     "name": "stdout",
     "output_type": "stream",
     "text": [
      "   total_bill   tip  gender smoker  day    time  size  price_per_person  \\\n",
      "0       16.99  1.01  Female     No  Sun  Dinner     2              8.49   \n",
      "1       10.34  1.66    Male     No  Sun  Dinner     3              3.45   \n",
      "2       21.01  3.50    Male     No  Sun  Dinner     3              7.00   \n",
      "3       23.68  3.31    Male     No  Sun  Dinner     2             11.84   \n",
      "4       24.59  3.61  Female     No  Sun  Dinner     4              6.15   \n",
      "\n",
      "           Payer Name     CC Number Payment ID  tip_percentage  \n",
      "0  Christy Cunningham  3.560330e+15    Sun2959        5.944673  \n",
      "1      Douglas Tucker  4.478070e+15    Sun4608       16.054159  \n",
      "2      Travis Walters  6.011810e+15    Sun4458       16.658734  \n",
      "3    Nathaniel Harris  4.676140e+15    Sun5260       13.978041  \n",
      "4        Tonya Carter  4.832730e+15    Sun2251       14.680765  \n"
     ]
    }
   ],
   "source": [
    "#Create new Column\n",
    "df['tip_percentage'] = 100 * df ['tip']/df['total_bill']\n",
    "print(df.head())"
   ]
  },
  {
   "cell_type": "code",
   "execution_count": 6,
   "id": "1ae0fb65-0372-487f-b0f0-962c2647d86e",
   "metadata": {},
   "outputs": [
    {
     "name": "stdout",
     "output_type": "stream",
     "text": [
      "   total_bill   tip  gender smoker  day    time  size  price_per_person  \\\n",
      "0       16.99  1.01  Female     No  Sun  Dinner     2          0.505000   \n",
      "1       10.34  1.66    Male     No  Sun  Dinner     3          0.553333   \n",
      "2       21.01  3.50    Male     No  Sun  Dinner     3          1.166667   \n",
      "3       23.68  3.31    Male     No  Sun  Dinner     2          1.655000   \n",
      "4       24.59  3.61  Female     No  Sun  Dinner     4          0.902500   \n",
      "\n",
      "           Payer Name     CC Number Payment ID  tip_percentage  \n",
      "0  Christy Cunningham  3.560330e+15    Sun2959        5.944673  \n",
      "1      Douglas Tucker  4.478070e+15    Sun4608       16.054159  \n",
      "2      Travis Walters  6.011810e+15    Sun4458       16.658734  \n",
      "3    Nathaniel Harris  4.676140e+15    Sun5260       13.978041  \n",
      "4        Tonya Carter  4.832730e+15    Sun2251       14.680765  \n"
     ]
    }
   ],
   "source": [
    "df['price_per_person'] =  df ['tip']/df['size']\n",
    "print(df.head())"
   ]
  },
  {
   "cell_type": "code",
   "execution_count": 7,
   "id": "87bf9245-26ac-4c3a-ae13-521e65dce3f5",
   "metadata": {},
   "outputs": [
    {
     "name": "stdout",
     "output_type": "stream",
     "text": [
      "   total_bill   tip  gender smoker  day    time  size  price_per_person  \\\n",
      "0       16.99  1.01  Female     No  Sun  Dinner     2              0.50   \n",
      "1       10.34  1.66    Male     No  Sun  Dinner     3              0.55   \n",
      "2       21.01  3.50    Male     No  Sun  Dinner     3              1.17   \n",
      "3       23.68  3.31    Male     No  Sun  Dinner     2              1.66   \n",
      "4       24.59  3.61  Female     No  Sun  Dinner     4              0.90   \n",
      "\n",
      "           Payer Name     CC Number Payment ID  tip_percentage  \n",
      "0  Christy Cunningham  3.560330e+15    Sun2959        5.944673  \n",
      "1      Douglas Tucker  4.478070e+15    Sun4608       16.054159  \n",
      "2      Travis Walters  6.011810e+15    Sun4458       16.658734  \n",
      "3    Nathaniel Harris  4.676140e+15    Sun5260       13.978041  \n",
      "4        Tonya Carter  4.832730e+15    Sun2251       14.680765  \n"
     ]
    }
   ],
   "source": [
    "#Adgusting Existing Columns\n",
    "df['price_per_person'] = np.round(df['price_per_person'],2)\n",
    "print(df.head())"
   ]
  },
  {
   "cell_type": "code",
   "execution_count": 8,
   "id": "7524777c-f718-4560-8123-849420388c9b",
   "metadata": {},
   "outputs": [
    {
     "name": "stdout",
     "output_type": "stream",
     "text": [
      "   total_bill   tip  gender smoker  day    time  size  price_per_person  \\\n",
      "0       16.99  1.01  Female     No  Sun  Dinner     2              0.50   \n",
      "1       10.34  1.66    Male     No  Sun  Dinner     3              0.55   \n",
      "2       21.01  3.50    Male     No  Sun  Dinner     3              1.17   \n",
      "3       23.68  3.31    Male     No  Sun  Dinner     2              1.66   \n",
      "4       24.59  3.61  Female     No  Sun  Dinner     4              0.90   \n",
      "\n",
      "           Payer Name     CC Number Payment ID  \n",
      "0  Christy Cunningham  3.560330e+15    Sun2959  \n",
      "1      Douglas Tucker  4.478070e+15    Sun4608  \n",
      "2      Travis Walters  6.011810e+15    Sun4458  \n",
      "3    Nathaniel Harris  4.676140e+15    Sun5260  \n",
      "4        Tonya Carter  4.832730e+15    Sun2251  \n"
     ]
    }
   ],
   "source": [
    "#Droping a Column\n",
    "df = df.drop(\"tip_percentage\",axis=1)\n",
    "print(df.head())"
   ]
  },
  {
   "cell_type": "code",
   "execution_count": 9,
   "id": "d2b21160-0bd0-4039-ae12-26f73b20f45a",
   "metadata": {},
   "outputs": [
    {
     "name": "stdout",
     "output_type": "stream",
     "text": [
      "   total_bill   tip  gender smoker  day    time  size  price_per_person  \\\n",
      "0       16.99  1.01  Female     No  Sun  Dinner     2              0.50   \n",
      "1       10.34  1.66    Male     No  Sun  Dinner     3              0.55   \n",
      "2       21.01  3.50    Male     No  Sun  Dinner     3              1.17   \n",
      "3       23.68  3.31    Male     No  Sun  Dinner     2              1.66   \n",
      "4       24.59  3.61  Female     No  Sun  Dinner     4              0.90   \n",
      "\n",
      "           Payer Name     CC Number Payment ID  \n",
      "0  Christy Cunningham  3.560330e+15    Sun2959  \n",
      "1      Douglas Tucker  4.478070e+15    Sun4608  \n",
      "2      Travis Walters  6.011810e+15    Sun4458  \n",
      "3    Nathaniel Harris  4.676140e+15    Sun5260  \n",
      "4        Tonya Carter  4.832730e+15    Sun2251  \n",
      "RangeIndex(start=0, stop=244, step=1)\n"
     ]
    }
   ],
   "source": [
    "#index\n",
    "print(df.head())\n",
    "print(df.index)"
   ]
  },
  {
   "cell_type": "code",
   "execution_count": 10,
   "id": "b5d3295e-33da-49f5-ae5a-fadad3b11f6b",
   "metadata": {},
   "outputs": [
    {
     "name": "stdout",
     "output_type": "stream",
     "text": [
      "   total_bill   tip  gender smoker  day    time  size  price_per_person  \\\n",
      "0       16.99  1.01  Female     No  Sun  Dinner     2              0.50   \n",
      "1       10.34  1.66    Male     No  Sun  Dinner     3              0.55   \n",
      "2       21.01  3.50    Male     No  Sun  Dinner     3              1.17   \n",
      "3       23.68  3.31    Male     No  Sun  Dinner     2              1.66   \n",
      "4       24.59  3.61  Female     No  Sun  Dinner     4              0.90   \n",
      "\n",
      "           Payer Name     CC Number Payment ID  \n",
      "0  Christy Cunningham  3.560330e+15    Sun2959  \n",
      "1      Douglas Tucker  4.478070e+15    Sun4608  \n",
      "2      Travis Walters  6.011810e+15    Sun4458  \n",
      "3    Nathaniel Harris  4.676140e+15    Sun5260  \n",
      "4        Tonya Carter  4.832730e+15    Sun2251  \n"
     ]
    }
   ],
   "source": [
    "df.set_index('Payment ID')\n",
    "print(df.head())"
   ]
  },
  {
   "cell_type": "code",
   "execution_count": 11,
   "id": "696e6dd8-1832-4a66-b69d-9b50ab70c215",
   "metadata": {},
   "outputs": [
    {
     "name": "stdout",
     "output_type": "stream",
     "text": [
      "            total_bill   tip  gender smoker  day    time  size  \\\n",
      "Payment ID                                                       \n",
      "Sun2959          16.99  1.01  Female     No  Sun  Dinner     2   \n",
      "Sun4608          10.34  1.66    Male     No  Sun  Dinner     3   \n",
      "Sun4458          21.01  3.50    Male     No  Sun  Dinner     3   \n",
      "Sun5260          23.68  3.31    Male     No  Sun  Dinner     2   \n",
      "Sun2251          24.59  3.61  Female     No  Sun  Dinner     4   \n",
      "\n",
      "            price_per_person          Payer Name     CC Number  \n",
      "Payment ID                                                      \n",
      "Sun2959                 0.50  Christy Cunningham  3.560330e+15  \n",
      "Sun4608                 0.55      Douglas Tucker  4.478070e+15  \n",
      "Sun4458                 1.17      Travis Walters  6.011810e+15  \n",
      "Sun5260                 1.66    Nathaniel Harris  4.676140e+15  \n",
      "Sun2251                 0.90        Tonya Carter  4.832730e+15  \n"
     ]
    }
   ],
   "source": [
    "df=df.set_index('Payment ID')\n",
    "print(df.head())"
   ]
  },
  {
   "cell_type": "code",
   "execution_count": 12,
   "id": "735e0269-b9e9-4741-a8d1-35c624a5a18a",
   "metadata": {},
   "outputs": [
    {
     "name": "stdout",
     "output_type": "stream",
     "text": [
      "  Payment ID  total_bill   tip  gender smoker  day    time  size  \\\n",
      "0    Sun2959       16.99  1.01  Female     No  Sun  Dinner     2   \n",
      "1    Sun4608       10.34  1.66    Male     No  Sun  Dinner     3   \n",
      "2    Sun4458       21.01  3.50    Male     No  Sun  Dinner     3   \n",
      "3    Sun5260       23.68  3.31    Male     No  Sun  Dinner     2   \n",
      "4    Sun2251       24.59  3.61  Female     No  Sun  Dinner     4   \n",
      "\n",
      "   price_per_person          Payer Name     CC Number  \n",
      "0              0.50  Christy Cunningham  3.560330e+15  \n",
      "1              0.55      Douglas Tucker  4.478070e+15  \n",
      "2              1.17      Travis Walters  6.011810e+15  \n",
      "3              1.66    Nathaniel Harris  4.676140e+15  \n",
      "4              0.90        Tonya Carter  4.832730e+15  \n"
     ]
    }
   ],
   "source": [
    "df=df.reset_index()\n",
    "print(df.head())"
   ]
  },
  {
   "cell_type": "code",
   "execution_count": 13,
   "id": "621fdd88-7233-40f6-8353-8d2ef5fa41c6",
   "metadata": {},
   "outputs": [
    {
     "name": "stdout",
     "output_type": "stream",
     "text": [
      "Payment ID                     Sun2959\n",
      "total_bill                       16.99\n",
      "tip                               1.01\n",
      "gender                          Female\n",
      "smoker                              No\n",
      "day                                Sun\n",
      "time                            Dinner\n",
      "size                                 2\n",
      "price_per_person                   0.5\n",
      "Payer Name          Christy Cunningham\n",
      "CC Number           3560330000000000.0\n",
      "Name: 0, dtype: object\n"
     ]
    }
   ],
   "source": [
    "#Rows\n",
    "#Get a single row\n",
    "#Integer Based\n",
    "print(df.iloc[0])"
   ]
  },
  {
   "cell_type": "code",
   "execution_count": 14,
   "id": "57e70309-f00e-4216-a956-d2edf3caea1f",
   "metadata": {},
   "outputs": [
    {
     "name": "stdout",
     "output_type": "stream",
     "text": [
      "total_bill                       16.99\n",
      "tip                               1.01\n",
      "gender                          Female\n",
      "smoker                              No\n",
      "day                                Sun\n",
      "time                            Dinner\n",
      "size                                 2\n",
      "price_per_person                   0.5\n",
      "Payer Name          Christy Cunningham\n",
      "CC Number           3560330000000000.0\n",
      "Name: Sun2959, dtype: object\n"
     ]
    }
   ],
   "source": [
    "#Name Based\n",
    "#First set the index to the column which will be used in locating the row\n",
    "df=df.set_index('Payment ID')\n",
    "\n",
    "print(df.loc['Sun2959'])"
   ]
  },
  {
   "cell_type": "code",
   "execution_count": 15,
   "id": "534f0178-7688-4dae-936d-95890a119496",
   "metadata": {},
   "outputs": [
    {
     "name": "stdout",
     "output_type": "stream",
     "text": [
      "            total_bill   tip  gender smoker  day    time  size  \\\n",
      "Payment ID                                                       \n",
      "Sun2959          16.99  1.01  Female     No  Sun  Dinner     2   \n",
      "Sun4608          10.34  1.66    Male     No  Sun  Dinner     3   \n",
      "Sun4458          21.01  3.50    Male     No  Sun  Dinner     3   \n",
      "Sun5260          23.68  3.31    Male     No  Sun  Dinner     2   \n",
      "Sun2251          24.59  3.61  Female     No  Sun  Dinner     4   \n",
      "\n",
      "            price_per_person          Payer Name     CC Number  \n",
      "Payment ID                                                      \n",
      "Sun2959                 0.50  Christy Cunningham  3.560330e+15  \n",
      "Sun4608                 0.55      Douglas Tucker  4.478070e+15  \n",
      "Sun4458                 1.17      Travis Walters  6.011810e+15  \n",
      "Sun5260                 1.66    Nathaniel Harris  4.676140e+15  \n",
      "Sun2251                 0.90        Tonya Carter  4.832730e+15  \n",
      "            total_bill   tip  gender smoker  day    time  size  \\\n",
      "Payment ID                                                       \n",
      "Sun4608          10.34  1.66    Male     No  Sun  Dinner     3   \n",
      "Sun4458          21.01  3.50    Male     No  Sun  Dinner     3   \n",
      "Sun5260          23.68  3.31    Male     No  Sun  Dinner     2   \n",
      "Sun2251          24.59  3.61  Female     No  Sun  Dinner     4   \n",
      "Sun9679          25.29  4.71    Male     No  Sun  Dinner     4   \n",
      "\n",
      "            price_per_person        Payer Name     CC Number  \n",
      "Payment ID                                                    \n",
      "Sun4608                 0.55    Douglas Tucker  4.478070e+15  \n",
      "Sun4458                 1.17    Travis Walters  6.011810e+15  \n",
      "Sun5260                 1.66  Nathaniel Harris  4.676140e+15  \n",
      "Sun2251                 0.90      Tonya Carter  4.832730e+15  \n",
      "Sun9679                 1.18        Erik Smith  2.131400e+14  \n"
     ]
    }
   ],
   "source": [
    "#Reomve A row\n",
    "print(df.head())\n",
    "df=df.drop('Sun2959',axis=0)\n",
    "print(df.head())"
   ]
  },
  {
   "cell_type": "code",
   "execution_count": 16,
   "id": "471109a5-205a-4d98-815e-404df8141049",
   "metadata": {},
   "outputs": [
    {
     "name": "stdout",
     "output_type": "stream",
     "text": [
      "Payment ID\n",
      "Sun4608    True\n",
      "Sun4458    True\n",
      "Sun5260    True\n",
      "Sun2251    True\n",
      "Sun9679    True\n",
      "           ... \n",
      "Sat2657    True\n",
      "Sat1766    True\n",
      "Sat3880    True\n",
      "Sat17      True\n",
      "Thur672    True\n",
      "Name: total_bill, Length: 243, dtype: bool\n"
     ]
    }
   ],
   "source": [
    "#Conditions\n",
    "print(df['total_bill'] < 30)"
   ]
  },
  {
   "cell_type": "code",
   "execution_count": 17,
   "id": "968dc0d3-063b-4030-957c-5545615302da",
   "metadata": {},
   "outputs": [
    {
     "name": "stdout",
     "output_type": "stream",
     "text": [
      "Payment ID\n",
      "Sun4608    False\n",
      "Sun4458    False\n",
      "Sun5260    False\n",
      "Sun2251    False\n",
      "Sun9679    False\n",
      "           ...  \n",
      "Sat2657    False\n",
      "Sat1766    False\n",
      "Sat3880    False\n",
      "Sat17      False\n",
      "Thur672    False\n",
      "Name: total_bill, Length: 243, dtype: bool\n"
     ]
    }
   ],
   "source": [
    "bool_series = df['total_bill'] > 30 # Save in a Variable\n",
    "\n",
    "print(bool_series)"
   ]
  },
  {
   "cell_type": "code",
   "execution_count": 18,
   "id": "2387dd34-fcd3-4947-bda6-1370fbf4b8d9",
   "metadata": {},
   "outputs": [
    {
     "name": "stdout",
     "output_type": "stream",
     "text": [
      "            total_bill    tip  gender smoker   day    time  size  \\\n",
      "Payment ID                                                         \n",
      "Sun6686          35.26   5.00  Female     No   Sun  Dinner     4   \n",
      "Sat239           39.42   7.58    Male     No   Sat  Dinner     4   \n",
      "Sat6373          31.27   5.00    Male     No   Sat  Dinner     3   \n",
      "Sun2274          30.40   5.60    Male     No   Sun  Dinner     4   \n",
      "Sun9677          32.40   6.00    Male     No   Sun  Dinner     4   \n",
      "Sun6165          34.81   5.20  Female     No   Sun  Dinner     4   \n",
      "Sat8903          38.01   3.00    Male    Yes   Sat  Dinner     4   \n",
      "Sat8139          48.27   6.73    Male     No   Sat  Dinner     4   \n",
      "Thur8801         32.68   5.00    Male    Yes  Thur   Lunch     2   \n",
      "Thur7972         34.83   5.17  Female     No  Thur   Lunch     4   \n",
      "Fri9628          40.17   4.73    Male    Yes   Fri  Dinner     4   \n",
      "Sat6240          44.30   2.50  Female    Yes   Sat  Dinner     3   \n",
      "Sun591           38.07   4.00    Male     No   Sun  Dinner     3   \n",
      "Thur1025         34.30   6.70    Male     No  Thur   Lunch     6   \n",
      "Thur3621         41.19   5.00    Male     No  Thur   Lunch     5   \n",
      "Sun7518          48.17   5.00    Male     No   Sun  Dinner     6   \n",
      "Sun3719          31.71   4.50    Male     No   Sun  Dinner     4   \n",
      "Sat1954          50.81  10.00    Male    Yes   Sat  Dinner     3   \n",
      "Sun9335          31.85   3.18    Male    Yes   Sun  Dinner     2   \n",
      "Sun5109          32.90   3.11    Male    Yes   Sun  Dinner     2   \n",
      "Sun9851          34.63   3.55    Male    Yes   Sun  Dinner     2   \n",
      "Sun7544          34.65   3.68    Male    Yes   Sun  Dinner     4   \n",
      "Sun2337          45.35   3.50    Male    Yes   Sun  Dinner     3   \n",
      "Sun5140          40.55   3.00    Male    Yes   Sun  Dinner     2   \n",
      "Sun9987          30.46   2.00    Male    Yes   Sun  Dinner     5   \n",
      "Thur9313         43.11   5.00  Female    Yes  Thur   Lunch     4   \n",
      "Sat4505          38.73   3.00    Male    Yes   Sat  Dinner     4   \n",
      "Sat8361          30.06   2.00    Male    Yes   Sat  Dinner     3   \n",
      "Sat4590          48.33   9.00    Male     No   Sat  Dinner     4   \n",
      "Sat8863          30.14   3.09  Female    Yes   Sat  Dinner     4   \n",
      "Sat2929          32.83   1.17    Male    Yes   Sat  Dinner     2   \n",
      "Sat9777          35.83   4.67  Female     No   Sat  Dinner     3   \n",
      "\n",
      "            price_per_person             Payer Name     CC Number  \n",
      "Payment ID                                                         \n",
      "Sun6686                 1.25           Diane Macias  4.577820e+15  \n",
      "Sat239                  1.90         Lance Peterson  3.542580e+15  \n",
      "Sat6373                 1.67      Mr. Brandon Berry  6.011530e+15  \n",
      "Sun2274                 1.40            Todd Cooper  5.038470e+11  \n",
      "Sun9677                 1.50           James Barnes  3.552000e+15  \n",
      "Sun6165                 1.30           Emily Daniel  4.291280e+15  \n",
      "Sat8903                 0.75  James Christensen DDS  3.497940e+14  \n",
      "Sat8139                 1.68            Brian Ortiz  6.596450e+15  \n",
      "Thur8801                2.50          Daniel Murphy  5.356180e+15  \n",
      "Thur7972                1.29            Shawna Cook  6.011790e+15  \n",
      "Fri9628                 1.18          Aaron Bentley  1.800270e+14  \n",
      "Sat6240                 0.83          Heather Cohen  3.797710e+14  \n",
      "Sun591                  1.33             Jeff Lopez  3.572870e+15  \n",
      "Thur1025                1.12         Steven Carlson  3.526520e+15  \n",
      "Thur3621                1.00           Eric Andrews  4.356530e+15  \n",
      "Sun7518                 0.83          Ryan Gonzales  3.523150e+15  \n",
      "Sun3719                 1.12         Michael Lawson  3.566290e+15  \n",
      "Sat1954                 3.33          Gregory Clark  5.473850e+15  \n",
      "Sun9335                 1.59            Scott Perez  3.577120e+15  \n",
      "Sun5109                 1.56        Nathan Reynolds  3.703070e+14  \n",
      "Sun9851                 1.78           Brian Bailey  3.466560e+14  \n",
      "Sun7544                 0.92       James Hebert DDS  6.761690e+11  \n",
      "Sun2337                 1.17           Jose Parsons  4.112210e+15  \n",
      "Sun5140                 1.50            Stephen Cox  3.547800e+15  \n",
      "Sun9987                 0.40          David Barrett  4.792880e+15  \n",
      "Thur9313                1.25            Brooke Soto  5.544900e+15  \n",
      "Sat4505                 0.75          Ricky Ramirez  3.478180e+14  \n",
      "Sat8361                 0.67          Shawn Mendoza  3.018400e+13  \n",
      "Sat4590                 2.25        Alex Williamson  6.762190e+11  \n",
      "Sat8863                 0.77           Shelby House  5.020970e+11  \n",
      "Sat2929                 0.58           Thomas Brown  4.284720e+15  \n",
      "Sat9777                 1.56         Kimberly Crane  6.761840e+11  \n"
     ]
    }
   ],
   "source": [
    "print(df[bool_series]) # Actual Results, applying the true / false condtions\n",
    "#the above state ment means apply the true / false result to each row\n",
    "#Extract only the rows where it is true ,  the false ones will not appear in the output"
   ]
  },
  {
   "cell_type": "code",
   "execution_count": 21,
   "id": "c55d6dfd-303a-4331-b49f-861e69d2d9f8",
   "metadata": {},
   "outputs": [
    {
     "name": "stdout",
     "output_type": "stream",
     "text": [
      "            total_bill   tip gender smoker  day    time  size  \\\n",
      "Payment ID                                                      \n",
      "Sun4608          10.34  1.66   Male     No  Sun  Dinner     3   \n",
      "Sun4458          21.01  3.50   Male     No  Sun  Dinner     3   \n",
      "Sun5260          23.68  3.31   Male     No  Sun  Dinner     2   \n",
      "Sun9679          25.29  4.71   Male     No  Sun  Dinner     4   \n",
      "Sun5985           8.77  2.00   Male     No  Sun  Dinner     2   \n",
      "...                ...   ...    ...    ...  ...     ...   ...   \n",
      "Sat5032          12.60  1.00   Male    Yes  Sat  Dinner     2   \n",
      "Sat2929          32.83  1.17   Male    Yes  Sat  Dinner     2   \n",
      "Sat2657          29.03  5.92   Male     No  Sat  Dinner     3   \n",
      "Sat3880          22.67  2.00   Male    Yes  Sat  Dinner     2   \n",
      "Sat17            17.82  1.75   Male     No  Sat  Dinner     2   \n",
      "\n",
      "            price_per_person          Payer Name     CC Number  \n",
      "Payment ID                                                      \n",
      "Sun4608                 0.55      Douglas Tucker  4.478070e+15  \n",
      "Sun4458                 1.17      Travis Walters  6.011810e+15  \n",
      "Sun5260                 1.66    Nathaniel Harris  4.676140e+15  \n",
      "Sun9679                 1.18          Erik Smith  2.131400e+14  \n",
      "Sun5985                 1.00  Kristopher Johnson  2.223730e+15  \n",
      "...                      ...                 ...           ...  \n",
      "Sat5032                 0.50       Matthew Myers  3.543680e+15  \n",
      "Sat2929                 0.58        Thomas Brown  4.284720e+15  \n",
      "Sat2657                 1.97       Michael Avila  5.296070e+15  \n",
      "Sat3880                 1.00          Keith Wong  6.011890e+15  \n",
      "Sat17                   0.88        Dennis Dixon  4.375220e+12  \n",
      "\n",
      "[157 rows x 10 columns]\n"
     ]
    }
   ],
   "source": [
    "print(df[df['gender']== 'Male'] )"
   ]
  },
  {
   "cell_type": "code",
   "execution_count": 24,
   "id": "165318d2-8b9e-43d7-81f3-feea90199632",
   "metadata": {},
   "outputs": [
    {
     "name": "stdout",
     "output_type": "stream",
     "text": [
      "            total_bill    tip gender smoker   day    time  size  \\\n",
      "Payment ID                                                        \n",
      "Sat239           39.42   7.58   Male     No   Sat  Dinner     4   \n",
      "Sat6373          31.27   5.00   Male     No   Sat  Dinner     3   \n",
      "Sun2274          30.40   5.60   Male     No   Sun  Dinner     4   \n",
      "Sun9677          32.40   6.00   Male     No   Sun  Dinner     4   \n",
      "Sat8903          38.01   3.00   Male    Yes   Sat  Dinner     4   \n",
      "Sat8139          48.27   6.73   Male     No   Sat  Dinner     4   \n",
      "Thur8801         32.68   5.00   Male    Yes  Thur   Lunch     2   \n",
      "Fri9628          40.17   4.73   Male    Yes   Fri  Dinner     4   \n",
      "Sun591           38.07   4.00   Male     No   Sun  Dinner     3   \n",
      "Thur1025         34.30   6.70   Male     No  Thur   Lunch     6   \n",
      "Thur3621         41.19   5.00   Male     No  Thur   Lunch     5   \n",
      "Sun7518          48.17   5.00   Male     No   Sun  Dinner     6   \n",
      "Sun3719          31.71   4.50   Male     No   Sun  Dinner     4   \n",
      "Sat1954          50.81  10.00   Male    Yes   Sat  Dinner     3   \n",
      "Sun9335          31.85   3.18   Male    Yes   Sun  Dinner     2   \n",
      "Sun5109          32.90   3.11   Male    Yes   Sun  Dinner     2   \n",
      "Sun9851          34.63   3.55   Male    Yes   Sun  Dinner     2   \n",
      "Sun7544          34.65   3.68   Male    Yes   Sun  Dinner     4   \n",
      "Sun2337          45.35   3.50   Male    Yes   Sun  Dinner     3   \n",
      "Sun5140          40.55   3.00   Male    Yes   Sun  Dinner     2   \n",
      "Sun9987          30.46   2.00   Male    Yes   Sun  Dinner     5   \n",
      "Sat4505          38.73   3.00   Male    Yes   Sat  Dinner     4   \n",
      "Sat8361          30.06   2.00   Male    Yes   Sat  Dinner     3   \n",
      "Sat4590          48.33   9.00   Male     No   Sat  Dinner     4   \n",
      "Sat2929          32.83   1.17   Male    Yes   Sat  Dinner     2   \n",
      "\n",
      "            price_per_person             Payer Name     CC Number  \n",
      "Payment ID                                                         \n",
      "Sat239                  1.90         Lance Peterson  3.542580e+15  \n",
      "Sat6373                 1.67      Mr. Brandon Berry  6.011530e+15  \n",
      "Sun2274                 1.40            Todd Cooper  5.038470e+11  \n",
      "Sun9677                 1.50           James Barnes  3.552000e+15  \n",
      "Sat8903                 0.75  James Christensen DDS  3.497940e+14  \n",
      "Sat8139                 1.68            Brian Ortiz  6.596450e+15  \n",
      "Thur8801                2.50          Daniel Murphy  5.356180e+15  \n",
      "Fri9628                 1.18          Aaron Bentley  1.800270e+14  \n",
      "Sun591                  1.33             Jeff Lopez  3.572870e+15  \n",
      "Thur1025                1.12         Steven Carlson  3.526520e+15  \n",
      "Thur3621                1.00           Eric Andrews  4.356530e+15  \n",
      "Sun7518                 0.83          Ryan Gonzales  3.523150e+15  \n",
      "Sun3719                 1.12         Michael Lawson  3.566290e+15  \n",
      "Sat1954                 3.33          Gregory Clark  5.473850e+15  \n",
      "Sun9335                 1.59            Scott Perez  3.577120e+15  \n",
      "Sun5109                 1.56        Nathan Reynolds  3.703070e+14  \n",
      "Sun9851                 1.78           Brian Bailey  3.466560e+14  \n",
      "Sun7544                 0.92       James Hebert DDS  6.761690e+11  \n",
      "Sun2337                 1.17           Jose Parsons  4.112210e+15  \n",
      "Sun5140                 1.50            Stephen Cox  3.547800e+15  \n",
      "Sun9987                 0.40          David Barrett  4.792880e+15  \n",
      "Sat4505                 0.75          Ricky Ramirez  3.478180e+14  \n",
      "Sat8361                 0.67          Shawn Mendoza  3.018400e+13  \n",
      "Sat4590                 2.25        Alex Williamson  6.762190e+11  \n",
      "Sat2929                 0.58           Thomas Brown  4.284720e+15  \n"
     ]
    }
   ],
   "source": [
    "#multiple conditions\n",
    "df_new = df[(df['total_bill'] > 30) & (df['gender']== 'Male')]\n",
    "print(df_new)"
   ]
  },
  {
   "cell_type": "code",
   "execution_count": 25,
   "id": "620d0299-1ac8-4a46-b933-41ffd10337f3",
   "metadata": {},
   "outputs": [
    {
     "name": "stdout",
     "output_type": "stream",
     "text": [
      "            total_bill   tip  gender smoker   day    time  size  \\\n",
      "Payment ID                                                        \n",
      "Sun6686          35.26  5.00  Female     No   Sun  Dinner     4   \n",
      "Sun6165          34.81  5.20  Female     No   Sun  Dinner     4   \n",
      "Thur7972         34.83  5.17  Female     No  Thur   Lunch     4   \n",
      "Sat6240          44.30  2.50  Female    Yes   Sat  Dinner     3   \n",
      "Thur9313         43.11  5.00  Female    Yes  Thur   Lunch     4   \n",
      "Sat8863          30.14  3.09  Female    Yes   Sat  Dinner     4   \n",
      "Sat9777          35.83  4.67  Female     No   Sat  Dinner     3   \n",
      "\n",
      "            price_per_person      Payer Name     CC Number  \n",
      "Payment ID                                                  \n",
      "Sun6686                 1.25    Diane Macias  4.577820e+15  \n",
      "Sun6165                 1.30    Emily Daniel  4.291280e+15  \n",
      "Thur7972                1.29     Shawna Cook  6.011790e+15  \n",
      "Sat6240                 0.83   Heather Cohen  3.797710e+14  \n",
      "Thur9313                1.25     Brooke Soto  5.544900e+15  \n",
      "Sat8863                 0.77    Shelby House  5.020970e+11  \n",
      "Sat9777                 1.56  Kimberly Crane  6.761840e+11  \n"
     ]
    }
   ],
   "source": [
    "df_new = df[(df['total_bill'] > 30) & ~(df['gender']== 'Male')]\n",
    "print(df_new)"
   ]
  },
  {
   "cell_type": "code",
   "execution_count": 26,
   "id": "bc03585e-c1ff-4622-856d-368dedbdb56d",
   "metadata": {},
   "outputs": [
    {
     "name": "stdout",
     "output_type": "stream",
     "text": [
      "            total_bill   tip  gender smoker   day    time  size  \\\n",
      "Payment ID                                                        \n",
      "Sun6686          35.26  5.00  Female     No   Sun  Dinner     4   \n",
      "Sun6165          34.81  5.20  Female     No   Sun  Dinner     4   \n",
      "Thur7972         34.83  5.17  Female     No  Thur   Lunch     4   \n",
      "Sat6240          44.30  2.50  Female    Yes   Sat  Dinner     3   \n",
      "Thur9313         43.11  5.00  Female    Yes  Thur   Lunch     4   \n",
      "Sat8863          30.14  3.09  Female    Yes   Sat  Dinner     4   \n",
      "Sat9777          35.83  4.67  Female     No   Sat  Dinner     3   \n",
      "\n",
      "            price_per_person      Payer Name     CC Number  \n",
      "Payment ID                                                  \n",
      "Sun6686                 1.25    Diane Macias  4.577820e+15  \n",
      "Sun6165                 1.30    Emily Daniel  4.291280e+15  \n",
      "Thur7972                1.29     Shawna Cook  6.011790e+15  \n",
      "Sat6240                 0.83   Heather Cohen  3.797710e+14  \n",
      "Thur9313                1.25     Brooke Soto  5.544900e+15  \n",
      "Sat8863                 0.77    Shelby House  5.020970e+11  \n",
      "Sat9777                 1.56  Kimberly Crane  6.761840e+11  \n"
     ]
    }
   ],
   "source": [
    "df_new = df[(df['total_bill'] > 30) & (df['gender']!= 'Male')]\n",
    "print(df_new)"
   ]
  },
  {
   "cell_type": "code",
   "execution_count": 28,
   "id": "1736b3e0-d7ec-465f-b92c-1eb38b11d2cd",
   "metadata": {},
   "outputs": [
    {
     "name": "stdout",
     "output_type": "stream",
     "text": [
      "            total_bill    tip  gender smoker   day    time  size  \\\n",
      "Payment ID                                                         \n",
      "Sun6686          35.26   5.00  Female     No   Sun  Dinner     4   \n",
      "Sat239           39.42   7.58    Male     No   Sat  Dinner     4   \n",
      "Sat6373          31.27   5.00    Male     No   Sat  Dinner     3   \n",
      "Sun2274          30.40   5.60    Male     No   Sun  Dinner     4   \n",
      "Sun9677          32.40   6.00    Male     No   Sun  Dinner     4   \n",
      "Sun6165          34.81   5.20  Female     No   Sun  Dinner     4   \n",
      "Sat8903          38.01   3.00    Male    Yes   Sat  Dinner     4   \n",
      "Sat8139          48.27   6.73    Male     No   Sat  Dinner     4   \n",
      "Thur8801         32.68   5.00    Male    Yes  Thur   Lunch     2   \n",
      "Thur7972         34.83   5.17  Female     No  Thur   Lunch     4   \n",
      "Thur9003         24.71   5.85    Male     No  Thur   Lunch     2   \n",
      "Fri9628          40.17   4.73    Male    Yes   Fri  Dinner     4   \n",
      "Sat6240          44.30   2.50  Female    Yes   Sat  Dinner     3   \n",
      "Sun591           38.07   4.00    Male     No   Sun  Dinner     3   \n",
      "Sun22            29.93   5.07    Male     No   Sun  Dinner     4   \n",
      "Thur1025         34.30   6.70    Male     No  Thur   Lunch     6   \n",
      "Thur3621         41.19   5.00    Male     No  Thur   Lunch     5   \n",
      "Sun9176          29.85   5.14  Female     No   Sun  Dinner     5   \n",
      "Sun7518          48.17   5.00    Male     No   Sun  Dinner     6   \n",
      "Sun3719          31.71   4.50    Male     No   Sun  Dinner     4   \n",
      "Sat1954          50.81  10.00    Male    Yes   Sat  Dinner     3   \n",
      "Sun9209           7.25   5.15    Male    Yes   Sun  Dinner     2   \n",
      "Sun9335          31.85   3.18    Male    Yes   Sun  Dinner     2   \n",
      "Sun5109          32.90   3.11    Male    Yes   Sun  Dinner     2   \n",
      "Sun9851          34.63   3.55    Male    Yes   Sun  Dinner     2   \n",
      "Sun7544          34.65   3.68    Male    Yes   Sun  Dinner     4   \n",
      "Sun3402          23.33   5.65    Male    Yes   Sun  Dinner     2   \n",
      "Sun2337          45.35   3.50    Male    Yes   Sun  Dinner     3   \n",
      "Sun6059          23.17   6.50    Male    Yes   Sun  Dinner     4   \n",
      "Sun5140          40.55   3.00    Male    Yes   Sun  Dinner     2   \n",
      "Sun9987          30.46   2.00    Male    Yes   Sun  Dinner     5   \n",
      "Thur9313         43.11   5.00  Female    Yes  Thur   Lunch     4   \n",
      "Sat4505          38.73   3.00    Male    Yes   Sat  Dinner     4   \n",
      "Sat8361          30.06   2.00    Male    Yes   Sat  Dinner     3   \n",
      "Sat6735          25.89   5.16    Male    Yes   Sat  Dinner     4   \n",
      "Sat4590          48.33   9.00    Male     No   Sat  Dinner     4   \n",
      "Sat3374          28.17   6.50  Female    Yes   Sat  Dinner     3   \n",
      "Sat8863          30.14   3.09  Female    Yes   Sat  Dinner     4   \n",
      "Sat2929          32.83   1.17    Male    Yes   Sat  Dinner     2   \n",
      "Sat9777          35.83   4.67  Female     No   Sat  Dinner     3   \n",
      "Sat2657          29.03   5.92    Male     No   Sat  Dinner     3   \n",
      "\n",
      "            price_per_person             Payer Name     CC Number  \n",
      "Payment ID                                                         \n",
      "Sun6686                 1.25           Diane Macias  4.577820e+15  \n",
      "Sat239                  1.90         Lance Peterson  3.542580e+15  \n",
      "Sat6373                 1.67      Mr. Brandon Berry  6.011530e+15  \n",
      "Sun2274                 1.40            Todd Cooper  5.038470e+11  \n",
      "Sun9677                 1.50           James Barnes  3.552000e+15  \n",
      "Sun6165                 1.30           Emily Daniel  4.291280e+15  \n",
      "Sat8903                 0.75  James Christensen DDS  3.497940e+14  \n",
      "Sat8139                 1.68            Brian Ortiz  6.596450e+15  \n",
      "Thur8801                2.50          Daniel Murphy  5.356180e+15  \n",
      "Thur7972                1.29            Shawna Cook  6.011790e+15  \n",
      "Thur9003                2.92           Roger Taylor  4.410250e+12  \n",
      "Fri9628                 1.18          Aaron Bentley  1.800270e+14  \n",
      "Sat6240                 0.83          Heather Cohen  3.797710e+14  \n",
      "Sun591                  1.33             Jeff Lopez  3.572870e+15  \n",
      "Sun22                   1.27            Shawn Blake  4.689080e+15  \n",
      "Thur1025                1.12         Steven Carlson  3.526520e+15  \n",
      "Thur3621                1.00           Eric Andrews  4.356530e+15  \n",
      "Sun9176                 1.03         Madison Wilson  4.210880e+15  \n",
      "Sun7518                 0.83          Ryan Gonzales  3.523150e+15  \n",
      "Sun3719                 1.12         Michael Lawson  3.566290e+15  \n",
      "Sat1954                 3.33          Gregory Clark  5.473850e+15  \n",
      "Sun9209                 2.58            Larry White  3.043260e+13  \n",
      "Sun9335                 1.59            Scott Perez  3.577120e+15  \n",
      "Sun5109                 1.56        Nathan Reynolds  3.703070e+14  \n",
      "Sun9851                 1.78           Brian Bailey  3.466560e+14  \n",
      "Sun7544                 0.92       James Hebert DDS  6.761690e+11  \n",
      "Sun3402                 2.82              Jason Cox  6.556930e+15  \n",
      "Sun2337                 1.17           Jose Parsons  4.112210e+15  \n",
      "Sun6059                 1.62      Dr. Michael James  4.718500e+12  \n",
      "Sun5140                 1.50            Stephen Cox  3.547800e+15  \n",
      "Sun9987                 0.40          David Barrett  4.792880e+15  \n",
      "Thur9313                1.25            Brooke Soto  5.544900e+15  \n",
      "Sat4505                 0.75          Ricky Ramirez  3.478180e+14  \n",
      "Sat8361                 0.67          Shawn Mendoza  3.018400e+13  \n",
      "Sat6735                 1.29         Christopher Li  6.011960e+15  \n",
      "Sat4590                 2.25        Alex Williamson  6.762190e+11  \n",
      "Sat3374                 2.17        Marissa Jackson  4.922300e+15  \n",
      "Sat8863                 0.77           Shelby House  5.020970e+11  \n",
      "Sat2929                 0.58           Thomas Brown  4.284720e+15  \n",
      "Sat9777                 1.56         Kimberly Crane  6.761840e+11  \n",
      "Sat2657                 1.97          Michael Avila  5.296070e+15  \n"
     ]
    }
   ],
   "source": [
    "df_new = df[(df['total_bill'] > 30) | (df['tip'] > 5)]\n",
    "print(df_new)"
   ]
  },
  {
   "cell_type": "code",
   "execution_count": 30,
   "id": "3ae57987-863b-419f-9e95-2482f966f974",
   "metadata": {},
   "outputs": [
    {
     "name": "stdout",
     "output_type": "stream",
     "text": [
      "Payment ID\n",
      "Sun4608     True\n",
      "Sun4458     True\n",
      "Sun5260     True\n",
      "Sun2251     True\n",
      "Sun9679     True\n",
      "           ...  \n",
      "Sat2657     True\n",
      "Sat1766     True\n",
      "Sat3880     True\n",
      "Sat17       True\n",
      "Thur672    False\n",
      "Name: day, Length: 243, dtype: bool\n"
     ]
    }
   ],
   "source": [
    "#conditional is in operator\n",
    "options = ['Sat','Sun']\n",
    "print(df['day'].isin(options))"
   ]
  },
  {
   "cell_type": "code",
   "execution_count": 31,
   "id": "8bc1ce22-00ac-413b-af96-2149658067fd",
   "metadata": {},
   "outputs": [
    {
     "name": "stdout",
     "output_type": "stream",
     "text": [
      "            total_bill   tip  gender smoker  day    time  size  \\\n",
      "Payment ID                                                       \n",
      "Sun4608          10.34  1.66    Male     No  Sun  Dinner     3   \n",
      "Sun4458          21.01  3.50    Male     No  Sun  Dinner     3   \n",
      "Sun5260          23.68  3.31    Male     No  Sun  Dinner     2   \n",
      "Sun2251          24.59  3.61  Female     No  Sun  Dinner     4   \n",
      "Sun9679          25.29  4.71    Male     No  Sun  Dinner     4   \n",
      "...                ...   ...     ...    ...  ...     ...   ...   \n",
      "Sat9777          35.83  4.67  Female     No  Sat  Dinner     3   \n",
      "Sat2657          29.03  5.92    Male     No  Sat  Dinner     3   \n",
      "Sat1766          27.18  2.00  Female    Yes  Sat  Dinner     2   \n",
      "Sat3880          22.67  2.00    Male    Yes  Sat  Dinner     2   \n",
      "Sat17            17.82  1.75    Male     No  Sat  Dinner     2   \n",
      "\n",
      "            price_per_person        Payer Name     CC Number  \n",
      "Payment ID                                                    \n",
      "Sun4608                 0.55    Douglas Tucker  4.478070e+15  \n",
      "Sun4458                 1.17    Travis Walters  6.011810e+15  \n",
      "Sun5260                 1.66  Nathaniel Harris  4.676140e+15  \n",
      "Sun2251                 0.90      Tonya Carter  4.832730e+15  \n",
      "Sun9679                 1.18        Erik Smith  2.131400e+14  \n",
      "...                      ...               ...           ...  \n",
      "Sat9777                 1.56    Kimberly Crane  6.761840e+11  \n",
      "Sat2657                 1.97     Michael Avila  5.296070e+15  \n",
      "Sat1766                 1.00    Monica Sanders  3.506810e+15  \n",
      "Sat3880                 1.00        Keith Wong  6.011890e+15  \n",
      "Sat17                   0.88      Dennis Dixon  4.375220e+12  \n",
      "\n",
      "[162 rows x 10 columns]\n"
     ]
    }
   ],
   "source": [
    "print(df[df['day'].isin(['Sat','Sun'])])"
   ]
  },
  {
   "cell_type": "code",
   "execution_count": null,
   "id": "54c218fb-39cd-4f43-9ff7-bfc48c385c90",
   "metadata": {},
   "outputs": [],
   "source": [
    "#sorting\n"
   ]
  }
 ],
 "metadata": {
  "kernelspec": {
   "display_name": "Python 3 (ipykernel)",
   "language": "python",
   "name": "python3"
  },
  "language_info": {
   "codemirror_mode": {
    "name": "ipython",
    "version": 3
   },
   "file_extension": ".py",
   "mimetype": "text/x-python",
   "name": "python",
   "nbconvert_exporter": "python",
   "pygments_lexer": "ipython3",
   "version": "3.12.2"
  }
 },
 "nbformat": 4,
 "nbformat_minor": 5
}
