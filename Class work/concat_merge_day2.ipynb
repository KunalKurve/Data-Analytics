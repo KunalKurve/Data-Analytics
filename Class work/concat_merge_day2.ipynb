{
 "cells": [
  {
   "cell_type": "code",
   "execution_count": 1,
   "id": "35664cd0-b5fe-4c05-8d5e-80acdf69a427",
   "metadata": {},
   "outputs": [],
   "source": [
    "import numpy as np\n",
    "import pandas as pd"
   ]
  },
  {
   "cell_type": "code",
   "execution_count": 3,
   "id": "426d49fa-32da-4cf8-9c54-2621ef9d1948",
   "metadata": {},
   "outputs": [
    {
     "name": "stdout",
     "output_type": "stream",
     "text": [
      "    A   B\n",
      "0  A0  B0\n",
      "1  A1  B1\n",
      "2  A2  B2\n",
      "3  A3  B3\n",
      "    C   D\n",
      "0  C0  D0\n",
      "1  C1  D1\n",
      "2  C2  D2\n",
      "3  C3  D3\n"
     ]
    }
   ],
   "source": [
    "#Combining dataframes\n",
    "\n",
    "data_one={'A':['A0','A1','A2','A3'],'B':['B0','B1','B2','B3']}\n",
    "data_two={'C':['C0','C1','C2','C3'],'D':['D0','D1','D2','D3']}\n",
    "\n",
    "one=pd.DataFrame(data_one)\n",
    "two=pd.DataFrame(data_two)\n",
    "print(one)\n",
    "print(two)"
   ]
  },
  {
   "cell_type": "code",
   "execution_count": 4,
   "id": "77921f44-f6cc-46f2-848f-65b51071e25f",
   "metadata": {},
   "outputs": [
    {
     "name": "stdout",
     "output_type": "stream",
     "text": [
      "     A    B    C    D\n",
      "0   A0   B0  NaN  NaN\n",
      "1   A1   B1  NaN  NaN\n",
      "2   A2   B2  NaN  NaN\n",
      "3   A3   B3  NaN  NaN\n",
      "0  NaN  NaN   C0   D0\n",
      "1  NaN  NaN   C1   D1\n",
      "2  NaN  NaN   C2   D2\n",
      "3  NaN  NaN   C3   D3\n"
     ]
    }
   ],
   "source": [
    "#Concatenate along rows\n",
    "axis0=pd.concat([one,two],axis=0)\n",
    "print(axis0)"
   ]
  },
  {
   "cell_type": "code",
   "execution_count": 5,
   "id": "5c914ff4-cd04-4fff-96a1-d2f7d824525b",
   "metadata": {},
   "outputs": [
    {
     "name": "stdout",
     "output_type": "stream",
     "text": [
      "    A   B   C   D\n",
      "0  A0  B0  C0  D0\n",
      "1  A1  B1  C1  D1\n",
      "2  A2  B2  C2  D2\n",
      "3  A3  B3  C3  D3\n"
     ]
    }
   ],
   "source": [
    "axis1=pd.concat([one,two],axis=1)\n",
    "print(axis1)"
   ]
  },
  {
   "cell_type": "code",
   "execution_count": 6,
   "id": "996107bb-eb01-4ffa-bd8d-133fa69888ba",
   "metadata": {},
   "outputs": [
    {
     "name": "stdout",
     "output_type": "stream",
     "text": [
      "    A   B\n",
      "0  A0  B0\n",
      "1  A1  B1\n",
      "2  A2  B2\n",
      "3  A3  B3\n",
      "0  C0  D0\n",
      "1  C1  D1\n",
      "2  C2  D2\n",
      "3  C3  D3\n"
     ]
    }
   ],
   "source": [
    "# how to bring them one below another?\n",
    "\n",
    "two.columns= one.columns\n",
    "print(pd.concat([one,two]))"
   ]
  },
  {
   "cell_type": "code",
   "execution_count": 11,
   "id": "a88bb472-8372-4420-bc6b-b3876ee0ed57",
   "metadata": {},
   "outputs": [
    {
     "name": "stdout",
     "output_type": "stream",
     "text": [
      "   reg_id   name\n",
      "0       1  Alice\n",
      "1       2    Bob\n",
      "2       3  Carol\n",
      "3       4   Dave\n",
      "   log_id     name\n",
      "0       1   Xavier\n",
      "1       2    Alice\n",
      "2       3  Yolanda\n",
      "3       4      Bob\n"
     ]
    }
   ],
   "source": [
    "#merge \n",
    "registrations = pd.DataFrame({'reg_id':[1,2,3,4],'name':['Alice','Bob','Carol','Dave']})\n",
    "logins = pd.DataFrame({'log_id':[1,2,3,4],'name':['Xavier','Alice','Yolanda','Bob']})\n",
    "\n",
    "print(registrations)\n",
    "print(logins)"
   ]
  },
  {
   "cell_type": "code",
   "execution_count": 12,
   "id": "b51f6b17-036f-4548-9a5e-8a5fa3131f2e",
   "metadata": {},
   "outputs": [
    {
     "name": "stdout",
     "output_type": "stream",
     "text": [
      "   reg_id   name  log_id\n",
      "0       1  Alice       2\n",
      "1       2    Bob       4\n"
     ]
    }
   ],
   "source": [
    "merged_df = pd.merge(registrations,logins,how='inner',on='name')\n",
    "print(merged_df)"
   ]
  },
  {
   "cell_type": "code",
   "execution_count": 13,
   "id": "ab5a9814-2f36-458e-85ea-538f0a0d7eb7",
   "metadata": {},
   "outputs": [
    {
     "name": "stdout",
     "output_type": "stream",
     "text": [
      "   reg_id   name  log_id\n",
      "0       1  Alice       2\n",
      "1       2    Bob       4\n"
     ]
    }
   ],
   "source": [
    "merged_df = pd.merge(registrations,logins,how='inner')\n",
    "print(merged_df)"
   ]
  },
  {
   "cell_type": "code",
   "execution_count": 14,
   "id": "6dbd046a-14ca-4453-92a1-0b89f0c2da55",
   "metadata": {},
   "outputs": [
    {
     "name": "stdout",
     "output_type": "stream",
     "text": [
      "   reg_id   name  log_id\n",
      "0       1  Alice     2.0\n",
      "1       2    Bob     4.0\n",
      "2       3  Carol     NaN\n",
      "3       4   Dave     NaN\n"
     ]
    }
   ],
   "source": [
    "merged_df = pd.merge(registrations,logins,how='left')\n",
    "print(merged_df)"
   ]
  },
  {
   "cell_type": "code",
   "execution_count": 15,
   "id": "a9ec6c8c-f063-4251-8bfe-c501ce596ea2",
   "metadata": {},
   "outputs": [
    {
     "name": "stdout",
     "output_type": "stream",
     "text": [
      "   reg_id     name  log_id\n",
      "0     NaN   Xavier       1\n",
      "1     1.0    Alice       2\n",
      "2     NaN  Yolanda       3\n",
      "3     2.0      Bob       4\n"
     ]
    }
   ],
   "source": [
    "merged_df = pd.merge(registrations,logins,how='right')\n",
    "print(merged_df)"
   ]
  },
  {
   "cell_type": "code",
   "execution_count": 16,
   "id": "853f0176-69a5-4e64-ab62-0acf6b34be25",
   "metadata": {},
   "outputs": [
    {
     "name": "stdout",
     "output_type": "stream",
     "text": [
      "   reg_id     name  log_id\n",
      "0     1.0    Alice     2.0\n",
      "1     2.0      Bob     4.0\n",
      "2     3.0    Carol     NaN\n",
      "3     4.0     Dave     NaN\n",
      "4     NaN   Xavier     1.0\n",
      "5     NaN  Yolanda     3.0\n"
     ]
    }
   ],
   "source": [
    "merged_df = pd.merge(registrations,logins,how='outer')\n",
    "print(merged_df)"
   ]
  },
  {
   "cell_type": "code",
   "execution_count": 18,
   "id": "5fd21ca6-121a-4a7d-b3ed-28509d5597c1",
   "metadata": {},
   "outputs": [
    {
     "name": "stdout",
     "output_type": "stream",
     "text": [
      "   reg_id   name  log_id\n",
      "0       1  Alice       2\n",
      "1       2    Bob       4\n"
     ]
    }
   ],
   "source": [
    "merged_df = pd.merge(registrations,logins)\n",
    "print(merged_df)"
   ]
  },
  {
   "cell_type": "code",
   "execution_count": null,
   "id": "c50351c6-1da0-49f1-b8d5-4c28491dfae7",
   "metadata": {},
   "outputs": [],
   "source": []
  }
 ],
 "metadata": {
  "kernelspec": {
   "display_name": "Python 3 (ipykernel)",
   "language": "python",
   "name": "python3"
  },
  "language_info": {
   "codemirror_mode": {
    "name": "ipython",
    "version": 3
   },
   "file_extension": ".py",
   "mimetype": "text/x-python",
   "name": "python",
   "nbconvert_exporter": "python",
   "pygments_lexer": "ipython3",
   "version": "3.12.2"
  }
 },
 "nbformat": 4,
 "nbformat_minor": 5
}
