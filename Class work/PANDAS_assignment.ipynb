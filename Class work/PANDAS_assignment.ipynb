{
 "cells": [
  {
   "cell_type": "code",
   "execution_count": 1,
   "id": "2f005688-105a-4c9b-becf-2b03f871fb9f",
   "metadata": {},
   "outputs": [],
   "source": [
    "import numpy as np\n",
    "import pandas as pd"
   ]
  },
  {
   "cell_type": "code",
   "execution_count": 2,
   "id": "3beff31d-e84c-4738-8877-825260d838cb",
   "metadata": {},
   "outputs": [
    {
     "name": "stdout",
     "output_type": "stream",
     "text": [
      "0    1\n",
      "1    2\n",
      "2    3\n",
      "3    4\n",
      "4    5\n",
      "dtype: int64\n"
     ]
    }
   ],
   "source": [
    "data=pd.Series([1,2,3,4,5])\n",
    "print(data)"
   ]
  },
  {
   "cell_type": "code",
   "execution_count": 3,
   "id": "ff78035d-af8e-4504-a3f7-52cf2118e3e3",
   "metadata": {},
   "outputs": [
    {
     "name": "stdout",
     "output_type": "stream",
     "text": [
      "List: [1, 2, 3, 4, 5]\n",
      "Type: <class 'list'>\n"
     ]
    }
   ],
   "source": [
    "data_list = data.tolist()\n",
    "\n",
    "# Display the list and its type\n",
    "print(\"List:\", data_list)\n",
    "print(\"Type:\", type(data_list))"
   ]
  },
  {
   "cell_type": "code",
   "execution_count": 4,
   "id": "6f26ce34-0e51-46e5-9d2d-e592a0f7ecdc",
   "metadata": {},
   "outputs": [
    {
     "name": "stdout",
     "output_type": "stream",
     "text": [
      "Addition:\n",
      " 0     3\n",
      "1     7\n",
      "2    11\n",
      "3    15\n",
      "4    19\n",
      "dtype: int64\n",
      "\n",
      "Subtraction:\n",
      " 0    1\n",
      "1    1\n",
      "2    1\n",
      "3    1\n",
      "4    1\n",
      "dtype: int64\n",
      "\n",
      "Multiplication:\n",
      " 0     2\n",
      "1    12\n",
      "2    30\n",
      "3    56\n",
      "4    90\n",
      "dtype: int64\n",
      "\n",
      "Division:\n",
      " 0    2.000000\n",
      "1    1.333333\n",
      "2    1.200000\n",
      "3    1.142857\n",
      "4    1.111111\n",
      "dtype: float64\n"
     ]
    }
   ],
   "source": [
    "# Create two Pandas Series\n",
    "series1 = pd.Series([2, 4, 6, 8, 10])\n",
    "series2 = pd.Series([1, 3, 5, 7, 9])\n",
    "\n",
    "# Perform addition\n",
    "add = series1 + series2\n",
    "print(\"Addition:\\n\", add)\n",
    "\n",
    "# Perform subtraction\n",
    "sub = series1 - series2\n",
    "print(\"\\nSubtraction:\\n\", sub)\n",
    "\n",
    "# Perform multiplication\n",
    "mul = series1 * series2\n",
    "print(\"\\nMultiplication:\\n\", mul)\n",
    "\n",
    "# Perform division\n",
    "div = series1 / series2\n",
    "print(\"\\nDivision:\\n\", div)"
   ]
  },
  {
   "cell_type": "code",
   "execution_count": 5,
   "id": "27200c5f-43e8-46ee-a218-5902c5d52927",
   "metadata": {},
   "outputs": [
    {
     "name": "stdout",
     "output_type": "stream",
     "text": [
      "Equality:\n",
      " 0    False\n",
      "1    False\n",
      "2    False\n",
      "3    False\n",
      "4     True\n",
      "dtype: bool\n",
      "\n",
      "Greater than:\n",
      " 0     True\n",
      "1     True\n",
      "2     True\n",
      "3     True\n",
      "4    False\n",
      "dtype: bool\n",
      "\n",
      "Less than:\n",
      " 0    False\n",
      "1    False\n",
      "2    False\n",
      "3    False\n",
      "4    False\n",
      "dtype: bool\n"
     ]
    }
   ],
   "source": [
    "# Create two Pandas Series\n",
    "series1 = pd.Series([2, 4, 6, 8, 10])\n",
    "series2 = pd.Series([1, 3, 5, 7, 10])\n",
    "\n",
    "# Compare the elements of the two series\n",
    "print(\"Equality:\\n\", series1 == series2)\n",
    "print(\"\\nGreater than:\\n\", series1 > series2)\n",
    "print(\"\\nLess than:\\n\", series1 < series2)"
   ]
  },
  {
   "cell_type": "code",
   "execution_count": 6,
   "id": "699c8749-3381-4d8a-a330-e5c2050186a8",
   "metadata": {},
   "outputs": [
    {
     "name": "stdout",
     "output_type": "stream",
     "text": [
      "a    100\n",
      "b    200\n",
      "c    300\n",
      "d    400\n",
      "e    800\n",
      "dtype: int64\n"
     ]
    }
   ],
   "source": [
    "# Create a dictionary\n",
    "dict = {'a': 100, 'b': 200, 'c': 300, 'd': 400, 'e': 800}\n",
    "\n",
    "# Convert the dictionary to a Pandas Series\n",
    "series = pd.Series(dict)\n",
    "\n",
    "# Display the series\n",
    "print(series)"
   ]
  },
  {
   "cell_type": "code",
   "execution_count": 7,
   "id": "525140db-319b-409c-ba66-f4217c2ba996",
   "metadata": {},
   "outputs": [
    {
     "name": "stdout",
     "output_type": "stream",
     "text": [
      "0    10\n",
      "1    20\n",
      "2    30\n",
      "3    40\n",
      "4    50\n",
      "dtype: int32\n"
     ]
    }
   ],
   "source": [
    "# Create a NumPy array\n",
    "array = np.array([10, 20, 30, 40, 50])\n",
    "\n",
    "# Convert the NumPy array to a Pandas Series\n",
    "series = pd.Series(array)\n",
    "\n",
    "# Display the series\n",
    "print(series)"
   ]
  },
  {
   "cell_type": "code",
   "execution_count": 8,
   "id": "809cec27-dae4-4728-97ff-40d64be47852",
   "metadata": {},
   "outputs": [
    {
     "name": "stdout",
     "output_type": "stream",
     "text": [
      "0    100.00\n",
      "1    200.00\n",
      "2       NaN\n",
      "3    300.12\n",
      "4    400.00\n",
      "dtype: float64\n"
     ]
    }
   ],
   "source": [
    "# Create the original data series\n",
    "original_series = pd.Series(['100', '200', 'python', '300.12', '400'])\n",
    "\n",
    "# Change the data type to numeric\n",
    "numeric_series = pd.to_numeric(original_series, errors='coerce')\n",
    "\n",
    "print(numeric_series)"
   ]
  },
  {
   "cell_type": "code",
   "execution_count": 9,
   "id": "06433a35-f42d-4f3a-899a-a9f867433d9d",
   "metadata": {},
   "outputs": [
    {
     "name": "stdout",
     "output_type": "stream",
     "text": [
      "0     1\n",
      "1     2\n",
      "2     3\n",
      "3     4\n",
      "4     7\n",
      "5    11\n",
      "Name: col1, dtype: int64\n"
     ]
    }
   ],
   "source": [
    "# Create the original dataframe\n",
    "data = {'col1': [1, 2, 3, 4, 7, 11], 'col2': [4, 5, 6, 9, 5, 0], 'col3': [7, 5, 8, 12, 1, 11]}\n",
    "df = pd.DataFrame(data)\n",
    "\n",
    "# Convert the first column as a Series\n",
    "col1_series = df['col1']\n",
    "\n",
    "print(col1_series)"
   ]
  },
  {
   "cell_type": "code",
   "execution_count": 10,
   "id": "458b236b-e4b8-43b8-8b54-9f72f5391691",
   "metadata": {},
   "outputs": [
    {
     "name": "stdout",
     "output_type": "stream",
     "text": [
      "Original Series of list\n",
      "0    [Red, Green, White]\n",
      "1           [Red, Black]\n",
      "2               [Yellow]\n",
      "dtype: object\n",
      "\n",
      "One Series\n",
      "0       Red\n",
      "1     Green\n",
      "2     White\n",
      "3       Red\n",
      "4     Black\n",
      "5    Yellow\n",
      "dtype: object\n"
     ]
    }
   ],
   "source": [
    "# Create a series of lists\n",
    "data = pd.Series([['Red', 'Green', 'White'], ['Red', 'Black'], ['Yellow']])\n",
    "\n",
    "# Convert series of lists to one series\n",
    "result = data.apply(pd.Series).stack().reset_index(drop=True)\n",
    "\n",
    "# Print the result\n",
    "print(\"Original Series of list\")\n",
    "print(data)\n",
    "print(\"\\nOne Series\")\n",
    "print(result)\n"
   ]
  },
  {
   "cell_type": "code",
   "execution_count": 11,
   "id": "26dbc95d-f037-454a-bbd6-1c023947b81e",
   "metadata": {},
   "outputs": [
    {
     "name": "stdout",
     "output_type": "stream",
     "text": [
      "Original Data Series:\n",
      "0    python\n",
      "1      java\n",
      "2       c++\n",
      "3      rust\n",
      "4      dart\n",
      "dtype: object\n",
      "\n",
      "Sorted Series:\n",
      "2       c++\n",
      "4      dart\n",
      "1      java\n",
      "0    python\n",
      "3      rust\n",
      "dtype: object\n"
     ]
    }
   ],
   "source": [
    "# Create a series\n",
    "s = pd.Series(['python', 'java', 'c++', 'rust', 'dart'])\n",
    "\n",
    "# Sort the series\n",
    "sorted_series = s.sort_values()\n",
    "\n",
    "# Print the original and sorted series\n",
    "print(\"Original Data Series:\")\n",
    "print(s)\n",
    "print(\"\\nSorted Series:\")\n",
    "print(sorted_series)"
   ]
  },
  {
   "cell_type": "code",
   "execution_count": 12,
   "id": "93cbf17d-13e6-4807-ac9a-0bc72a1e92c0",
   "metadata": {},
   "outputs": [
    {
     "name": "stdout",
     "output_type": "stream",
     "text": [
      "Original Data Series:\n",
      "0       100\n",
      "1       200\n",
      "2    python\n",
      "3    300.12\n",
      "4       400\n",
      "dtype: object\n",
      "\n",
      "Data Series after adding some data:\n",
      "0       100\n",
      "1       200\n",
      "2    python\n",
      "3    300.12\n",
      "4       400\n",
      "5       500\n",
      "dtype: object\n"
     ]
    }
   ],
   "source": [
    "# Create a sample Series\n",
    "s = pd.Series(['100', '200', 'python', '300.12', '400'])\n",
    "print(\"Original Data Series:\")\n",
    "print(s)\n",
    "\n",
    "# Add a new value to the Series\n",
    "s[5] = '500'\n",
    "print(\"\\nData Series after adding some data:\")\n",
    "print(s)"
   ]
  },
  {
   "cell_type": "code",
   "execution_count": 13,
   "id": "fb8c7c2b-ab47-4c32-9f06-5bf2acb5a55a",
   "metadata": {},
   "outputs": [
    {
     "name": "stdout",
     "output_type": "stream",
     "text": [
      "Original Data Series:\n",
      "0      0\n",
      "1      1\n",
      "2      2\n",
      "3      3\n",
      "4      4\n",
      "5      5\n",
      "6      6\n",
      "7      7\n",
      "8      8\n",
      "9      9\n",
      "10    10\n",
      "dtype: int64\n",
      "\n",
      "Subset of the above Data Series:\n",
      "0    0\n",
      "1    1\n",
      "2    2\n",
      "3    3\n",
      "4    4\n",
      "dtype: int64\n"
     ]
    }
   ],
   "source": [
    "# Create a sample Series\n",
    "s = pd.Series(range(11))\n",
    "print(\"Original Data Series:\")\n",
    "print(s)\n",
    "\n",
    "# Create a subset of the Series based on a value and condition\n",
    "subset = s[s < 5]\n",
    "print(\"\\nSubset of the above Data Series:\")\n",
    "print(subset)"
   ]
  },
  {
   "cell_type": "code",
   "execution_count": 14,
   "id": "edceceab-b42a-4335-a428-ac1a7c8273a9",
   "metadata": {},
   "outputs": [
    {
     "name": "stdout",
     "output_type": "stream",
     "text": [
      "Original Data Series:\n",
      "A    1\n",
      "B    2\n",
      "C    3\n",
      "D    4\n",
      "E    5\n",
      "dtype: int64\n",
      "\n",
      "Data Series after changing the order of index:\n",
      "B    2\n",
      "A    1\n",
      "C    3\n",
      "D    4\n",
      "E    5\n",
      "dtype: int64\n"
     ]
    }
   ],
   "source": [
    "# Create a sample Series with custom index\n",
    "s = pd.Series([1, 2, 3, 4, 5], index=['A', 'B', 'C', 'D', 'E'])\n",
    "print(\"Original Data Series:\")\n",
    "print(s)\n",
    "\n",
    "# Change the order of index of the Series\n",
    "s = s.reindex(['B', 'A', 'C', 'D', 'E'])\n",
    "print(\"\\nData Series after changing the order of index:\")\n",
    "print(s)"
   ]
  },
  {
   "cell_type": "code",
   "execution_count": 15,
   "id": "3ffd13df-a7bc-42c8-969f-bf206d99937b",
   "metadata": {},
   "outputs": [
    {
     "name": "stdout",
     "output_type": "stream",
     "text": [
      "Original Data Series:\n",
      "0     1\n",
      "1     2\n",
      "2     3\n",
      "3     4\n",
      "4     5\n",
      "5     6\n",
      "6     7\n",
      "7     8\n",
      "8     9\n",
      "9    10\n",
      "dtype: int32\n",
      "\n",
      "Mean of the said Data Series: 5.5\n",
      "Standard deviation of the said Data Series: 3.0276503540974917\n"
     ]
    }
   ],
   "source": [
    "# Create a sample Series\n",
    "s = pd.Series(np.arange(1, 11))\n",
    "print(\"Original Data Series:\")\n",
    "print(s)\n",
    "\n",
    "# Calculate the mean and standard deviation of the Series\n",
    "mean = s.mean()\n",
    "std_dev = s.std()\n",
    "\n",
    "print(\"\\nMean of the said Data Series:\", mean)\n",
    "print(\"Standard deviation of the said Data Series:\", std_dev)"
   ]
  },
  {
   "cell_type": "code",
   "execution_count": 16,
   "id": "e97a23ff-619c-4e61-83b3-c7cd08cf5577",
   "metadata": {},
   "outputs": [
    {
     "name": "stdout",
     "output_type": "stream",
     "text": [
      "Original Series:\n",
      "sr1:\n",
      "0    1\n",
      "1    2\n",
      "2    3\n",
      "3    4\n",
      "4    5\n",
      "dtype: int64\n",
      "sr2:\n",
      "0     2\n",
      "1     4\n",
      "2     6\n",
      "3     8\n",
      "4    10\n",
      "dtype: int64\n",
      "\n",
      "Items of sr1 not present in sr2:\n",
      "0    1\n",
      "2    3\n",
      "4    5\n",
      "dtype: int64\n"
     ]
    }
   ],
   "source": [
    "# Create two sample Series\n",
    "sr1 = pd.Series([1, 2, 3, 4, 5])\n",
    "sr2 = pd.Series([2, 4, 6, 8, 10])\n",
    "print(\"Original Series:\")\n",
    "print(\"sr1:\")\n",
    "print(sr1)\n",
    "print(\"sr2:\")\n",
    "print(sr2)\n",
    "\n",
    "# Get the items of sr1 not present in sr2\n",
    "items_not_present = sr1[~sr1.isin(sr2)]\n",
    "print(\"\\nItems of sr1 not present in sr2:\")\n",
    "print(items_not_present)"
   ]
  },
  {
   "cell_type": "code",
   "execution_count": 17,
   "id": "83091cf0-539e-4d7a-adbe-e6e3a5bc6a47",
   "metadata": {},
   "outputs": [
    {
     "name": "stdout",
     "output_type": "stream",
     "text": [
      "sr1:\n",
      "0    1\n",
      "1    2\n",
      "2    3\n",
      "3    4\n",
      "4    5\n",
      "dtype: int64\n",
      "\n",
      "sr2:\n",
      "0     2\n",
      "1     4\n",
      "2     6\n",
      "3     8\n",
      "4    10\n",
      "dtype: int64\n",
      "\n",
      "Items of a given series not present in another given series:\n",
      "0     1\n",
      "2     3\n",
      "4     5\n",
      "2     6\n",
      "3     8\n",
      "4    10\n",
      "dtype: int64\n"
     ]
    }
   ],
   "source": [
    "# Original Series\n",
    "sr1 = pd.Series([1, 2, 3, 4, 5])\n",
    "print(\"sr1:\")\n",
    "print(sr1)\n",
    "\n",
    "sr2 = pd.Series([2, 4, 6, 8, 10])\n",
    "print(\"\\nsr2:\")\n",
    "print(sr2)\n",
    "\n",
    "# Finding items of a given series not present in another given series\n",
    "sr = pd.concat([sr1, sr2]).drop_duplicates(keep=False)\n",
    "print(\"\\nItems of a given series not present in another given series:\")\n",
    "print(sr)"
   ]
  },
  {
   "cell_type": "code",
   "execution_count": 18,
   "id": "15a06819-0572-40a9-be15-8182de354a38",
   "metadata": {},
   "outputs": [
    {
     "name": "stdout",
     "output_type": "stream",
     "text": [
      "Original Series:\n",
      "0     3.000938\n",
      "1    11.370722\n",
      "2    14.612143\n",
      "3    14.118931\n",
      "4     8.247458\n",
      "5     5.526727\n",
      "dtype: float64\n",
      "\n",
      "Minimum, 25th percentile, median, 75th, and maximum of a given series:\n",
      "[ 3.000938    6.20690975  9.80909    13.43187875 14.612143  ]\n"
     ]
    }
   ],
   "source": [
    "# Original Series\n",
    "data = np.array([3.000938, 11.370722, 14.612143, 14.118931, 8.247458, 5.526727])\n",
    "s = pd.Series(data)\n",
    "print(\"Original Series:\")\n",
    "print(s)\n",
    "\n",
    "# Compute the minimum, 25th percentile, median, 75th, and maximum\n",
    "result = np.percentile(s, [0, 25, 50, 75, 100])\n",
    "print(\"\\nMinimum, 25th percentile, median, 75th, and maximum of a given series:\")\n",
    "print(result)"
   ]
  },
  {
   "cell_type": "code",
   "execution_count": 19,
   "id": "6aeb2bd8-364f-4349-ae46-fa6894eb302b",
   "metadata": {},
   "outputs": [
    {
     "name": "stdout",
     "output_type": "stream",
     "text": [
      "Original Series:\n",
      "0    1\n",
      "1    7\n",
      "2    1\n",
      "3    6\n",
      "4    0\n",
      "5    4\n",
      "6    8\n",
      "dtype: int64\n",
      "\n",
      "Frequency of each unique value of the said series:\n",
      "1    2\n",
      "7    1\n",
      "6    1\n",
      "0    1\n",
      "4    1\n",
      "8    1\n",
      "Name: count, dtype: int64\n"
     ]
    }
   ],
   "source": [
    "# Original Series\n",
    "data = [1, 7, 1, 6, 0, 4, 8]\n",
    "s = pd.Series(data)\n",
    "print(\"Original Series:\")\n",
    "print(s)\n",
    "\n",
    "# Calculate the frequency counts of each unique value\n",
    "freq = s.value_counts()\n",
    "print(\"\\nFrequency of each unique value of the said series:\")\n",
    "print(freq)"
   ]
  },
  {
   "cell_type": "code",
   "execution_count": 20,
   "id": "7cd96f4f-106a-4596-9b25-8ae106b41996",
   "metadata": {},
   "outputs": [
    {
     "name": "stdout",
     "output_type": "stream",
     "text": [
      "Original Series:\n",
      "0     3\n",
      "1     1\n",
      "2     1\n",
      "3     3\n",
      "4     3\n",
      "5     2\n",
      "6     3\n",
      "7     3\n",
      "8     1\n",
      "9     1\n",
      "10    1\n",
      "11    3\n",
      "12    3\n",
      "dtype: int64\n",
      "\n",
      "Series with most frequent value replaced by 'Other':\n",
      "0     Other\n",
      "1         3\n",
      "2         3\n",
      "3     Other\n",
      "4     Other\n",
      "5         2\n",
      "6     Other\n",
      "7     Other\n",
      "8         3\n",
      "9         3\n",
      "10        3\n",
      "11    Other\n",
      "12    Other\n",
      "dtype: object\n"
     ]
    }
   ],
   "source": [
    "# Create a sample Series\n",
    "s = pd.Series([3, 1, 1, 3, 3, 2, 3, 3, 1, 1, 1,3, 3])\n",
    "print(\"Original Series:\")\n",
    "print(s)\n",
    "\n",
    "# Find the most frequent value in the Series\n",
    "top_freq = s.value_counts().idxmax()\n",
    "\n",
    "# Replace all other values with 'Other'\n",
    "s = s.replace(top_freq, 'Other').replace(s.value_counts().index[1], top_freq)\n",
    "print(\"\\nSeries with most frequent value replaced by 'Other':\")\n",
    "print(s)"
   ]
  },
  {
   "cell_type": "code",
   "execution_count": 21,
   "id": "03af2c33-1613-4185-a9b3-ed37f7baaba2",
   "metadata": {},
   "outputs": [
    {
     "name": "stdout",
     "output_type": "stream",
     "text": [
      "Original Series:\n",
      "0     3\n",
      "1     1\n",
      "2     1\n",
      "3     3\n",
      "4     2\n",
      "5     2\n",
      "6     2\n",
      "7     1\n",
      "8     1\n",
      "9     2\n",
      "10    2\n",
      "11    2\n",
      "12    2\n",
      "13    3\n",
      "14    3\n",
      "dtype: int64\n",
      "\n",
      "Modified Series:\n",
      "0     Other\n",
      "1     Other\n",
      "2     Other\n",
      "3     Other\n",
      "4         2\n",
      "5         2\n",
      "6         2\n",
      "7     Other\n",
      "8     Other\n",
      "9         2\n",
      "10        2\n",
      "11        2\n",
      "12        2\n",
      "13    Other\n",
      "14    Other\n",
      "dtype: object\n"
     ]
    },
    {
     "name": "stderr",
     "output_type": "stream",
     "text": [
      "C:\\Users\\Administrator.DAI-PC2\\AppData\\Local\\Temp\\ipykernel_20832\\2986770135.py:12: FutureWarning: Setting an item of incompatible dtype is deprecated and will raise an error in a future version of pandas. Value 'Other' has dtype incompatible with int64, please explicitly cast to a compatible dtype first.\n",
      "  s[~s.isin([most_freq])] = 'Other'\n"
     ]
    }
   ],
   "source": [
    "# Create a pandas series\n",
    "s = pd.Series([3,1,1,3,2,2,2,1,1,2,2,2,2,3,3])\n",
    "\n",
    "# Display the original series\n",
    "print(\"Original Series:\")\n",
    "print(s)\n",
    "\n",
    "# Find the most frequent value\n",
    "most_freq = s.value_counts().idxmax()\n",
    "\n",
    "# Replace all other values with 'Other'\n",
    "s[~s.isin([most_freq])] = 'Other'\n",
    "\n",
    "# Display the modified series\n",
    "print(\"\\nModified Series:\")\n",
    "print(s)"
   ]
  },
  {
   "cell_type": "code",
   "execution_count": 22,
   "id": "344e9b65-c85e-4121-9846-df0add0edddc",
   "metadata": {},
   "outputs": [
    {
     "name": "stdout",
     "output_type": "stream",
     "text": [
      "Original Series:\n",
      "0     1\n",
      "1     9\n",
      "2     8\n",
      "3     6\n",
      "4    15\n",
      "5     9\n",
      "6     7\n",
      "7     1\n",
      "8     1\n",
      "9     1\n",
      "dtype: int64\n",
      "\n",
      "Positions of numbers that are multiples of 5:\n",
      "[4]\n"
     ]
    }
   ],
   "source": [
    "# Create a pandas series\n",
    "s = pd.Series([1, 9, 8, 6,15, 9, 7, 1, 1, 1])\n",
    "\n",
    "# Display the original series\n",
    "print(\"Original Series:\")\n",
    "print(s)\n",
    "\n",
    "# Find the positions of numbers that are multiples of 5\n",
    "positions = s[s % 5 == 0].index.tolist()\n",
    "\n",
    "# Display the positions\n",
    "print(\"\\nPositions of numbers that are multiples of 5:\")\n",
    "print(positions)"
   ]
  },
  {
   "cell_type": "code",
   "execution_count": 23,
   "id": "a6e15420-154c-4fe2-8996-072718f1ff16",
   "metadata": {},
   "outputs": [
    {
     "name": "stdout",
     "output_type": "stream",
     "text": [
      "Original Series:\n",
      "0     2\n",
      "1     3\n",
      "2     9\n",
      "3     0\n",
      "4     2\n",
      "5     3\n",
      "6     8\n",
      "7     1\n",
      "8     1\n",
      "9     1\n",
      "10    0\n",
      "11    0\n",
      "12    2\n",
      "13    3\n",
      "dtype: int64\n",
      "\n",
      "Extracted items at given positions of the series:\n",
      "0     2\n",
      "2     9\n",
      "6     8\n",
      "11    0\n",
      "dtype: int64\n"
     ]
    }
   ],
   "source": [
    "import pandas as pd\n",
    "\n",
    "# Create a pandas series\n",
    "s = pd.Series([2, 3, 9, 0, 2, 3, 8, 1, 1, 1, 0, 0, 2, 3])\n",
    "\n",
    "# Display the original series\n",
    "print(\"Original Series:\")\n",
    "print(s)\n",
    "\n",
    "# Specify the positions you want to extract\n",
    "positions = [0, 2, 6, 11, 21]\n",
    "\n",
    "# Extract items at given positions\n",
    "extracted_items = s[s.index.isin(positions)]\n",
    "\n",
    "# Display the extracted items\n",
    "print(\"\\nExtracted items at given positions of the series:\")\n",
    "print(extracted_items)"
   ]
  },
  {
   "cell_type": "code",
   "execution_count": 24,
   "id": "c7b8f7e2-333a-4670-a3c2-ef082996888c",
   "metadata": {},
   "outputs": [
    {
     "name": "stdout",
     "output_type": "stream",
     "text": [
      "Original Series:\n",
      "Series1:\n",
      "0     1\n",
      "1     2\n",
      "2     3\n",
      "3     4\n",
      "4     5\n",
      "5     6\n",
      "6     7\n",
      "7     8\n",
      "8     9\n",
      "9    10\n",
      "dtype: int64\n",
      "Series2:\n",
      "0     1\n",
      "1     3\n",
      "2     5\n",
      "3     7\n",
      "4    10\n",
      "dtype: int64\n",
      "\n",
      "Positions of items of series2 in series1:\n",
      "[0, 2, 4, 6, 9]\n"
     ]
    }
   ],
   "source": [
    "# Create two pandas series\n",
    "s1 = pd.Series([1, 2, 3, 4, 5, 6, 7, 8, 9, 10])\n",
    "s2 = pd.Series([1, 3, 5, 7, 10])\n",
    "\n",
    "# Display the original series\n",
    "print(\"Original Series:\")\n",
    "print(\"Series1:\")\n",
    "print(s1)\n",
    "print(\"Series2:\")\n",
    "print(s2)\n",
    "\n",
    "# Get the positions of items of s2 in s1\n",
    "positions = s1[s1.isin(s2)].index.tolist()\n",
    "\n",
    "# Display the positions\n",
    "print(\"\\nPositions of items of series2 in series1:\")\n",
    "print(positions)"
   ]
  },
  {
   "cell_type": "code",
   "execution_count": 25,
   "id": "7ef72550-0da7-484e-a1ac-e54c88cc4b68",
   "metadata": {},
   "outputs": [
    {
     "name": "stdout",
     "output_type": "stream",
     "text": [
      "Original Series:\n",
      "0       php\n",
      "1    python\n",
      "2      java\n",
      "3        c#\n",
      "dtype: object\n",
      "\n",
      "First and last character of each word to upper case:\n",
      "0       PhP\n",
      "1    PythoN\n",
      "2      JavA\n",
      "3        C#\n",
      "dtype: object\n"
     ]
    }
   ],
   "source": [
    "# Define the original series\n",
    "s = pd.Series(['php', 'python', 'java', 'c#'])\n",
    "\n",
    "# Function to convert first and last character of each word to upper case\n",
    "def convert_first_last_char_upper(word):\n",
    "    return word[0].upper() + word[1:-1] + word[-1].upper()\n",
    "\n",
    "# Apply the function to the series\n",
    "result = s.apply(convert_first_last_char_upper)\n",
    "\n",
    "print(\"Original Series:\")\n",
    "print(s)\n",
    "print(\"\\nFirst and last character of each word to upper case:\")\n",
    "print(result)"
   ]
  },
  {
   "cell_type": "code",
   "execution_count": 26,
   "id": "d96b8a25-7299-4ba6-b16a-e979bb49ddbf",
   "metadata": {},
   "outputs": [
    {
     "name": "stdout",
     "output_type": "stream",
     "text": [
      "Original Series:\n",
      "0       Php\n",
      "1    Python\n",
      "2      Java\n",
      "3        C#\n",
      "dtype: object\n",
      "\n",
      "Number of characters in each word in the said series:\n",
      "0    3\n",
      "1    6\n",
      "2    4\n",
      "3    2\n",
      "dtype: int64\n"
     ]
    }
   ],
   "source": [
    "# Define the original series\n",
    "s = pd.Series(['Php', 'Python', 'Java', 'C#'])\n",
    "\n",
    "# Function to calculate the number of characters in each word\n",
    "def count_chars(word):\n",
    "    return len(word)\n",
    "\n",
    "# Apply the function to the series\n",
    "result = s.apply(count_chars)\n",
    "\n",
    "print(\"Original Series:\")\n",
    "print(s)\n",
    "print(\"\\nNumber of characters in each word in the said series:\")\n",
    "print(result)\n"
   ]
  },
  {
   "cell_type": "code",
   "execution_count": 27,
   "id": "130791b2-e5f2-4542-9051-3515f8b57573",
   "metadata": {},
   "outputs": [
    {
     "name": "stdout",
     "output_type": "stream",
     "text": [
      "Original Series:\n",
      "0     1\n",
      "1     3\n",
      "2     5\n",
      "3     8\n",
      "4    10\n",
      "5    11\n",
      "6    15\n",
      "dtype: int64\n",
      "\n",
      "Difference of differences between consecutive numbers of the said series:\n",
      "[nan, 2.0, 2.0, 3.0, 2.0, 1.0, 4.0]\n",
      "[nan, nan, 0.0, 1.0, -1.0, -1.0, 3.0]\n"
     ]
    }
   ],
   "source": [
    "# Define the original series\n",
    "s = pd.Series([1, 3, 5, 8, 10, 11, 15])\n",
    "\n",
    "# Compute the difference between consecutive numbers\n",
    "diff = s.diff()\n",
    "\n",
    "# Compute the difference of differences\n",
    "diff_of_diff = diff.diff()\n",
    "\n",
    "print(\"Original Series:\")\n",
    "print(s)\n",
    "print(\"\\nDifference of differences between consecutive numbers of the said series:\")\n",
    "print(diff.tolist())\n",
    "print(diff_of_diff.tolist())"
   ]
  },
  {
   "cell_type": "code",
   "execution_count": 43,
   "id": "ff64a410-8653-4dbd-8691-5af15f545e21",
   "metadata": {},
   "outputs": [
    {
     "name": "stdout",
     "output_type": "stream",
     "text": [
      "Original Series:\n",
      "0         01 Jan 2015\n",
      "1          10-02-2016\n",
      "2            20180307\n",
      "3          2014/05/06\n",
      "4          2016-04-12\n",
      "5    2019-04-06T11:20\n",
      "dtype: object\n",
      "\n",
      "Series of date strings to a timeseries:\n",
      "0   2015-01-01 00:00:00\n",
      "1   2016-10-02 00:00:00\n",
      "2   2018-03-07 00:00:00\n",
      "3   2014-05-06 00:00:00\n",
      "4   2016-04-12 00:00:00\n",
      "5   2019-04-06 11:20:00\n",
      "dtype: datetime64[ns]\n"
     ]
    }
   ],
   "source": [
    "import pandas as pd\n",
    "ds = pd.Series(['01 Jan 2015', '10-02-2016', '20180307', '2014/05/06', '2016-04-12', '2019-04-06T11:20'])\n",
    "print(\"Original Series:\")\n",
    "print(ds)\n",
    "print(\"\\nSeries of date strings to a timeseries:\")\n",
    "print(pd.to_datetime(ds,format='mixed'))\n"
   ]
  },
  {
   "cell_type": "code",
   "execution_count": 29,
   "id": "64ba825c-3d03-4e27-9798-65ebba617b7c",
   "metadata": {},
   "outputs": [
    {
     "name": "stdout",
     "output_type": "stream",
     "text": [
      "Original Series:\n",
      "0         01 Jan 2015\n",
      "1          10-02-2016\n",
      "2            20180307\n",
      "3          2014/05/06\n",
      "4          2016-04-12\n",
      "5    2019-04-06T11:20\n",
      "dtype: object\n",
      "Day of month:\n",
      "[1, 2, 7, 6, 12, 6]\n",
      "Day of year:\n",
      "[1, 276, 66, 126, 103, 96]\n",
      "Day of week:\n",
      "[3, 6, 2, 1, 1, 5]\n"
     ]
    }
   ],
   "source": [
    "import pandas as pd\n",
    "from dateutil.parser import parse\n",
    "date_series = pd.Series(['01 Jan 2015', '10-02-2016', '20180307', '2014/05/06', '2016-04-12', '2019-04-06T11:20'])\n",
    "print(\"Original Series:\")\n",
    "print(date_series)\n",
    "date_series = date_series.map(lambda x: parse(x))\n",
    "print(\"Day of month:\")\n",
    "print(date_series.dt.day.tolist())\n",
    "print(\"Day of year:\")\n",
    "print(date_series.dt.dayofyear.tolist())\n",
    "#print(\"Week number:\")\n",
    "#ts = pd.Timestamp(2,8,2015)#, 10-02-2016, 20180307, 2014/05/06, 2016-04-12, 2019-04-06T11:20)\n",
    "#print(date_series.ts.week.tolist())\n",
    "print(\"Day of week:\")\n",
    "print(date_series.dt.weekday.tolist())"
   ]
  },
  {
   "cell_type": "code",
   "execution_count": 30,
   "id": "ae3e3b38-3fff-4d3d-827b-9b8fe74a7da7",
   "metadata": {},
   "outputs": [
    {
     "name": "stdout",
     "output_type": "stream",
     "text": [
      "Original Series:\n",
      "0    Jan 2015\n",
      "1    Feb 2016\n",
      "2    Mar 2017\n",
      "3    Apr 2018\n",
      "4    May 2019\n",
      "dtype: object\n",
      "\n",
      "New dates:\n",
      "0   2015-01-11\n",
      "1   2016-02-11\n",
      "2   2017-03-11\n",
      "3   2018-04-11\n",
      "4   2019-05-11\n",
      "dtype: datetime64[ns]\n"
     ]
    },
    {
     "name": "stderr",
     "output_type": "stream",
     "text": [
      "C:\\Users\\Administrator.DAI-PC2\\AppData\\Local\\Temp\\ipykernel_20832\\2143912416.py:8: UserWarning: Could not infer format, so each element will be parsed individually, falling back to `dateutil`. To ensure parsing is consistent and as-expected, please specify a format.\n",
      "  s = pd.to_datetime(s).dt.strftime('%Y-%m-') + '11'\n"
     ]
    }
   ],
   "source": [
    "import pandas as pd\n",
    "\n",
    "# Create a series of year-month strings\n",
    "s = pd.Series(['Jan 2015', 'Feb 2016', 'Mar 2017', 'Apr 2018', 'May 2019'])\n",
    "print(\"Original Series:\")\n",
    "print(s)\n",
    "# Convert the series of year-month strings to dates, adding the 11th day of the month\n",
    "s = pd.to_datetime(s).dt.strftime('%Y-%m-') + '11'\n",
    "# Convert the series back to datetime\n",
    "s = pd.to_datetime(s)\n",
    "print(\"\\nNew dates:\")\n",
    "print(s)"
   ]
  },
  {
   "cell_type": "code",
   "execution_count": 31,
   "id": "1d78aa34-9452-453e-ae89-6015aa3667d2",
   "metadata": {},
   "outputs": [
    {
     "name": "stdout",
     "output_type": "stream",
     "text": [
      "Original Series:\n",
      "0       Red\n",
      "1     Green\n",
      "2    Orange\n",
      "3      Pink\n",
      "4    Yellow\n",
      "5     White\n",
      "dtype: object\n",
      "\\nFiltered words:\n",
      "1     Green\n",
      "2    Orange\n",
      "4    Yellow\n",
      "5     White\n",
      "dtype: object\n"
     ]
    }
   ],
   "source": [
    "# Create a series of words\n",
    "s = pd.Series(['Red', 'Green', 'Orange', 'Pink', 'Yellow', 'White'])\n",
    "\n",
    "# Define a function to count vowels in a word\n",
    "def count_vowels(word):\n",
    "    return sum(1 for char in word if char.lower() in 'aeiou')\n",
    "\n",
    "# Filter words that contain at least two vowels\n",
    "filtered = s[s.apply(count_vowels) >= 2]\n",
    "\n",
    "# Print the original series and the filtered words\n",
    "print(\"Original Series:\")\n",
    "print(s)\n",
    "print(\"\\\\nFiltered words:\")\n",
    "print(filtered)"
   ]
  },
  {
   "cell_type": "code",
   "execution_count": 32,
   "id": "c14026b3-5481-4c0f-8e54-776964aa7652",
   "metadata": {},
   "outputs": [
    {
     "name": "stdout",
     "output_type": "stream",
     "text": [
      "Original series:\n",
      "0     1\n",
      "1     2\n",
      "2     3\n",
      "3     4\n",
      "4     5\n",
      "5     6\n",
      "6     7\n",
      "7     8\n",
      "8     9\n",
      "9    10\n",
      "dtype: int64\n",
      "\n",
      "\n",
      "0    11\n",
      "1     8\n",
      "2     7\n",
      "3     5\n",
      "4     6\n",
      "5     5\n",
      "6     3\n",
      "7     4\n",
      "8     7\n",
      "9     1\n",
      "dtype: int64\n",
      "\n",
      "Euclidean distance between two said series:\n",
      "16.492422502470642\n"
     ]
    }
   ],
   "source": [
    "import pandas as pd\n",
    "import numpy as np\n",
    "\n",
    "# Create two series\n",
    "s1 = pd.Series([1, 2, 3, 4, 5, 6, 7, 8, 9, 10])\n",
    "s2 = pd.Series([11, 8, 7, 5, 6, 5, 3, 4, 7, 1])\n",
    "\n",
    "# Calculate the Euclidean distance between the two series\n",
    "euclidean_distance = np.linalg.norm(s1 - s2)\n",
    "\n",
    "# Print the original series and the Euclidean distance\n",
    "print(\"Original series:\")\n",
    "print(s1)\n",
    "print(\"\\n\")\n",
    "print(s2)\n",
    "print(\"\\nEuclidean distance between two said series:\")\n",
    "print(euclidean_distance)"
   ]
  },
  {
   "cell_type": "code",
   "execution_count": 33,
   "id": "898deb18-aa8d-4d59-bdd4-d66387202004",
   "metadata": {},
   "outputs": [
    {
     "name": "stdout",
     "output_type": "stream",
     "text": [
      "Original series:\n",
      "0    1\n",
      "1    8\n",
      "2    7\n",
      "3    5\n",
      "4    6\n",
      "5    5\n",
      "6    3\n",
      "7    4\n",
      "8    7\n",
      "9    1\n",
      "dtype: int64\n",
      "\n",
      "Positions of the values neighboured by smaller values on both sides:\n",
      "Index([1, 4, 8], dtype='int64')\n"
     ]
    }
   ],
   "source": [
    "# Create a series\n",
    "s = pd.Series([1, 8, 7, 5, 6, 5, 3, 4, 7, 1])\n",
    "\n",
    "# Find the positions where the value is greater than its neighbours\n",
    "positions = s[(s > s.shift()) & (s > s.shift(-1))].index\n",
    "\n",
    "# Print the original series and the positions\n",
    "print(\"Original series:\")\n",
    "print(s)\n",
    "print(\"\\nPositions of the values neighboured by smaller values on both sides:\")\n",
    "print(positions)"
   ]
  },
  {
   "cell_type": "code",
   "execution_count": 34,
   "id": "3886138c-cb9a-4284-93b2-b3f54956e31b",
   "metadata": {},
   "outputs": [
    {
     "name": "stdout",
     "output_type": "stream",
     "text": [
      "Original string:\n",
      "abc def abcdef icd\n",
      "\n",
      "Modified string:\n",
      "abcicddeficdabcdeficdicd\n"
     ]
    }
   ],
   "source": [
    "# Define the original string\n",
    "s = pd.Series(['abc def abcdef icd'])\n",
    "\n",
    "# Count the frequency of each character\n",
    "freq = s.str.split(expand=True).stack().value_counts()\n",
    "\n",
    "# Find the least frequent character\n",
    "least_freq = freq.dropna().index[-1]\n",
    "\n",
    "# Replace white spaces with the least frequent character\n",
    "result = s.str.replace(' ', least_freq)\n",
    "\n",
    "# Print the original and modified strings\n",
    "print(\"Original string:\")\n",
    "print(s[0])\n",
    "print(\"\\nModified string:\")\n",
    "print(result[0])"
   ]
  },
  {
   "cell_type": "code",
   "execution_count": 35,
   "id": "cccaecaa-1111-491a-b81b-c1d5f45f4b40",
   "metadata": {},
   "outputs": [
    {
     "name": "stdout",
     "output_type": "stream",
     "text": [
      "Original series:\n",
      "0    13.207262\n",
      "1     4.098685\n",
      "2    -1.435534\n",
      "3    13.626760\n",
      "4    -2.346193\n",
      "5    17.873884\n",
      "dtype: float64\n",
      "\n",
      "Autocorrelations of the said series:\n",
      "[1.0, -0.78, 0.35, -0.06, -1.0]\n"
     ]
    }
   ],
   "source": [
    "import pandas as pd\n",
    "\n",
    "# Define the original series\n",
    "s = pd.Series([13.207262, 4.098685, -1.435534, 13.626760, -2.346193, 17.873884])\n",
    "\n",
    "# Compute the autocorrelations of the series\n",
    "autocorrelations = [s.autocorr(i).round(2) for i in range(len(s)-1)]\n",
    "\n",
    "# Print the original series\n",
    "print(\"Original series:\")\n",
    "print(s)\n",
    "\n",
    "# Print the autocorrelations\n",
    "print(\"\\nAutocorrelations of the said series:\")\n",
    "print(autocorrelations)\n",
    "\n"
   ]
  },
  {
   "cell_type": "code",
   "execution_count": 36,
   "id": "00580b34-89b7-4ec3-a387-41405cc31343",
   "metadata": {},
   "outputs": [
    {
     "name": "stdout",
     "output_type": "stream",
     "text": [
      "All Sundays of 2019:\n",
      "0    2019-01-06\n",
      "1    2019-01-13\n",
      "2    2019-01-20\n",
      "3    2019-01-27\n",
      "4    2019-02-03\n",
      "5    2019-02-10\n",
      "6    2019-02-17\n",
      "7    2019-02-24\n",
      "8    2019-03-03\n",
      "9    2019-03-10\n",
      "10   2019-03-17\n",
      "11   2019-03-24\n",
      "12   2019-03-31\n",
      "13   2019-04-07\n",
      "14   2019-04-14\n",
      "15   2019-04-21\n",
      "16   2019-04-28\n",
      "17   2019-05-05\n",
      "18   2019-05-12\n",
      "19   2019-05-19\n",
      "20   2019-05-26\n",
      "21   2019-06-02\n",
      "22   2019-06-09\n",
      "23   2019-06-16\n",
      "24   2019-06-23\n",
      "25   2019-06-30\n",
      "26   2019-07-07\n",
      "27   2019-07-14\n",
      "28   2019-07-21\n",
      "29   2019-07-28\n",
      "30   2019-08-04\n",
      "31   2019-08-11\n",
      "32   2019-08-18\n",
      "33   2019-08-25\n",
      "34   2019-09-01\n",
      "35   2019-09-08\n",
      "36   2019-09-15\n",
      "37   2019-09-22\n",
      "38   2019-09-29\n",
      "39   2019-10-06\n",
      "40   2019-10-13\n",
      "41   2019-10-20\n",
      "42   2019-10-27\n",
      "43   2019-11-03\n",
      "44   2019-11-10\n",
      "45   2019-11-17\n",
      "46   2019-11-24\n",
      "47   2019-12-01\n",
      "48   2019-12-08\n",
      "49   2019-12-15\n",
      "50   2019-12-22\n",
      "51   2019-12-29\n",
      "dtype: datetime64[ns]\n"
     ]
    }
   ],
   "source": [
    "import pandas as pd\n",
    "from datetime import datetime, timedelta\n",
    "\n",
    "# Create a datetime object for the first day of the given year\n",
    "year = 2019\n",
    "first_day = datetime(year, 1, 1)\n",
    "\n",
    "# Find the first Sunday of the year\n",
    "while first_day.weekday() != 6:\n",
    "    first_day += timedelta(days=1)\n",
    "\n",
    "# Create a list of all Sundays in the year\n",
    "sundays = []\n",
    "while first_day.year == year:\n",
    "    sundays.append(first_day)\n",
    "    first_day += timedelta(days=7)\n",
    "\n",
    "# Create a Pandas TimeSeries from the list of Sundays\n",
    "ts = pd.Series(sundays)\n",
    "\n",
    "# Print the TimeSeries\n",
    "print(\"All Sundays of {}:\".format(year))\n",
    "print(ts)"
   ]
  },
  {
   "cell_type": "code",
   "execution_count": 37,
   "id": "63bc7179-a803-4ade-a16b-1e5408dc986e",
   "metadata": {},
   "outputs": [
    {
     "name": "stdout",
     "output_type": "stream",
     "text": [
      "    index      value\n",
      "0       0 2019-01-06\n",
      "1       1 2019-01-13\n",
      "2       2 2019-01-20\n",
      "3       3 2019-01-27\n",
      "4       4 2019-02-03\n",
      "5       5 2019-02-10\n",
      "6       6 2019-02-17\n",
      "7       7 2019-02-24\n",
      "8       8 2019-03-03\n",
      "9       9 2019-03-10\n",
      "10     10 2019-03-17\n",
      "11     11 2019-03-24\n",
      "12     12 2019-03-31\n",
      "13     13 2019-04-07\n",
      "14     14 2019-04-14\n",
      "15     15 2019-04-21\n",
      "16     16 2019-04-28\n",
      "17     17 2019-05-05\n",
      "18     18 2019-05-12\n",
      "19     19 2019-05-19\n",
      "20     20 2019-05-26\n",
      "21     21 2019-06-02\n",
      "22     22 2019-06-09\n",
      "23     23 2019-06-16\n",
      "24     24 2019-06-23\n",
      "25     25 2019-06-30\n",
      "26     26 2019-07-07\n",
      "27     27 2019-07-14\n",
      "28     28 2019-07-21\n",
      "29     29 2019-07-28\n",
      "30     30 2019-08-04\n",
      "31     31 2019-08-11\n",
      "32     32 2019-08-18\n",
      "33     33 2019-08-25\n",
      "34     34 2019-09-01\n",
      "35     35 2019-09-08\n",
      "36     36 2019-09-15\n",
      "37     37 2019-09-22\n",
      "38     38 2019-09-29\n",
      "39     39 2019-10-06\n",
      "40     40 2019-10-13\n",
      "41     41 2019-10-20\n",
      "42     42 2019-10-27\n",
      "43     43 2019-11-03\n",
      "44     44 2019-11-10\n",
      "45     45 2019-11-17\n",
      "46     46 2019-11-24\n",
      "47     47 2019-12-01\n",
      "48     48 2019-12-08\n",
      "49     49 2019-12-15\n",
      "50     50 2019-12-22\n",
      "51     51 2019-12-29\n"
     ]
    }
   ],
   "source": [
    "df = pd.DataFrame(ts.index, columns=['index'])\n",
    "df['value'] = ts.values\n",
    "print(df)"
   ]
  },
  {
   "cell_type": "code",
   "execution_count": 38,
   "id": "cd58cbb0-0475-4871-aa73-7c38fd6e6284",
   "metadata": {},
   "outputs": [
    {
     "name": "stdout",
     "output_type": "stream",
     "text": [
      "Original Series:\n",
      "0    0\n",
      "1    1\n",
      "2    2\n",
      "3    3\n",
      "4    4\n",
      "5    5\n",
      "6    6\n",
      "7    7\n",
      "8    8\n",
      "9    9\n",
      "dtype: int64\n",
      "0    p\n",
      "1    q\n",
      "2    r\n",
      "3    s\n",
      "4    t\n",
      "5    u\n",
      "6    v\n",
      "7    w\n",
      "8    x\n",
      "9    y\n",
      "dtype: object\n",
      "\n",
      "Stack two given series vertically and horizontally:\n",
      "0    0\n",
      "1    1\n",
      "2    2\n",
      "3    3\n",
      "4    4\n",
      "5    5\n",
      "6    6\n",
      "7    7\n",
      "8    8\n",
      "9    9\n",
      "0    p\n",
      "1    q\n",
      "2    r\n",
      "3    s\n",
      "4    t\n",
      "5    u\n",
      "6    v\n",
      "7    w\n",
      "8    x\n",
      "9    y\n",
      "dtype: object\n",
      "   0  1\n",
      "0  0  p\n",
      "1  1  q\n",
      "2  2  r\n",
      "3  3  s\n",
      "4  4  t\n",
      "5  5  u\n",
      "6  6  v\n",
      "7  7  w\n",
      "8  8  x\n",
      "9  9  y\n"
     ]
    }
   ],
   "source": [
    "# Create two series\n",
    "series1 = pd.Series([0, 1, 2, 3, 4, 5, 6, 7, 8, 9])\n",
    "series2 = pd.Series(['p', 'q', 'r', 's', 't', 'u', 'v', 'w', 'x', 'y'])\n",
    "\n",
    "# Stack the series vertically\n",
    "vertical_stack = pd.concat([series1, series2], axis=0)\n",
    "\n",
    "# Stack the series horizontally\n",
    "horizontal_stack = pd.concat([series1, series2], axis=1)\n",
    "\n",
    "# Print the results\n",
    "print(\"Original Series:\")\n",
    "print(series1)\n",
    "print(series2)\n",
    "print(\"\\nStack two given series vertically and horizontally:\")\n",
    "print(vertical_stack)\n",
    "print(horizontal_stack)"
   ]
  },
  {
   "cell_type": "code",
   "execution_count": 39,
   "id": "442f77e1-bd44-4113-b462-43a929a968e4",
   "metadata": {},
   "outputs": [
    {
     "name": "stdout",
     "output_type": "stream",
     "text": [
      "Check 2 series are equal or not?\n",
      "0     True\n",
      "1    False\n",
      "2     True\n",
      "3     True\n",
      "4     True\n",
      "5     True\n",
      "6     True\n",
      "7     True\n",
      "dtype: bool\n"
     ]
    }
   ],
   "source": [
    "import pandas as pd\n",
    "\n",
    "# Create two series\n",
    "series1 = pd.Series([1, 8, 7, 5, 9, 4, 7, 1])\n",
    "series2 = pd.Series([1, 6, 7, 5, 9, 4, 7, 1])\n",
    "\n",
    "# Check if the two series are equal\n",
    "print(\"Check 2 series are equal or not?\")\n",
    "print(series1 == series2)"
   ]
  },
  {
   "cell_type": "code",
   "execution_count": 40,
   "id": "11b011ad-2a60-4d7d-96dc-ead6d89c6fab",
   "metadata": {},
   "outputs": [
    {
     "name": "stdout",
     "output_type": "stream",
     "text": [
      "Original Series:\n",
      "0    1\n",
      "1    3\n",
      "2    7\n",
      "3    5\n",
      "4    9\n",
      "5    4\n",
      "6    7\n",
      "7    1\n",
      "8    0\n",
      "9    9\n",
      "dtype: int64\n",
      "\n",
      "Index of the first occurrence of the smallest and largest value of the said series:\n",
      "8\n",
      "4\n"
     ]
    }
   ],
   "source": [
    "import pandas as pd\n",
    "\n",
    "# Create a series\n",
    "series = pd.Series([1, 3, 7, 5, 9, 4, 7, 1, 0, 9])\n",
    "\n",
    "# Find the index of the first occurrence of the smallest value\n",
    "smallest_value_index = series.idxmin()\n",
    "\n",
    "# Find the index of the first occurrence of the largest value\n",
    "largest_value_index = series.idxmax()\n",
    "\n",
    "# Print the results\n",
    "print(\"Original Series:\")\n",
    "print(series)\n",
    "print(\"\\nIndex of the first occurrence of the smallest and largest value of the said series:\")\n",
    "print(smallest_value_index)\n",
    "print(largest_value_index)\n"
   ]
  },
  {
   "cell_type": "code",
   "execution_count": 41,
   "id": "6f195d31-e152-45be-ab59-52e730d6e196",
   "metadata": {},
   "outputs": [
    {
     "name": "stdout",
     "output_type": "stream",
     "text": [
      "Original DataFrame:\n",
      "      W     X   Y   Z\n",
      "0  68.0  78.0  84  86\n",
      "1  75.0  75.0  94  97\n",
      "2  86.0   NaN  89  96\n",
      "3  80.0  80.0  86  72\n",
      "4   NaN  86.0  86  83\n",
      "\n",
      "Original Series:\n",
      "0    68.0\n",
      "1    75.0\n",
      "2    86.0\n",
      "3    80.0\n",
      "4     NaN\n",
      "dtype: float64\n",
      "\n",
      "Check for inequality of the said series & dataframe:\n",
      "       W      X     Y     Z\n",
      "0  False   True  True  True\n",
      "1  False  False  True  True\n",
      "2  False   True  True  True\n",
      "3  False  False  True  True\n",
      "4   True   True  True  True\n"
     ]
    }
   ],
   "source": [
    "import pandas as pd\n",
    "import numpy as np\n",
    "\n",
    "# Create the DataFrame\n",
    "df = pd.DataFrame({\n",
    "    'W': [68.0, 75.0, 86.0, 80.0, np.nan],\n",
    "    'X': [78.0, 75.0, np.nan, 80.0, 86.0],\n",
    "    'Y': [84, 94, 89, 86, 86],\n",
    "    'Z': [86, 97, 96, 72, 83]\n",
    "})\n",
    "\n",
    "# Create the Series\n",
    "s = pd.Series([68.0, 75.0, 86.0, 80.0, np.nan])\n",
    "\n",
    "# Check for inequality\n",
    "inequality_check = df.ne(s, axis=0)\n",
    "\n",
    "# Print the original DataFrame\n",
    "print(\"Original DataFrame:\")\n",
    "print(df)\n",
    "\n",
    "# Print the original Series\n",
    "print(\"\\nOriginal Series:\")\n",
    "print(s)\n",
    "\n",
    "# Print the result of the inequality check\n",
    "print(\"\\nCheck for inequality of the said series & dataframe:\")\n",
    "print(inequality_check)\n"
   ]
  }
 ],
 "metadata": {
  "kernelspec": {
   "display_name": "Python 3 (ipykernel)",
   "language": "python",
   "name": "python3"
  },
  "language_info": {
   "codemirror_mode": {
    "name": "ipython",
    "version": 3
   },
   "file_extension": ".py",
   "mimetype": "text/x-python",
   "name": "python",
   "nbconvert_exporter": "python",
   "pygments_lexer": "ipython3",
   "version": "3.12.2"
  }
 },
 "nbformat": 4,
 "nbformat_minor": 5
}
