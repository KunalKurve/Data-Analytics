{
 "cells": [
  {
   "cell_type": "markdown",
   "id": "1e32ed59",
   "metadata": {
    "_cell_guid": "b1076dfc-b9ad-4769-8c92-a6c4dae69d19",
    "_uuid": "8f2839f25d086af736a60e9eeb907d3b93b6e0e5",
    "papermill": {
     "duration": 0.012715,
     "end_time": "2024-04-20T10:21:39.333981",
     "exception": false,
     "start_time": "2024-04-20T10:21:39.321266",
     "status": "completed"
    },
    "tags": []
   },
   "source": [
    "## <div class=\"alert alert-block alert-info\"><font color='#202EF9'>Table of contents<font><a class='anchor' id='top'></a></div>\n",
    "- [1. Introduction](#1)\n",
    "- [2. Import data and libraries](#2)\n",
    "- [3. Initial Data Inspection](#3)\n",
    "- [4. Data Cleaning and Preprocessing](#4)\n",
    "    - [4.1. Initial Exploratory Data Analysis (EDA)](#4_1)\n",
    "    - [4.2. Handling Missing Values](#4_2)\n",
    "        - [4.2.1. Encode Categorical Data](#4_2_1)\n",
    "        - [4.2.2. KNN Imputation](#4_2_2)\n",
    "    - [4.3. Dealing with Outliers](#4_3)\n",
    "- [5. Hyperparameter Optimization and Evaluation](#5)\n",
    "- [6. Model Building](#6)"
   ]
  },
  {
   "cell_type": "markdown",
   "id": "de1896ab",
   "metadata": {
    "papermill": {
     "duration": 0.011342,
     "end_time": "2024-04-20T10:21:39.357830",
     "exception": false,
     "start_time": "2024-04-20T10:21:39.346488",
     "status": "completed"
    },
    "tags": []
   },
   "source": [
    "## **<div class=\"alert alert-block alert-info\"> 1. Introduction <a class=\"anchor\"  id=\"1\"></a></div>**\n",
    "\n",
    "* **Overview**\n",
    "\n",
    "[Titanic Overview](https://www.kaggle.com/competitions/titanic/overview)\n",
    "\n",
    "* **Dataset:** \n",
    "\n",
    "[Titanic Dataset](https://www.kaggle.com/competitions/titanic/data)\n",
    "\n",
    "* **The Challenge**\n",
    "\n",
    "The sinking of the Titanic is one of the most infamous shipwrecks in history.\n",
    "\n",
    "On April 15, 1912, during her maiden voyage, the widely considered “unsinkable” RMS Titanic sank after colliding with an iceberg. Unfortunately, there weren’t enough lifeboats for everyone onboard, resulting in the death of 1502 out of 2224 passengers and crew.\n",
    "\n",
    "While there was some element of luck involved in surviving, it seems some groups of people were more likely to survive than others.\n",
    "\n",
    "In this challenge, we ask you to build a predictive model that answers the question: “what sorts of people were more likely to survive?” using passenger data (ie name, age, gender, socio-economic class, etc).\n",
    "\n",
    "\n",
    "* **What Data Will I Use in This Competition?**\n",
    "\n",
    "In this competition, you’ll gain access to two similar datasets that include passenger information like name, age, gender, socio-economic class, etc. One dataset is titled <code>train.csv</code> and the other is titled <code>test.csv</code>.\n",
    "\n",
    "<code>Train.csv</code> will contain the details of a subset of the passengers on board (891 to be exact) and importantly, will reveal whether they survived or not, also known as the “ground truth”.\n",
    "\n",
    "The <code>test.csv</code> dataset contains similar information but does not disclose the “ground truth” for each passenger. It’s your job to predict these outcomes.\n",
    "\n",
    "Using the patterns you find in the <code>train.csv</code> data, predict whether the other 418 passengers on board (found in <code>test.csv</code>) survived."
   ]
  },
  {
   "cell_type": "markdown",
   "id": "ccffda93",
   "metadata": {
    "papermill": {
     "duration": 0.012371,
     "end_time": "2024-04-20T10:21:39.381823",
     "exception": false,
     "start_time": "2024-04-20T10:21:39.369452",
     "status": "completed"
    },
    "tags": []
   },
   "source": [
    "## **<div class=\"alert alert-block alert-info\"> 2. Import Data and Libraries <a class=\"anchor\"  id=\"2\"></a> </div>**"
   ]
  },
  {
   "cell_type": "code",
   "execution_count": 1,
   "id": "c09cb584",
   "metadata": {
    "execution": {
     "iopub.execute_input": "2024-04-20T10:21:39.407311Z",
     "iopub.status.busy": "2024-04-20T10:21:39.406868Z",
     "iopub.status.idle": "2024-04-20T10:21:42.748406Z",
     "shell.execute_reply": "2024-04-20T10:21:42.747202Z"
    },
    "papermill": {
     "duration": 3.357351,
     "end_time": "2024-04-20T10:21:42.750922",
     "exception": false,
     "start_time": "2024-04-20T10:21:39.393571",
     "status": "completed"
    },
    "tags": []
   },
   "outputs": [
    {
     "name": "stdout",
     "output_type": "stream",
     "text": [
      "/kaggle/input/titanic/train.csv\n",
      "/kaggle/input/titanic/test.csv\n",
      "/kaggle/input/titanic/gender_submission.csv\n"
     ]
    }
   ],
   "source": [
    "# This Python 3 environment comes with many helpful analytics libraries installed\n",
    "# It is defined by the kaggle/python Docker image: https://github.com/kaggle/docker-python\n",
    "# For example, here's several helpful packages to load\n",
    "\n",
    "import numpy as np # linear algebra\n",
    "from numpy import std, percentile, mean\n",
    "import pandas as pd # data processing, CSV file I/O (e.g. pd.read_csv)\n",
    "\n",
    "import seaborn as sns\n",
    "import matplotlib.pyplot as plt\n",
    "import plotly.express as px\n",
    "\n",
    "from sklearn.preprocessing import MinMaxScaler\n",
    "from sklearn.preprocessing import OneHotEncoder, OrdinalEncoder\n",
    "from sklearn.ensemble import RandomForestClassifier\n",
    "from sklearn.impute import KNNImputer\n",
    "from sklearn.model_selection import train_test_split, GridSearchCV, cross_val_score, cross_val_score, KFold\n",
    "from sklearn.metrics import accuracy_score, confusion_matrix, recall_score, precision_score, f1_score\n",
    "\n",
    "import pickle\n",
    "\n",
    "import warnings\n",
    "warnings.filterwarnings(\"ignore\")\n",
    "\n",
    "# Input data files are available in the read-only \"../input/\" directory\n",
    "# For example, running this (by clicking run or pressing Shift+Enter) will list all files under the input directory\n",
    "\n",
    "import os\n",
    "for dirname, _, filenames in os.walk('/kaggle/input'):\n",
    "    for filename in filenames:\n",
    "        print(os.path.join(dirname, filename))\n",
    "\n",
    "# You can write up to 20GB to the current directory (/kaggle/working/) that gets preserved as output when you create a version using \"Save & Run All\" \n",
    "# You can also write temporary files to /kaggle/temp/, but they won't be saved outside of the current session"
   ]
  },
  {
   "cell_type": "code",
   "execution_count": 2,
   "id": "c4642b08",
   "metadata": {
    "execution": {
     "iopub.execute_input": "2024-04-20T10:21:42.778104Z",
     "iopub.status.busy": "2024-04-20T10:21:42.775995Z",
     "iopub.status.idle": "2024-04-20T10:21:42.805627Z",
     "shell.execute_reply": "2024-04-20T10:21:42.804505Z"
    },
    "papermill": {
     "duration": 0.04486,
     "end_time": "2024-04-20T10:21:42.807827",
     "exception": false,
     "start_time": "2024-04-20T10:21:42.762967",
     "status": "completed"
    },
    "tags": []
   },
   "outputs": [
    {
     "name": "stdout",
     "output_type": "stream",
     "text": [
      "<class 'pandas.core.frame.DataFrame'>\n",
      "<class 'pandas.core.frame.DataFrame'>\n"
     ]
    }
   ],
   "source": [
    "# Load Train Dataset\n",
    "df_train = pd.read_csv(\"/kaggle/input/titanic/train.csv\")\n",
    "print(type(df_train))\n",
    "\n",
    "# Load Test Dataset\n",
    "df_test = pd.read_csv(\"/kaggle/input/titanic/test.csv\")\n",
    "print(type(df_test))"
   ]
  },
  {
   "cell_type": "markdown",
   "id": "55a94ea8",
   "metadata": {
    "papermill": {
     "duration": 0.011525,
     "end_time": "2024-04-20T10:21:42.831652",
     "exception": false,
     "start_time": "2024-04-20T10:21:42.820127",
     "status": "completed"
    },
    "tags": []
   },
   "source": [
    "## **<div class=\"alert alert-block alert-info\">3. Initial Data Inspection <a class=\"anchor\"  id=\"3\"></a></div>**\n",
    "Basic commands to view the dataset structure, size, and a few samples."
   ]
  },
  {
   "cell_type": "code",
   "execution_count": 3,
   "id": "4ab5ffd7",
   "metadata": {
    "execution": {
     "iopub.execute_input": "2024-04-20T10:21:42.858196Z",
     "iopub.status.busy": "2024-04-20T10:21:42.856743Z",
     "iopub.status.idle": "2024-04-20T10:21:42.880972Z",
     "shell.execute_reply": "2024-04-20T10:21:42.879848Z"
    },
    "papermill": {
     "duration": 0.039775,
     "end_time": "2024-04-20T10:21:42.883327",
     "exception": false,
     "start_time": "2024-04-20T10:21:42.843552",
     "status": "completed"
    },
    "tags": []
   },
   "outputs": [
    {
     "data": {
      "text/html": [
       "<div>\n",
       "<style scoped>\n",
       "    .dataframe tbody tr th:only-of-type {\n",
       "        vertical-align: middle;\n",
       "    }\n",
       "\n",
       "    .dataframe tbody tr th {\n",
       "        vertical-align: top;\n",
       "    }\n",
       "\n",
       "    .dataframe thead th {\n",
       "        text-align: right;\n",
       "    }\n",
       "</style>\n",
       "<table border=\"1\" class=\"dataframe\">\n",
       "  <thead>\n",
       "    <tr style=\"text-align: right;\">\n",
       "      <th></th>\n",
       "      <th>PassengerId</th>\n",
       "      <th>Survived</th>\n",
       "      <th>Pclass</th>\n",
       "      <th>Name</th>\n",
       "      <th>Sex</th>\n",
       "      <th>Age</th>\n",
       "      <th>SibSp</th>\n",
       "      <th>Parch</th>\n",
       "      <th>Ticket</th>\n",
       "      <th>Fare</th>\n",
       "      <th>Cabin</th>\n",
       "      <th>Embarked</th>\n",
       "    </tr>\n",
       "  </thead>\n",
       "  <tbody>\n",
       "    <tr>\n",
       "      <th>0</th>\n",
       "      <td>1</td>\n",
       "      <td>0</td>\n",
       "      <td>3</td>\n",
       "      <td>Braund, Mr. Owen Harris</td>\n",
       "      <td>male</td>\n",
       "      <td>22.0</td>\n",
       "      <td>1</td>\n",
       "      <td>0</td>\n",
       "      <td>A/5 21171</td>\n",
       "      <td>7.2500</td>\n",
       "      <td>NaN</td>\n",
       "      <td>S</td>\n",
       "    </tr>\n",
       "    <tr>\n",
       "      <th>1</th>\n",
       "      <td>2</td>\n",
       "      <td>1</td>\n",
       "      <td>1</td>\n",
       "      <td>Cumings, Mrs. John Bradley (Florence Briggs Th...</td>\n",
       "      <td>female</td>\n",
       "      <td>38.0</td>\n",
       "      <td>1</td>\n",
       "      <td>0</td>\n",
       "      <td>PC 17599</td>\n",
       "      <td>71.2833</td>\n",
       "      <td>C85</td>\n",
       "      <td>C</td>\n",
       "    </tr>\n",
       "    <tr>\n",
       "      <th>2</th>\n",
       "      <td>3</td>\n",
       "      <td>1</td>\n",
       "      <td>3</td>\n",
       "      <td>Heikkinen, Miss. Laina</td>\n",
       "      <td>female</td>\n",
       "      <td>26.0</td>\n",
       "      <td>0</td>\n",
       "      <td>0</td>\n",
       "      <td>STON/O2. 3101282</td>\n",
       "      <td>7.9250</td>\n",
       "      <td>NaN</td>\n",
       "      <td>S</td>\n",
       "    </tr>\n",
       "    <tr>\n",
       "      <th>3</th>\n",
       "      <td>4</td>\n",
       "      <td>1</td>\n",
       "      <td>1</td>\n",
       "      <td>Futrelle, Mrs. Jacques Heath (Lily May Peel)</td>\n",
       "      <td>female</td>\n",
       "      <td>35.0</td>\n",
       "      <td>1</td>\n",
       "      <td>0</td>\n",
       "      <td>113803</td>\n",
       "      <td>53.1000</td>\n",
       "      <td>C123</td>\n",
       "      <td>S</td>\n",
       "    </tr>\n",
       "    <tr>\n",
       "      <th>4</th>\n",
       "      <td>5</td>\n",
       "      <td>0</td>\n",
       "      <td>3</td>\n",
       "      <td>Allen, Mr. William Henry</td>\n",
       "      <td>male</td>\n",
       "      <td>35.0</td>\n",
       "      <td>0</td>\n",
       "      <td>0</td>\n",
       "      <td>373450</td>\n",
       "      <td>8.0500</td>\n",
       "      <td>NaN</td>\n",
       "      <td>S</td>\n",
       "    </tr>\n",
       "  </tbody>\n",
       "</table>\n",
       "</div>"
      ],
      "text/plain": [
       "   PassengerId  Survived  Pclass  \\\n",
       "0            1         0       3   \n",
       "1            2         1       1   \n",
       "2            3         1       3   \n",
       "3            4         1       1   \n",
       "4            5         0       3   \n",
       "\n",
       "                                                Name     Sex   Age  SibSp  \\\n",
       "0                            Braund, Mr. Owen Harris    male  22.0      1   \n",
       "1  Cumings, Mrs. John Bradley (Florence Briggs Th...  female  38.0      1   \n",
       "2                             Heikkinen, Miss. Laina  female  26.0      0   \n",
       "3       Futrelle, Mrs. Jacques Heath (Lily May Peel)  female  35.0      1   \n",
       "4                           Allen, Mr. William Henry    male  35.0      0   \n",
       "\n",
       "   Parch            Ticket     Fare Cabin Embarked  \n",
       "0      0         A/5 21171   7.2500   NaN        S  \n",
       "1      0          PC 17599  71.2833   C85        C  \n",
       "2      0  STON/O2. 3101282   7.9250   NaN        S  \n",
       "3      0            113803  53.1000  C123        S  \n",
       "4      0            373450   8.0500   NaN        S  "
      ]
     },
     "execution_count": 3,
     "metadata": {},
     "output_type": "execute_result"
    }
   ],
   "source": [
    "# Display the first 5 rows of data\n",
    "\n",
    "df_train.head()"
   ]
  },
  {
   "cell_type": "code",
   "execution_count": 4,
   "id": "1b0255b9",
   "metadata": {
    "execution": {
     "iopub.execute_input": "2024-04-20T10:21:42.909273Z",
     "iopub.status.busy": "2024-04-20T10:21:42.908864Z",
     "iopub.status.idle": "2024-04-20T10:21:42.914655Z",
     "shell.execute_reply": "2024-04-20T10:21:42.913819Z"
    },
    "papermill": {
     "duration": 0.021301,
     "end_time": "2024-04-20T10:21:42.916712",
     "exception": false,
     "start_time": "2024-04-20T10:21:42.895411",
     "status": "completed"
    },
    "tags": []
   },
   "outputs": [
    {
     "name": "stdout",
     "output_type": "stream",
     "text": [
      "This train dataset contains 891 rows and 12 columns\n",
      "\n",
      "This train dataset contains 418 rows and 11 columns\n"
     ]
    }
   ],
   "source": [
    "# Display the Size of data\n",
    "\n",
    "df_train_sh = df_train.shape\n",
    "print(f'This train dataset contains {df_train_sh[0]} rows and {df_train_sh[1]} columns\\n')\n",
    "\n",
    "df_test_sh = df_test.shape\n",
    "print(f'This train dataset contains {df_test_sh[0]} rows and {df_test_sh[1]} columns')"
   ]
  },
  {
   "cell_type": "markdown",
   "id": "db738698",
   "metadata": {
    "papermill": {
     "duration": 0.012206,
     "end_time": "2024-04-20T10:21:42.941185",
     "exception": false,
     "start_time": "2024-04-20T10:21:42.928979",
     "status": "completed"
    },
    "tags": []
   },
   "source": [
    "**The test_data has one column less than the train_data because the target column (<code>Survived</code>) is not present in it.**"
   ]
  },
  {
   "cell_type": "code",
   "execution_count": 5,
   "id": "2a7d6b02",
   "metadata": {
    "execution": {
     "iopub.execute_input": "2024-04-20T10:21:42.967110Z",
     "iopub.status.busy": "2024-04-20T10:21:42.966672Z",
     "iopub.status.idle": "2024-04-20T10:21:42.991696Z",
     "shell.execute_reply": "2024-04-20T10:21:42.990836Z"
    },
    "papermill": {
     "duration": 0.040809,
     "end_time": "2024-04-20T10:21:42.994177",
     "exception": false,
     "start_time": "2024-04-20T10:21:42.953368",
     "status": "completed"
    },
    "tags": []
   },
   "outputs": [
    {
     "name": "stdout",
     "output_type": "stream",
     "text": [
      "<class 'pandas.core.frame.DataFrame'>\n",
      "RangeIndex: 891 entries, 0 to 890\n",
      "Data columns (total 12 columns):\n",
      " #   Column       Non-Null Count  Dtype  \n",
      "---  ------       --------------  -----  \n",
      " 0   PassengerId  891 non-null    int64  \n",
      " 1   Survived     891 non-null    int64  \n",
      " 2   Pclass       891 non-null    int64  \n",
      " 3   Name         891 non-null    object \n",
      " 4   Sex          891 non-null    object \n",
      " 5   Age          714 non-null    float64\n",
      " 6   SibSp        891 non-null    int64  \n",
      " 7   Parch        891 non-null    int64  \n",
      " 8   Ticket       891 non-null    object \n",
      " 9   Fare         891 non-null    float64\n",
      " 10  Cabin        204 non-null    object \n",
      " 11  Embarked     889 non-null    object \n",
      "dtypes: float64(2), int64(5), object(5)\n",
      "memory usage: 83.7+ KB\n",
      "None\n"
     ]
    }
   ],
   "source": [
    "# Check the data type of each column\n",
    "\n",
    "print(df_train.info())"
   ]
  },
  {
   "cell_type": "markdown",
   "id": "7a8caddf",
   "metadata": {
    "papermill": {
     "duration": 0.012408,
     "end_time": "2024-04-20T10:21:43.018987",
     "exception": false,
     "start_time": "2024-04-20T10:21:43.006579",
     "status": "completed"
    },
    "tags": []
   },
   "source": [
    "## **<div class=\"alert alert-block alert-info\">4. Data Cleaning and Preprocessing <a class=\"anchor\"  id=\"4\"></a></div>**\n",
    "\n",
    "- [4.1. Initial Exploratory Data Analysis (EDA)](#4_1)\n",
    "- [4.2. Handling Missing Values](#4_2)\n",
    "    - [4.2.1. Data Imputation](#4_2_1)\n",
    "- [4.3. Dealing with Outliers](#4_3)"
   ]
  },
  {
   "cell_type": "markdown",
   "id": "88f062f5",
   "metadata": {
    "papermill": {
     "duration": 0.011986,
     "end_time": "2024-04-20T10:21:43.043373",
     "exception": false,
     "start_time": "2024-04-20T10:21:43.031387",
     "status": "completed"
    },
    "tags": []
   },
   "source": [
    "## **<div class=\"alert alert-block alert-info\">4.1. Initial Exploratory Data Analysis (EDA) <a class=\"anchor\"  id=\"4_1\"></a></div>**"
   ]
  },
  {
   "cell_type": "code",
   "execution_count": 6,
   "id": "a7be62d7",
   "metadata": {
    "execution": {
     "iopub.execute_input": "2024-04-20T10:21:43.070268Z",
     "iopub.status.busy": "2024-04-20T10:21:43.069818Z",
     "iopub.status.idle": "2024-04-20T10:21:43.081370Z",
     "shell.execute_reply": "2024-04-20T10:21:43.079957Z"
    },
    "papermill": {
     "duration": 0.027343,
     "end_time": "2024-04-20T10:21:43.083509",
     "exception": false,
     "start_time": "2024-04-20T10:21:43.056166",
     "status": "completed"
    },
    "tags": []
   },
   "outputs": [
    {
     "name": "stdout",
     "output_type": "stream",
     "text": [
      "<class 'pandas.core.frame.DataFrame'>\n",
      "RangeIndex: 891 entries, 0 to 890\n",
      "Data columns (total 12 columns):\n",
      " #   Column       Non-Null Count  Dtype  \n",
      "---  ------       --------------  -----  \n",
      " 0   PassengerId  891 non-null    int64  \n",
      " 1   Survived     891 non-null    int64  \n",
      " 2   Pclass       891 non-null    int64  \n",
      " 3   Name         891 non-null    object \n",
      " 4   Sex          891 non-null    object \n",
      " 5   Age          714 non-null    float64\n",
      " 6   SibSp        891 non-null    int64  \n",
      " 7   Parch        891 non-null    int64  \n",
      " 8   Ticket       891 non-null    object \n",
      " 9   Fare         891 non-null    float64\n",
      " 10  Cabin        204 non-null    object \n",
      " 11  Embarked     889 non-null    object \n",
      "dtypes: float64(2), int64(5), object(5)\n",
      "memory usage: 83.7+ KB\n"
     ]
    }
   ],
   "source": [
    "df_train.info()"
   ]
  },
  {
   "cell_type": "code",
   "execution_count": 7,
   "id": "3f477267",
   "metadata": {
    "execution": {
     "iopub.execute_input": "2024-04-20T10:21:43.110473Z",
     "iopub.status.busy": "2024-04-20T10:21:43.109999Z",
     "iopub.status.idle": "2024-04-20T10:21:43.142187Z",
     "shell.execute_reply": "2024-04-20T10:21:43.141088Z"
    },
    "papermill": {
     "duration": 0.048626,
     "end_time": "2024-04-20T10:21:43.144719",
     "exception": false,
     "start_time": "2024-04-20T10:21:43.096093",
     "status": "completed"
    },
    "tags": []
   },
   "outputs": [
    {
     "data": {
      "text/html": [
       "<div>\n",
       "<style scoped>\n",
       "    .dataframe tbody tr th:only-of-type {\n",
       "        vertical-align: middle;\n",
       "    }\n",
       "\n",
       "    .dataframe tbody tr th {\n",
       "        vertical-align: top;\n",
       "    }\n",
       "\n",
       "    .dataframe thead th {\n",
       "        text-align: right;\n",
       "    }\n",
       "</style>\n",
       "<table border=\"1\" class=\"dataframe\">\n",
       "  <thead>\n",
       "    <tr style=\"text-align: right;\">\n",
       "      <th></th>\n",
       "      <th>count</th>\n",
       "      <th>mean</th>\n",
       "      <th>std</th>\n",
       "      <th>min</th>\n",
       "      <th>25%</th>\n",
       "      <th>50%</th>\n",
       "      <th>75%</th>\n",
       "      <th>max</th>\n",
       "    </tr>\n",
       "  </thead>\n",
       "  <tbody>\n",
       "    <tr>\n",
       "      <th>PassengerId</th>\n",
       "      <td>891.0</td>\n",
       "      <td>446.00</td>\n",
       "      <td>257.35</td>\n",
       "      <td>1.00</td>\n",
       "      <td>223.50</td>\n",
       "      <td>446.00</td>\n",
       "      <td>668.5</td>\n",
       "      <td>891.00</td>\n",
       "    </tr>\n",
       "    <tr>\n",
       "      <th>Survived</th>\n",
       "      <td>891.0</td>\n",
       "      <td>0.38</td>\n",
       "      <td>0.49</td>\n",
       "      <td>0.00</td>\n",
       "      <td>0.00</td>\n",
       "      <td>0.00</td>\n",
       "      <td>1.0</td>\n",
       "      <td>1.00</td>\n",
       "    </tr>\n",
       "    <tr>\n",
       "      <th>Pclass</th>\n",
       "      <td>891.0</td>\n",
       "      <td>2.31</td>\n",
       "      <td>0.84</td>\n",
       "      <td>1.00</td>\n",
       "      <td>2.00</td>\n",
       "      <td>3.00</td>\n",
       "      <td>3.0</td>\n",
       "      <td>3.00</td>\n",
       "    </tr>\n",
       "    <tr>\n",
       "      <th>Age</th>\n",
       "      <td>714.0</td>\n",
       "      <td>29.70</td>\n",
       "      <td>14.53</td>\n",
       "      <td>0.42</td>\n",
       "      <td>20.12</td>\n",
       "      <td>28.00</td>\n",
       "      <td>38.0</td>\n",
       "      <td>80.00</td>\n",
       "    </tr>\n",
       "    <tr>\n",
       "      <th>SibSp</th>\n",
       "      <td>891.0</td>\n",
       "      <td>0.52</td>\n",
       "      <td>1.10</td>\n",
       "      <td>0.00</td>\n",
       "      <td>0.00</td>\n",
       "      <td>0.00</td>\n",
       "      <td>1.0</td>\n",
       "      <td>8.00</td>\n",
       "    </tr>\n",
       "    <tr>\n",
       "      <th>Parch</th>\n",
       "      <td>891.0</td>\n",
       "      <td>0.38</td>\n",
       "      <td>0.81</td>\n",
       "      <td>0.00</td>\n",
       "      <td>0.00</td>\n",
       "      <td>0.00</td>\n",
       "      <td>0.0</td>\n",
       "      <td>6.00</td>\n",
       "    </tr>\n",
       "    <tr>\n",
       "      <th>Fare</th>\n",
       "      <td>891.0</td>\n",
       "      <td>32.20</td>\n",
       "      <td>49.69</td>\n",
       "      <td>0.00</td>\n",
       "      <td>7.91</td>\n",
       "      <td>14.45</td>\n",
       "      <td>31.0</td>\n",
       "      <td>512.33</td>\n",
       "    </tr>\n",
       "  </tbody>\n",
       "</table>\n",
       "</div>"
      ],
      "text/plain": [
       "             count    mean     std   min     25%     50%    75%     max\n",
       "PassengerId  891.0  446.00  257.35  1.00  223.50  446.00  668.5  891.00\n",
       "Survived     891.0    0.38    0.49  0.00    0.00    0.00    1.0    1.00\n",
       "Pclass       891.0    2.31    0.84  1.00    2.00    3.00    3.0    3.00\n",
       "Age          714.0   29.70   14.53  0.42   20.12   28.00   38.0   80.00\n",
       "SibSp        891.0    0.52    1.10  0.00    0.00    0.00    1.0    8.00\n",
       "Parch        891.0    0.38    0.81  0.00    0.00    0.00    0.0    6.00\n",
       "Fare         891.0   32.20   49.69  0.00    7.91   14.45   31.0  512.33"
      ]
     },
     "execution_count": 7,
     "metadata": {},
     "output_type": "execute_result"
    }
   ],
   "source": [
    "df_train.describe().round(2).T"
   ]
  },
  {
   "cell_type": "code",
   "execution_count": 8,
   "id": "f803efb1",
   "metadata": {
    "execution": {
     "iopub.execute_input": "2024-04-20T10:21:43.172417Z",
     "iopub.status.busy": "2024-04-20T10:21:43.171992Z",
     "iopub.status.idle": "2024-04-20T10:21:43.188998Z",
     "shell.execute_reply": "2024-04-20T10:21:43.188157Z"
    },
    "papermill": {
     "duration": 0.033445,
     "end_time": "2024-04-20T10:21:43.191198",
     "exception": false,
     "start_time": "2024-04-20T10:21:43.157753",
     "status": "completed"
    },
    "tags": []
   },
   "outputs": [
    {
     "data": {
      "text/html": [
       "<div>\n",
       "<style scoped>\n",
       "    .dataframe tbody tr th:only-of-type {\n",
       "        vertical-align: middle;\n",
       "    }\n",
       "\n",
       "    .dataframe tbody tr th {\n",
       "        vertical-align: top;\n",
       "    }\n",
       "\n",
       "    .dataframe thead th {\n",
       "        text-align: right;\n",
       "    }\n",
       "</style>\n",
       "<table border=\"1\" class=\"dataframe\">\n",
       "  <thead>\n",
       "    <tr style=\"text-align: right;\">\n",
       "      <th></th>\n",
       "      <th>Pclass</th>\n",
       "      <th>Age</th>\n",
       "      <th>SibSp</th>\n",
       "      <th>Parch</th>\n",
       "      <th>Fare</th>\n",
       "      <th>Survived</th>\n",
       "    </tr>\n",
       "  </thead>\n",
       "  <tbody>\n",
       "    <tr>\n",
       "      <th>Pclass</th>\n",
       "      <td>1.000000</td>\n",
       "      <td>-0.369226</td>\n",
       "      <td>0.083081</td>\n",
       "      <td>0.018443</td>\n",
       "      <td>-0.549500</td>\n",
       "      <td>-0.338481</td>\n",
       "    </tr>\n",
       "    <tr>\n",
       "      <th>Age</th>\n",
       "      <td>-0.369226</td>\n",
       "      <td>1.000000</td>\n",
       "      <td>-0.308247</td>\n",
       "      <td>-0.189119</td>\n",
       "      <td>0.096067</td>\n",
       "      <td>-0.077221</td>\n",
       "    </tr>\n",
       "    <tr>\n",
       "      <th>SibSp</th>\n",
       "      <td>0.083081</td>\n",
       "      <td>-0.308247</td>\n",
       "      <td>1.000000</td>\n",
       "      <td>0.414838</td>\n",
       "      <td>0.159651</td>\n",
       "      <td>-0.035322</td>\n",
       "    </tr>\n",
       "    <tr>\n",
       "      <th>Parch</th>\n",
       "      <td>0.018443</td>\n",
       "      <td>-0.189119</td>\n",
       "      <td>0.414838</td>\n",
       "      <td>1.000000</td>\n",
       "      <td>0.216225</td>\n",
       "      <td>0.081629</td>\n",
       "    </tr>\n",
       "    <tr>\n",
       "      <th>Fare</th>\n",
       "      <td>-0.549500</td>\n",
       "      <td>0.096067</td>\n",
       "      <td>0.159651</td>\n",
       "      <td>0.216225</td>\n",
       "      <td>1.000000</td>\n",
       "      <td>0.257307</td>\n",
       "    </tr>\n",
       "    <tr>\n",
       "      <th>Survived</th>\n",
       "      <td>-0.338481</td>\n",
       "      <td>-0.077221</td>\n",
       "      <td>-0.035322</td>\n",
       "      <td>0.081629</td>\n",
       "      <td>0.257307</td>\n",
       "      <td>1.000000</td>\n",
       "    </tr>\n",
       "  </tbody>\n",
       "</table>\n",
       "</div>"
      ],
      "text/plain": [
       "            Pclass       Age     SibSp     Parch      Fare  Survived\n",
       "Pclass    1.000000 -0.369226  0.083081  0.018443 -0.549500 -0.338481\n",
       "Age      -0.369226  1.000000 -0.308247 -0.189119  0.096067 -0.077221\n",
       "SibSp     0.083081 -0.308247  1.000000  0.414838  0.159651 -0.035322\n",
       "Parch     0.018443 -0.189119  0.414838  1.000000  0.216225  0.081629\n",
       "Fare     -0.549500  0.096067  0.159651  0.216225  1.000000  0.257307\n",
       "Survived -0.338481 -0.077221 -0.035322  0.081629  0.257307  1.000000"
      ]
     },
     "execution_count": 8,
     "metadata": {},
     "output_type": "execute_result"
    }
   ],
   "source": [
    "df_train[['Pclass', 'Age', 'SibSp', 'Parch', 'Fare', 'Survived']].corr()"
   ]
  },
  {
   "cell_type": "code",
   "execution_count": 9,
   "id": "f048f274",
   "metadata": {
    "execution": {
     "iopub.execute_input": "2024-04-20T10:21:43.220267Z",
     "iopub.status.busy": "2024-04-20T10:21:43.219540Z",
     "iopub.status.idle": "2024-04-20T10:21:43.547425Z",
     "shell.execute_reply": "2024-04-20T10:21:43.546112Z"
    },
    "papermill": {
     "duration": 0.345269,
     "end_time": "2024-04-20T10:21:43.549757",
     "exception": false,
     "start_time": "2024-04-20T10:21:43.204488",
     "status": "completed"
    },
    "tags": []
   },
   "outputs": [
    {
     "data": {
      "text/plain": [
       "<Axes: >"
      ]
     },
     "execution_count": 9,
     "metadata": {},
     "output_type": "execute_result"
    },
    {
     "data": {
      "image/png": "[encoded data removed]",
      "text/plain": [
       "<Figure size 640x480 with 2 Axes>"
      ]
     },
     "metadata": {},
     "output_type": "display_data"
    }
   ],
   "source": [
    "sns.heatmap(df_train[['Pclass', 'Age', 'SibSp', 'Parch', 'Fare', 'Survived']].corr(),\n",
    "            cmap=sns.cubehelix_palette(as_cmap=True))"
   ]
  },
  {
   "cell_type": "code",
   "execution_count": 10,
   "id": "e5d61b89",
   "metadata": {
    "execution": {
     "iopub.execute_input": "2024-04-20T10:21:43.579183Z",
     "iopub.status.busy": "2024-04-20T10:21:43.578774Z",
     "iopub.status.idle": "2024-04-20T10:21:44.701352Z",
     "shell.execute_reply": "2024-04-20T10:21:44.700479Z"
    },
    "papermill": {
     "duration": 1.140911,
     "end_time": "2024-04-20T10:21:44.704530",
     "exception": false,
     "start_time": "2024-04-20T10:21:43.563619",
     "status": "completed"
    },
    "tags": []
   },
   "outputs": [
    {
     "data": {
      "image/png": "[encoded data removed]",
      "text/plain": [
       "<Figure size 1500x500 with 4 Axes>"
      ]
     },
     "metadata": {},
     "output_type": "display_data"
    }
   ],
   "source": [
    "# Resize\n",
    "fig, axs = plt.subplots(nrows=1, ncols=4, figsize=(15, 5))\n",
    "\n",
    "sns.violinplot(data=df_train, x='Pclass', y='Age', hue='Survived', inner='quart', ax=axs[0])\n",
    "sns.violinplot(data=df_train, x='Pclass', y='Fare', hue='Survived', inner='quart', ax=axs[1])\n",
    "sns.violinplot(data=df_train, x='Pclass', y='SibSp', hue='Survived', inner='quart', ax=axs[2])\n",
    "sns.violinplot(data=df_train, x='Pclass', y='Parch', hue='Survived', inner='quart', ax=axs[3])\n",
    "\n",
    "# Adjust the distance between charts\n",
    "plt.tight_layout()\n",
    "plt.show()"
   ]
  },
  {
   "cell_type": "code",
   "execution_count": 11,
   "id": "c712ad14",
   "metadata": {
    "execution": {
     "iopub.execute_input": "2024-04-20T10:21:44.739099Z",
     "iopub.status.busy": "2024-04-20T10:21:44.738671Z",
     "iopub.status.idle": "2024-04-20T10:21:45.996254Z",
     "shell.execute_reply": "2024-04-20T10:21:45.994995Z"
    },
    "papermill": {
     "duration": 1.28004,
     "end_time": "2024-04-20T10:21:46.000949",
     "exception": false,
     "start_time": "2024-04-20T10:21:44.720909",
     "status": "completed"
    },
    "tags": []
   },
   "outputs": [
    {
     "data": {
      "image/png": "[encoded data removed]",
      "text/plain": [
       "<Figure size 1500x500 with 5 Axes>"
      ]
     },
     "metadata": {},
     "output_type": "display_data"
    }
   ],
   "source": [
    "# Resize\n",
    "fig, axs = plt.subplots(nrows=1, ncols=5, figsize=(15, 5))\n",
    "\n",
    "sns.violinplot(data=df_train, x='Survived', y='Age', hue='Sex', inner='quart', ax=axs[0])\n",
    "sns.violinplot(data=df_train, x='Survived', y='Fare', hue='Sex', inner='quart', ax=axs[1])\n",
    "sns.violinplot(data=df_train, x='Survived', y='SibSp', hue='Sex', inner='quart', ax=axs[2])\n",
    "sns.violinplot(data=df_train, x='Survived', y='Parch', hue='Sex', inner='quart', ax=axs[3])\n",
    "sns.violinplot(data=df_train, x='Survived', y='Pclass', hue='Sex', inner='quart', ax=axs[4])\n",
    "\n",
    "# Adjust the distance between charts\n",
    "plt.tight_layout()\n",
    "plt.show()"
   ]
  },
  {
   "cell_type": "code",
   "execution_count": 12,
   "id": "93e49b3c",
   "metadata": {
    "execution": {
     "iopub.execute_input": "2024-04-20T10:21:46.064723Z",
     "iopub.status.busy": "2024-04-20T10:21:46.063433Z",
     "iopub.status.idle": "2024-04-20T10:21:47.716721Z",
     "shell.execute_reply": "2024-04-20T10:21:47.715552Z"
    },
    "papermill": {
     "duration": 1.688627,
     "end_time": "2024-04-20T10:21:47.719264",
     "exception": false,
     "start_time": "2024-04-20T10:21:46.030637",
     "status": "completed"
    },
    "tags": []
   },
   "outputs": [
    {
     "data": {
      "image/png": "[encoded data removed]",
      "text/plain": [
       "<Figure size 1500x800 with 8 Axes>"
      ]
     },
     "metadata": {},
     "output_type": "display_data"
    }
   ],
   "source": [
    "# Resize\n",
    "fig, axs = plt.subplots(nrows=4, ncols=2, figsize=(15, 8))\n",
    "\n",
    "# Age\n",
    "sns.distplot(df_train['Age'], ax=axs[0, 0])\n",
    "axs[0, 0].set_title(\"DistPlot\")\n",
    "sns.boxplot(df_train['Age'], ax=axs[0, 1])\n",
    "axs[0, 1].set_title(\"BoxPlot\")\n",
    "\n",
    "# SibSp\n",
    "sns.distplot(df_train['SibSp'], ax=axs[1, 0])\n",
    "axs[0, 0].set_title(\"DistPlot\")\n",
    "sns.boxplot(df_train['SibSp'], ax=axs[1, 1])\n",
    "axs[0, 1].set_title(\"BoxPlot\")\n",
    "\n",
    "# Parch\n",
    "sns.distplot(df_train['Parch'], ax=axs[2, 0])\n",
    "axs[0, 0].set_title(\"DistPlot\")\n",
    "sns.boxplot(df_train['Parch'], ax=axs[2, 1])\n",
    "axs[0, 1].set_title(\"BoxPlot\")\n",
    "\n",
    "# Fare\n",
    "sns.distplot(df_train['Fare'], ax=axs[3, 0])\n",
    "axs[0, 0].set_title(\"DistPlot\")\n",
    "sns.boxplot(df_train['Fare'], ax=axs[3, 1])\n",
    "axs[0, 1].set_title(\"BoxPlot\")\n",
    "\n",
    "# Adjust the distance between charts\n",
    "plt.tight_layout()\n",
    "plt.show()"
   ]
  },
  {
   "cell_type": "markdown",
   "id": "41d7054f",
   "metadata": {
    "papermill": {
     "duration": 0.018839,
     "end_time": "2024-04-20T10:21:47.758264",
     "exception": false,
     "start_time": "2024-04-20T10:21:47.739425",
     "status": "completed"
    },
    "tags": []
   },
   "source": [
    "## **<div class=\"alert alert-block alert-info\">4.2. Handling Missing Values <a class=\"anchor\"  id=\"4_2\"></a></div>**"
   ]
  },
  {
   "cell_type": "code",
   "execution_count": 13,
   "id": "2a090c69",
   "metadata": {
    "execution": {
     "iopub.execute_input": "2024-04-20T10:21:47.798910Z",
     "iopub.status.busy": "2024-04-20T10:21:47.798483Z",
     "iopub.status.idle": "2024-04-20T10:21:47.811235Z",
     "shell.execute_reply": "2024-04-20T10:21:47.810000Z"
    },
    "papermill": {
     "duration": 0.036185,
     "end_time": "2024-04-20T10:21:47.813648",
     "exception": false,
     "start_time": "2024-04-20T10:21:47.777463",
     "status": "completed"
    },
    "tags": []
   },
   "outputs": [
    {
     "data": {
      "text/plain": [
       "Pclass        0\n",
       "Sex           0\n",
       "Age         177\n",
       "SibSp         0\n",
       "Parch         0\n",
       "Fare          0\n",
       "Embarked      2\n",
       "Survived      0\n",
       "dtype: int64"
      ]
     },
     "execution_count": 13,
     "metadata": {},
     "output_type": "execute_result"
    }
   ],
   "source": [
    "# Selection of important variables for the model\n",
    "df_train = df_train[['Pclass', 'Sex', 'Age', 'SibSp', 'Parch', 'Fare', 'Embarked', 'Survived']]\n",
    "\n",
    "# Handling missing values\n",
    "df_train.isnull().sum()"
   ]
  },
  {
   "cell_type": "code",
   "execution_count": 14,
   "id": "627aafd7",
   "metadata": {
    "execution": {
     "iopub.execute_input": "2024-04-20T10:21:47.928509Z",
     "iopub.status.busy": "2024-04-20T10:21:47.928097Z",
     "iopub.status.idle": "2024-04-20T10:21:47.937861Z",
     "shell.execute_reply": "2024-04-20T10:21:47.936665Z"
    },
    "papermill": {
     "duration": 0.0325,
     "end_time": "2024-04-20T10:21:47.940093",
     "exception": false,
     "start_time": "2024-04-20T10:21:47.907593",
     "status": "completed"
    },
    "tags": []
   },
   "outputs": [
    {
     "data": {
      "text/plain": [
       "Pclass       0.000000\n",
       "Sex          0.000000\n",
       "Age         19.865320\n",
       "SibSp        0.000000\n",
       "Parch        0.000000\n",
       "Fare         0.000000\n",
       "Embarked     0.224467\n",
       "Survived     0.000000\n",
       "dtype: float64"
      ]
     },
     "execution_count": 14,
     "metadata": {},
     "output_type": "execute_result"
    }
   ],
   "source": [
    "df_train.isnull().mean()*100"
   ]
  },
  {
   "cell_type": "markdown",
   "id": "0cdc051e",
   "metadata": {
    "papermill": {
     "duration": 0.019181,
     "end_time": "2024-04-20T10:21:47.980535",
     "exception": false,
     "start_time": "2024-04-20T10:21:47.961354",
     "status": "completed"
    },
    "tags": []
   },
   "source": [
    "**About 20% (177) of the <code>Age</code> column, 77% (687) of the <code>Cabin</code> column and 0.22% (2) of the <code>Embarked</code> column are missing data.**"
   ]
  },
  {
   "cell_type": "code",
   "execution_count": 15,
   "id": "7177d1ac",
   "metadata": {
    "execution": {
     "iopub.execute_input": "2024-04-20T10:21:48.022005Z",
     "iopub.status.busy": "2024-04-20T10:21:48.020898Z",
     "iopub.status.idle": "2024-04-20T10:21:48.029758Z",
     "shell.execute_reply": "2024-04-20T10:21:48.028741Z"
    },
    "papermill": {
     "duration": 0.031715,
     "end_time": "2024-04-20T10:21:48.031835",
     "exception": false,
     "start_time": "2024-04-20T10:21:48.000120",
     "status": "completed"
    },
    "tags": []
   },
   "outputs": [],
   "source": [
    "# Delete 2 rows of missing data in column Embarked\n",
    "\n",
    "df_train.dropna(subset=['Embarked'], inplace=True)"
   ]
  },
  {
   "cell_type": "markdown",
   "id": "db0932dc",
   "metadata": {
    "papermill": {
     "duration": 0.018855,
     "end_time": "2024-04-20T10:21:48.069890",
     "exception": false,
     "start_time": "2024-04-20T10:21:48.051035",
     "status": "completed"
    },
    "tags": []
   },
   "source": [
    "**There are 177 missing data in the <code>Age</code> column, which is about <font color='red'>20%</font> of the total data\n",
    "Removing the age column is a mistake; Deleting the missing 177 rows is also wrong.**\n",
    "\n",
    "**So let's predict the missing data in the age column.**\n",
    "\n",
    "**For this, I first consider the <code>Age</code> column as the target column and try to predict the missing values with the rest of the variables.**\n",
    "\n",
    "**Let's get started!**"
   ]
  },
  {
   "cell_type": "markdown",
   "id": "28cf341c",
   "metadata": {
    "papermill": {
     "duration": 0.019671,
     "end_time": "2024-04-20T10:21:48.108920",
     "exception": false,
     "start_time": "2024-04-20T10:21:48.089249",
     "status": "completed"
    },
    "tags": []
   },
   "source": [
    "## **<div class=\"alert alert-block alert-info\">4.2.1. Encode Categorical Data<a class=\"anchor\"  id=\"4_2_1\"></a></div>**\n",
    "\n",
    "#### **Dummy variable encoding**\n",
    "\n",
    "**The one hot encoding creates one binary variable for each category. The problem is that this\n",
    "representation includes redundancy. For example, if we know that [1, 0, 0] represents <font color='blue'>blue</font> and\n",
    "[0, 1, 0] represents <font color='green'>green</font> we don’t need another binary variable to represent <font color='red'>red</font>, instead we\n",
    "could use 0 values alone, e.g. [0, 0]. This is called a dummy variable encoding, and always\n",
    "represents C categories with C − 1 binary variables.**\n",
    "\n",
    "**Reference**. Jason Brownlee, [Data Preparation for Machine Learning](https://machinelearningmastery.com/data-preparation-for-machine-learning/), Page 245."
   ]
  },
  {
   "cell_type": "code",
   "execution_count": 16,
   "id": "9f553633",
   "metadata": {
    "execution": {
     "iopub.execute_input": "2024-04-20T10:21:48.151787Z",
     "iopub.status.busy": "2024-04-20T10:21:48.150972Z",
     "iopub.status.idle": "2024-04-20T10:21:48.169209Z",
     "shell.execute_reply": "2024-04-20T10:21:48.167874Z"
    },
    "papermill": {
     "duration": 0.042337,
     "end_time": "2024-04-20T10:21:48.171646",
     "exception": false,
     "start_time": "2024-04-20T10:21:48.129309",
     "status": "completed"
    },
    "tags": []
   },
   "outputs": [
    {
     "data": {
      "text/html": [
       "<div>\n",
       "<style scoped>\n",
       "    .dataframe tbody tr th:only-of-type {\n",
       "        vertical-align: middle;\n",
       "    }\n",
       "\n",
       "    .dataframe tbody tr th {\n",
       "        vertical-align: top;\n",
       "    }\n",
       "\n",
       "    .dataframe thead th {\n",
       "        text-align: right;\n",
       "    }\n",
       "</style>\n",
       "<table border=\"1\" class=\"dataframe\">\n",
       "  <thead>\n",
       "    <tr style=\"text-align: right;\">\n",
       "      <th></th>\n",
       "      <th>Pclass</th>\n",
       "      <th>Sex</th>\n",
       "      <th>Age</th>\n",
       "      <th>SibSp</th>\n",
       "      <th>Parch</th>\n",
       "      <th>Fare</th>\n",
       "      <th>Survived</th>\n",
       "      <th>Embarked_Q</th>\n",
       "      <th>Embarked_S</th>\n",
       "    </tr>\n",
       "  </thead>\n",
       "  <tbody>\n",
       "    <tr>\n",
       "      <th>0</th>\n",
       "      <td>3</td>\n",
       "      <td>male</td>\n",
       "      <td>22.0</td>\n",
       "      <td>1</td>\n",
       "      <td>0</td>\n",
       "      <td>7.2500</td>\n",
       "      <td>0</td>\n",
       "      <td>False</td>\n",
       "      <td>True</td>\n",
       "    </tr>\n",
       "    <tr>\n",
       "      <th>1</th>\n",
       "      <td>1</td>\n",
       "      <td>female</td>\n",
       "      <td>38.0</td>\n",
       "      <td>1</td>\n",
       "      <td>0</td>\n",
       "      <td>71.2833</td>\n",
       "      <td>1</td>\n",
       "      <td>False</td>\n",
       "      <td>False</td>\n",
       "    </tr>\n",
       "    <tr>\n",
       "      <th>2</th>\n",
       "      <td>3</td>\n",
       "      <td>female</td>\n",
       "      <td>26.0</td>\n",
       "      <td>0</td>\n",
       "      <td>0</td>\n",
       "      <td>7.9250</td>\n",
       "      <td>1</td>\n",
       "      <td>False</td>\n",
       "      <td>True</td>\n",
       "    </tr>\n",
       "    <tr>\n",
       "      <th>3</th>\n",
       "      <td>1</td>\n",
       "      <td>female</td>\n",
       "      <td>35.0</td>\n",
       "      <td>1</td>\n",
       "      <td>0</td>\n",
       "      <td>53.1000</td>\n",
       "      <td>1</td>\n",
       "      <td>False</td>\n",
       "      <td>True</td>\n",
       "    </tr>\n",
       "    <tr>\n",
       "      <th>4</th>\n",
       "      <td>3</td>\n",
       "      <td>male</td>\n",
       "      <td>35.0</td>\n",
       "      <td>0</td>\n",
       "      <td>0</td>\n",
       "      <td>8.0500</td>\n",
       "      <td>0</td>\n",
       "      <td>False</td>\n",
       "      <td>True</td>\n",
       "    </tr>\n",
       "  </tbody>\n",
       "</table>\n",
       "</div>"
      ],
      "text/plain": [
       "   Pclass     Sex   Age  SibSp  Parch     Fare  Survived  Embarked_Q  \\\n",
       "0       3    male  22.0      1      0   7.2500         0       False   \n",
       "1       1  female  38.0      1      0  71.2833         1       False   \n",
       "2       3  female  26.0      0      0   7.9250         1       False   \n",
       "3       1  female  35.0      1      0  53.1000         1       False   \n",
       "4       3    male  35.0      0      0   8.0500         0       False   \n",
       "\n",
       "   Embarked_S  \n",
       "0        True  \n",
       "1       False  \n",
       "2        True  \n",
       "3        True  \n",
       "4        True  "
      ]
     },
     "execution_count": 16,
     "metadata": {},
     "output_type": "execute_result"
    }
   ],
   "source": [
    "# Dummy variable encoding\n",
    "df_train = pd.get_dummies(df_train, columns=['Embarked', ], drop_first=True)\n",
    "df_train.head()"
   ]
  },
  {
   "cell_type": "code",
   "execution_count": 17,
   "id": "5bd9bc62",
   "metadata": {
    "execution": {
     "iopub.execute_input": "2024-04-20T10:21:48.214775Z",
     "iopub.status.busy": "2024-04-20T10:21:48.214016Z",
     "iopub.status.idle": "2024-04-20T10:21:48.235241Z",
     "shell.execute_reply": "2024-04-20T10:21:48.233964Z"
    },
    "papermill": {
     "duration": 0.046311,
     "end_time": "2024-04-20T10:21:48.237889",
     "exception": false,
     "start_time": "2024-04-20T10:21:48.191578",
     "status": "completed"
    },
    "tags": []
   },
   "outputs": [
    {
     "data": {
      "text/html": [
       "<div>\n",
       "<style scoped>\n",
       "    .dataframe tbody tr th:only-of-type {\n",
       "        vertical-align: middle;\n",
       "    }\n",
       "\n",
       "    .dataframe tbody tr th {\n",
       "        vertical-align: top;\n",
       "    }\n",
       "\n",
       "    .dataframe thead th {\n",
       "        text-align: right;\n",
       "    }\n",
       "</style>\n",
       "<table border=\"1\" class=\"dataframe\">\n",
       "  <thead>\n",
       "    <tr style=\"text-align: right;\">\n",
       "      <th></th>\n",
       "      <th>Pclass</th>\n",
       "      <th>Sex</th>\n",
       "      <th>Age</th>\n",
       "      <th>SibSp</th>\n",
       "      <th>Parch</th>\n",
       "      <th>Fare</th>\n",
       "      <th>Survived</th>\n",
       "      <th>Embarked_Q</th>\n",
       "      <th>Embarked_S</th>\n",
       "    </tr>\n",
       "  </thead>\n",
       "  <tbody>\n",
       "    <tr>\n",
       "      <th>0</th>\n",
       "      <td>3</td>\n",
       "      <td>1.0</td>\n",
       "      <td>22.0</td>\n",
       "      <td>1</td>\n",
       "      <td>0</td>\n",
       "      <td>7.2500</td>\n",
       "      <td>0</td>\n",
       "      <td>0.0</td>\n",
       "      <td>1.0</td>\n",
       "    </tr>\n",
       "    <tr>\n",
       "      <th>1</th>\n",
       "      <td>1</td>\n",
       "      <td>0.0</td>\n",
       "      <td>38.0</td>\n",
       "      <td>1</td>\n",
       "      <td>0</td>\n",
       "      <td>71.2833</td>\n",
       "      <td>1</td>\n",
       "      <td>0.0</td>\n",
       "      <td>0.0</td>\n",
       "    </tr>\n",
       "    <tr>\n",
       "      <th>2</th>\n",
       "      <td>3</td>\n",
       "      <td>0.0</td>\n",
       "      <td>26.0</td>\n",
       "      <td>0</td>\n",
       "      <td>0</td>\n",
       "      <td>7.9250</td>\n",
       "      <td>1</td>\n",
       "      <td>0.0</td>\n",
       "      <td>1.0</td>\n",
       "    </tr>\n",
       "    <tr>\n",
       "      <th>3</th>\n",
       "      <td>1</td>\n",
       "      <td>0.0</td>\n",
       "      <td>35.0</td>\n",
       "      <td>1</td>\n",
       "      <td>0</td>\n",
       "      <td>53.1000</td>\n",
       "      <td>1</td>\n",
       "      <td>0.0</td>\n",
       "      <td>1.0</td>\n",
       "    </tr>\n",
       "    <tr>\n",
       "      <th>4</th>\n",
       "      <td>3</td>\n",
       "      <td>1.0</td>\n",
       "      <td>35.0</td>\n",
       "      <td>0</td>\n",
       "      <td>0</td>\n",
       "      <td>8.0500</td>\n",
       "      <td>0</td>\n",
       "      <td>0.0</td>\n",
       "      <td>1.0</td>\n",
       "    </tr>\n",
       "  </tbody>\n",
       "</table>\n",
       "</div>"
      ],
      "text/plain": [
       "   Pclass  Sex   Age  SibSp  Parch     Fare  Survived  Embarked_Q  Embarked_S\n",
       "0       3  1.0  22.0      1      0   7.2500         0         0.0         1.0\n",
       "1       1  0.0  38.0      1      0  71.2833         1         0.0         0.0\n",
       "2       3  0.0  26.0      0      0   7.9250         1         0.0         1.0\n",
       "3       1  0.0  35.0      1      0  53.1000         1         0.0         1.0\n",
       "4       3  1.0  35.0      0      0   8.0500         0         0.0         1.0"
      ]
     },
     "execution_count": 17,
     "metadata": {},
     "output_type": "execute_result"
    }
   ],
   "source": [
    "# Ordinal encode input variables\n",
    "ordinal_e = OrdinalEncoder()\n",
    "df_train[['Sex','Embarked_Q', 'Embarked_S']] = ordinal_e.fit_transform(df_train[['Sex','Embarked_Q', 'Embarked_S']])\n",
    "df_train.head()"
   ]
  },
  {
   "cell_type": "markdown",
   "id": "83114998",
   "metadata": {
    "papermill": {
     "duration": 0.019961,
     "end_time": "2024-04-20T10:21:48.278344",
     "exception": false,
     "start_time": "2024-04-20T10:21:48.258383",
     "status": "completed"
    },
    "tags": []
   },
   "source": [
    "## **<div class=\"alert alert-block alert-info\">4.2.2. KNN Imputation<a class=\"anchor\"  id=\"4_2_2\"></a></div>**\n",
    "\n",
    "\n",
    "**An effective approach to data imputating is use a model to predict the missing values.\n",
    "A model is created for each feature that that missing values, taking as input values of perhaps all other input features.**\n",
    "\n",
    "**One popular technique for imputation is a K-nearest neighbor model. A new sample is imputed by finding the samples in the training set \"closest\" to it and averages these nearby points to fill in the value.**\n",
    "\n",
    "**If input variables are numeric, then regression models can be used for prediction, and this case is quite common. A range of different models can be used, although a simple k-nearest neighbor (KNN) model has proven to be effective in expriments. The use of a KNN model to predict or fill missing values is referred to as *Nearest Neighbor Imputation* or *KNN imputation*.**\n",
    "\n",
    "**Reference**. Jason Brownlee, Data Preparation for ML, Page 87."
   ]
  },
  {
   "cell_type": "code",
   "execution_count": 18,
   "id": "ec1d9a9b",
   "metadata": {
    "execution": {
     "iopub.execute_input": "2024-04-20T10:21:48.319782Z",
     "iopub.status.busy": "2024-04-20T10:21:48.319353Z",
     "iopub.status.idle": "2024-04-20T10:21:48.334707Z",
     "shell.execute_reply": "2024-04-20T10:21:48.333782Z"
    },
    "papermill": {
     "duration": 0.038602,
     "end_time": "2024-04-20T10:21:48.336787",
     "exception": false,
     "start_time": "2024-04-20T10:21:48.298185",
     "status": "completed"
    },
    "tags": []
   },
   "outputs": [
    {
     "data": {
      "text/html": [
       "<div>\n",
       "<style scoped>\n",
       "    .dataframe tbody tr th:only-of-type {\n",
       "        vertical-align: middle;\n",
       "    }\n",
       "\n",
       "    .dataframe tbody tr th {\n",
       "        vertical-align: top;\n",
       "    }\n",
       "\n",
       "    .dataframe thead th {\n",
       "        text-align: right;\n",
       "    }\n",
       "</style>\n",
       "<table border=\"1\" class=\"dataframe\">\n",
       "  <thead>\n",
       "    <tr style=\"text-align: right;\">\n",
       "      <th></th>\n",
       "      <th>Pclass</th>\n",
       "      <th>Sex</th>\n",
       "      <th>Age</th>\n",
       "      <th>SibSp</th>\n",
       "      <th>Parch</th>\n",
       "      <th>Fare</th>\n",
       "      <th>Survived</th>\n",
       "      <th>Embarked_Q</th>\n",
       "      <th>Embarked_S</th>\n",
       "    </tr>\n",
       "  </thead>\n",
       "  <tbody>\n",
       "    <tr>\n",
       "      <th>0</th>\n",
       "      <td>3</td>\n",
       "      <td>1.0</td>\n",
       "      <td>22.0</td>\n",
       "      <td>1</td>\n",
       "      <td>0</td>\n",
       "      <td>7.2500</td>\n",
       "      <td>0</td>\n",
       "      <td>0.0</td>\n",
       "      <td>1.0</td>\n",
       "    </tr>\n",
       "    <tr>\n",
       "      <th>1</th>\n",
       "      <td>1</td>\n",
       "      <td>0.0</td>\n",
       "      <td>38.0</td>\n",
       "      <td>1</td>\n",
       "      <td>0</td>\n",
       "      <td>71.2833</td>\n",
       "      <td>1</td>\n",
       "      <td>0.0</td>\n",
       "      <td>0.0</td>\n",
       "    </tr>\n",
       "    <tr>\n",
       "      <th>2</th>\n",
       "      <td>3</td>\n",
       "      <td>0.0</td>\n",
       "      <td>26.0</td>\n",
       "      <td>0</td>\n",
       "      <td>0</td>\n",
       "      <td>7.9250</td>\n",
       "      <td>1</td>\n",
       "      <td>0.0</td>\n",
       "      <td>1.0</td>\n",
       "    </tr>\n",
       "    <tr>\n",
       "      <th>3</th>\n",
       "      <td>1</td>\n",
       "      <td>0.0</td>\n",
       "      <td>35.0</td>\n",
       "      <td>1</td>\n",
       "      <td>0</td>\n",
       "      <td>53.1000</td>\n",
       "      <td>1</td>\n",
       "      <td>0.0</td>\n",
       "      <td>1.0</td>\n",
       "    </tr>\n",
       "    <tr>\n",
       "      <th>4</th>\n",
       "      <td>3</td>\n",
       "      <td>1.0</td>\n",
       "      <td>35.0</td>\n",
       "      <td>0</td>\n",
       "      <td>0</td>\n",
       "      <td>8.0500</td>\n",
       "      <td>0</td>\n",
       "      <td>0.0</td>\n",
       "      <td>1.0</td>\n",
       "    </tr>\n",
       "  </tbody>\n",
       "</table>\n",
       "</div>"
      ],
      "text/plain": [
       "   Pclass  Sex   Age  SibSp  Parch     Fare  Survived  Embarked_Q  Embarked_S\n",
       "0       3  1.0  22.0      1      0   7.2500         0         0.0         1.0\n",
       "1       1  0.0  38.0      1      0  71.2833         1         0.0         0.0\n",
       "2       3  0.0  26.0      0      0   7.9250         1         0.0         1.0\n",
       "3       1  0.0  35.0      1      0  53.1000         1         0.0         1.0\n",
       "4       3  1.0  35.0      0      0   8.0500         0         0.0         1.0"
      ]
     },
     "execution_count": 18,
     "metadata": {},
     "output_type": "execute_result"
    }
   ],
   "source": [
    "df_impu = df_train.copy()\n",
    "df_impu.head()"
   ]
  },
  {
   "cell_type": "markdown",
   "id": "8005627e",
   "metadata": {
    "papermill": {
     "duration": 0.020118,
     "end_time": "2024-04-20T10:21:48.377781",
     "exception": false,
     "start_time": "2024-04-20T10:21:48.357663",
     "status": "completed"
    },
    "tags": []
   },
   "source": [
    "**Another critical point here is that the KNN Imptuer is a distance-based imputation method and it requires us to normalize our data. Otherwise, the different scales of our data will lead the KNN Imputer to generate biased replacements for the missing values. For simplicity, we will use Scikit-Learn’s <code>MinMaxScaler</code> which will scale our variables to have values between 0 and 1.**"
   ]
  },
  {
   "cell_type": "code",
   "execution_count": 19,
   "id": "781dc91c",
   "metadata": {
    "execution": {
     "iopub.execute_input": "2024-04-20T10:21:48.421119Z",
     "iopub.status.busy": "2024-04-20T10:21:48.419857Z",
     "iopub.status.idle": "2024-04-20T10:21:48.428446Z",
     "shell.execute_reply": "2024-04-20T10:21:48.427367Z"
    },
    "papermill": {
     "duration": 0.032681,
     "end_time": "2024-04-20T10:21:48.430682",
     "exception": false,
     "start_time": "2024-04-20T10:21:48.398001",
     "status": "completed"
    },
    "tags": []
   },
   "outputs": [
    {
     "data": {
      "text/plain": [
       "Pclass          0\n",
       "Sex             0\n",
       "Age           177\n",
       "SibSp           0\n",
       "Parch           0\n",
       "Fare            0\n",
       "Survived        0\n",
       "Embarked_Q      0\n",
       "Embarked_S      0\n",
       "dtype: int64"
      ]
     },
     "execution_count": 19,
     "metadata": {},
     "output_type": "execute_result"
    }
   ],
   "source": [
    "df_impu.isnull().sum()"
   ]
  },
  {
   "cell_type": "code",
   "execution_count": 20,
   "id": "f630d659",
   "metadata": {
    "execution": {
     "iopub.execute_input": "2024-04-20T10:21:48.474643Z",
     "iopub.status.busy": "2024-04-20T10:21:48.473457Z",
     "iopub.status.idle": "2024-04-20T10:21:48.495494Z",
     "shell.execute_reply": "2024-04-20T10:21:48.494439Z"
    },
    "papermill": {
     "duration": 0.045897,
     "end_time": "2024-04-20T10:21:48.497876",
     "exception": false,
     "start_time": "2024-04-20T10:21:48.451979",
     "status": "completed"
    },
    "tags": []
   },
   "outputs": [
    {
     "data": {
      "text/html": [
       "<div>\n",
       "<style scoped>\n",
       "    .dataframe tbody tr th:only-of-type {\n",
       "        vertical-align: middle;\n",
       "    }\n",
       "\n",
       "    .dataframe tbody tr th {\n",
       "        vertical-align: top;\n",
       "    }\n",
       "\n",
       "    .dataframe thead th {\n",
       "        text-align: right;\n",
       "    }\n",
       "</style>\n",
       "<table border=\"1\" class=\"dataframe\">\n",
       "  <thead>\n",
       "    <tr style=\"text-align: right;\">\n",
       "      <th></th>\n",
       "      <th>Pclass</th>\n",
       "      <th>Sex</th>\n",
       "      <th>Age</th>\n",
       "      <th>SibSp</th>\n",
       "      <th>Parch</th>\n",
       "      <th>Fare</th>\n",
       "      <th>Survived</th>\n",
       "      <th>Embarked_Q</th>\n",
       "      <th>Embarked_S</th>\n",
       "    </tr>\n",
       "  </thead>\n",
       "  <tbody>\n",
       "    <tr>\n",
       "      <th>0</th>\n",
       "      <td>1.0</td>\n",
       "      <td>1.0</td>\n",
       "      <td>0.271174</td>\n",
       "      <td>0.125</td>\n",
       "      <td>0.0</td>\n",
       "      <td>0.014151</td>\n",
       "      <td>0.0</td>\n",
       "      <td>0.0</td>\n",
       "      <td>1.0</td>\n",
       "    </tr>\n",
       "    <tr>\n",
       "      <th>1</th>\n",
       "      <td>0.0</td>\n",
       "      <td>0.0</td>\n",
       "      <td>0.472229</td>\n",
       "      <td>0.125</td>\n",
       "      <td>0.0</td>\n",
       "      <td>0.139136</td>\n",
       "      <td>1.0</td>\n",
       "      <td>0.0</td>\n",
       "      <td>0.0</td>\n",
       "    </tr>\n",
       "    <tr>\n",
       "      <th>2</th>\n",
       "      <td>1.0</td>\n",
       "      <td>0.0</td>\n",
       "      <td>0.321438</td>\n",
       "      <td>0.000</td>\n",
       "      <td>0.0</td>\n",
       "      <td>0.015469</td>\n",
       "      <td>1.0</td>\n",
       "      <td>0.0</td>\n",
       "      <td>1.0</td>\n",
       "    </tr>\n",
       "    <tr>\n",
       "      <th>3</th>\n",
       "      <td>0.0</td>\n",
       "      <td>0.0</td>\n",
       "      <td>0.434531</td>\n",
       "      <td>0.125</td>\n",
       "      <td>0.0</td>\n",
       "      <td>0.103644</td>\n",
       "      <td>1.0</td>\n",
       "      <td>0.0</td>\n",
       "      <td>1.0</td>\n",
       "    </tr>\n",
       "    <tr>\n",
       "      <th>4</th>\n",
       "      <td>1.0</td>\n",
       "      <td>1.0</td>\n",
       "      <td>0.434531</td>\n",
       "      <td>0.000</td>\n",
       "      <td>0.0</td>\n",
       "      <td>0.015713</td>\n",
       "      <td>0.0</td>\n",
       "      <td>0.0</td>\n",
       "      <td>1.0</td>\n",
       "    </tr>\n",
       "  </tbody>\n",
       "</table>\n",
       "</div>"
      ],
      "text/plain": [
       "   Pclass  Sex       Age  SibSp  Parch      Fare  Survived  Embarked_Q  \\\n",
       "0     1.0  1.0  0.271174  0.125    0.0  0.014151       0.0         0.0   \n",
       "1     0.0  0.0  0.472229  0.125    0.0  0.139136       1.0         0.0   \n",
       "2     1.0  0.0  0.321438  0.000    0.0  0.015469       1.0         0.0   \n",
       "3     0.0  0.0  0.434531  0.125    0.0  0.103644       1.0         0.0   \n",
       "4     1.0  1.0  0.434531  0.000    0.0  0.015713       0.0         0.0   \n",
       "\n",
       "   Embarked_S  \n",
       "0         1.0  \n",
       "1         0.0  \n",
       "2         1.0  \n",
       "3         1.0  \n",
       "4         1.0  "
      ]
     },
     "execution_count": 20,
     "metadata": {},
     "output_type": "execute_result"
    }
   ],
   "source": [
    "scaler = MinMaxScaler()\n",
    "df_impu = pd.DataFrame(scaler.fit_transform(df_impu), columns = df_impu.columns)\n",
    "df_impu.head()"
   ]
  },
  {
   "cell_type": "code",
   "execution_count": 21,
   "id": "037f71a4",
   "metadata": {
    "execution": {
     "iopub.execute_input": "2024-04-20T10:21:48.541500Z",
     "iopub.status.busy": "2024-04-20T10:21:48.540595Z",
     "iopub.status.idle": "2024-04-20T10:21:48.584258Z",
     "shell.execute_reply": "2024-04-20T10:21:48.583012Z"
    },
    "papermill": {
     "duration": 0.068517,
     "end_time": "2024-04-20T10:21:48.587053",
     "exception": false,
     "start_time": "2024-04-20T10:21:48.518536",
     "status": "completed"
    },
    "tags": []
   },
   "outputs": [
    {
     "data": {
      "text/html": [
       "<div>\n",
       "<style scoped>\n",
       "    .dataframe tbody tr th:only-of-type {\n",
       "        vertical-align: middle;\n",
       "    }\n",
       "\n",
       "    .dataframe tbody tr th {\n",
       "        vertical-align: top;\n",
       "    }\n",
       "\n",
       "    .dataframe thead th {\n",
       "        text-align: right;\n",
       "    }\n",
       "</style>\n",
       "<table border=\"1\" class=\"dataframe\">\n",
       "  <thead>\n",
       "    <tr style=\"text-align: right;\">\n",
       "      <th></th>\n",
       "      <th>Pclass</th>\n",
       "      <th>Sex</th>\n",
       "      <th>Age</th>\n",
       "      <th>SibSp</th>\n",
       "      <th>Parch</th>\n",
       "      <th>Fare</th>\n",
       "      <th>Survived</th>\n",
       "      <th>Embarked_Q</th>\n",
       "      <th>Embarked_S</th>\n",
       "    </tr>\n",
       "  </thead>\n",
       "  <tbody>\n",
       "    <tr>\n",
       "      <th>0</th>\n",
       "      <td>1.0</td>\n",
       "      <td>1.0</td>\n",
       "      <td>0.271174</td>\n",
       "      <td>0.125</td>\n",
       "      <td>0.0</td>\n",
       "      <td>0.014151</td>\n",
       "      <td>0.0</td>\n",
       "      <td>0.0</td>\n",
       "      <td>1.0</td>\n",
       "    </tr>\n",
       "    <tr>\n",
       "      <th>1</th>\n",
       "      <td>0.0</td>\n",
       "      <td>0.0</td>\n",
       "      <td>0.472229</td>\n",
       "      <td>0.125</td>\n",
       "      <td>0.0</td>\n",
       "      <td>0.139136</td>\n",
       "      <td>1.0</td>\n",
       "      <td>0.0</td>\n",
       "      <td>0.0</td>\n",
       "    </tr>\n",
       "    <tr>\n",
       "      <th>2</th>\n",
       "      <td>1.0</td>\n",
       "      <td>0.0</td>\n",
       "      <td>0.321438</td>\n",
       "      <td>0.000</td>\n",
       "      <td>0.0</td>\n",
       "      <td>0.015469</td>\n",
       "      <td>1.0</td>\n",
       "      <td>0.0</td>\n",
       "      <td>1.0</td>\n",
       "    </tr>\n",
       "  </tbody>\n",
       "</table>\n",
       "</div>"
      ],
      "text/plain": [
       "   Pclass  Sex       Age  SibSp  Parch      Fare  Survived  Embarked_Q  \\\n",
       "0     1.0  1.0  0.271174  0.125    0.0  0.014151       0.0         0.0   \n",
       "1     0.0  0.0  0.472229  0.125    0.0  0.139136       1.0         0.0   \n",
       "2     1.0  0.0  0.321438  0.000    0.0  0.015469       1.0         0.0   \n",
       "\n",
       "   Embarked_S  \n",
       "0         1.0  \n",
       "1         0.0  \n",
       "2         1.0  "
      ]
     },
     "execution_count": 21,
     "metadata": {},
     "output_type": "execute_result"
    }
   ],
   "source": [
    "# Define imputer\n",
    "imputer = KNNImputer(n_neighbors=5)\n",
    "\n",
    "df_impu = pd.DataFrame(imputer.fit_transform(df_impu),columns = df_impu.columns)\n",
    "df_impu.head(3)"
   ]
  },
  {
   "cell_type": "code",
   "execution_count": 22,
   "id": "f0c79cf6",
   "metadata": {
    "execution": {
     "iopub.execute_input": "2024-04-20T10:21:48.662137Z",
     "iopub.status.busy": "2024-04-20T10:21:48.661536Z",
     "iopub.status.idle": "2024-04-20T10:21:48.672564Z",
     "shell.execute_reply": "2024-04-20T10:21:48.671439Z"
    },
    "papermill": {
     "duration": 0.052137,
     "end_time": "2024-04-20T10:21:48.675624",
     "exception": false,
     "start_time": "2024-04-20T10:21:48.623487",
     "status": "completed"
    },
    "tags": []
   },
   "outputs": [
    {
     "data": {
      "text/plain": [
       "Pclass        False\n",
       "Sex           False\n",
       "Age           False\n",
       "SibSp         False\n",
       "Parch         False\n",
       "Fare          False\n",
       "Survived      False\n",
       "Embarked_Q    False\n",
       "Embarked_S    False\n",
       "dtype: bool"
      ]
     },
     "execution_count": 22,
     "metadata": {},
     "output_type": "execute_result"
    }
   ],
   "source": [
    "df_impu.isna().any()"
   ]
  },
  {
   "cell_type": "code",
   "execution_count": 23,
   "id": "ca247ce5",
   "metadata": {
    "execution": {
     "iopub.execute_input": "2024-04-20T10:21:48.720047Z",
     "iopub.status.busy": "2024-04-20T10:21:48.719630Z",
     "iopub.status.idle": "2024-04-20T10:21:48.738745Z",
     "shell.execute_reply": "2024-04-20T10:21:48.737559Z"
    },
    "papermill": {
     "duration": 0.044098,
     "end_time": "2024-04-20T10:21:48.741276",
     "exception": false,
     "start_time": "2024-04-20T10:21:48.697178",
     "status": "completed"
    },
    "tags": []
   },
   "outputs": [
    {
     "data": {
      "text/html": [
       "<div>\n",
       "<style scoped>\n",
       "    .dataframe tbody tr th:only-of-type {\n",
       "        vertical-align: middle;\n",
       "    }\n",
       "\n",
       "    .dataframe tbody tr th {\n",
       "        vertical-align: top;\n",
       "    }\n",
       "\n",
       "    .dataframe thead th {\n",
       "        text-align: right;\n",
       "    }\n",
       "</style>\n",
       "<table border=\"1\" class=\"dataframe\">\n",
       "  <thead>\n",
       "    <tr style=\"text-align: right;\">\n",
       "      <th></th>\n",
       "      <th>Pclass</th>\n",
       "      <th>Sex</th>\n",
       "      <th>Age</th>\n",
       "      <th>SibSp</th>\n",
       "      <th>Parch</th>\n",
       "      <th>Fare</th>\n",
       "      <th>Survived</th>\n",
       "      <th>Embarked_Q</th>\n",
       "      <th>Embarked_S</th>\n",
       "    </tr>\n",
       "  </thead>\n",
       "  <tbody>\n",
       "    <tr>\n",
       "      <th>0</th>\n",
       "      <td>3.0</td>\n",
       "      <td>1.0</td>\n",
       "      <td>22.0</td>\n",
       "      <td>1.0</td>\n",
       "      <td>0.0</td>\n",
       "      <td>7.2500</td>\n",
       "      <td>0.0</td>\n",
       "      <td>0.0</td>\n",
       "      <td>1.0</td>\n",
       "    </tr>\n",
       "    <tr>\n",
       "      <th>1</th>\n",
       "      <td>1.0</td>\n",
       "      <td>0.0</td>\n",
       "      <td>38.0</td>\n",
       "      <td>1.0</td>\n",
       "      <td>0.0</td>\n",
       "      <td>71.2833</td>\n",
       "      <td>1.0</td>\n",
       "      <td>0.0</td>\n",
       "      <td>0.0</td>\n",
       "    </tr>\n",
       "    <tr>\n",
       "      <th>2</th>\n",
       "      <td>3.0</td>\n",
       "      <td>0.0</td>\n",
       "      <td>26.0</td>\n",
       "      <td>0.0</td>\n",
       "      <td>0.0</td>\n",
       "      <td>7.9250</td>\n",
       "      <td>1.0</td>\n",
       "      <td>0.0</td>\n",
       "      <td>1.0</td>\n",
       "    </tr>\n",
       "  </tbody>\n",
       "</table>\n",
       "</div>"
      ],
      "text/plain": [
       "   Pclass  Sex   Age  SibSp  Parch     Fare  Survived  Embarked_Q  Embarked_S\n",
       "0     3.0  1.0  22.0    1.0    0.0   7.2500       0.0         0.0         1.0\n",
       "1     1.0  0.0  38.0    1.0    0.0  71.2833       1.0         0.0         0.0\n",
       "2     3.0  0.0  26.0    0.0    0.0   7.9250       1.0         0.0         1.0"
      ]
     },
     "execution_count": 23,
     "metadata": {},
     "output_type": "execute_result"
    }
   ],
   "source": [
    "df_impu_inv = scaler.inverse_transform(df_impu)\n",
    "\n",
    "df_impu = pd.DataFrame(df_impu_inv, columns=df_impu.columns)\n",
    "df_impu.head(3)"
   ]
  },
  {
   "cell_type": "markdown",
   "id": "0a89749c",
   "metadata": {
    "papermill": {
     "duration": 0.02113,
     "end_time": "2024-04-20T10:21:48.784384",
     "exception": false,
     "start_time": "2024-04-20T10:21:48.763254",
     "status": "completed"
    },
    "tags": []
   },
   "source": [
    "## **<div class=\"alert alert-block alert-info\">4.3. Dealing with Outliers<a class=\"anchor\"  id=\"4_3\"></a></div>**\n",
    "\n",
    "<img src=https://www.simplypsychology.org/wp-content/uploads/boxplot-outliers.png width=\"600\">\n",
    "\n",
    "Not all data is normal or normal enough to treat it as being drawn from a Gaussion distribution. A good statistics for summarizing a non-Gaussian distribution sample of data is the Interquatile Range, or IQR for short. The is calculated as the difference between the 75th and the 25th percentile is the data and defines the box in a box and whisker plot.\n",
    "\n",
    "**Reference**. Jason Brownlee, Data Preparation for ML, Page 58.\n",
    "\n",
    "**[Image Source](https://www.simplypsychology.org/boxplots.html#:~:text=When%20reviewing%20a%20box%20plot,whiskers%20of%20the%20box%20plot.&text=For%20example%2C%20outside%201.5%20times,Q3%20%2B%201.5%20*%20IQR)**"
   ]
  },
  {
   "cell_type": "code",
   "execution_count": 24,
   "id": "bfbd7fe6",
   "metadata": {
    "execution": {
     "iopub.execute_input": "2024-04-20T10:21:48.829051Z",
     "iopub.status.busy": "2024-04-20T10:21:48.828622Z",
     "iopub.status.idle": "2024-04-20T10:21:48.845507Z",
     "shell.execute_reply": "2024-04-20T10:21:48.844510Z"
    },
    "papermill": {
     "duration": 0.041942,
     "end_time": "2024-04-20T10:21:48.847687",
     "exception": false,
     "start_time": "2024-04-20T10:21:48.805745",
     "status": "completed"
    },
    "tags": []
   },
   "outputs": [
    {
     "data": {
      "text/html": [
       "<div>\n",
       "<style scoped>\n",
       "    .dataframe tbody tr th:only-of-type {\n",
       "        vertical-align: middle;\n",
       "    }\n",
       "\n",
       "    .dataframe tbody tr th {\n",
       "        vertical-align: top;\n",
       "    }\n",
       "\n",
       "    .dataframe thead th {\n",
       "        text-align: right;\n",
       "    }\n",
       "</style>\n",
       "<table border=\"1\" class=\"dataframe\">\n",
       "  <thead>\n",
       "    <tr style=\"text-align: right;\">\n",
       "      <th></th>\n",
       "      <th>Pclass</th>\n",
       "      <th>Sex</th>\n",
       "      <th>Age</th>\n",
       "      <th>SibSp</th>\n",
       "      <th>Parch</th>\n",
       "      <th>Fare</th>\n",
       "      <th>Survived</th>\n",
       "      <th>Embarked_Q</th>\n",
       "      <th>Embarked_S</th>\n",
       "    </tr>\n",
       "  </thead>\n",
       "  <tbody>\n",
       "    <tr>\n",
       "      <th>0</th>\n",
       "      <td>3.0</td>\n",
       "      <td>1.0</td>\n",
       "      <td>22.0</td>\n",
       "      <td>1.0</td>\n",
       "      <td>0.0</td>\n",
       "      <td>7.2500</td>\n",
       "      <td>0.0</td>\n",
       "      <td>0.0</td>\n",
       "      <td>1.0</td>\n",
       "    </tr>\n",
       "    <tr>\n",
       "      <th>1</th>\n",
       "      <td>1.0</td>\n",
       "      <td>0.0</td>\n",
       "      <td>38.0</td>\n",
       "      <td>1.0</td>\n",
       "      <td>0.0</td>\n",
       "      <td>71.2833</td>\n",
       "      <td>1.0</td>\n",
       "      <td>0.0</td>\n",
       "      <td>0.0</td>\n",
       "    </tr>\n",
       "    <tr>\n",
       "      <th>2</th>\n",
       "      <td>3.0</td>\n",
       "      <td>0.0</td>\n",
       "      <td>26.0</td>\n",
       "      <td>0.0</td>\n",
       "      <td>0.0</td>\n",
       "      <td>7.9250</td>\n",
       "      <td>1.0</td>\n",
       "      <td>0.0</td>\n",
       "      <td>1.0</td>\n",
       "    </tr>\n",
       "    <tr>\n",
       "      <th>3</th>\n",
       "      <td>1.0</td>\n",
       "      <td>0.0</td>\n",
       "      <td>35.0</td>\n",
       "      <td>1.0</td>\n",
       "      <td>0.0</td>\n",
       "      <td>53.1000</td>\n",
       "      <td>1.0</td>\n",
       "      <td>0.0</td>\n",
       "      <td>1.0</td>\n",
       "    </tr>\n",
       "    <tr>\n",
       "      <th>4</th>\n",
       "      <td>3.0</td>\n",
       "      <td>1.0</td>\n",
       "      <td>35.0</td>\n",
       "      <td>0.0</td>\n",
       "      <td>0.0</td>\n",
       "      <td>8.0500</td>\n",
       "      <td>0.0</td>\n",
       "      <td>0.0</td>\n",
       "      <td>1.0</td>\n",
       "    </tr>\n",
       "  </tbody>\n",
       "</table>\n",
       "</div>"
      ],
      "text/plain": [
       "   Pclass  Sex   Age  SibSp  Parch     Fare  Survived  Embarked_Q  Embarked_S\n",
       "0     3.0  1.0  22.0    1.0    0.0   7.2500       0.0         0.0         1.0\n",
       "1     1.0  0.0  38.0    1.0    0.0  71.2833       1.0         0.0         0.0\n",
       "2     3.0  0.0  26.0    0.0    0.0   7.9250       1.0         0.0         1.0\n",
       "3     1.0  0.0  35.0    1.0    0.0  53.1000       1.0         0.0         1.0\n",
       "4     3.0  1.0  35.0    0.0    0.0   8.0500       0.0         0.0         1.0"
      ]
     },
     "execution_count": 24,
     "metadata": {},
     "output_type": "execute_result"
    }
   ],
   "source": [
    "df_train = df_impu.copy()\n",
    "df_train.head()"
   ]
  },
  {
   "cell_type": "code",
   "execution_count": 25,
   "id": "71f04b6b",
   "metadata": {
    "execution": {
     "iopub.execute_input": "2024-04-20T10:21:48.892322Z",
     "iopub.status.busy": "2024-04-20T10:21:48.891335Z",
     "iopub.status.idle": "2024-04-20T10:21:49.236317Z",
     "shell.execute_reply": "2024-04-20T10:21:49.235133Z"
    },
    "papermill": {
     "duration": 0.36992,
     "end_time": "2024-04-20T10:21:49.238776",
     "exception": false,
     "start_time": "2024-04-20T10:21:48.868856",
     "status": "completed"
    },
    "tags": []
   },
   "outputs": [
    {
     "data": {
      "text/plain": [
       "<Axes: >"
      ]
     },
     "execution_count": 25,
     "metadata": {},
     "output_type": "execute_result"
    },
    {
     "data": {
      "image/png": "[encoded data removed]",
      "text/plain": [
       "<Figure size 1500x500 with 1 Axes>"
      ]
     },
     "metadata": {},
     "output_type": "display_data"
    }
   ],
   "source": [
    "# Resize\n",
    "plt.figure(figsize=(15, 5))\n",
    "\n",
    "sns.boxplot(data=df_train)"
   ]
  },
  {
   "cell_type": "code",
   "execution_count": 26,
   "id": "cca25164",
   "metadata": {
    "execution": {
     "iopub.execute_input": "2024-04-20T10:21:49.284274Z",
     "iopub.status.busy": "2024-04-20T10:21:49.283845Z",
     "iopub.status.idle": "2024-04-20T10:21:49.297197Z",
     "shell.execute_reply": "2024-04-20T10:21:49.295909Z"
    },
    "papermill": {
     "duration": 0.039026,
     "end_time": "2024-04-20T10:21:49.299544",
     "exception": false,
     "start_time": "2024-04-20T10:21:49.260518",
     "status": "completed"
    },
    "tags": []
   },
   "outputs": [
    {
     "name": "stdout",
     "output_type": "stream",
     "text": [
      "The number of outliers in the <Age> field: 13\n",
      "The number of outliers in the <Fare> field: 114\n",
      "The number of outliers in the <SibSp> field: 46\n",
      "The number of outliers in the <Parch> field: 213\n",
      "The number of unique outliers in the all columns: 292\n"
     ]
    }
   ],
   "source": [
    "list_out_indexes = list()\n",
    "\n",
    "for col in ['Age', 'Fare', 'SibSp', 'Parch']:\n",
    "    # Calculate interquartile range\n",
    "    q25, q75 = percentile(df_train[col], 25), percentile(df_train[col], 75)\n",
    "    iqr = q75 - q25\n",
    "    \n",
    "    # Calculate the outlier cutoff\n",
    "    cut_off = iqr * 1.5\n",
    "    lower, upper = q25 - cut_off, q75 + cut_off\n",
    "    \n",
    "    out_df = df_train[(df_train[col]>upper) | (df_train[col]<lower)]\n",
    "    list_out_indexes += list(out_df.index)\n",
    "    print(f'The number of outliers in the <{col}> field: {len(out_df)}')\n",
    "    \n",
    "list_out_indexes_unique = list(set(list_out_indexes))\n",
    "print(f'The number of unique outliers in the all columns: {len(list_out_indexes_unique)}')"
   ]
  },
  {
   "cell_type": "code",
   "execution_count": 27,
   "id": "79205463",
   "metadata": {
    "execution": {
     "iopub.execute_input": "2024-04-20T10:21:49.345631Z",
     "iopub.status.busy": "2024-04-20T10:21:49.344807Z",
     "iopub.status.idle": "2024-04-20T10:21:49.365219Z",
     "shell.execute_reply": "2024-04-20T10:21:49.364085Z"
    },
    "papermill": {
     "duration": 0.046747,
     "end_time": "2024-04-20T10:21:49.368086",
     "exception": false,
     "start_time": "2024-04-20T10:21:49.321339",
     "status": "completed"
    },
    "tags": []
   },
   "outputs": [
    {
     "name": "stdout",
     "output_type": "stream",
     "text": [
      "df_train.shape: (597, 9)\n"
     ]
    },
    {
     "data": {
      "text/html": [
       "<div>\n",
       "<style scoped>\n",
       "    .dataframe tbody tr th:only-of-type {\n",
       "        vertical-align: middle;\n",
       "    }\n",
       "\n",
       "    .dataframe tbody tr th {\n",
       "        vertical-align: top;\n",
       "    }\n",
       "\n",
       "    .dataframe thead th {\n",
       "        text-align: right;\n",
       "    }\n",
       "</style>\n",
       "<table border=\"1\" class=\"dataframe\">\n",
       "  <thead>\n",
       "    <tr style=\"text-align: right;\">\n",
       "      <th></th>\n",
       "      <th>Pclass</th>\n",
       "      <th>Sex</th>\n",
       "      <th>Age</th>\n",
       "      <th>SibSp</th>\n",
       "      <th>Parch</th>\n",
       "      <th>Fare</th>\n",
       "      <th>Survived</th>\n",
       "      <th>Embarked_Q</th>\n",
       "      <th>Embarked_S</th>\n",
       "    </tr>\n",
       "  </thead>\n",
       "  <tbody>\n",
       "    <tr>\n",
       "      <th>0</th>\n",
       "      <td>3.0</td>\n",
       "      <td>1.0</td>\n",
       "      <td>22.0</td>\n",
       "      <td>1.0</td>\n",
       "      <td>0.0</td>\n",
       "      <td>7.2500</td>\n",
       "      <td>0.0</td>\n",
       "      <td>0.0</td>\n",
       "      <td>1.0</td>\n",
       "    </tr>\n",
       "    <tr>\n",
       "      <th>1</th>\n",
       "      <td>3.0</td>\n",
       "      <td>0.0</td>\n",
       "      <td>26.0</td>\n",
       "      <td>0.0</td>\n",
       "      <td>0.0</td>\n",
       "      <td>7.9250</td>\n",
       "      <td>1.0</td>\n",
       "      <td>0.0</td>\n",
       "      <td>1.0</td>\n",
       "    </tr>\n",
       "    <tr>\n",
       "      <th>2</th>\n",
       "      <td>1.0</td>\n",
       "      <td>0.0</td>\n",
       "      <td>35.0</td>\n",
       "      <td>1.0</td>\n",
       "      <td>0.0</td>\n",
       "      <td>53.1000</td>\n",
       "      <td>1.0</td>\n",
       "      <td>0.0</td>\n",
       "      <td>1.0</td>\n",
       "    </tr>\n",
       "    <tr>\n",
       "      <th>3</th>\n",
       "      <td>3.0</td>\n",
       "      <td>1.0</td>\n",
       "      <td>35.0</td>\n",
       "      <td>0.0</td>\n",
       "      <td>0.0</td>\n",
       "      <td>8.0500</td>\n",
       "      <td>0.0</td>\n",
       "      <td>0.0</td>\n",
       "      <td>1.0</td>\n",
       "    </tr>\n",
       "    <tr>\n",
       "      <th>4</th>\n",
       "      <td>3.0</td>\n",
       "      <td>1.0</td>\n",
       "      <td>47.8</td>\n",
       "      <td>0.0</td>\n",
       "      <td>0.0</td>\n",
       "      <td>8.4583</td>\n",
       "      <td>0.0</td>\n",
       "      <td>1.0</td>\n",
       "      <td>0.0</td>\n",
       "    </tr>\n",
       "  </tbody>\n",
       "</table>\n",
       "</div>"
      ],
      "text/plain": [
       "   Pclass  Sex   Age  SibSp  Parch     Fare  Survived  Embarked_Q  Embarked_S\n",
       "0     3.0  1.0  22.0    1.0    0.0   7.2500       0.0         0.0         1.0\n",
       "1     3.0  0.0  26.0    0.0    0.0   7.9250       1.0         0.0         1.0\n",
       "2     1.0  0.0  35.0    1.0    0.0  53.1000       1.0         0.0         1.0\n",
       "3     3.0  1.0  35.0    0.0    0.0   8.0500       0.0         0.0         1.0\n",
       "4     3.0  1.0  47.8    0.0    0.0   8.4583       0.0         1.0         0.0"
      ]
     },
     "execution_count": 27,
     "metadata": {},
     "output_type": "execute_result"
    }
   ],
   "source": [
    "df_train.drop(list_out_indexes_unique, inplace=True)\n",
    "\n",
    "# Reset DataFrame indexes \n",
    "df_train.reset_index(inplace=True, drop=True)\n",
    "print(\"df_train.shape: {}\".format(df_train.shape))\n",
    "df_train.head()"
   ]
  },
  {
   "cell_type": "markdown",
   "id": "8854da0c",
   "metadata": {
    "papermill": {
     "duration": 0.021582,
     "end_time": "2024-04-20T10:21:49.411572",
     "exception": false,
     "start_time": "2024-04-20T10:21:49.389990",
     "status": "completed"
    },
    "tags": []
   },
   "source": [
    "## **<div class=\"alert alert-block alert-info\">5. Hyperparameter Optimization and Evaluation<a class=\"anchor\"  id=\"5\"></a></div>**"
   ]
  },
  {
   "cell_type": "code",
   "execution_count": 28,
   "id": "14c34166",
   "metadata": {
    "execution": {
     "iopub.execute_input": "2024-04-20T10:21:49.457711Z",
     "iopub.status.busy": "2024-04-20T10:21:49.457001Z",
     "iopub.status.idle": "2024-04-20T10:21:49.467882Z",
     "shell.execute_reply": "2024-04-20T10:21:49.466785Z"
    },
    "papermill": {
     "duration": 0.036509,
     "end_time": "2024-04-20T10:21:49.470022",
     "exception": false,
     "start_time": "2024-04-20T10:21:49.433513",
     "status": "completed"
    },
    "tags": []
   },
   "outputs": [
    {
     "data": {
      "text/plain": [
       "Survived\n",
       "0.0    419\n",
       "1.0    178\n",
       "Name: count, dtype: int64"
      ]
     },
     "execution_count": 28,
     "metadata": {},
     "output_type": "execute_result"
    }
   ],
   "source": [
    "df_train['Survived'].value_counts()"
   ]
  },
  {
   "cell_type": "code",
   "execution_count": 29,
   "id": "9b5f0230",
   "metadata": {
    "execution": {
     "iopub.execute_input": "2024-04-20T10:21:49.516650Z",
     "iopub.status.busy": "2024-04-20T10:21:49.515689Z",
     "iopub.status.idle": "2024-04-20T10:21:49.523538Z",
     "shell.execute_reply": "2024-04-20T10:21:49.522243Z"
    },
    "papermill": {
     "duration": 0.033826,
     "end_time": "2024-04-20T10:21:49.525973",
     "exception": false,
     "start_time": "2024-04-20T10:21:49.492147",
     "status": "completed"
    },
    "tags": []
   },
   "outputs": [
    {
     "name": "stdout",
     "output_type": "stream",
     "text": [
      "Size of X training set: (597, 8)   size of y training set: (597,)\n"
     ]
    }
   ],
   "source": [
    "X_train = df_train.drop('Survived', axis=1)\n",
    "y_train = df_train['Survived']\n",
    "\n",
    "print(\"Size of X training set: {}   size of y training set: {}\".format(X_train.shape, y_train.shape))"
   ]
  },
  {
   "cell_type": "code",
   "execution_count": 30,
   "id": "aca2cba2",
   "metadata": {
    "execution": {
     "iopub.execute_input": "2024-04-20T10:21:49.572785Z",
     "iopub.status.busy": "2024-04-20T10:21:49.572387Z",
     "iopub.status.idle": "2024-04-20T10:21:49.577833Z",
     "shell.execute_reply": "2024-04-20T10:21:49.576784Z"
    },
    "papermill": {
     "duration": 0.032013,
     "end_time": "2024-04-20T10:21:49.580262",
     "exception": false,
     "start_time": "2024-04-20T10:21:49.548249",
     "status": "completed"
    },
    "tags": []
   },
   "outputs": [],
   "source": [
    "# import time\n",
    "# start_time = time.time()\n",
    "\n",
    "# # Number of trees in random forest\n",
    "# n_estimators = [int(x) for x in range(2, 11)]\n",
    "\n",
    "# # Number of features to consider at every split\n",
    "# max_features = ['sqrt', 'log2', 'auto']\n",
    "\n",
    "# # Maxsimum number of levels in tree\n",
    "# max_depth = [3, 4, 5, 6, 7, 8, 9, 10, 11]\n",
    "\n",
    "# # Minimum number of samples required to split a node\n",
    "# min_samples_split = [5, 10, 20, 30, 40, 50, 100]\n",
    "\n",
    "# # Minimum number of samples required at each leaf node\n",
    "# min_samples_leaf = [5, 10, 20, 30, 40, 50, 100]\n",
    "\n",
    "# # Method of selecting samples for training each tree\n",
    "# bootstrap = [True]\n",
    "\n",
    "# # Criterion\n",
    "# criterion = ['gini', 'entropy']\n",
    "\n",
    "# # Create the Random Grid\n",
    "# param_grid = {'criterion' : criterion,\n",
    "#               'n_estimators': n_estimators,\n",
    "#               'max_features': max_features,\n",
    "#               'max_depth': max_depth,\n",
    "#               'min_samples_split': min_samples_split,\n",
    "#               'min_samples_leaf': min_samples_leaf,\n",
    "#               'bootstrap': bootstrap}\n",
    "\n",
    "# # Use the Grid Search to Search for Best Hyperparameters\n",
    "# # First Create the Base Model to Tune\n",
    "# forest = RandomForestClassifier(random_state=0)\n",
    "\n",
    "# # KFold Cross-Validation\n",
    "# kfold = KFold(n_splits=3, shuffle=True, random_state=0)\n",
    "# grid_search = GridSearchCV(estimator=forest, param_grid=param_grid, cv=kfold, scoring='accuracy')\n",
    "\n",
    "# # Fit the Grid Search Model\n",
    "# grid_search.fit(X_train, y_train)\n",
    "\n",
    "# # Summarize Results\n",
    "# print('Best parameters: {}'.format(grid_search.best_params_))\n",
    "# print('Best cross-validation score: {:.3f}'.format(grid_search.best_score_))\n",
    "# print('Best estimator: {}'.format(grid_search.best_estimator_))\n",
    "\n",
    "# results = pd.DataFrame(grid_search.cv_results_)\n",
    "# # display(results.head())\n",
    "\n",
    "# print(\"--- %s seconds ---\" % (time.time() - start_time))"
   ]
  },
  {
   "cell_type": "markdown",
   "id": "5deed21b",
   "metadata": {
    "papermill": {
     "duration": 0.02153,
     "end_time": "2024-04-20T10:21:49.623874",
     "exception": false,
     "start_time": "2024-04-20T10:21:49.602344",
     "status": "completed"
    },
    "tags": []
   },
   "source": [
    "Output:\n",
    "\n",
    "Best parameters: {'bootstrap': True, 'criterion': 'gini', 'max_depth': 8, 'max_features': 'log2', 'min_samples_leaf': 5, 'min_samples_split': 5, 'n_estimators': 4}\n",
    "\n",
    "Best cross-validation score: 0.849\n",
    "\n",
    "Best estimator: RandomForestClassifier(max_depth=8, max_features='log2', min_samples_leaf=5,\n",
    "                       min_samples_split=5, n_estimators=4, random_state=0)\n",
    "                       \n",
    "--- 1195.9046943187714 seconds ---"
   ]
  },
  {
   "cell_type": "markdown",
   "id": "e1e6b882",
   "metadata": {
    "papermill": {
     "duration": 0.022028,
     "end_time": "2024-04-20T10:21:49.667888",
     "exception": false,
     "start_time": "2024-04-20T10:21:49.645860",
     "status": "completed"
    },
    "tags": []
   },
   "source": [
    "## **<div class=\"alert alert-block alert-info\">6. Model Building<a class=\"anchor\"  id=\"6\"></a></div>**"
   ]
  },
  {
   "cell_type": "code",
   "execution_count": 31,
   "id": "1663b856",
   "metadata": {
    "execution": {
     "iopub.execute_input": "2024-04-20T10:21:49.714727Z",
     "iopub.status.busy": "2024-04-20T10:21:49.713817Z",
     "iopub.status.idle": "2024-04-20T10:21:49.739081Z",
     "shell.execute_reply": "2024-04-20T10:21:49.737887Z"
    },
    "papermill": {
     "duration": 0.051511,
     "end_time": "2024-04-20T10:21:49.741567",
     "exception": false,
     "start_time": "2024-04-20T10:21:49.690056",
     "status": "completed"
    },
    "tags": []
   },
   "outputs": [
    {
     "data": {
      "text/html": [
       "<style>#sk-container-id-1 {color: black;background-color: white;}#sk-container-id-1 pre{padding: 0;}#sk-container-id-1 div.sk-toggleable {background-color: white;}#sk-container-id-1 label.sk-toggleable__label {cursor: pointer;display: block;width: 100%;margin-bottom: 0;padding: 0.3em;box-sizing: border-box;text-align: center;}#sk-container-id-1 label.sk-toggleable__label-arrow:before {content: \"▸\";float: left;margin-right: 0.25em;color: #696969;}#sk-container-id-1 label.sk-toggleable__label-arrow:hover:before {color: black;}#sk-container-id-1 div.sk-estimator:hover label.sk-toggleable__label-arrow:before {color: black;}#sk-container-id-1 div.sk-toggleable__content {max-height: 0;max-width: 0;overflow: hidden;text-align: left;background-color: #f0f8ff;}#sk-container-id-1 div.sk-toggleable__content pre {margin: 0.2em;color: black;border-radius: 0.25em;background-color: #f0f8ff;}#sk-container-id-1 input.sk-toggleable__control:checked~div.sk-toggleable__content {max-height: 200px;max-width: 100%;overflow: auto;}#sk-container-id-1 input.sk-toggleable__control:checked~label.sk-toggleable__label-arrow:before {content: \"▾\";}#sk-container-id-1 div.sk-estimator input.sk-toggleable__control:checked~label.sk-toggleable__label {background-color: #d4ebff;}#sk-container-id-1 div.sk-label input.sk-toggleable__control:checked~label.sk-toggleable__label {background-color: #d4ebff;}#sk-container-id-1 input.sk-hidden--visually {border: 0;clip: rect(1px 1px 1px 1px);clip: rect(1px, 1px, 1px, 1px);height: 1px;margin: -1px;overflow: hidden;padding: 0;position: absolute;width: 1px;}#sk-container-id-1 div.sk-estimator {font-family: monospace;background-color: #f0f8ff;border: 1px dotted black;border-radius: 0.25em;box-sizing: border-box;margin-bottom: 0.5em;}#sk-container-id-1 div.sk-estimator:hover {background-color: #d4ebff;}#sk-container-id-1 div.sk-parallel-item::after {content: \"\";width: 100%;border-bottom: 1px solid gray;flex-grow: 1;}#sk-container-id-1 div.sk-label:hover label.sk-toggleable__label {background-color: #d4ebff;}#sk-container-id-1 div.sk-serial::before {content: \"\";position: absolute;border-left: 1px solid gray;box-sizing: border-box;top: 0;bottom: 0;left: 50%;z-index: 0;}#sk-container-id-1 div.sk-serial {display: flex;flex-direction: column;align-items: center;background-color: white;padding-right: 0.2em;padding-left: 0.2em;position: relative;}#sk-container-id-1 div.sk-item {position: relative;z-index: 1;}#sk-container-id-1 div.sk-parallel {display: flex;align-items: stretch;justify-content: center;background-color: white;position: relative;}#sk-container-id-1 div.sk-item::before, #sk-container-id-1 div.sk-parallel-item::before {content: \"\";position: absolute;border-left: 1px solid gray;box-sizing: border-box;top: 0;bottom: 0;left: 50%;z-index: -1;}#sk-container-id-1 div.sk-parallel-item {display: flex;flex-direction: column;z-index: 1;position: relative;background-color: white;}#sk-container-id-1 div.sk-parallel-item:first-child::after {align-self: flex-end;width: 50%;}#sk-container-id-1 div.sk-parallel-item:last-child::after {align-self: flex-start;width: 50%;}#sk-container-id-1 div.sk-parallel-item:only-child::after {width: 0;}#sk-container-id-1 div.sk-dashed-wrapped {border: 1px dashed gray;margin: 0 0.4em 0.5em 0.4em;box-sizing: border-box;padding-bottom: 0.4em;background-color: white;}#sk-container-id-1 div.sk-label label {font-family: monospace;font-weight: bold;display: inline-block;line-height: 1.2em;}#sk-container-id-1 div.sk-label-container {text-align: center;}#sk-container-id-1 div.sk-container {/* jupyter's `normalize.less` sets `[hidden] { display: none; }` but bootstrap.min.css set `[hidden] { display: none !important; }` so we also need the `!important` here to be able to override the default hidden behavior on the sphinx rendered scikit-learn.org. See: https://github.com/scikit-learn/scikit-learn/issues/21755 */display: inline-block !important;position: relative;}#sk-container-id-1 div.sk-text-repr-fallback {display: none;}</style><div id=\"sk-container-id-1\" class=\"sk-top-container\"><div class=\"sk-text-repr-fallback\"><pre>RandomForestClassifier(max_depth=8, max_features=&#x27;log2&#x27;, min_samples_leaf=5,\n",
       "                       min_samples_split=5, n_estimators=4, random_state=0)</pre><b>In a Jupyter environment, please rerun this cell to show the HTML representation or trust the notebook. <br />On GitHub, the HTML representation is unable to render, please try loading this page with nbviewer.org.</b></div><div class=\"sk-container\" hidden><div class=\"sk-item\"><div class=\"sk-estimator sk-toggleable\"><input class=\"sk-toggleable__control sk-hidden--visually\" id=\"sk-estimator-id-1\" type=\"checkbox\" checked><label for=\"sk-estimator-id-1\" class=\"sk-toggleable__label sk-toggleable__label-arrow\">RandomForestClassifier</label><div class=\"sk-toggleable__content\"><pre>RandomForestClassifier(max_depth=8, max_features=&#x27;log2&#x27;, min_samples_leaf=5,\n",
       "                       min_samples_split=5, n_estimators=4, random_state=0)</pre></div></div></div></div></div>"
      ],
      "text/plain": [
       "RandomForestClassifier(max_depth=8, max_features='log2', min_samples_leaf=5,\n",
       "                       min_samples_split=5, n_estimators=4, random_state=0)"
      ]
     },
     "execution_count": 31,
     "metadata": {},
     "output_type": "execute_result"
    }
   ],
   "source": [
    "forest = RandomForestClassifier(n_estimators=4, criterion=\"gini\", max_features=\"log2\", max_depth=8,\n",
    "                                min_samples_split=5 , min_samples_leaf=5 , bootstrap=True, random_state=0)\n",
    "\n",
    "forest.fit(X_train, y_train)"
   ]
  },
  {
   "cell_type": "code",
   "execution_count": 32,
   "id": "429dd3a5",
   "metadata": {
    "execution": {
     "iopub.execute_input": "2024-04-20T10:21:49.792378Z",
     "iopub.status.busy": "2024-04-20T10:21:49.791546Z",
     "iopub.status.idle": "2024-04-20T10:21:50.089635Z",
     "shell.execute_reply": "2024-04-20T10:21:50.088476Z"
    },
    "papermill": {
     "duration": 0.32734,
     "end_time": "2024-04-20T10:21:50.091989",
     "exception": false,
     "start_time": "2024-04-20T10:21:49.764649",
     "status": "completed"
    },
    "tags": []
   },
   "outputs": [
    {
     "data": {
      "image/png": "[encoded data removed]",
      "text/plain": [
       "<Figure size 640x480 with 1 Axes>"
      ]
     },
     "metadata": {},
     "output_type": "display_data"
    }
   ],
   "source": [
    "pd.DataFrame(dict(cols=X_train.columns, imp=forest.feature_importances_)).plot('cols', 'imp', 'barh');"
   ]
  },
  {
   "cell_type": "code",
   "execution_count": 33,
   "id": "971ba3d3",
   "metadata": {
    "execution": {
     "iopub.execute_input": "2024-04-20T10:21:50.139406Z",
     "iopub.status.busy": "2024-04-20T10:21:50.138952Z",
     "iopub.status.idle": "2024-04-20T10:21:50.144825Z",
     "shell.execute_reply": "2024-04-20T10:21:50.143921Z"
    },
    "papermill": {
     "duration": 0.032235,
     "end_time": "2024-04-20T10:21:50.146913",
     "exception": false,
     "start_time": "2024-04-20T10:21:50.114678",
     "status": "completed"
    },
    "tags": []
   },
   "outputs": [],
   "source": [
    "# Save model\n",
    "filename = 'titanic_forest.sav'\n",
    "pickle.dump(forest, open(filename, 'wb'))"
   ]
  },
  {
   "cell_type": "code",
   "execution_count": 34,
   "id": "e46580ee",
   "metadata": {
    "execution": {
     "iopub.execute_input": "2024-04-20T10:21:50.195524Z",
     "iopub.status.busy": "2024-04-20T10:21:50.194288Z",
     "iopub.status.idle": "2024-04-20T10:21:50.242578Z",
     "shell.execute_reply": "2024-04-20T10:21:50.241474Z"
    },
    "papermill": {
     "duration": 0.075651,
     "end_time": "2024-04-20T10:21:50.245620",
     "exception": false,
     "start_time": "2024-04-20T10:21:50.169969",
     "status": "completed"
    },
    "tags": []
   },
   "outputs": [
    {
     "name": "stdout",
     "output_type": "stream",
     "text": [
      "Size of X test set: (418, 8)\n"
     ]
    },
    {
     "data": {
      "text/html": [
       "<div>\n",
       "<style scoped>\n",
       "    .dataframe tbody tr th:only-of-type {\n",
       "        vertical-align: middle;\n",
       "    }\n",
       "\n",
       "    .dataframe tbody tr th {\n",
       "        vertical-align: top;\n",
       "    }\n",
       "\n",
       "    .dataframe thead th {\n",
       "        text-align: right;\n",
       "    }\n",
       "</style>\n",
       "<table border=\"1\" class=\"dataframe\">\n",
       "  <thead>\n",
       "    <tr style=\"text-align: right;\">\n",
       "      <th></th>\n",
       "      <th>Pclass</th>\n",
       "      <th>Sex</th>\n",
       "      <th>Age</th>\n",
       "      <th>SibSp</th>\n",
       "      <th>Parch</th>\n",
       "      <th>Fare</th>\n",
       "      <th>Embarked_Q</th>\n",
       "      <th>Embarked_S</th>\n",
       "    </tr>\n",
       "  </thead>\n",
       "  <tbody>\n",
       "    <tr>\n",
       "      <th>0</th>\n",
       "      <td>3.0</td>\n",
       "      <td>1.0</td>\n",
       "      <td>34.5</td>\n",
       "      <td>0.0</td>\n",
       "      <td>0.0</td>\n",
       "      <td>7.8292</td>\n",
       "      <td>1.0</td>\n",
       "      <td>0.0</td>\n",
       "    </tr>\n",
       "    <tr>\n",
       "      <th>1</th>\n",
       "      <td>3.0</td>\n",
       "      <td>0.0</td>\n",
       "      <td>47.0</td>\n",
       "      <td>1.0</td>\n",
       "      <td>0.0</td>\n",
       "      <td>7.0000</td>\n",
       "      <td>0.0</td>\n",
       "      <td>1.0</td>\n",
       "    </tr>\n",
       "    <tr>\n",
       "      <th>2</th>\n",
       "      <td>2.0</td>\n",
       "      <td>1.0</td>\n",
       "      <td>62.0</td>\n",
       "      <td>0.0</td>\n",
       "      <td>0.0</td>\n",
       "      <td>9.6875</td>\n",
       "      <td>1.0</td>\n",
       "      <td>0.0</td>\n",
       "    </tr>\n",
       "    <tr>\n",
       "      <th>3</th>\n",
       "      <td>3.0</td>\n",
       "      <td>1.0</td>\n",
       "      <td>27.0</td>\n",
       "      <td>0.0</td>\n",
       "      <td>0.0</td>\n",
       "      <td>8.6625</td>\n",
       "      <td>0.0</td>\n",
       "      <td>1.0</td>\n",
       "    </tr>\n",
       "    <tr>\n",
       "      <th>4</th>\n",
       "      <td>3.0</td>\n",
       "      <td>0.0</td>\n",
       "      <td>22.0</td>\n",
       "      <td>1.0</td>\n",
       "      <td>1.0</td>\n",
       "      <td>12.2875</td>\n",
       "      <td>0.0</td>\n",
       "      <td>1.0</td>\n",
       "    </tr>\n",
       "  </tbody>\n",
       "</table>\n",
       "</div>"
      ],
      "text/plain": [
       "   Pclass  Sex   Age  SibSp  Parch     Fare  Embarked_Q  Embarked_S\n",
       "0     3.0  1.0  34.5    0.0    0.0   7.8292         1.0         0.0\n",
       "1     3.0  0.0  47.0    1.0    0.0   7.0000         0.0         1.0\n",
       "2     2.0  1.0  62.0    0.0    0.0   9.6875         1.0         0.0\n",
       "3     3.0  1.0  27.0    0.0    0.0   8.6625         0.0         1.0\n",
       "4     3.0  0.0  22.0    1.0    1.0  12.2875         0.0         1.0"
      ]
     },
     "execution_count": 34,
     "metadata": {},
     "output_type": "execute_result"
    }
   ],
   "source": [
    "X_test = df_test[['Pclass', 'Sex', 'Age', 'SibSp', 'Parch', 'Fare', 'Embarked']]\n",
    "\n",
    "# Dummy variable encoding\n",
    "X_test = pd.get_dummies(X_test, columns=['Embarked', ], drop_first=True)\n",
    "\n",
    "# Ordinal encode input variables\n",
    "ordinal_e = OrdinalEncoder()\n",
    "X_test[['Sex','Embarked_Q', 'Embarked_S']] = ordinal_e.fit_transform(X_test[['Sex','Embarked_Q', 'Embarked_S']])\n",
    "\n",
    "df_impu = X_test.copy()\n",
    "\n",
    "scaler = MinMaxScaler()\n",
    "df_impu = pd.DataFrame(scaler.fit_transform(df_impu), columns = df_impu.columns)\n",
    "\n",
    "# Define imputer\n",
    "imputer = KNNImputer(n_neighbors=5)\n",
    "df_impu = pd.DataFrame(imputer.fit_transform(df_impu),columns = df_impu.columns)\n",
    "\n",
    "\n",
    "df_impu_inv = scaler.inverse_transform(df_impu)\n",
    "df_impu = pd.DataFrame(df_impu_inv, columns=df_impu.columns)\n",
    "\n",
    "X_test = df_impu.copy()\n",
    "print(\"Size of X test set: {}\".format(X_test.shape))\n",
    "X_test.head()"
   ]
  },
  {
   "cell_type": "code",
   "execution_count": 35,
   "id": "667b3c90",
   "metadata": {
    "execution": {
     "iopub.execute_input": "2024-04-20T10:21:50.329426Z",
     "iopub.status.busy": "2024-04-20T10:21:50.328566Z",
     "iopub.status.idle": "2024-04-20T10:21:50.339276Z",
     "shell.execute_reply": "2024-04-20T10:21:50.338389Z"
    },
    "papermill": {
     "duration": 0.054841,
     "end_time": "2024-04-20T10:21:50.341556",
     "exception": false,
     "start_time": "2024-04-20T10:21:50.286715",
     "status": "completed"
    },
    "tags": []
   },
   "outputs": [
    {
     "data": {
      "text/plain": [
       "Pclass        0\n",
       "Sex           0\n",
       "Age           0\n",
       "SibSp         0\n",
       "Parch         0\n",
       "Fare          0\n",
       "Embarked_Q    0\n",
       "Embarked_S    0\n",
       "dtype: int64"
      ]
     },
     "execution_count": 35,
     "metadata": {},
     "output_type": "execute_result"
    }
   ],
   "source": [
    "X_test.isnull().sum()"
   ]
  },
  {
   "cell_type": "code",
   "execution_count": 36,
   "id": "b14acb47",
   "metadata": {
    "execution": {
     "iopub.execute_input": "2024-04-20T10:21:50.391580Z",
     "iopub.status.busy": "2024-04-20T10:21:50.390438Z",
     "iopub.status.idle": "2024-04-20T10:21:50.403278Z",
     "shell.execute_reply": "2024-04-20T10:21:50.401871Z"
    },
    "papermill": {
     "duration": 0.040231,
     "end_time": "2024-04-20T10:21:50.405853",
     "exception": false,
     "start_time": "2024-04-20T10:21:50.365622",
     "status": "completed"
    },
    "tags": []
   },
   "outputs": [
    {
     "data": {
      "text/plain": [
       "array([0., 0., 0., 0., 0., 0., 0., 0., 0., 0., 0., 0., 1., 0., 1., 1., 0.,\n",
       "       0., 0., 0., 1., 0., 1., 1., 1., 0., 1., 0., 1., 0., 0., 0., 0., 1.,\n",
       "       1., 0., 0., 0., 0., 1., 0., 1., 0., 1., 1., 0., 1., 0., 1., 1., 1.,\n",
       "       0., 1., 1., 0., 0., 0., 0., 0., 1., 0., 0., 0., 0., 0., 1., 0., 0.,\n",
       "       0., 1., 0., 0., 1., 0., 1., 1., 0., 1., 0., 0., 0., 1., 0., 0., 0.,\n",
       "       0., 0., 0., 0., 0., 0., 0., 1., 0., 0., 0., 1., 0., 0., 0., 1., 0.,\n",
       "       0., 0., 1., 0., 0., 0., 0., 0., 0., 0., 1., 0., 1., 0., 0., 0., 1.,\n",
       "       1., 1., 0., 1., 0., 0., 0., 0., 1., 0., 0., 0., 0., 1., 1., 0., 0.,\n",
       "       0., 0., 0., 0., 1., 1., 1., 0., 1., 0., 0., 0., 1., 0., 1., 0., 0.,\n",
       "       1., 0., 0., 1., 0., 1., 0., 0., 0., 1., 0., 0., 1., 0., 0., 1., 0.,\n",
       "       0., 0., 0., 0., 0., 1., 1., 1., 1., 1., 0., 1., 1., 0., 1., 0., 1.,\n",
       "       0., 1., 0., 0., 0., 0., 0., 0., 0., 1., 0., 0., 0., 0., 0., 1., 1.,\n",
       "       0., 0., 0., 0., 1., 0., 0., 0., 1., 1., 0., 0., 0., 1., 1., 0., 1.,\n",
       "       0., 1., 0., 1., 0., 0., 0., 0., 0., 1., 1., 0., 0., 1., 0., 1., 0.,\n",
       "       1., 1., 1., 1., 1., 0., 0., 0., 1., 0., 1., 0., 1., 0., 1., 0., 0.,\n",
       "       0., 0., 0., 1., 0., 0., 0., 1., 0., 0., 0., 0., 0., 0., 0., 1., 0.,\n",
       "       1., 0., 0., 1., 0., 0., 0., 0., 0., 0., 0., 1., 0., 0., 0., 1., 0.,\n",
       "       0., 0., 0., 0., 1., 0., 0., 1., 0., 0., 0., 0., 0., 0., 0., 0., 1.,\n",
       "       1., 0., 1., 0., 0., 0., 0., 0., 1., 1., 1., 0., 0., 0., 0., 0., 0.,\n",
       "       1., 1., 0., 1., 1., 0., 0., 1., 1., 0., 0., 0., 0., 0., 0., 0., 0.,\n",
       "       0., 0., 0., 1., 0., 1., 0., 0., 0., 1., 1., 0., 1., 0., 0., 0., 1.,\n",
       "       0., 0., 0., 0., 1., 1., 0., 1., 1., 0., 1., 1., 0., 0., 1., 0., 0.,\n",
       "       1., 1., 0., 0., 0., 0., 0., 0., 0., 0., 0., 1., 0., 0., 0., 0., 1.,\n",
       "       1., 0., 0., 0., 1., 0., 1., 0., 0., 1., 0., 1., 0., 0., 0., 0., 1.,\n",
       "       0., 0., 0., 1., 0., 0., 1., 0., 0., 0.])"
      ]
     },
     "execution_count": 36,
     "metadata": {},
     "output_type": "execute_result"
    }
   ],
   "source": [
    "y_pred_forest = forest.predict(X_test)\n",
    "y_pred_forest"
   ]
  },
  {
   "cell_type": "code",
   "execution_count": 37,
   "id": "1618fd82",
   "metadata": {
    "execution": {
     "iopub.execute_input": "2024-04-20T10:21:50.456298Z",
     "iopub.status.busy": "2024-04-20T10:21:50.455835Z",
     "iopub.status.idle": "2024-04-20T10:21:50.473940Z",
     "shell.execute_reply": "2024-04-20T10:21:50.472686Z"
    },
    "papermill": {
     "duration": 0.046774,
     "end_time": "2024-04-20T10:21:50.476296",
     "exception": false,
     "start_time": "2024-04-20T10:21:50.429522",
     "status": "completed"
    },
    "tags": []
   },
   "outputs": [
    {
     "data": {
      "text/html": [
       "<div>\n",
       "<style scoped>\n",
       "    .dataframe tbody tr th:only-of-type {\n",
       "        vertical-align: middle;\n",
       "    }\n",
       "\n",
       "    .dataframe tbody tr th {\n",
       "        vertical-align: top;\n",
       "    }\n",
       "\n",
       "    .dataframe thead th {\n",
       "        text-align: right;\n",
       "    }\n",
       "</style>\n",
       "<table border=\"1\" class=\"dataframe\">\n",
       "  <thead>\n",
       "    <tr style=\"text-align: right;\">\n",
       "      <th></th>\n",
       "      <th>PassengerId</th>\n",
       "      <th>Pclass</th>\n",
       "      <th>Name</th>\n",
       "      <th>Sex</th>\n",
       "      <th>Age</th>\n",
       "      <th>SibSp</th>\n",
       "      <th>Parch</th>\n",
       "      <th>Ticket</th>\n",
       "      <th>Fare</th>\n",
       "      <th>Cabin</th>\n",
       "      <th>Embarked</th>\n",
       "    </tr>\n",
       "  </thead>\n",
       "  <tbody>\n",
       "    <tr>\n",
       "      <th>0</th>\n",
       "      <td>892</td>\n",
       "      <td>3</td>\n",
       "      <td>Kelly, Mr. James</td>\n",
       "      <td>male</td>\n",
       "      <td>34.5</td>\n",
       "      <td>0</td>\n",
       "      <td>0</td>\n",
       "      <td>330911</td>\n",
       "      <td>7.8292</td>\n",
       "      <td>NaN</td>\n",
       "      <td>Q</td>\n",
       "    </tr>\n",
       "    <tr>\n",
       "      <th>1</th>\n",
       "      <td>893</td>\n",
       "      <td>3</td>\n",
       "      <td>Wilkes, Mrs. James (Ellen Needs)</td>\n",
       "      <td>female</td>\n",
       "      <td>47.0</td>\n",
       "      <td>1</td>\n",
       "      <td>0</td>\n",
       "      <td>363272</td>\n",
       "      <td>7.0000</td>\n",
       "      <td>NaN</td>\n",
       "      <td>S</td>\n",
       "    </tr>\n",
       "    <tr>\n",
       "      <th>2</th>\n",
       "      <td>894</td>\n",
       "      <td>2</td>\n",
       "      <td>Myles, Mr. Thomas Francis</td>\n",
       "      <td>male</td>\n",
       "      <td>62.0</td>\n",
       "      <td>0</td>\n",
       "      <td>0</td>\n",
       "      <td>240276</td>\n",
       "      <td>9.6875</td>\n",
       "      <td>NaN</td>\n",
       "      <td>Q</td>\n",
       "    </tr>\n",
       "    <tr>\n",
       "      <th>3</th>\n",
       "      <td>895</td>\n",
       "      <td>3</td>\n",
       "      <td>Wirz, Mr. Albert</td>\n",
       "      <td>male</td>\n",
       "      <td>27.0</td>\n",
       "      <td>0</td>\n",
       "      <td>0</td>\n",
       "      <td>315154</td>\n",
       "      <td>8.6625</td>\n",
       "      <td>NaN</td>\n",
       "      <td>S</td>\n",
       "    </tr>\n",
       "    <tr>\n",
       "      <th>4</th>\n",
       "      <td>896</td>\n",
       "      <td>3</td>\n",
       "      <td>Hirvonen, Mrs. Alexander (Helga E Lindqvist)</td>\n",
       "      <td>female</td>\n",
       "      <td>22.0</td>\n",
       "      <td>1</td>\n",
       "      <td>1</td>\n",
       "      <td>3101298</td>\n",
       "      <td>12.2875</td>\n",
       "      <td>NaN</td>\n",
       "      <td>S</td>\n",
       "    </tr>\n",
       "    <tr>\n",
       "      <th>...</th>\n",
       "      <td>...</td>\n",
       "      <td>...</td>\n",
       "      <td>...</td>\n",
       "      <td>...</td>\n",
       "      <td>...</td>\n",
       "      <td>...</td>\n",
       "      <td>...</td>\n",
       "      <td>...</td>\n",
       "      <td>...</td>\n",
       "      <td>...</td>\n",
       "      <td>...</td>\n",
       "    </tr>\n",
       "    <tr>\n",
       "      <th>413</th>\n",
       "      <td>1305</td>\n",
       "      <td>3</td>\n",
       "      <td>Spector, Mr. Woolf</td>\n",
       "      <td>male</td>\n",
       "      <td>NaN</td>\n",
       "      <td>0</td>\n",
       "      <td>0</td>\n",
       "      <td>A.5. 3236</td>\n",
       "      <td>8.0500</td>\n",
       "      <td>NaN</td>\n",
       "      <td>S</td>\n",
       "    </tr>\n",
       "    <tr>\n",
       "      <th>414</th>\n",
       "      <td>1306</td>\n",
       "      <td>1</td>\n",
       "      <td>Oliva y Ocana, Dona. Fermina</td>\n",
       "      <td>female</td>\n",
       "      <td>39.0</td>\n",
       "      <td>0</td>\n",
       "      <td>0</td>\n",
       "      <td>PC 17758</td>\n",
       "      <td>108.9000</td>\n",
       "      <td>C105</td>\n",
       "      <td>C</td>\n",
       "    </tr>\n",
       "    <tr>\n",
       "      <th>415</th>\n",
       "      <td>1307</td>\n",
       "      <td>3</td>\n",
       "      <td>Saether, Mr. Simon Sivertsen</td>\n",
       "      <td>male</td>\n",
       "      <td>38.5</td>\n",
       "      <td>0</td>\n",
       "      <td>0</td>\n",
       "      <td>SOTON/O.Q. 3101262</td>\n",
       "      <td>7.2500</td>\n",
       "      <td>NaN</td>\n",
       "      <td>S</td>\n",
       "    </tr>\n",
       "    <tr>\n",
       "      <th>416</th>\n",
       "      <td>1308</td>\n",
       "      <td>3</td>\n",
       "      <td>Ware, Mr. Frederick</td>\n",
       "      <td>male</td>\n",
       "      <td>NaN</td>\n",
       "      <td>0</td>\n",
       "      <td>0</td>\n",
       "      <td>359309</td>\n",
       "      <td>8.0500</td>\n",
       "      <td>NaN</td>\n",
       "      <td>S</td>\n",
       "    </tr>\n",
       "    <tr>\n",
       "      <th>417</th>\n",
       "      <td>1309</td>\n",
       "      <td>3</td>\n",
       "      <td>Peter, Master. Michael J</td>\n",
       "      <td>male</td>\n",
       "      <td>NaN</td>\n",
       "      <td>1</td>\n",
       "      <td>1</td>\n",
       "      <td>2668</td>\n",
       "      <td>22.3583</td>\n",
       "      <td>NaN</td>\n",
       "      <td>C</td>\n",
       "    </tr>\n",
       "  </tbody>\n",
       "</table>\n",
       "<p>418 rows × 11 columns</p>\n",
       "</div>"
      ],
      "text/plain": [
       "     PassengerId  Pclass                                          Name  \\\n",
       "0            892       3                              Kelly, Mr. James   \n",
       "1            893       3              Wilkes, Mrs. James (Ellen Needs)   \n",
       "2            894       2                     Myles, Mr. Thomas Francis   \n",
       "3            895       3                              Wirz, Mr. Albert   \n",
       "4            896       3  Hirvonen, Mrs. Alexander (Helga E Lindqvist)   \n",
       "..           ...     ...                                           ...   \n",
       "413         1305       3                            Spector, Mr. Woolf   \n",
       "414         1306       1                  Oliva y Ocana, Dona. Fermina   \n",
       "415         1307       3                  Saether, Mr. Simon Sivertsen   \n",
       "416         1308       3                           Ware, Mr. Frederick   \n",
       "417         1309       3                      Peter, Master. Michael J   \n",
       "\n",
       "        Sex   Age  SibSp  Parch              Ticket      Fare Cabin Embarked  \n",
       "0      male  34.5      0      0              330911    7.8292   NaN        Q  \n",
       "1    female  47.0      1      0              363272    7.0000   NaN        S  \n",
       "2      male  62.0      0      0              240276    9.6875   NaN        Q  \n",
       "3      male  27.0      0      0              315154    8.6625   NaN        S  \n",
       "4    female  22.0      1      1             3101298   12.2875   NaN        S  \n",
       "..      ...   ...    ...    ...                 ...       ...   ...      ...  \n",
       "413    male   NaN      0      0           A.5. 3236    8.0500   NaN        S  \n",
       "414  female  39.0      0      0            PC 17758  108.9000  C105        C  \n",
       "415    male  38.5      0      0  SOTON/O.Q. 3101262    7.2500   NaN        S  \n",
       "416    male   NaN      0      0              359309    8.0500   NaN        S  \n",
       "417    male   NaN      1      1                2668   22.3583   NaN        C  \n",
       "\n",
       "[418 rows x 11 columns]"
      ]
     },
     "execution_count": 37,
     "metadata": {},
     "output_type": "execute_result"
    }
   ],
   "source": [
    "df_test"
   ]
  },
  {
   "cell_type": "code",
   "execution_count": 38,
   "id": "00a21566",
   "metadata": {
    "execution": {
     "iopub.execute_input": "2024-04-20T10:21:50.526423Z",
     "iopub.status.busy": "2024-04-20T10:21:50.525651Z",
     "iopub.status.idle": "2024-04-20T10:21:50.537660Z",
     "shell.execute_reply": "2024-04-20T10:21:50.536425Z"
    },
    "papermill": {
     "duration": 0.039671,
     "end_time": "2024-04-20T10:21:50.539950",
     "exception": false,
     "start_time": "2024-04-20T10:21:50.500279",
     "status": "completed"
    },
    "tags": []
   },
   "outputs": [
    {
     "data": {
      "text/html": [
       "<div>\n",
       "<style scoped>\n",
       "    .dataframe tbody tr th:only-of-type {\n",
       "        vertical-align: middle;\n",
       "    }\n",
       "\n",
       "    .dataframe tbody tr th {\n",
       "        vertical-align: top;\n",
       "    }\n",
       "\n",
       "    .dataframe thead th {\n",
       "        text-align: right;\n",
       "    }\n",
       "</style>\n",
       "<table border=\"1\" class=\"dataframe\">\n",
       "  <thead>\n",
       "    <tr style=\"text-align: right;\">\n",
       "      <th></th>\n",
       "      <th>PassengerId</th>\n",
       "      <th>Survived</th>\n",
       "    </tr>\n",
       "  </thead>\n",
       "  <tbody>\n",
       "    <tr>\n",
       "      <th>0</th>\n",
       "      <td>892</td>\n",
       "      <td>0</td>\n",
       "    </tr>\n",
       "    <tr>\n",
       "      <th>1</th>\n",
       "      <td>893</td>\n",
       "      <td>0</td>\n",
       "    </tr>\n",
       "    <tr>\n",
       "      <th>2</th>\n",
       "      <td>894</td>\n",
       "      <td>0</td>\n",
       "    </tr>\n",
       "    <tr>\n",
       "      <th>3</th>\n",
       "      <td>895</td>\n",
       "      <td>0</td>\n",
       "    </tr>\n",
       "    <tr>\n",
       "      <th>4</th>\n",
       "      <td>896</td>\n",
       "      <td>0</td>\n",
       "    </tr>\n",
       "  </tbody>\n",
       "</table>\n",
       "</div>"
      ],
      "text/plain": [
       "   PassengerId  Survived\n",
       "0          892         0\n",
       "1          893         0\n",
       "2          894         0\n",
       "3          895         0\n",
       "4          896         0"
      ]
     },
     "execution_count": 38,
     "metadata": {},
     "output_type": "execute_result"
    }
   ],
   "source": [
    "df_test['Survived'] = y_pred_forest\n",
    "df_sub = df_test[['PassengerId', 'Survived']]\n",
    "df_sub['Survived'] = df_sub['Survived'].astype(int)\n",
    "df_sub.head()"
   ]
  },
  {
   "cell_type": "code",
   "execution_count": 39,
   "id": "61d69f57",
   "metadata": {
    "execution": {
     "iopub.execute_input": "2024-04-20T10:21:50.591842Z",
     "iopub.status.busy": "2024-04-20T10:21:50.590943Z",
     "iopub.status.idle": "2024-04-20T10:21:50.599197Z",
     "shell.execute_reply": "2024-04-20T10:21:50.598151Z"
    },
    "papermill": {
     "duration": 0.037046,
     "end_time": "2024-04-20T10:21:50.601478",
     "exception": false,
     "start_time": "2024-04-20T10:21:50.564432",
     "status": "completed"
    },
    "tags": []
   },
   "outputs": [],
   "source": [
    "df_sub.to_csv('sub-TitanicForest.csv', index=False)"
   ]
  },
  {
   "cell_type": "markdown",
   "id": "24f7d74e",
   "metadata": {
    "papermill": {
     "duration": 0.023538,
     "end_time": "2024-04-20T10:21:50.649002",
     "exception": false,
     "start_time": "2024-04-20T10:21:50.625464",
     "status": "completed"
    },
    "tags": []
   },
   "source": [
    "<div class=\"alert alert-block alert-info\"> 📌 I'm completing this notebook. I'm happy to know your opinious.</div>"
   ]
  },
  {
   "cell_type": "markdown",
   "id": "19701b90",
   "metadata": {
    "papermill": {
     "duration": 0.023178,
     "end_time": "2024-04-20T10:21:50.695754",
     "exception": false,
     "start_time": "2024-04-20T10:21:50.672576",
     "status": "completed"
    },
    "tags": []
   },
   "source": [
    "**Ways of communication with me:**\n",
    "**[Linkedin](https://www.linkedin.com/in/mohammad-erfan-tangestani/) | [Twitter](https://twitter.com/ThisIsErfann)**"
   ]
  }
 ],
 "metadata": {
  "kaggle": {
   "accelerator": "none",
   "dataSources": [
    {
     "databundleVersionId": 26502,
     "sourceId": 3136,
     "sourceType": "competition"
    }
   ],
   "dockerImageVersionId": 30684,
   "isGpuEnabled": false,
   "isInternetEnabled": true,
   "language": "python",
   "sourceType": "notebook"
  },
  "kernelspec": {
   "display_name": "Python 3",
   "language": "python",
   "name": "python3"
  },
  "language_info": {
   "codemirror_mode": {
    "name": "ipython",
    "version": 3
   },
   "file_extension": ".py",
   "mimetype": "text/x-python",
   "name": "python",
   "nbconvert_exporter": "python",
   "pygments_lexer": "ipython3",
   "version": "3.10.13"
  },
  "papermill": {
   "default_parameters": {},
   "duration": 14.991107,
   "end_time": "2024-04-20T10:21:51.440652",
   "environment_variables": {},
   "exception": null,
   "input_path": "__notebook__.ipynb",
   "output_path": "__notebook__.ipynb",
   "parameters": {},
   "start_time": "2024-04-20T10:21:36.449545",
   "version": "2.5.0"
  }
 },
 "nbformat": 4,
 "nbformat_minor": 5
}
